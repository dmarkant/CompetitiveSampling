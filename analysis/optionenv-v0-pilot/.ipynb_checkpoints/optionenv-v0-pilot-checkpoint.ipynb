{
 "metadata": {
  "name": "",
  "signature": "sha256:3de8aa79949339288d45dc42c2855d4dcecd5f942c31d61aaa5f4d8a7bd02164"
 },
 "nbformat": 3,
 "nbformat_minor": 0,
 "worksheets": [
  {
   "cells": [
    {
     "cell_type": "code",
     "collapsed": false,
     "input": [
      "%load_ext autoreload\n",
      "%autoreload 2\n",
      "%matplotlib inline\n",
      "import matplotlib.pyplot as plt\n",
      "import requests, json\n",
      "import numpy as np\n",
      "import pandas as pd\n",
      "\n",
      "from mypy.explib.compsamp import optionenv_v0_pilot as exp"
     ],
     "language": "python",
     "metadata": {},
     "outputs": [
      {
       "output_type": "stream",
       "stream": "stdout",
       "text": [
        "The autoreload extension is already loaded. To reload it, use:\n",
        "  %reload_ext autoreload\n"
       ]
      }
     ],
     "prompt_number": 112
    },
    {
     "cell_type": "code",
     "collapsed": false,
     "input": [
      "url = 'http://cog-grpexp.appspot.com/data?uniqueId=A2VQ1WGHLLLNJ1:3RRCEFRB7MDETE9S71XATJAT4QUB41'"
     ],
     "language": "python",
     "metadata": {},
     "outputs": [],
     "prompt_number": 3
    },
    {
     "cell_type": "code",
     "collapsed": false,
     "input": [
      "r = requests.get(url)"
     ],
     "language": "python",
     "metadata": {},
     "outputs": [],
     "prompt_number": 4
    },
    {
     "cell_type": "code",
     "collapsed": false,
     "input": [
      "r.json()"
     ],
     "language": "python",
     "metadata": {},
     "outputs": [
      {
       "metadata": {},
       "output_type": "pyout",
       "prompt_number": 13,
       "text": [
        "[u'data', u'uniqueId']"
       ]
      }
     ],
     "prompt_number": 13
    },
    {
     "cell_type": "code",
     "collapsed": false,
     "input": [
      "exp.download_data_from_keyfile()"
     ],
     "language": "python",
     "metadata": {},
     "outputs": []
    },
    {
     "cell_type": "code",
     "collapsed": false,
     "input": [
      "SUBJ = exp.subjects()\n",
      "subjects = {sid: exp.Subject(sid) for sid in SUBJ}"
     ],
     "language": "python",
     "metadata": {},
     "outputs": [],
     "prompt_number": 76
    },
    {
     "cell_type": "code",
     "collapsed": false,
     "input": [
      "for sid in subjects:\n",
      "    print subjects[sid].CONDITION, np.mean(subjects[sid].samplesize())"
     ],
     "language": "python",
     "metadata": {},
     "outputs": [
      {
       "output_type": "stream",
       "stream": "stdout",
       "text": [
        "1 4.375\n",
        "1 31.625\n",
        "0 14.125\n",
        "0 3.875\n",
        "1 30.5\n",
        "1 27.125\n",
        "0 10.25\n",
        "1 57.5\n",
        "1 21.125\n",
        "1 1.625\n",
        "0 54.5\n",
        "0 3.25\n",
        "0 7.125\n",
        "0 6.0\n",
        "1 24.0\n",
        "0 17.625\n",
        "1 21.75\n",
        "1 14.625\n",
        "0 14.375\n",
        "1 54.875\n",
        "0 10.875\n"
       ]
      }
     ],
     "prompt_number": 65
    },
    {
     "cell_type": "code",
     "collapsed": false,
     "input": [
      "print np.mean([np.mean(subjects[sid].samplesize()) for sid in filter(lambda s: subjects[s].CONDITION==0, SUBJ)])\n",
      "print np.mean([np.mean(subjects[sid].samplesize()) for sid in filter(lambda s: subjects[s].CONDITION==1, SUBJ)])"
     ],
     "language": "python",
     "metadata": {},
     "outputs": [
      {
       "output_type": "stream",
       "stream": "stdout",
       "text": [
        "14.2\n",
        "26.2840909091\n"
       ]
      }
     ],
     "prompt_number": 72
    },
    {
     "cell_type": "code",
     "collapsed": false,
     "input": [
      "arr = []\n",
      "for sid in subjects:\n",
      "    arr.append(np.transpose((np.ones(exp.N_GAMES) * sid,\n",
      "                        np.ones(exp.N_GAMES) * subjects[sid].CONDITION,\n",
      "                        range(exp.N_GAMES),\n",
      "                        subjects[sid].N_OPTIONS,\n",
      "                        subjects[sid].samplesize())))\n",
      "arr = np.array(arr)\n",
      "arr = np.array(arr).reshape((arr.shape[0]*arr.shape[1], arr.shape[2]))"
     ],
     "language": "python",
     "metadata": {},
     "outputs": [],
     "prompt_number": 95
    },
    {
     "cell_type": "code",
     "collapsed": false,
     "input": [
      "df = pd.DataFrame(arr, columns=['sid', 'cond', 'gameind', 'n_options', 'samplesize'])"
     ],
     "language": "python",
     "metadata": {},
     "outputs": [],
     "prompt_number": 98
    },
    {
     "cell_type": "code",
     "collapsed": false,
     "input": [
      "df.head(10)"
     ],
     "language": "python",
     "metadata": {},
     "outputs": [
      {
       "html": [
        "<div style=\"max-height:1000px;max-width:1500px;overflow:auto;\">\n",
        "<table border=\"1\" class=\"dataframe\">\n",
        "  <thead>\n",
        "    <tr style=\"text-align: right;\">\n",
        "      <th></th>\n",
        "      <th>sid</th>\n",
        "      <th>cond</th>\n",
        "      <th>gameind</th>\n",
        "      <th>n_options</th>\n",
        "      <th>samplesize</th>\n",
        "    </tr>\n",
        "  </thead>\n",
        "  <tbody>\n",
        "    <tr>\n",
        "      <th>0</th>\n",
        "      <td> 0</td>\n",
        "      <td> 1</td>\n",
        "      <td> 0</td>\n",
        "      <td> 2</td>\n",
        "      <td>  2</td>\n",
        "    </tr>\n",
        "    <tr>\n",
        "      <th>1</th>\n",
        "      <td> 0</td>\n",
        "      <td> 1</td>\n",
        "      <td> 1</td>\n",
        "      <td> 4</td>\n",
        "      <td>  9</td>\n",
        "    </tr>\n",
        "    <tr>\n",
        "      <th>2</th>\n",
        "      <td> 0</td>\n",
        "      <td> 1</td>\n",
        "      <td> 2</td>\n",
        "      <td> 2</td>\n",
        "      <td>  3</td>\n",
        "    </tr>\n",
        "    <tr>\n",
        "      <th>3</th>\n",
        "      <td> 0</td>\n",
        "      <td> 1</td>\n",
        "      <td> 3</td>\n",
        "      <td> 4</td>\n",
        "      <td>  5</td>\n",
        "    </tr>\n",
        "    <tr>\n",
        "      <th>4</th>\n",
        "      <td> 0</td>\n",
        "      <td> 1</td>\n",
        "      <td> 4</td>\n",
        "      <td> 2</td>\n",
        "      <td>  3</td>\n",
        "    </tr>\n",
        "    <tr>\n",
        "      <th>5</th>\n",
        "      <td> 0</td>\n",
        "      <td> 1</td>\n",
        "      <td> 5</td>\n",
        "      <td> 4</td>\n",
        "      <td>  5</td>\n",
        "    </tr>\n",
        "    <tr>\n",
        "      <th>6</th>\n",
        "      <td> 0</td>\n",
        "      <td> 1</td>\n",
        "      <td> 6</td>\n",
        "      <td> 2</td>\n",
        "      <td>  3</td>\n",
        "    </tr>\n",
        "    <tr>\n",
        "      <th>7</th>\n",
        "      <td> 0</td>\n",
        "      <td> 1</td>\n",
        "      <td> 7</td>\n",
        "      <td> 4</td>\n",
        "      <td>  5</td>\n",
        "    </tr>\n",
        "    <tr>\n",
        "      <th>8</th>\n",
        "      <td> 1</td>\n",
        "      <td> 1</td>\n",
        "      <td> 0</td>\n",
        "      <td> 2</td>\n",
        "      <td> 16</td>\n",
        "    </tr>\n",
        "    <tr>\n",
        "      <th>9</th>\n",
        "      <td> 1</td>\n",
        "      <td> 1</td>\n",
        "      <td> 1</td>\n",
        "      <td> 4</td>\n",
        "      <td> 30</td>\n",
        "    </tr>\n",
        "  </tbody>\n",
        "</table>\n",
        "</div>"
       ],
       "metadata": {},
       "output_type": "pyout",
       "prompt_number": 99,
       "text": [
        "   sid  cond  gameind  n_options  samplesize\n",
        "0    0     1        0          2           2\n",
        "1    0     1        1          4           9\n",
        "2    0     1        2          2           3\n",
        "3    0     1        3          4           5\n",
        "4    0     1        4          2           3\n",
        "5    0     1        5          4           5\n",
        "6    0     1        6          2           3\n",
        "7    0     1        7          4           5\n",
        "8    1     1        0          2          16\n",
        "9    1     1        1          4          30"
       ]
      }
     ],
     "prompt_number": 99
    },
    {
     "cell_type": "code",
     "collapsed": false,
     "input": [
      "cond0_2opt = df[(df['cond']==0) & (df['n_options']==2)].groupby('sid').apply(lambda d: np.mean(d['samplesize']))\n",
      "cond0_4opt = df[(df['cond']==0) & (df['n_options']==4)].groupby('sid').apply(lambda d: np.mean(d['samplesize']))\n",
      "cond1_2opt = df[(df['cond']==1) & (df['n_options']==2)].groupby('sid').apply(lambda d: np.mean(d['samplesize']))\n",
      "cond1_4opt = df[(df['cond']==1) & (df['n_options']==4)].groupby('sid').apply(lambda d: np.mean(d['samplesize']))"
     ],
     "language": "python",
     "metadata": {},
     "outputs": [],
     "prompt_number": 105
    },
    {
     "cell_type": "code",
     "collapsed": false,
     "input": [
      "np.array((cond0_2opt.values, cond0_4opt.values, cond1_2opt.values, cond1_4opt.values))"
     ],
     "language": "python",
     "metadata": {},
     "outputs": [
      {
       "metadata": {},
       "output_type": "pyout",
       "prompt_number": 114,
       "text": [
        "array([ array([ 11.5 ,   6.75,   8.25,  42.75,   2.  ,   6.  ,   1.  ,  18.5 ,\n",
        "         9.75,   9.  ]),\n",
        "       array([ 16.75,   1.  ,  12.25,  66.25,   4.5 ,   8.25,  11.  ,  16.75,\n",
        "        19.  ,  12.75]),\n",
        "       array([  2.75,  23.  ,  22.25,  28.25,  33.  ,  18.25,   2.  ,  18.  ,\n",
        "        12.  ,   9.  ,  39.75]),\n",
        "       array([  6.  ,  40.25,  38.75,  26.  ,  82.  ,  24.  ,   1.25,  30.  ,\n",
        "        31.5 ,  20.25,  70.  ])], dtype=object)"
       ]
      }
     ],
     "prompt_number": 114
    },
    {
     "cell_type": "code",
     "collapsed": false,
     "input": [
      "plt.hist([cond0_2opt.values, cond0_4opt.values])\n",
      "plt.show()"
     ],
     "language": "python",
     "metadata": {},
     "outputs": [
      {
       "metadata": {},
       "output_type": "display_data",
       "png": "[encoded data removed]",
       "text": [
        "<matplotlib.figure.Figure at 0x10bcfaf90>"
       ]
      }
     ],
     "prompt_number": 119
    },
    {
     "cell_type": "code",
     "collapsed": false,
     "input": [
      "plt.hist([cond1_2opt.values, cond1_4opt.values])\n",
      "plt.show()"
     ],
     "language": "python",
     "metadata": {},
     "outputs": [
      {
       "metadata": {},
       "output_type": "display_data",
       "png": "[encoded data removed]",
       "text": [
        "<matplotlib.figure.Figure at 0x10bdda210>"
       ]
      }
     ],
     "prompt_number": 120
    },
    {
     "cell_type": "code",
     "collapsed": false,
     "input": [
      "import seaborn as sns"
     ],
     "language": "python",
     "metadata": {},
     "outputs": [],
     "prompt_number": 121
    },
    {
     "cell_type": "code",
     "collapsed": false,
     "input": [
      "data = np.array((cond0_2opt.values, cond0_4opt.values, cond1_2opt.values, cond1_4opt.values))"
     ],
     "language": "python",
     "metadata": {},
     "outputs": [],
     "prompt_number": 122
    },
    {
     "cell_type": "code",
     "collapsed": false,
     "input": [
      "sns.violinplot(data)"
     ],
     "language": "python",
     "metadata": {},
     "outputs": [
      {
       "metadata": {},
       "output_type": "pyout",
       "prompt_number": 123,
       "text": [
        "<matplotlib.axes.AxesSubplot at 0x10e263890>"
       ]
      },
      {
       "metadata": {},
       "output_type": "display_data",
       "png": "[encoded data removed]",
       "text": [
        "<matplotlib.figure.Figure at 0x10acf1c50>"
       ]
      }
     ],
     "prompt_number": 123
    },
    {
     "cell_type": "code",
     "collapsed": false,
     "input": [
      "from scipy import stats"
     ],
     "language": "python",
     "metadata": {},
     "outputs": [],
     "prompt_number": 124
    },
    {
     "cell_type": "code",
     "collapsed": false,
     "input": [
      "stats.ttest_1samp(cond0_2opt.values - cond0_4opt.values, 0)"
     ],
     "language": "python",
     "metadata": {},
     "outputs": [
      {
       "metadata": {},
       "output_type": "pyout",
       "prompt_number": 132,
       "text": [
        "(array(-2.1209900264057437), 0.062936274668055694)"
       ]
      }
     ],
     "prompt_number": 132
    },
    {
     "cell_type": "code",
     "collapsed": false,
     "input": [
      "stats.ttest_1samp(cond1_2opt.values - cond1_4opt.values, 0)"
     ],
     "language": "python",
     "metadata": {},
     "outputs": [
      {
       "metadata": {},
       "output_type": "pyout",
       "prompt_number": 133,
       "text": [
        "(array(-3.2824629007762853), 0.0082545061406773829)"
       ]
      }
     ],
     "prompt_number": 133
    },
    {
     "cell_type": "code",
     "collapsed": false,
     "input": [
      "fig, ax = plt.subplots(1, 2, figsize=(15,5))\n",
      "ax[0].hist(cond0_2opt.values - cond0_4opt.values)\n",
      "ax[0].set_title('Balanced condition\\nss(2 options) - ss(4 options)')\n",
      "ax[1].hist(cond1_2opt.values - cond1_4opt.values)\n",
      "ax[1].set_title('Skewed condition\\nss(2 options) - ss(4 options)')\n",
      "plt.show()"
     ],
     "language": "python",
     "metadata": {},
     "outputs": [
      {
       "metadata": {},
       "output_type": "display_data",
       "png": "[encoded data removed]",
       "text": [
        "<matplotlib.figure.Figure at 0x10e81bfd0>"
       ]
      }
     ],
     "prompt_number": 138
    },
    {
     "cell_type": "code",
     "collapsed": false,
     "input": [
      "print '1,2', stats.ranksums(cond0_2opt.values, cond0_4opt.values)\n",
      "print '3,4', stats.ranksums(cond1_2opt.values, cond1_4opt.values)\n",
      "print '1,3', stats.ranksums(cond0_2opt.values, cond1_2opt.values)\n",
      "print '1,4', stats.ranksums(cond0_2opt.values, cond1_4opt.values)\n",
      "print '2,3', stats.ranksums(cond0_4opt.values, cond1_2opt.values)\n",
      "print '2,4', stats.ranksums(cond0_4opt.values, cond1_4opt.values)"
     ],
     "language": "python",
     "metadata": {},
     "outputs": [
      {
       "output_type": "stream",
       "stream": "stdout",
       "text": [
        "1,2 (-1.1338934190276817, 0.25683925795785656)\n",
        "3,4 (-1.6087927639643702, 0.10766166365743392)\n",
        "1,3 (-1.61961121750492, 0.10531581841575224)\n",
        "1,4 (-2.2181631891915208, 0.026543707627723949)\n",
        "2,3 (-1.0562681853292957, 0.29084570674354371)\n",
        "2,4 (-2.1829542496805443, 0.029039179340524166)\n"
       ]
      }
     ],
     "prompt_number": 127
    },
    {
     "cell_type": "code",
     "collapsed": false,
     "input": [
      "cond0 = df[(df['cond']==0)].groupby('sid').apply(lambda d: np.mean(d['samplesize']))\n",
      "cond1 = df[(df['cond']==1)].groupby('sid').apply(lambda d: np.mean(d['samplesize']))"
     ],
     "language": "python",
     "metadata": {},
     "outputs": [],
     "prompt_number": 139
    },
    {
     "cell_type": "code",
     "collapsed": false,
     "input": [
      "fig, ax = plt.subplots()\n",
      "ax.hist([cond0.values, cond1.values], label=['balanced', 'skewed'])\n",
      "ax.set_xlabel('Average sample size')\n",
      "ax.legend()\n",
      "plt.show()"
     ],
     "language": "python",
     "metadata": {},
     "outputs": [
      {
       "metadata": {},
       "output_type": "display_data",
       "png": "[encoded data removed]",
       "text": [
        "<matplotlib.figure.Figure at 0x10bb16e10>"
       ]
      }
     ],
     "prompt_number": 144
    },
    {
     "cell_type": "code",
     "collapsed": false,
     "input": [],
     "language": "python",
     "metadata": {},
     "outputs": []
    }
   ],
   "metadata": {}
  }
 ]
}