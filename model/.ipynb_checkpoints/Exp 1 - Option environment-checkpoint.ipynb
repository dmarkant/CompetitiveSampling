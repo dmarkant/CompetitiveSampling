{
 "metadata": {
  "name": "",
  "signature": "sha256:cdce9c94cdafcafbd20bd1313d9c05d091aa40b564a3f39c0736633cbb26d0f6"
 },
 "nbformat": 3,
 "nbformat_minor": 0,
 "worksheets": [
  {
   "cells": [
    {
     "cell_type": "markdown",
     "metadata": {},
     "source": [
      "# Overview\n",
      "\n"
     ]
    },
    {
     "cell_type": "code",
     "collapsed": false,
     "input": [
      "%matplotlib inline\n",
      "import matplotlib.pyplot as plt\n",
      "from scipy.stats import norm, uniform, expon, beta, weibull_min, gumbel_r, lognorm\n",
      "import numpy as np\n",
      "import pandas as pd\n",
      "from competitive import *\n",
      "from gambles import *\n",
      "from expiration import *\n",
      "%load_ext autoreload\n",
      "%autoreload 2"
     ],
     "language": "python",
     "metadata": {},
     "outputs": [
      {
       "output_type": "stream",
       "stream": "stdout",
       "text": [
        "The autoreload extension is already loaded. To reload it, use:\n",
        "  %reload_ext autoreload\n"
       ]
      }
     ],
     "prompt_number": 82
    },
    {
     "cell_type": "code",
     "collapsed": false,
     "input": [
      "FIGDEST = '/Users/markant/Dropbox/Presentations/2014.09.18_ARC_Minicon/'"
     ],
     "language": "python",
     "metadata": {},
     "outputs": [],
     "prompt_number": 287
    },
    {
     "cell_type": "code",
     "collapsed": false,
     "input": [
      "dx = .01\n",
      "x = np.arange(0, 1+dx, dx)\n",
      "\n",
      "fig, ax = plt.subplots(1, 2, figsize=(8,2))\n",
      "y = np.array([beta.pdf(i, 20, 20) for i in x])\n",
      "ax[0].plot(x, y, 'k')\n",
      "ax[0].fill_between(x, y, 0, color='.92')\n",
      "\n",
      "y = np.array([beta.pdf(i, 10, 1) for i in x])\n",
      "ax[1].plot(x, y, 'k')\n",
      "ax[1].fill_between(x, y, 0, color='.92')\n",
      "for i in range(2):\n",
      "    ax[i].set_xlabel('value')\n",
      "    ax[i].set_ylabel('p(value)')\n",
      "    ax[i].set_yticklabels([])\n",
      "ax[0].set_title('Normal')\n",
      "ax[1].set_title('Skewed')\n",
      "plt.show()"
     ],
     "language": "python",
     "metadata": {},
     "outputs": [
      {
       "metadata": {},
       "output_type": "display_data",
       "png": "[encoded data removed]",
       "text": [
        "<matplotlib.figure.Figure at 0x10b2e6cd0>"
       ]
      }
     ],
     "prompt_number": 131
    },
    {
     "cell_type": "markdown",
     "metadata": {},
     "source": [
      "outcomes are drawn from uniform distribution\n",
      "\n",
      "p is drawn either from balanced environment or from skewed environment"
     ]
    },
    {
     "cell_type": "code",
     "collapsed": false,
     "input": [
      "def plot_gamble(g, xlim=[0, 200], ax=None):\n",
      "\n",
      "    markersc = 30\n",
      "    \n",
      "    if ax is None:\n",
      "        fig, ax = plt.subplots(figsize=(4, 2))\n",
      "    ax.plot([0, 0], [-2, 2], linestyle='--', c='gray')\n",
      "    cols = ['red', 'blue']\n",
      "    for i, k in enumerate(g.keys()):\n",
      "        ax.plot(g[k][:2], [i, i], linestyle='-', color=cols[i], label=k)\n",
      "\n",
      "        for pt in [0, 1]:\n",
      "            ax.plot([g[k][pt]], [i], \n",
      "                    marker='o',  \n",
      "                    markersize=markersc*g[k][2] if pt==0 else (1-g[k][2])*markersc, color=cols[i], alpha=.5,\n",
      "                    markeredgewidth=0)\n",
      "        ax.plot([expected_value(g[k])], [i], marker='x', markersize=20, color=cols[i])\n",
      "    ax.set_xlim(xlim)\n",
      "    ax.set_ylim([-.5, i+.5])\n",
      "    ax.axes.get_yaxis().set_visible(False)\n",
      "    ax.legend()\n",
      "    \n",
      "    if ax is None:\n",
      "        return fig, ax\n",
      "    else:\n",
      "        return ax\n",
      "    \n",
      "def error(opt, max_N):\n",
      "    return np.array([expected_absolute_error(opt, t) for t in range(1, max_N)])\n",
      "\n",
      "def sample_matched_pair(e1_min_rng=0, e2_min_rng=0, e2_max_rng=np.inf):\n",
      "    done = False\n",
      "    while not done:\n",
      "        e1_p = beta.rvs(5, 5)\n",
      "        e1_low, e1_high = sort(uniform.rvs(scale=80, loc=20, size=2))        \n",
      "        e1_ev = e1_p * e1_low + (1 - e1_p) * e1_high\n",
      "        \n",
      "        e2_p = beta.rvs(5, 1)\n",
      "        e2_low = e1_low\n",
      "        e2_high = (e1_ev - e2_p * e2_low)/(1 - e2_p)\n",
      "        e2_ev = e2_p * e2_low + (1 - e2_p) * e2_high\n",
      "        \n",
      "        if e2_high < 200 and (e2_high - e2_low) > e2_min_rng and (e2_high - e2_low) < e2_max_rng and (e1_high - e1_low) > e1_min_rng:\n",
      "            done = True\n",
      "    \n",
      "    return {\"e1\": (e1_low, e1_high, e1_p), \"e2\": (e2_low, e2_high, e2_p)}"
     ],
     "language": "python",
     "metadata": {},
     "outputs": [],
     "prompt_number": 9
    },
    {
     "cell_type": "code",
     "collapsed": false,
     "input": [
      "def sample_matched_gamble(lower_predictive=True, max_out=200, min_ev_difference=10, min_out_difference=10):\n",
      "    \n",
      "    balanced_weights = [30, 30]\n",
      "    skewed_weights = [10, 1]\n",
      "    max_p = .96\n",
      "    \n",
      "    done = False\n",
      "    while not done:\n",
      "        \n",
      "        # first option, both environments\n",
      "        e1_p = round(beta.rvs(balanced_weights[0], balanced_weights[1]), 5)\n",
      "        e1_p = min([max_p, e1_p])\n",
      "        e1_low, e1_high = map(int, np.sort(uniform.rvs(scale=100, loc=0, size=2)))\n",
      "        e1_ev = round(e1_p * e1_low + (1 - e1_p) * e1_high, 2)\n",
      "        \n",
      "        e2_p = round(beta.rvs(skewed_weights[0], skewed_weights[1]), 5)\n",
      "        e2_p = min([max_p, e2_p])\n",
      "        \n",
      "        e2_low = e1_low\n",
      "        e2_high = int((e1_ev - e2_p * e2_low)/(1 - e2_p))\n",
      "        e2_ev = round(e2_p * e2_low + (1 - e2_p) * e2_high, 2)\n",
      "        \n",
      "        # second option, both environments\n",
      "        o2_e1_p = round(beta.rvs(balanced_weights[0], balanced_weights[1]), 5)\n",
      "        o2_e1_p = min([max_p, o2_e1_p])\n",
      "        \n",
      "        o2_e1_low, o2_e1_high = map(int, np.sort(uniform.rvs(scale=100, loc=0, size=2)))\n",
      "        o2_e1_ev = round(o2_e1_p * o2_e1_low + (1 - o2_e1_p) * o2_e1_high, 2)\n",
      "        \n",
      "        o2_e2_p = round(beta.rvs(skewed_weights[0], skewed_weights[1]), 5)\n",
      "        o2_e2_p = min([max_p, o2_e2_p])\n",
      "        o2_e2_low = o2_e1_low\n",
      "        o2_e2_high = int((o2_e1_ev - o2_e2_p * o2_e2_low)/(1 - o2_e2_p))\n",
      "        o2_e2_ev = round(o2_e2_p * o2_e2_low + (1 - o2_e2_p) * o2_e2_high, 2)\n",
      "        \n",
      "        # check whether ordering of LOW outcomes is predictive \n",
      "        # of the better choice\n",
      "        low_outcome_order = [0 if e1_low > o2_e1_low else 1]\n",
      "        ev_order = [0 if e1_ev > o2_e1_ev else 1]\n",
      "        \n",
      "        # minimum difference between EV of options in a single gamble\n",
      "        min_ev_diff = np.min(np.abs([e1_ev - o2_e1_ev, e2_ev - o2_e2_ev]))\n",
      "        \n",
      "        # maximum outcome\n",
      "        max_outcome = np.max([e1_high, e2_high, o2_e1_high, o2_e2_high])\n",
      "        \n",
      "        # minimum difference between outcomes for a given optin\n",
      "        min_diff = np.min([e1_high - e1_low, e2_high - e2_low, o2_e1_high - o2_e1_low, o2_e2_high - o2_e2_low])\n",
      "        \n",
      "        # non-dominating\n",
      "        nondom = e1_low < o2_e1_high and o2_e1_low < e1_high and e2_low < o2_e2_high and o2_e2_low < e2_high\n",
      "        \n",
      "        if ((low_outcome_order == ev_order) == lower_predictive) and max_outcome < max_out and min_ev_diff > min_ev_difference and min_diff > min_out_difference and nondom:\n",
      "            done = True\n",
      "            #print min_ev_diff\n",
      "            #print e1_ev, e2_ev, o2_e1_ev, o2_e2_ev\n",
      "    \n",
      "    if e1_ev > o2_e1_ev:\n",
      "        opt_e1 = {'H': [e1_low, e1_high, e1_p, e1_ev], 'L': [o2_e1_low, o2_e1_high, o2_e1_p, o2_e1_ev]}\n",
      "    else:\n",
      "        opt_e1 = {'L': [e1_low, e1_high, e1_p, e1_ev], 'H': [o2_e1_low, o2_e1_high, o2_e1_p, o2_e1_ev]}\n",
      "\n",
      "    if e2_ev > o2_e2_ev:\n",
      "        opt_e2 = {'H': [e2_low, e2_high, e2_p, e2_ev], 'L': [o2_e2_low, o2_e2_high, o2_e2_p, o2_e2_ev]}\n",
      "    else:\n",
      "        opt_e2 = {'L': [e2_low, e2_high, e2_p, e2_ev], 'H': [o2_e2_low, o2_e2_high, o2_e2_p, o2_e2_ev]}\n",
      "\n",
      "    \n",
      "    return {'e1': opt_e1,\n",
      "            'e2': opt_e2}"
     ],
     "language": "python",
     "metadata": {},
     "outputs": [],
     "prompt_number": 257
    },
    {
     "cell_type": "code",
     "collapsed": false,
     "input": [
      "opt = sample_matched_gamble(lower_predictive=False)\n",
      "fig, ax = plt.subplots(1, 2, figsize=(20,5))\n",
      "ax[0] = plot_gamble(opt['e1'], ax=ax[0])\n",
      "ax[0].set_title('Env 1 (Balanced)')\n",
      "\n",
      "ax[1] = plot_gamble(opt['e2'], ax=ax[1])\n",
      "ax[1].set_title('Env 2 (Skewed)')\n",
      "\n",
      "plt.show()"
     ],
     "language": "python",
     "metadata": {},
     "outputs": [
      {
       "metadata": {},
       "output_type": "display_data",
       "png": "[encoded data removed]",
       "text": [
        "<matplotlib.figure.Figure at 0x1118cdad0>"
       ]
      }
     ],
     "prompt_number": 295
    },
    {
     "cell_type": "code",
     "collapsed": false,
     "input": [
      "fig, ax = plt.subplots(figsize=(8,3))\n",
      "ax = plot_gamble(opt['e1'], ax=ax)\n",
      "ax.set_title('Env 1 (Balanced)')\n",
      "\n",
      "#ax[1] = plot_gamble(opt['e2'], ax=ax[1])\n",
      "#ax[1].set_title('Env 2 (Skewed)')\n",
      "ax.set_xlabel('outcome')\n",
      "plt.show()"
     ],
     "language": "python",
     "metadata": {},
     "outputs": [
      {
       "metadata": {},
       "output_type": "display_data",
       "png": "[encoded data removed]",
       "text": [
        "<matplotlib.figure.Figure at 0x111ba3450>"
       ]
      }
     ],
     "prompt_number": 296
    },
    {
     "cell_type": "code",
     "collapsed": false,
     "input": [
      "fig.savefig(FIGDEST + 'env1_example_gamble.pdf')"
     ],
     "language": "python",
     "metadata": {},
     "outputs": [],
     "prompt_number": 297
    },
    {
     "cell_type": "code",
     "collapsed": false,
     "input": [
      "fig, ax = plt.subplots(figsize=(8,3))\n",
      "ax = plot_gamble(opt['e2'], ax=ax)\n",
      "ax.set_title('Env 2 (Skewed)')\n",
      "ax.set_xlabel('outcome')\n",
      "plt.show()"
     ],
     "language": "python",
     "metadata": {},
     "outputs": [
      {
       "metadata": {},
       "output_type": "display_data",
       "png": "[encoded data removed]",
       "text": [
        "<matplotlib.figure.Figure at 0x110bc8590>"
       ]
      }
     ],
     "prompt_number": 348
    },
    {
     "cell_type": "code",
     "collapsed": false,
     "input": [
      "print opt"
     ],
     "language": "python",
     "metadata": {},
     "outputs": [
      {
       "output_type": "stream",
       "stream": "stdout",
       "text": [
        "{'e1': {'H': [9, 69, 0.55158, 35.91], 'L': [12, 37, 0.45041, 25.74]}, 'e2': {'H': [9, 149, 0.80908, 35.73], 'L': [12, 96, 0.83712, 25.68]}}\n"
       ]
      }
     ],
     "prompt_number": 325
    },
    {
     "cell_type": "code",
     "collapsed": false,
     "input": [
      "fig.savefig(FIGDEST + 'env2_example_gamble.pdf')"
     ],
     "language": "python",
     "metadata": {},
     "outputs": [],
     "prompt_number": 349
    },
    {
     "cell_type": "code",
     "collapsed": false,
     "input": [
      "fig, ax = plt.subplots()\n",
      "ax.plot(error(opt['e1']['H'][:3], 100))\n",
      "ax.plot(error(opt['e1']['L'][:3], 100))\n",
      "ax.plot(error(opt['e2']['H'][:3], 100))\n",
      "ax.plot(error(opt['e2']['L'][:3], 100))\n",
      "plt.show()"
     ],
     "language": "python",
     "metadata": {},
     "outputs": [
      {
       "metadata": {},
       "output_type": "display_data",
       "png": "[encoded data removed]",
       "text": [
        "<matplotlib.figure.Figure at 0x1109e2c10>"
       ]
      }
     ],
     "prompt_number": 300
    },
    {
     "cell_type": "markdown",
     "metadata": {},
     "source": [
      "### What is probability of choosing H in the individual sampling case?"
     ]
    },
    {
     "cell_type": "code",
     "collapsed": false,
     "input": [
      "oppcost = .02\n",
      "T_SET = np.arange(1, 50)\n",
      "fixed_costs = T_SET * oppcost"
     ],
     "language": "python",
     "metadata": {},
     "outputs": [],
     "prompt_number": 261
    },
    {
     "cell_type": "code",
     "collapsed": false,
     "input": [
      "fig, ax = plt.subplots(figsize=(10,5))\n",
      "ax.plot(T_SET, [expected_loss(opt['e1'], t) for t in T_SET] + fixed_costs)\n",
      "ax.plot(T_SET, [expected_loss(opt['e2'], t) for t in T_SET] + fixed_costs)\n",
      "plt.show()"
     ],
     "language": "python",
     "metadata": {},
     "outputs": [
      {
       "metadata": {},
       "output_type": "display_data",
       "png": "[encoded data removed]",
       "text": [
        "<matplotlib.figure.Figure at 0x11157f990>"
       ]
      }
     ],
     "prompt_number": 262
    },
    {
     "cell_type": "markdown",
     "metadata": {},
     "source": [
      "### Competitive case"
     ]
    },
    {
     "cell_type": "code",
     "collapsed": false,
     "input": [
      "e1_loss = np.array([[sim_obtained_loss(opt['e1'], target_trial=t) for t in T_SET] for _ in range(5000)])"
     ],
     "language": "python",
     "metadata": {},
     "outputs": [],
     "prompt_number": 301
    },
    {
     "cell_type": "code",
     "collapsed": false,
     "input": [
      "e2_loss = np.array([[sim_obtained_loss(opt['e2'], target_trial=t) for t in T_SET] for _ in range(5000)])"
     ],
     "language": "python",
     "metadata": {},
     "outputs": [],
     "prompt_number": 302
    },
    {
     "cell_type": "code",
     "collapsed": false,
     "input": [
      "fig, ax = plt.subplots(figsize=(5, 5))\n",
      "ax.plot(T_SET, e1_loss.mean(0) + fixed_costs)\n",
      "ax.plot(T_SET, e2_loss.mean(0) + fixed_costs)\n",
      "ax.set_xlim(0, 21)\n",
      "plt.show()"
     ],
     "language": "python",
     "metadata": {},
     "outputs": [
      {
       "metadata": {},
       "output_type": "display_data",
       "png": "[encoded data removed]",
       "text": [
        "<matplotlib.figure.Figure at 0x1109f9f50>"
       ]
      }
     ],
     "prompt_number": 303
    },
    {
     "cell_type": "code",
     "collapsed": false,
     "input": [
      "eloss = []\n",
      "for own_stop in range(1, 20):\n",
      "    print own_stop\n",
      "    eloss.append([np.mean([sim_obtained_loss_given_stop_time(opt['e1'], t, own_stop) for _ in range(5000)]) for t in range(1, 20)])"
     ],
     "language": "python",
     "metadata": {},
     "outputs": [
      {
       "output_type": "stream",
       "stream": "stdout",
       "text": [
        "1\n",
        "2"
       ]
      },
      {
       "output_type": "stream",
       "stream": "stdout",
       "text": [
        "\n",
        "3"
       ]
      },
      {
       "output_type": "stream",
       "stream": "stdout",
       "text": [
        "\n",
        "4"
       ]
      },
      {
       "output_type": "stream",
       "stream": "stdout",
       "text": [
        "\n",
        "5"
       ]
      },
      {
       "output_type": "stream",
       "stream": "stdout",
       "text": [
        "\n",
        "6"
       ]
      },
      {
       "output_type": "stream",
       "stream": "stdout",
       "text": [
        "\n",
        "7"
       ]
      },
      {
       "output_type": "stream",
       "stream": "stdout",
       "text": [
        "\n",
        "8"
       ]
      },
      {
       "output_type": "stream",
       "stream": "stdout",
       "text": [
        "\n",
        "9"
       ]
      },
      {
       "output_type": "stream",
       "stream": "stdout",
       "text": [
        "\n",
        "10"
       ]
      },
      {
       "output_type": "stream",
       "stream": "stdout",
       "text": [
        "\n",
        "11"
       ]
      },
      {
       "output_type": "stream",
       "stream": "stdout",
       "text": [
        "\n",
        "12"
       ]
      },
      {
       "output_type": "stream",
       "stream": "stdout",
       "text": [
        "\n",
        "13"
       ]
      },
      {
       "output_type": "stream",
       "stream": "stdout",
       "text": [
        "\n",
        "14"
       ]
      },
      {
       "output_type": "stream",
       "stream": "stdout",
       "text": [
        "\n",
        "15"
       ]
      },
      {
       "output_type": "stream",
       "stream": "stdout",
       "text": [
        "\n",
        "16"
       ]
      },
      {
       "output_type": "stream",
       "stream": "stdout",
       "text": [
        "\n",
        "17"
       ]
      },
      {
       "output_type": "stream",
       "stream": "stdout",
       "text": [
        "\n",
        "18"
       ]
      },
      {
       "output_type": "stream",
       "stream": "stdout",
       "text": [
        "\n",
        "19"
       ]
      },
      {
       "output_type": "stream",
       "stream": "stdout",
       "text": [
        "\n"
       ]
      }
     ],
     "prompt_number": 304
    },
    {
     "cell_type": "code",
     "collapsed": false,
     "input": [
      "fig, ax = plt.subplots(figsize=(6,6))\n",
      "ax.matshow(np.transpose(eloss), origin='lower')\n",
      "plt.show()"
     ],
     "language": "python",
     "metadata": {},
     "outputs": [
      {
       "metadata": {},
       "output_type": "display_data",
       "png": "[encoded data removed]",
       "text": [
        "<matplotlib.figure.Figure at 0x10a7d3210>"
       ]
      }
     ],
     "prompt_number": 326
    },
    {
     "cell_type": "code",
     "collapsed": false,
     "input": [
      "fig.savefig(FIGDEST + 'env1_matrix.pdf')"
     ],
     "language": "python",
     "metadata": {},
     "outputs": [],
     "prompt_number": 327
    },
    {
     "cell_type": "code",
     "collapsed": false,
     "input": [
      "from scipy.stats import geom"
     ],
     "language": "python",
     "metadata": {},
     "outputs": [],
     "prompt_number": 207
    },
    {
     "cell_type": "code",
     "collapsed": false,
     "input": [
      "fast_weights = apply(lambda arr: arr/float(sum(arr)), np.array([[geom.pmf(x, .3) for x in range(1,20)]]))"
     ],
     "language": "python",
     "metadata": {},
     "outputs": [],
     "prompt_number": 306
    },
    {
     "cell_type": "code",
     "collapsed": false,
     "input": [
      "fig, ax = plt.subplots(figsize=(6,3))\n",
      "ax.plot(range(1,20), np.mean(eloss, 1), label='uniform')\n",
      "#ax.plot(range(1,20), np.dot(eloss, fast_weights), label='fast')\n",
      "ax.legend()\n",
      "ax.set_xlim(0,20)\n",
      "plt.show()"
     ],
     "language": "python",
     "metadata": {},
     "outputs": [
      {
       "metadata": {},
       "output_type": "display_data",
       "png": "[encoded data removed]",
       "text": [
        "<matplotlib.figure.Figure at 0x1118c9390>"
       ]
      }
     ],
     "prompt_number": 334
    },
    {
     "cell_type": "code",
     "collapsed": false,
     "input": [
      "fig.savefig(FIGDEST + 'env1_eloss_uniform.pdf')"
     ],
     "language": "python",
     "metadata": {},
     "outputs": [],
     "prompt_number": 335
    },
    {
     "cell_type": "code",
     "collapsed": false,
     "input": [
      "fig, ax = plt.subplots(figsize=(6,3))\n",
      "ax.plot(range(1,20), np.mean(eloss, 1), label='uniform')\n",
      "ax.plot(range(1,20), np.dot(eloss, fast_weights), label='fast')\n",
      "ax.legend()\n",
      "ax.set_xlim(0,20)\n",
      "plt.show()"
     ],
     "language": "python",
     "metadata": {},
     "outputs": [
      {
       "metadata": {},
       "output_type": "display_data",
       "png": "[encoded data removed]",
       "text": [
        "<matplotlib.figure.Figure at 0x10e987050>"
       ]
      }
     ],
     "prompt_number": 342
    },
    {
     "cell_type": "code",
     "collapsed": false,
     "input": [
      "fig.savefig(FIGDEST + 'env1_eloss_uniform+fast.pdf')"
     ],
     "language": "python",
     "metadata": {},
     "outputs": [],
     "prompt_number": 343
    },
    {
     "cell_type": "code",
     "collapsed": false,
     "input": [
      "eloss_2 = []\n",
      "for own_stop in range(1, 20):\n",
      "    print own_stop\n",
      "    eloss_2.append([np.mean([sim_obtained_loss_given_stop_time(opt['e2'], t, own_stop) for _ in range(5000)]) for t in range(1, 20)])"
     ],
     "language": "python",
     "metadata": {},
     "outputs": [
      {
       "output_type": "stream",
       "stream": "stdout",
       "text": [
        "1\n",
        "2"
       ]
      },
      {
       "output_type": "stream",
       "stream": "stdout",
       "text": [
        "\n",
        "3"
       ]
      },
      {
       "output_type": "stream",
       "stream": "stdout",
       "text": [
        "\n",
        "4"
       ]
      },
      {
       "output_type": "stream",
       "stream": "stdout",
       "text": [
        "\n",
        "5"
       ]
      },
      {
       "output_type": "stream",
       "stream": "stdout",
       "text": [
        "\n",
        "6"
       ]
      },
      {
       "output_type": "stream",
       "stream": "stdout",
       "text": [
        "\n",
        "7"
       ]
      },
      {
       "output_type": "stream",
       "stream": "stdout",
       "text": [
        "\n",
        "8"
       ]
      },
      {
       "output_type": "stream",
       "stream": "stdout",
       "text": [
        "\n",
        "9"
       ]
      },
      {
       "output_type": "stream",
       "stream": "stdout",
       "text": [
        "\n",
        "10"
       ]
      },
      {
       "output_type": "stream",
       "stream": "stdout",
       "text": [
        "\n",
        "11"
       ]
      },
      {
       "output_type": "stream",
       "stream": "stdout",
       "text": [
        "\n",
        "12"
       ]
      },
      {
       "output_type": "stream",
       "stream": "stdout",
       "text": [
        "\n",
        "13"
       ]
      },
      {
       "output_type": "stream",
       "stream": "stdout",
       "text": [
        "\n",
        "14"
       ]
      },
      {
       "output_type": "stream",
       "stream": "stdout",
       "text": [
        "\n",
        "15"
       ]
      },
      {
       "output_type": "stream",
       "stream": "stdout",
       "text": [
        "\n",
        "16"
       ]
      },
      {
       "output_type": "stream",
       "stream": "stdout",
       "text": [
        "\n",
        "17"
       ]
      },
      {
       "output_type": "stream",
       "stream": "stdout",
       "text": [
        "\n",
        "18"
       ]
      },
      {
       "output_type": "stream",
       "stream": "stdout",
       "text": [
        "\n",
        "19"
       ]
      },
      {
       "output_type": "stream",
       "stream": "stdout",
       "text": [
        "\n"
       ]
      }
     ],
     "prompt_number": 312
    },
    {
     "cell_type": "code",
     "collapsed": false,
     "input": [
      "fig, ax = plt.subplots(figsize=(6,6))\n",
      "ax.matshow(np.transpose(eloss_2), origin='lower')\n",
      "plt.show()"
     ],
     "language": "python",
     "metadata": {},
     "outputs": [
      {
       "metadata": {},
       "output_type": "display_data",
       "png": "[encoded data removed]",
       "text": [
        "<matplotlib.figure.Figure at 0x10e98b4d0>"
       ]
      }
     ],
     "prompt_number": 338
    },
    {
     "cell_type": "code",
     "collapsed": false,
     "input": [
      "fig.savefig(FIGDEST + 'env2_matrix.pdf')"
     ],
     "language": "python",
     "metadata": {},
     "outputs": [],
     "prompt_number": 339
    },
    {
     "cell_type": "code",
     "collapsed": false,
     "input": [
      "fig, ax = plt.subplots(figsize=(6,3))\n",
      "#ax.plot(range(1,20), np.mean(eloss, 1), '--', label='uniform')\n",
      "#ax.plot(range(1,20), np.dot(eloss, fast_weights), '--', label='fast')\n",
      "\n",
      "ax.plot(range(1,20), np.mean(eloss_2, 1), label='uniform')\n",
      "#ax.plot(range(1,20), np.dot(eloss_2, fast_weights), label='fast')\n",
      "\n",
      "ax.set_xlim(0,20)\n",
      "ax.legend()\n",
      "plt.show()"
     ],
     "language": "python",
     "metadata": {},
     "outputs": [
      {
       "metadata": {},
       "output_type": "display_data",
       "png": "[encoded data removed]",
       "text": [
        "<matplotlib.figure.Figure at 0x10fa0ae10>"
       ]
      }
     ],
     "prompt_number": 344
    },
    {
     "cell_type": "code",
     "collapsed": false,
     "input": [
      "fig.savefig(FIGDEST + 'env2_eloss_uniform.pdf')"
     ],
     "language": "python",
     "metadata": {},
     "outputs": [],
     "prompt_number": 345
    },
    {
     "cell_type": "code",
     "collapsed": false,
     "input": [
      "fig, ax = plt.subplots(figsize=(6,3))\n",
      "ax.plot(range(1,20), np.mean(eloss_2, 1), label='uniform')\n",
      "ax.plot(range(1,20), np.dot(eloss_2, fast_weights), label='fast')\n",
      "ax.legend()\n",
      "ax.set_xlim(0,20)\n",
      "plt.show()"
     ],
     "language": "python",
     "metadata": {},
     "outputs": [
      {
       "metadata": {},
       "output_type": "display_data",
       "png": "[encoded data removed]",
       "text": [
        "<matplotlib.figure.Figure at 0x1118c9e50>"
       ]
      }
     ],
     "prompt_number": 346
    },
    {
     "cell_type": "code",
     "collapsed": false,
     "input": [
      "fig.savefig(FIGDEST + 'env2_eloss_uniform+fast.pdf')"
     ],
     "language": "python",
     "metadata": {},
     "outputs": [],
     "prompt_number": 347
    },
    {
     "cell_type": "markdown",
     "metadata": {},
     "source": [
      "## Generate option sets"
     ]
    },
    {
     "cell_type": "code",
     "collapsed": false,
     "input": [
      "opt_1 = []\n",
      "for i in range(50):\n",
      "    opt_1.append(sample_matched_gamble(lower_predictive=True))"
     ],
     "language": "python",
     "metadata": {},
     "outputs": [],
     "prompt_number": 150
    },
    {
     "cell_type": "code",
     "collapsed": false,
     "input": [
      "opt_2 = []\n",
      "for i in range(50):\n",
      "    opt_2.append(sample_matched_gamble(lower_predictive=False))"
     ],
     "language": "python",
     "metadata": {},
     "outputs": [],
     "prompt_number": 151
    },
    {
     "cell_type": "code",
     "collapsed": false,
     "input": [
      "for opt in opt_2:\n",
      "    plot_gamble(opt['e2'])"
     ],
     "language": "python",
     "metadata": {},
     "outputs": [
      {
       "output_type": "stream",
       "stream": "stderr",
       "text": [
        "/Users/markant/anaconda/lib/python2.7/site-packages/matplotlib/pyplot.py:412: RuntimeWarning: More than 20 figures have been opened. Figures created through the pyplot interface (`matplotlib.pyplot.figure`) are retained until explicitly closed and may consume too much memory. (To control this warning, see the rcParam `figure.max_num_figures`).\n",
        "  max_open_warning, RuntimeWarning)\n"
       ]
      },
      {
       "metadata": {},
       "output_type": "display_data",
       "png": "[encoded data removed]",
       "text": [
        "<matplotlib.figure.Figure at 0x10de1e0d0>"
       ]
      },
      {
       "metadata": {},
       "output_type": "display_data",
       "png": "[encoded data removed]",
       "text": [
        "<matplotlib.figure.Figure at 0x10e203a90>"
       ]
      },
      {
       "metadata": {},
       "output_type": "display_data",
       "png": "[encoded data removed]",
       "text": [
        "<matplotlib.figure.Figure at 0x10e29eb50>"
       ]
      },
      {
       "metadata": {},
       "output_type": "display_data",
       "png": "[encoded data removed]",
       "text": [
        "<matplotlib.figure.Figure at 0x10e360050>"
       ]
      },
      {
       "metadata": {},
       "output_type": "display_data",
       "png": "[encoded data removed]",
       "text": [
        "<matplotlib.figure.Figure at 0x10e40b2d0>"
       ]
      },
      {
       "metadata": {},
       "output_type": "display_data",
       "png": "[encoded data removed]",
       "text": [
        "<matplotlib.figure.Figure at 0x10e4ada10>"
       ]
      },
      {
       "metadata": {},
       "output_type": "display_data",
       "png": "[encoded data removed]",
       "text": [
        "<matplotlib.figure.Figure at 0x10e566ed0>"
       ]
      },
      {
       "metadata": {},
       "output_type": "display_data",
       "png": "[encoded data removed]",
       "text": [
        "<matplotlib.figure.Figure at 0x10e60cb10>"
       ]
      },
      {
       "metadata": {},
       "output_type": "display_data",
       "png": "[encoded data removed]",
       "text": [
        "<matplotlib.figure.Figure at 0x10e6cae10>"
       ]
      },
      {
       "metadata": {},
       "output_type": "display_data",
       "png": "[encoded data removed]",
       "text": [
        "<matplotlib.figure.Figure at 0x10e7792d0>"
       ]
      },
      {
       "metadata": {},
       "output_type": "display_data",
       "png": "[encoded data removed]",
       "text": [
        "<matplotlib.figure.Figure at 0x10e81c4d0>"
       ]
      },
      {
       "metadata": {},
       "output_type": "display_data",
       "png": "[encoded data removed]",
       "text": [
        "<matplotlib.figure.Figure at 0x10e8df6d0>"
       ]
      },
      {
       "metadata": {},
       "output_type": "display_data",
       "png": "[encoded data removed]",
       "text": [
        "<matplotlib.figure.Figure at 0x10e97a9d0>"
       ]
      },
      {
       "metadata": {},
       "output_type": "display_data",
       "png": "[encoded data removed]",
       "text": [
        "<matplotlib.figure.Figure at 0x10ea30d10>"
       ]
      },
      {
       "metadata": {},
       "output_type": "display_data",
       "png": "[encoded data removed]",
       "text": [
        "<matplotlib.figure.Figure at 0x10eae6650>"
       ]
      },
      {
       "metadata": {},
       "output_type": "display_data",
       "png": "[encoded data removed]",
       "text": [
        "<matplotlib.figure.Figure at 0x10eb8b390>"
       ]
      },
      {
       "metadata": {},
       "output_type": "display_data",
       "png": "[encoded data removed]",
       "text": [
        "<matplotlib.figure.Figure at 0x10ec41ad0>"
       ]
      },
      {
       "metadata": {},
       "output_type": "display_data",
       "png": "[encoded data removed]",
       "text": [
        "<matplotlib.figure.Figure at 0x10ece5f90>"
       ]
      },
      {
       "metadata": {},
       "output_type": "display_data",
       "png": "[encoded data removed]",
       "text": [
        "<matplotlib.figure.Figure at 0x10eda7c50>"
       ]
      },
      {
       "metadata": {},
       "output_type": "display_data",
       "png": "[encoded data removed]",
       "text": [
        "<matplotlib.figure.Figure at 0x10ee41b10>"
       ]
      },
      {
       "metadata": {},
       "output_type": "display_data",
       "png": "[encoded data removed]",
       "text": [
        "<matplotlib.figure.Figure at 0x10ef25490>"
       ]
      },
      {
       "metadata": {},
       "output_type": "display_data",
       "png": "[encoded data removed]",
       "text": [
        "<matplotlib.figure.Figure at 0x10f8057d0>"
       ]
      },
      {
       "metadata": {},
       "output_type": "display_data",
       "png": "[encoded data removed]",
       "text": [
        "<matplotlib.figure.Figure at 0x10f8aa590>"
       ]
      },
      {
       "metadata": {},
       "output_type": "display_data",
       "png": "[encoded data removed]",
       "text": [
        "<matplotlib.figure.Figure at 0x10f96b790>"
       ]
      },
      {
       "metadata": {},
       "output_type": "display_data",
       "png": "[encoded data removed]",
       "text": [
        "<matplotlib.figure.Figure at 0x10fa0ed10>"
       ]
      },
      {
       "metadata": {},
       "output_type": "display_data",
       "png": "[encoded data removed]",
       "text": [
        "<matplotlib.figure.Figure at 0x10fab1f10>"
       ]
      },
      {
       "metadata": {},
       "output_type": "display_data",
       "png": "[encoded data removed]",
       "text": [
        "<matplotlib.figure.Figure at 0x10fb7d150>"
       ]
      },
      {
       "metadata": {},
       "output_type": "display_data",
       "png": "[encoded data removed]",
       "text": [
        "<matplotlib.figure.Figure at 0x10fc18450>"
       ]
      },
      {
       "metadata": {},
       "output_type": "display_data",
       "png": "[encoded data removed]",
       "text": [
        "<matplotlib.figure.Figure at 0x10fcce790>"
       ]
      },
      {
       "metadata": {},
       "output_type": "display_data",
       "png": "[encoded data removed]",
       "text": [
        "<matplotlib.figure.Figure at 0x10fd860d0>"
       ]
      },
      {
       "metadata": {},
       "output_type": "display_data",
       "png": "[encoded data removed]",
       "text": [
        "<matplotlib.figure.Figure at 0x10fe1fdd0>"
       ]
      },
      {
       "metadata": {},
       "output_type": "display_data",
       "png": "[encoded data removed]",
       "text": [
        "<matplotlib.figure.Figure at 0x10fee0550>"
       ]
      },
      {
       "metadata": {},
       "output_type": "display_data",
       "png": "[encoded data removed]",
       "text": [
        "<matplotlib.figure.Figure at 0x10ff85a10>"
       ]
      },
      {
       "metadata": {},
       "output_type": "display_data",
       "png": "[encoded data removed]",
       "text": [
        "<matplotlib.figure.Figure at 0x1100466d0>"
       ]
      },
      {
       "metadata": {},
       "output_type": "display_data",
       "png": "[encoded data removed]",
       "text": [
        "<matplotlib.figure.Figure at 0x1100f3510>"
       ]
      },
      {
       "metadata": {},
       "output_type": "display_data",
       "png": "[encoded data removed]",
       "text": [
        "<matplotlib.figure.Figure at 0x11028fd90>"
       ]
      },
      {
       "metadata": {},
       "output_type": "display_data",
       "png": "[encoded data removed]",
       "text": [
        "<matplotlib.figure.Figure at 0x1103580d0>"
       ]
      },
      {
       "metadata": {},
       "output_type": "display_data",
       "png": "[encoded data removed]",
       "text": [
        "<matplotlib.figure.Figure at 0x1103df6d0>"
       ]
      },
      {
       "metadata": {},
       "output_type": "display_data",
       "png": "[encoded data removed]",
       "text": [
        "<matplotlib.figure.Figure at 0x110598910>"
       ]
      },
      {
       "metadata": {},
       "output_type": "display_data",
       "png": "[encoded data removed]",
       "text": [
        "<matplotlib.figure.Figure at 0x11064d350>"
       ]
      },
      {
       "metadata": {},
       "output_type": "display_data",
       "png": "[encoded data removed]",
       "text": [
        "<matplotlib.figure.Figure at 0x1106f0090>"
       ]
      },
      {
       "metadata": {},
       "output_type": "display_data",
       "png": "[encoded data removed]",
       "text": [
        "<matplotlib.figure.Figure at 0x1108a67d0>"
       ]
      },
      {
       "metadata": {},
       "output_type": "display_data",
       "png": "[encoded data removed]",
       "text": [
        "<matplotlib.figure.Figure at 0x11094dc90>"
       ]
      },
      {
       "metadata": {},
       "output_type": "display_data",
       "png": "[encoded data removed]",
       "text": [
        "<matplotlib.figure.Figure at 0x110b0d950>"
       ]
      },
      {
       "metadata": {},
       "output_type": "display_data",
       "png": "[encoded data removed]",
       "text": [
        "<matplotlib.figure.Figure at 0x110bbb790>"
       ]
      },
      {
       "metadata": {},
       "output_type": "display_data",
       "png": "[encoded data removed]",
       "text": [
        "<matplotlib.figure.Figure at 0x110c5f050>"
       ]
      },
      {
       "metadata": {},
       "output_type": "display_data",
       "png": "[encoded data removed]",
       "text": [
        "<matplotlib.figure.Figure at 0x110e1f350>"
       ]
      },
      {
       "metadata": {},
       "output_type": "display_data",
       "png": "[encoded data removed]",
       "text": [
        "<matplotlib.figure.Figure at 0x110ec4110>"
       ]
      },
      {
       "metadata": {},
       "output_type": "display_data",
       "png": "[encoded data removed]",
       "text": [
        "<matplotlib.figure.Figure at 0x110f7b350>"
       ]
      },
      {
       "metadata": {},
       "output_type": "display_data",
       "png": "[encoded data removed]",
       "text": [
        "<matplotlib.figure.Figure at 0x1111294d0>"
       ]
      }
     ],
     "prompt_number": 152
    },
    {
     "cell_type": "code",
     "collapsed": false,
     "input": [
      "recs = []\n",
      "for i, optset in enumerate(opt_1):\n",
      "    \n",
      "    r1 = [i, # index\n",
      "          0, # environment\n",
      "          optset['e1']['H'][0],\n",
      "          optset['e1']['H'][1],\n",
      "          optset['e1']['H'][2],\n",
      "          optset['e1']['H'][3],\n",
      "          optset['e1']['L'][0],\n",
      "          optset['e1']['L'][1],\n",
      "          optset['e1']['L'][2],\n",
      "          optset['e1']['L'][3]]\n",
      "    \n",
      "    r2 = [i, # index\n",
      "          1, # environment\n",
      "          optset['e2']['H'][0],\n",
      "          optset['e2']['H'][1],\n",
      "          optset['e2']['H'][2],\n",
      "          optset['e2']['H'][3],\n",
      "          optset['e2']['L'][0],\n",
      "          optset['e2']['L'][1],\n",
      "          optset['e2']['L'][2],\n",
      "          optset['e2']['L'][3]]\n",
      "\n",
      "    recs.append(r1)\n",
      "    recs.append(r2)\n",
      "    \n",
      "for i, optset in enumerate(opt_2):\n",
      "    \n",
      "    r1 = [i, # index\n",
      "          0, # environment\n",
      "          optset['e1']['H'][0],\n",
      "          optset['e1']['H'][1],\n",
      "          optset['e1']['H'][2],\n",
      "          optset['e1']['H'][3],\n",
      "          optset['e1']['L'][0],\n",
      "          optset['e1']['L'][1],\n",
      "          optset['e1']['L'][2],\n",
      "          optset['e1']['L'][3]]\n",
      "    \n",
      "    r2 = [i, # index\n",
      "          1, # environment\n",
      "          optset['e2']['H'][0],\n",
      "          optset['e2']['H'][1],\n",
      "          optset['e2']['H'][2],\n",
      "          optset['e2']['H'][3],\n",
      "          optset['e2']['L'][0],\n",
      "          optset['e2']['L'][1],\n",
      "          optset['e2']['L'][2],\n",
      "          optset['e2']['L'][3]]\n",
      "\n",
      "    recs.append(r1)\n",
      "    recs.append(r2)\n"
     ],
     "language": "python",
     "metadata": {},
     "outputs": [],
     "prompt_number": 154
    },
    {
     "cell_type": "code",
     "collapsed": false,
     "input": [
      "options = pd.DataFrame(recs, columns=['id', 'env', 'H_low', 'H_high', 'H_p', 'H_ev', 'L_low', 'L_high', 'L_p', 'L_ev'])"
     ],
     "language": "python",
     "metadata": {},
     "outputs": [],
     "prompt_number": 155
    },
    {
     "cell_type": "code",
     "collapsed": false,
     "input": [
      "options.head(20)"
     ],
     "language": "python",
     "metadata": {},
     "outputs": [
      {
       "html": [
        "<div style=\"max-height:1000px;max-width:1500px;overflow:auto;\">\n",
        "<table border=\"1\" class=\"dataframe\">\n",
        "  <thead>\n",
        "    <tr style=\"text-align: right;\">\n",
        "      <th></th>\n",
        "      <th>id</th>\n",
        "      <th>env</th>\n",
        "      <th>H_low</th>\n",
        "      <th>H_high</th>\n",
        "      <th>H_p</th>\n",
        "      <th>H_ev</th>\n",
        "      <th>L_low</th>\n",
        "      <th>L_high</th>\n",
        "      <th>L_p</th>\n",
        "      <th>L_ev</th>\n",
        "    </tr>\n",
        "  </thead>\n",
        "  <tbody>\n",
        "    <tr>\n",
        "      <th>0 </th>\n",
        "      <td> 0</td>\n",
        "      <td> 0</td>\n",
        "      <td> 29</td>\n",
        "      <td>  85</td>\n",
        "      <td> 0.42423</td>\n",
        "      <td> 61.24</td>\n",
        "      <td> 24</td>\n",
        "      <td>  62</td>\n",
        "      <td> 0.57162</td>\n",
        "      <td> 40.28</td>\n",
        "    </tr>\n",
        "    <tr>\n",
        "      <th>1 </th>\n",
        "      <td> 0</td>\n",
        "      <td> 1</td>\n",
        "      <td> 29</td>\n",
        "      <td> 167</td>\n",
        "      <td> 0.76695</td>\n",
        "      <td> 61.16</td>\n",
        "      <td> 24</td>\n",
        "      <td> 196</td>\n",
        "      <td> 0.90584</td>\n",
        "      <td> 40.20</td>\n",
        "    </tr>\n",
        "    <tr>\n",
        "      <th>2 </th>\n",
        "      <td> 1</td>\n",
        "      <td> 0</td>\n",
        "      <td> 44</td>\n",
        "      <td>  64</td>\n",
        "      <td> 0.54341</td>\n",
        "      <td> 53.13</td>\n",
        "      <td> 28</td>\n",
        "      <td>  51</td>\n",
        "      <td> 0.57962</td>\n",
        "      <td> 37.67</td>\n",
        "    </tr>\n",
        "    <tr>\n",
        "      <th>3 </th>\n",
        "      <td> 1</td>\n",
        "      <td> 1</td>\n",
        "      <td> 44</td>\n",
        "      <td>  83</td>\n",
        "      <td> 0.76928</td>\n",
        "      <td> 53.00</td>\n",
        "      <td> 28</td>\n",
        "      <td>  56</td>\n",
        "      <td> 0.66645</td>\n",
        "      <td> 37.34</td>\n",
        "    </tr>\n",
        "    <tr>\n",
        "      <th>4 </th>\n",
        "      <td> 2</td>\n",
        "      <td> 0</td>\n",
        "      <td> 74</td>\n",
        "      <td>  88</td>\n",
        "      <td> 0.49173</td>\n",
        "      <td> 81.12</td>\n",
        "      <td> 58</td>\n",
        "      <td>  77</td>\n",
        "      <td> 0.49217</td>\n",
        "      <td> 67.65</td>\n",
        "    </tr>\n",
        "    <tr>\n",
        "      <th>5 </th>\n",
        "      <td> 2</td>\n",
        "      <td> 1</td>\n",
        "      <td> 74</td>\n",
        "      <td> 113</td>\n",
        "      <td> 0.82176</td>\n",
        "      <td> 80.95</td>\n",
        "      <td> 58</td>\n",
        "      <td>  75</td>\n",
        "      <td> 0.44110</td>\n",
        "      <td> 67.50</td>\n",
        "    </tr>\n",
        "    <tr>\n",
        "      <th>6 </th>\n",
        "      <td> 3</td>\n",
        "      <td> 0</td>\n",
        "      <td> 55</td>\n",
        "      <td>  92</td>\n",
        "      <td> 0.47063</td>\n",
        "      <td> 74.59</td>\n",
        "      <td> 50</td>\n",
        "      <td>  77</td>\n",
        "      <td> 0.51463</td>\n",
        "      <td> 63.10</td>\n",
        "    </tr>\n",
        "    <tr>\n",
        "      <th>7 </th>\n",
        "      <td> 3</td>\n",
        "      <td> 1</td>\n",
        "      <td> 55</td>\n",
        "      <td> 168</td>\n",
        "      <td> 0.82740</td>\n",
        "      <td> 74.50</td>\n",
        "      <td> 50</td>\n",
        "      <td> 157</td>\n",
        "      <td> 0.87821</td>\n",
        "      <td> 63.03</td>\n",
        "    </tr>\n",
        "    <tr>\n",
        "      <th>8 </th>\n",
        "      <td> 4</td>\n",
        "      <td> 0</td>\n",
        "      <td> 33</td>\n",
        "      <td>  56</td>\n",
        "      <td> 0.49858</td>\n",
        "      <td> 44.53</td>\n",
        "      <td> 24</td>\n",
        "      <td>  41</td>\n",
        "      <td> 0.51281</td>\n",
        "      <td> 32.28</td>\n",
        "    </tr>\n",
        "    <tr>\n",
        "      <th>9 </th>\n",
        "      <td> 4</td>\n",
        "      <td> 1</td>\n",
        "      <td> 33</td>\n",
        "      <td> 110</td>\n",
        "      <td> 0.85217</td>\n",
        "      <td> 44.38</td>\n",
        "      <td> 24</td>\n",
        "      <td> 190</td>\n",
        "      <td> 0.95016</td>\n",
        "      <td> 32.27</td>\n",
        "    </tr>\n",
        "    <tr>\n",
        "      <th>10</th>\n",
        "      <td> 5</td>\n",
        "      <td> 0</td>\n",
        "      <td> 29</td>\n",
        "      <td>  54</td>\n",
        "      <td> 0.45851</td>\n",
        "      <td> 42.54</td>\n",
        "      <td> 24</td>\n",
        "      <td>  35</td>\n",
        "      <td> 0.50115</td>\n",
        "      <td> 29.49</td>\n",
        "    </tr>\n",
        "    <tr>\n",
        "      <th>11</th>\n",
        "      <td> 5</td>\n",
        "      <td> 1</td>\n",
        "      <td> 29</td>\n",
        "      <td> 130</td>\n",
        "      <td> 0.86666</td>\n",
        "      <td> 42.47</td>\n",
        "      <td> 24</td>\n",
        "      <td>  59</td>\n",
        "      <td> 0.84400</td>\n",
        "      <td> 29.46</td>\n",
        "    </tr>\n",
        "    <tr>\n",
        "      <th>12</th>\n",
        "      <td> 6</td>\n",
        "      <td> 0</td>\n",
        "      <td> 35</td>\n",
        "      <td>  49</td>\n",
        "      <td> 0.50870</td>\n",
        "      <td> 41.88</td>\n",
        "      <td> 25</td>\n",
        "      <td>  36</td>\n",
        "      <td> 0.45450</td>\n",
        "      <td> 31.00</td>\n",
        "    </tr>\n",
        "    <tr>\n",
        "      <th>13</th>\n",
        "      <td> 6</td>\n",
        "      <td> 1</td>\n",
        "      <td> 35</td>\n",
        "      <td> 111</td>\n",
        "      <td> 0.90989</td>\n",
        "      <td> 41.85</td>\n",
        "      <td> 25</td>\n",
        "      <td> 174</td>\n",
        "      <td> 0.96000</td>\n",
        "      <td> 30.96</td>\n",
        "    </tr>\n",
        "    <tr>\n",
        "      <th>14</th>\n",
        "      <td> 7</td>\n",
        "      <td> 0</td>\n",
        "      <td> 56</td>\n",
        "      <td>  73</td>\n",
        "      <td> 0.47865</td>\n",
        "      <td> 64.86</td>\n",
        "      <td> 37</td>\n",
        "      <td>  69</td>\n",
        "      <td> 0.52020</td>\n",
        "      <td> 52.35</td>\n",
        "    </tr>\n",
        "    <tr>\n",
        "      <th>15</th>\n",
        "      <td> 7</td>\n",
        "      <td> 1</td>\n",
        "      <td> 56</td>\n",
        "      <td> 107</td>\n",
        "      <td> 0.82890</td>\n",
        "      <td> 64.73</td>\n",
        "      <td> 37</td>\n",
        "      <td> 137</td>\n",
        "      <td> 0.84669</td>\n",
        "      <td> 52.33</td>\n",
        "    </tr>\n",
        "    <tr>\n",
        "      <th>16</th>\n",
        "      <td> 8</td>\n",
        "      <td> 0</td>\n",
        "      <td> 66</td>\n",
        "      <td>  86</td>\n",
        "      <td> 0.46339</td>\n",
        "      <td> 76.73</td>\n",
        "      <td> 50</td>\n",
        "      <td>  78</td>\n",
        "      <td> 0.49275</td>\n",
        "      <td> 64.20</td>\n",
        "    </tr>\n",
        "    <tr>\n",
        "      <th>17</th>\n",
        "      <td> 8</td>\n",
        "      <td> 1</td>\n",
        "      <td> 66</td>\n",
        "      <td> 133</td>\n",
        "      <td> 0.84056</td>\n",
        "      <td> 76.68</td>\n",
        "      <td> 50</td>\n",
        "      <td> 128</td>\n",
        "      <td> 0.81933</td>\n",
        "      <td> 64.09</td>\n",
        "    </tr>\n",
        "    <tr>\n",
        "      <th>18</th>\n",
        "      <td> 9</td>\n",
        "      <td> 0</td>\n",
        "      <td> 32</td>\n",
        "      <td>  77</td>\n",
        "      <td> 0.49842</td>\n",
        "      <td> 54.57</td>\n",
        "      <td> 25</td>\n",
        "      <td>  62</td>\n",
        "      <td> 0.53707</td>\n",
        "      <td> 42.13</td>\n",
        "    </tr>\n",
        "    <tr>\n",
        "      <th>19</th>\n",
        "      <td> 9</td>\n",
        "      <td> 1</td>\n",
        "      <td> 32</td>\n",
        "      <td> 169</td>\n",
        "      <td> 0.83630</td>\n",
        "      <td> 54.43</td>\n",
        "      <td> 25</td>\n",
        "      <td> 165</td>\n",
        "      <td> 0.87821</td>\n",
        "      <td> 42.05</td>\n",
        "    </tr>\n",
        "  </tbody>\n",
        "</table>\n",
        "</div>"
       ],
       "metadata": {},
       "output_type": "pyout",
       "prompt_number": 156,
       "text": [
        "    id  env  H_low  H_high      H_p   H_ev  L_low  L_high      L_p   L_ev\n",
        "0    0    0     29      85  0.42423  61.24     24      62  0.57162  40.28\n",
        "1    0    1     29     167  0.76695  61.16     24     196  0.90584  40.20\n",
        "2    1    0     44      64  0.54341  53.13     28      51  0.57962  37.67\n",
        "3    1    1     44      83  0.76928  53.00     28      56  0.66645  37.34\n",
        "4    2    0     74      88  0.49173  81.12     58      77  0.49217  67.65\n",
        "5    2    1     74     113  0.82176  80.95     58      75  0.44110  67.50\n",
        "6    3    0     55      92  0.47063  74.59     50      77  0.51463  63.10\n",
        "7    3    1     55     168  0.82740  74.50     50     157  0.87821  63.03\n",
        "8    4    0     33      56  0.49858  44.53     24      41  0.51281  32.28\n",
        "9    4    1     33     110  0.85217  44.38     24     190  0.95016  32.27\n",
        "10   5    0     29      54  0.45851  42.54     24      35  0.50115  29.49\n",
        "11   5    1     29     130  0.86666  42.47     24      59  0.84400  29.46\n",
        "12   6    0     35      49  0.50870  41.88     25      36  0.45450  31.00\n",
        "13   6    1     35     111  0.90989  41.85     25     174  0.96000  30.96\n",
        "14   7    0     56      73  0.47865  64.86     37      69  0.52020  52.35\n",
        "15   7    1     56     107  0.82890  64.73     37     137  0.84669  52.33\n",
        "16   8    0     66      86  0.46339  76.73     50      78  0.49275  64.20\n",
        "17   8    1     66     133  0.84056  76.68     50     128  0.81933  64.09\n",
        "18   9    0     32      77  0.49842  54.57     25      62  0.53707  42.13\n",
        "19   9    1     32     169  0.83630  54.43     25     165  0.87821  42.05"
       ]
      }
     ],
     "prompt_number": 156
    },
    {
     "cell_type": "code",
     "collapsed": false,
     "input": [
      "options.to_csv('exp1_option_sets.csv')"
     ],
     "language": "python",
     "metadata": {},
     "outputs": [],
     "prompt_number": 254
    },
    {
     "cell_type": "markdown",
     "metadata": {},
     "source": [
      "What should stimuli be like? \n",
      "\n",
      "1. Expected value matched across conditions\n",
      "\n",
      "2. The ordering of LOW outcomes predicts correct choice in only half of games\n",
      "\n"
     ]
    },
    {
     "cell_type": "code",
     "collapsed": false,
     "input": [
      "# say range of means is drawn uniformly between [20, 40]\n",
      "mu_rng = [20, 40]\n",
      "\n",
      "# say range of outcomes is truncated between [0, 100]\n",
      "x_rng = [0, 200]\n",
      "\n",
      "x = np.arange(x_rng[0], 1+x_rng[1])"
     ],
     "language": "python",
     "metadata": {},
     "outputs": [],
     "prompt_number": 2
    },
    {
     "cell_type": "markdown",
     "metadata": {},
     "source": [
      "In the normal environment, outcomes are drawn from a normal distribution"
     ]
    },
    {
     "cell_type": "code",
     "collapsed": false,
     "input": [
      "fig, ax = plt.subplots(1, 2, figsize=(8,2))\n",
      "y = [weibull_min.pdf(xi, 3, loc=10, scale=40) for xi in x]\n",
      "ax[0].plot(x, y, 'k')\n",
      "ax[0].fill_between(x, y, 0, color='.92')\n",
      "\n",
      "y = [weibull_min.pdf(xi, 3, loc=30, scale=20) for xi in x]\n",
      "ax[0].plot(x, y, 'k')\n",
      "ax[0].fill_between(x, y, 0, color='.80')\n",
      "ax[0].set_ylim(0, .1)\n",
      "ax[0].set_xlim(0, 100)\n",
      "\n",
      "y = [weibull_min.pdf(xi, 2, loc=0, scale=40) for xi in x]\n",
      "ax[1].plot(x, y, 'k')\n",
      "ax[1].fill_between(x, y, 0, color='.92')\n",
      "\n",
      "y = [weibull_min.pdf(xi, 4, loc=0, scale=40) for xi in x]\n",
      "ax[1].plot(x, y, 'k')\n",
      "ax[1].fill_between(x, y, 0, color='.80')\n",
      "ax[1].set_ylim(0, .05)\n",
      "ax[1].set_xlim(0, 100)\n",
      "\n",
      "plt.show()"
     ],
     "language": "python",
     "metadata": {},
     "outputs": [
      {
       "metadata": {},
       "output_type": "display_data",
       "png": "[encoded data removed]",
       "text": [
        "<matplotlib.figure.Figure at 0x10dd342d0>"
       ]
      }
     ],
     "prompt_number": 3
    },
    {
     "cell_type": "code",
     "collapsed": false,
     "input": [
      "X = weibull_min.rvs(2, loc=0, scale=50, size=10000)\n",
      "plt.hist(X)\n",
      "plt.show()"
     ],
     "language": "python",
     "metadata": {},
     "outputs": [
      {
       "metadata": {},
       "output_type": "display_data",
       "png": "[encoded data removed]",
       "text": [
        "<matplotlib.figure.Figure at 0x10f7caad0>"
       ]
      }
     ],
     "prompt_number": 38
    },
    {
     "cell_type": "code",
     "collapsed": false,
     "input": [
      "options"
     ],
     "language": "python",
     "metadata": {},
     "outputs": [
      {
       "metadata": {},
       "output_type": "pyout",
       "prompt_number": 97,
       "text": [
        "[array([ 26.     ,  65.     ,   0.75391]),\n",
        " array([ 59.     ,  86.     ,   0.80866])]"
       ]
      }
     ],
     "prompt_number": 97
    },
    {
     "cell_type": "markdown",
     "metadata": {},
     "source": [
      "## Model predictions based on option environment"
     ]
    },
    {
     "cell_type": "code",
     "collapsed": false,
     "input": [
      "from gambles import *\n",
      "from competitive import simulate_sample_mean\n",
      "%load_ext autoreload\n",
      "%autoreload 2"
     ],
     "language": "python",
     "metadata": {},
     "outputs": [],
     "prompt_number": 25
    },
    {
     "cell_type": "code",
     "collapsed": false,
     "input": [
      "options.head(20)"
     ],
     "language": "python",
     "metadata": {},
     "outputs": [
      {
       "html": [
        "<div style=\"max-height:1000px;max-width:1500px;overflow:auto;\">\n",
        "<table border=\"1\" class=\"dataframe\">\n",
        "  <thead>\n",
        "    <tr style=\"text-align: right;\">\n",
        "      <th></th>\n",
        "      <th>id</th>\n",
        "      <th>env</th>\n",
        "      <th>H_low</th>\n",
        "      <th>H_high</th>\n",
        "      <th>H_p</th>\n",
        "      <th>H_ev</th>\n",
        "      <th>L_low</th>\n",
        "      <th>L_high</th>\n",
        "      <th>L_p</th>\n",
        "      <th>L_ev</th>\n",
        "    </tr>\n",
        "  </thead>\n",
        "  <tbody>\n",
        "    <tr>\n",
        "      <th>0 </th>\n",
        "      <td> 0</td>\n",
        "      <td> 0</td>\n",
        "      <td> 29</td>\n",
        "      <td>  85</td>\n",
        "      <td> 0.42423</td>\n",
        "      <td> 61.24</td>\n",
        "      <td> 24</td>\n",
        "      <td>  62</td>\n",
        "      <td> 0.57162</td>\n",
        "      <td> 40.28</td>\n",
        "    </tr>\n",
        "    <tr>\n",
        "      <th>1 </th>\n",
        "      <td> 0</td>\n",
        "      <td> 1</td>\n",
        "      <td> 29</td>\n",
        "      <td> 167</td>\n",
        "      <td> 0.76695</td>\n",
        "      <td> 61.16</td>\n",
        "      <td> 24</td>\n",
        "      <td> 196</td>\n",
        "      <td> 0.90584</td>\n",
        "      <td> 40.20</td>\n",
        "    </tr>\n",
        "    <tr>\n",
        "      <th>2 </th>\n",
        "      <td> 1</td>\n",
        "      <td> 0</td>\n",
        "      <td> 44</td>\n",
        "      <td>  64</td>\n",
        "      <td> 0.54341</td>\n",
        "      <td> 53.13</td>\n",
        "      <td> 28</td>\n",
        "      <td>  51</td>\n",
        "      <td> 0.57962</td>\n",
        "      <td> 37.67</td>\n",
        "    </tr>\n",
        "    <tr>\n",
        "      <th>3 </th>\n",
        "      <td> 1</td>\n",
        "      <td> 1</td>\n",
        "      <td> 44</td>\n",
        "      <td>  83</td>\n",
        "      <td> 0.76928</td>\n",
        "      <td> 53.00</td>\n",
        "      <td> 28</td>\n",
        "      <td>  56</td>\n",
        "      <td> 0.66645</td>\n",
        "      <td> 37.34</td>\n",
        "    </tr>\n",
        "    <tr>\n",
        "      <th>4 </th>\n",
        "      <td> 2</td>\n",
        "      <td> 0</td>\n",
        "      <td> 74</td>\n",
        "      <td>  88</td>\n",
        "      <td> 0.49173</td>\n",
        "      <td> 81.12</td>\n",
        "      <td> 58</td>\n",
        "      <td>  77</td>\n",
        "      <td> 0.49217</td>\n",
        "      <td> 67.65</td>\n",
        "    </tr>\n",
        "    <tr>\n",
        "      <th>5 </th>\n",
        "      <td> 2</td>\n",
        "      <td> 1</td>\n",
        "      <td> 74</td>\n",
        "      <td> 113</td>\n",
        "      <td> 0.82176</td>\n",
        "      <td> 80.95</td>\n",
        "      <td> 58</td>\n",
        "      <td>  75</td>\n",
        "      <td> 0.44110</td>\n",
        "      <td> 67.50</td>\n",
        "    </tr>\n",
        "    <tr>\n",
        "      <th>6 </th>\n",
        "      <td> 3</td>\n",
        "      <td> 0</td>\n",
        "      <td> 55</td>\n",
        "      <td>  92</td>\n",
        "      <td> 0.47063</td>\n",
        "      <td> 74.59</td>\n",
        "      <td> 50</td>\n",
        "      <td>  77</td>\n",
        "      <td> 0.51463</td>\n",
        "      <td> 63.10</td>\n",
        "    </tr>\n",
        "    <tr>\n",
        "      <th>7 </th>\n",
        "      <td> 3</td>\n",
        "      <td> 1</td>\n",
        "      <td> 55</td>\n",
        "      <td> 168</td>\n",
        "      <td> 0.82740</td>\n",
        "      <td> 74.50</td>\n",
        "      <td> 50</td>\n",
        "      <td> 157</td>\n",
        "      <td> 0.87821</td>\n",
        "      <td> 63.03</td>\n",
        "    </tr>\n",
        "    <tr>\n",
        "      <th>8 </th>\n",
        "      <td> 4</td>\n",
        "      <td> 0</td>\n",
        "      <td> 33</td>\n",
        "      <td>  56</td>\n",
        "      <td> 0.49858</td>\n",
        "      <td> 44.53</td>\n",
        "      <td> 24</td>\n",
        "      <td>  41</td>\n",
        "      <td> 0.51281</td>\n",
        "      <td> 32.28</td>\n",
        "    </tr>\n",
        "    <tr>\n",
        "      <th>9 </th>\n",
        "      <td> 4</td>\n",
        "      <td> 1</td>\n",
        "      <td> 33</td>\n",
        "      <td> 110</td>\n",
        "      <td> 0.85217</td>\n",
        "      <td> 44.38</td>\n",
        "      <td> 24</td>\n",
        "      <td> 190</td>\n",
        "      <td> 0.95016</td>\n",
        "      <td> 32.27</td>\n",
        "    </tr>\n",
        "    <tr>\n",
        "      <th>10</th>\n",
        "      <td> 5</td>\n",
        "      <td> 0</td>\n",
        "      <td> 29</td>\n",
        "      <td>  54</td>\n",
        "      <td> 0.45851</td>\n",
        "      <td> 42.54</td>\n",
        "      <td> 24</td>\n",
        "      <td>  35</td>\n",
        "      <td> 0.50115</td>\n",
        "      <td> 29.49</td>\n",
        "    </tr>\n",
        "    <tr>\n",
        "      <th>11</th>\n",
        "      <td> 5</td>\n",
        "      <td> 1</td>\n",
        "      <td> 29</td>\n",
        "      <td> 130</td>\n",
        "      <td> 0.86666</td>\n",
        "      <td> 42.47</td>\n",
        "      <td> 24</td>\n",
        "      <td>  59</td>\n",
        "      <td> 0.84400</td>\n",
        "      <td> 29.46</td>\n",
        "    </tr>\n",
        "    <tr>\n",
        "      <th>12</th>\n",
        "      <td> 6</td>\n",
        "      <td> 0</td>\n",
        "      <td> 35</td>\n",
        "      <td>  49</td>\n",
        "      <td> 0.50870</td>\n",
        "      <td> 41.88</td>\n",
        "      <td> 25</td>\n",
        "      <td>  36</td>\n",
        "      <td> 0.45450</td>\n",
        "      <td> 31.00</td>\n",
        "    </tr>\n",
        "    <tr>\n",
        "      <th>13</th>\n",
        "      <td> 6</td>\n",
        "      <td> 1</td>\n",
        "      <td> 35</td>\n",
        "      <td> 111</td>\n",
        "      <td> 0.90989</td>\n",
        "      <td> 41.85</td>\n",
        "      <td> 25</td>\n",
        "      <td> 174</td>\n",
        "      <td> 0.96000</td>\n",
        "      <td> 30.96</td>\n",
        "    </tr>\n",
        "    <tr>\n",
        "      <th>14</th>\n",
        "      <td> 7</td>\n",
        "      <td> 0</td>\n",
        "      <td> 56</td>\n",
        "      <td>  73</td>\n",
        "      <td> 0.47865</td>\n",
        "      <td> 64.86</td>\n",
        "      <td> 37</td>\n",
        "      <td>  69</td>\n",
        "      <td> 0.52020</td>\n",
        "      <td> 52.35</td>\n",
        "    </tr>\n",
        "    <tr>\n",
        "      <th>15</th>\n",
        "      <td> 7</td>\n",
        "      <td> 1</td>\n",
        "      <td> 56</td>\n",
        "      <td> 107</td>\n",
        "      <td> 0.82890</td>\n",
        "      <td> 64.73</td>\n",
        "      <td> 37</td>\n",
        "      <td> 137</td>\n",
        "      <td> 0.84669</td>\n",
        "      <td> 52.33</td>\n",
        "    </tr>\n",
        "    <tr>\n",
        "      <th>16</th>\n",
        "      <td> 8</td>\n",
        "      <td> 0</td>\n",
        "      <td> 66</td>\n",
        "      <td>  86</td>\n",
        "      <td> 0.46339</td>\n",
        "      <td> 76.73</td>\n",
        "      <td> 50</td>\n",
        "      <td>  78</td>\n",
        "      <td> 0.49275</td>\n",
        "      <td> 64.20</td>\n",
        "    </tr>\n",
        "    <tr>\n",
        "      <th>17</th>\n",
        "      <td> 8</td>\n",
        "      <td> 1</td>\n",
        "      <td> 66</td>\n",
        "      <td> 133</td>\n",
        "      <td> 0.84056</td>\n",
        "      <td> 76.68</td>\n",
        "      <td> 50</td>\n",
        "      <td> 128</td>\n",
        "      <td> 0.81933</td>\n",
        "      <td> 64.09</td>\n",
        "    </tr>\n",
        "    <tr>\n",
        "      <th>18</th>\n",
        "      <td> 9</td>\n",
        "      <td> 0</td>\n",
        "      <td> 32</td>\n",
        "      <td>  77</td>\n",
        "      <td> 0.49842</td>\n",
        "      <td> 54.57</td>\n",
        "      <td> 25</td>\n",
        "      <td>  62</td>\n",
        "      <td> 0.53707</td>\n",
        "      <td> 42.13</td>\n",
        "    </tr>\n",
        "    <tr>\n",
        "      <th>19</th>\n",
        "      <td> 9</td>\n",
        "      <td> 1</td>\n",
        "      <td> 32</td>\n",
        "      <td> 169</td>\n",
        "      <td> 0.83630</td>\n",
        "      <td> 54.43</td>\n",
        "      <td> 25</td>\n",
        "      <td> 165</td>\n",
        "      <td> 0.87821</td>\n",
        "      <td> 42.05</td>\n",
        "    </tr>\n",
        "  </tbody>\n",
        "</table>\n",
        "</div>"
       ],
       "metadata": {},
       "output_type": "pyout",
       "prompt_number": 157,
       "text": [
        "    id  env  H_low  H_high      H_p   H_ev  L_low  L_high      L_p   L_ev\n",
        "0    0    0     29      85  0.42423  61.24     24      62  0.57162  40.28\n",
        "1    0    1     29     167  0.76695  61.16     24     196  0.90584  40.20\n",
        "2    1    0     44      64  0.54341  53.13     28      51  0.57962  37.67\n",
        "3    1    1     44      83  0.76928  53.00     28      56  0.66645  37.34\n",
        "4    2    0     74      88  0.49173  81.12     58      77  0.49217  67.65\n",
        "5    2    1     74     113  0.82176  80.95     58      75  0.44110  67.50\n",
        "6    3    0     55      92  0.47063  74.59     50      77  0.51463  63.10\n",
        "7    3    1     55     168  0.82740  74.50     50     157  0.87821  63.03\n",
        "8    4    0     33      56  0.49858  44.53     24      41  0.51281  32.28\n",
        "9    4    1     33     110  0.85217  44.38     24     190  0.95016  32.27\n",
        "10   5    0     29      54  0.45851  42.54     24      35  0.50115  29.49\n",
        "11   5    1     29     130  0.86666  42.47     24      59  0.84400  29.46\n",
        "12   6    0     35      49  0.50870  41.88     25      36  0.45450  31.00\n",
        "13   6    1     35     111  0.90989  41.85     25     174  0.96000  30.96\n",
        "14   7    0     56      73  0.47865  64.86     37      69  0.52020  52.35\n",
        "15   7    1     56     107  0.82890  64.73     37     137  0.84669  52.33\n",
        "16   8    0     66      86  0.46339  76.73     50      78  0.49275  64.20\n",
        "17   8    1     66     133  0.84056  76.68     50     128  0.81933  64.09\n",
        "18   9    0     32      77  0.49842  54.57     25      62  0.53707  42.13\n",
        "19   9    1     32     169  0.83630  54.43     25     165  0.87821  42.05"
       ]
      }
     ],
     "prompt_number": 157
    },
    {
     "cell_type": "code",
     "collapsed": false,
     "input": [
      "def error(opt, max_N):\n",
      "    return np.array([expected_absolute_error(opt, t) for t in range(1, max_N)])"
     ],
     "language": "python",
     "metadata": {},
     "outputs": []
    },
    {
     "cell_type": "code",
     "collapsed": false,
     "input": [
      "opt_A_env1 = options[options['env']==0][['H_low', 'H_high', 'H_p']].values\n",
      "opt_B_env1 = options[options['env']==0][['L_low', 'L_high', 'L_p']].values\n",
      "opt_A_env2 = options[options['env']==1][['H_low', 'H_high', 'H_p']].values\n",
      "opt_B_env2 = options[options['env']==1][['L_low', 'L_high', 'L_p']].values"
     ],
     "language": "python",
     "metadata": {},
     "outputs": [],
     "prompt_number": 158
    },
    {
     "cell_type": "code",
     "collapsed": false,
     "input": [
      "max_N = 50\n",
      "err_env1 = [np.array([expected_absolute_error(opt, t) for t in range(1, max_N)]) for opt in np.concatenate((opt_A_env1, opt_B_env1))]"
     ],
     "language": "python",
     "metadata": {},
     "outputs": [],
     "prompt_number": 160
    },
    {
     "cell_type": "code",
     "collapsed": false,
     "input": [
      "err_env2 = [np.array([expected_absolute_error(opt, t) for t in range(1, max_N)]) for opt in np.concatenate((opt_A_env2, opt_B_env2))]"
     ],
     "language": "python",
     "metadata": {},
     "outputs": [],
     "prompt_number": 161
    },
    {
     "cell_type": "code",
     "collapsed": false,
     "input": [
      "fig, ax = plt.subplots()\n",
      "ax.plot(np.array(err_env1).mean(axis=0), label='env 1')\n",
      "ax.plot(np.array(err_env2).mean(axis=0), label='env 2')\n",
      "ax.legend()\n",
      "plt.show()"
     ],
     "language": "python",
     "metadata": {},
     "outputs": [
      {
       "metadata": {},
       "output_type": "display_data",
       "png": "[encoded data removed]",
       "text": [
        "<matplotlib.figure.Figure at 0x110fcce50>"
       ]
      }
     ],
     "prompt_number": 163
    },
    {
     "cell_type": "code",
     "collapsed": false,
     "input": [
      "envs = ['env1', 'env2']\n",
      "N_ITER = 100\n",
      "T_MAX = 50\n",
      "avg_err = {'env1': err_env1, 'env2': err_env2}    "
     ],
     "language": "python",
     "metadata": {},
     "outputs": [],
     "prompt_number": 164
    },
    {
     "cell_type": "code",
     "collapsed": false,
     "input": [
      "env_options = {'env1': {'A': opt_A_env1, 'B': opt_B_env1}, \n",
      "               'env2': {'A': opt_A_env2, 'B': opt_B_env2}}"
     ],
     "language": "python",
     "metadata": {},
     "outputs": [],
     "prompt_number": 165
    },
    {
     "cell_type": "code",
     "collapsed": false,
     "input": [
      "env1_options = options[options['env']==0]\n",
      "env2_options = options[options['env']==1]"
     ],
     "language": "python",
     "metadata": {},
     "outputs": [],
     "prompt_number": 166
    },
    {
     "cell_type": "code",
     "collapsed": false,
     "input": [
      "env2_options.head(20)"
     ],
     "language": "python",
     "metadata": {},
     "outputs": [
      {
       "html": [
        "<div style=\"max-height:1000px;max-width:1500px;overflow:auto;\">\n",
        "<table border=\"1\" class=\"dataframe\">\n",
        "  <thead>\n",
        "    <tr style=\"text-align: right;\">\n",
        "      <th></th>\n",
        "      <th>id</th>\n",
        "      <th>env</th>\n",
        "      <th>H_low</th>\n",
        "      <th>H_high</th>\n",
        "      <th>H_p</th>\n",
        "      <th>H_ev</th>\n",
        "      <th>L_low</th>\n",
        "      <th>L_high</th>\n",
        "      <th>L_p</th>\n",
        "      <th>L_ev</th>\n",
        "    </tr>\n",
        "  </thead>\n",
        "  <tbody>\n",
        "    <tr>\n",
        "      <th>1 </th>\n",
        "      <td>  0</td>\n",
        "      <td> 1</td>\n",
        "      <td> 29</td>\n",
        "      <td> 167</td>\n",
        "      <td> 0.76695</td>\n",
        "      <td> 61.16</td>\n",
        "      <td> 24</td>\n",
        "      <td> 196</td>\n",
        "      <td> 0.90584</td>\n",
        "      <td> 40.20</td>\n",
        "    </tr>\n",
        "    <tr>\n",
        "      <th>3 </th>\n",
        "      <td>  1</td>\n",
        "      <td> 1</td>\n",
        "      <td> 44</td>\n",
        "      <td>  83</td>\n",
        "      <td> 0.76928</td>\n",
        "      <td> 53.00</td>\n",
        "      <td> 28</td>\n",
        "      <td>  56</td>\n",
        "      <td> 0.66645</td>\n",
        "      <td> 37.34</td>\n",
        "    </tr>\n",
        "    <tr>\n",
        "      <th>5 </th>\n",
        "      <td>  2</td>\n",
        "      <td> 1</td>\n",
        "      <td> 74</td>\n",
        "      <td> 113</td>\n",
        "      <td> 0.82176</td>\n",
        "      <td> 80.95</td>\n",
        "      <td> 58</td>\n",
        "      <td>  75</td>\n",
        "      <td> 0.44110</td>\n",
        "      <td> 67.50</td>\n",
        "    </tr>\n",
        "    <tr>\n",
        "      <th>7 </th>\n",
        "      <td>  3</td>\n",
        "      <td> 1</td>\n",
        "      <td> 55</td>\n",
        "      <td> 168</td>\n",
        "      <td> 0.82740</td>\n",
        "      <td> 74.50</td>\n",
        "      <td> 50</td>\n",
        "      <td> 157</td>\n",
        "      <td> 0.87821</td>\n",
        "      <td> 63.03</td>\n",
        "    </tr>\n",
        "    <tr>\n",
        "      <th>9 </th>\n",
        "      <td>  4</td>\n",
        "      <td> 1</td>\n",
        "      <td> 33</td>\n",
        "      <td> 110</td>\n",
        "      <td> 0.85217</td>\n",
        "      <td> 44.38</td>\n",
        "      <td> 24</td>\n",
        "      <td> 190</td>\n",
        "      <td> 0.95016</td>\n",
        "      <td> 32.27</td>\n",
        "    </tr>\n",
        "    <tr>\n",
        "      <th>11</th>\n",
        "      <td>  5</td>\n",
        "      <td> 1</td>\n",
        "      <td> 29</td>\n",
        "      <td> 130</td>\n",
        "      <td> 0.86666</td>\n",
        "      <td> 42.47</td>\n",
        "      <td> 24</td>\n",
        "      <td>  59</td>\n",
        "      <td> 0.84400</td>\n",
        "      <td> 29.46</td>\n",
        "    </tr>\n",
        "    <tr>\n",
        "      <th>13</th>\n",
        "      <td>  6</td>\n",
        "      <td> 1</td>\n",
        "      <td> 35</td>\n",
        "      <td> 111</td>\n",
        "      <td> 0.90989</td>\n",
        "      <td> 41.85</td>\n",
        "      <td> 25</td>\n",
        "      <td> 174</td>\n",
        "      <td> 0.96000</td>\n",
        "      <td> 30.96</td>\n",
        "    </tr>\n",
        "    <tr>\n",
        "      <th>15</th>\n",
        "      <td>  7</td>\n",
        "      <td> 1</td>\n",
        "      <td> 56</td>\n",
        "      <td> 107</td>\n",
        "      <td> 0.82890</td>\n",
        "      <td> 64.73</td>\n",
        "      <td> 37</td>\n",
        "      <td> 137</td>\n",
        "      <td> 0.84669</td>\n",
        "      <td> 52.33</td>\n",
        "    </tr>\n",
        "    <tr>\n",
        "      <th>17</th>\n",
        "      <td>  8</td>\n",
        "      <td> 1</td>\n",
        "      <td> 66</td>\n",
        "      <td> 133</td>\n",
        "      <td> 0.84056</td>\n",
        "      <td> 76.68</td>\n",
        "      <td> 50</td>\n",
        "      <td> 128</td>\n",
        "      <td> 0.81933</td>\n",
        "      <td> 64.09</td>\n",
        "    </tr>\n",
        "    <tr>\n",
        "      <th>19</th>\n",
        "      <td>  9</td>\n",
        "      <td> 1</td>\n",
        "      <td> 32</td>\n",
        "      <td> 169</td>\n",
        "      <td> 0.83630</td>\n",
        "      <td> 54.43</td>\n",
        "      <td> 25</td>\n",
        "      <td> 165</td>\n",
        "      <td> 0.87821</td>\n",
        "      <td> 42.05</td>\n",
        "    </tr>\n",
        "    <tr>\n",
        "      <th>21</th>\n",
        "      <td> 10</td>\n",
        "      <td> 1</td>\n",
        "      <td> 51</td>\n",
        "      <td> 146</td>\n",
        "      <td> 0.93617</td>\n",
        "      <td> 57.06</td>\n",
        "      <td> 24</td>\n",
        "      <td> 114</td>\n",
        "      <td> 0.77339</td>\n",
        "      <td> 44.39</td>\n",
        "    </tr>\n",
        "    <tr>\n",
        "      <th>23</th>\n",
        "      <td> 11</td>\n",
        "      <td> 1</td>\n",
        "      <td> 56</td>\n",
        "      <td> 132</td>\n",
        "      <td> 0.90996</td>\n",
        "      <td> 62.84</td>\n",
        "      <td> 32</td>\n",
        "      <td> 165</td>\n",
        "      <td> 0.87228</td>\n",
        "      <td> 48.99</td>\n",
        "    </tr>\n",
        "    <tr>\n",
        "      <th>25</th>\n",
        "      <td> 12</td>\n",
        "      <td> 1</td>\n",
        "      <td> 33</td>\n",
        "      <td> 124</td>\n",
        "      <td> 0.72999</td>\n",
        "      <td> 57.57</td>\n",
        "      <td> 30</td>\n",
        "      <td>  62</td>\n",
        "      <td> 0.50491</td>\n",
        "      <td> 45.84</td>\n",
        "    </tr>\n",
        "    <tr>\n",
        "      <th>27</th>\n",
        "      <td> 13</td>\n",
        "      <td> 1</td>\n",
        "      <td> 56</td>\n",
        "      <td>  79</td>\n",
        "      <td> 0.71975</td>\n",
        "      <td> 62.45</td>\n",
        "      <td> 23</td>\n",
        "      <td> 189</td>\n",
        "      <td> 0.86654</td>\n",
        "      <td> 45.15</td>\n",
        "    </tr>\n",
        "    <tr>\n",
        "      <th>29</th>\n",
        "      <td> 14</td>\n",
        "      <td> 1</td>\n",
        "      <td> 72</td>\n",
        "      <td> 164</td>\n",
        "      <td> 0.86610</td>\n",
        "      <td> 84.32</td>\n",
        "      <td> 23</td>\n",
        "      <td> 183</td>\n",
        "      <td> 0.78480</td>\n",
        "      <td> 57.43</td>\n",
        "    </tr>\n",
        "    <tr>\n",
        "      <th>31</th>\n",
        "      <td> 15</td>\n",
        "      <td> 1</td>\n",
        "      <td> 53</td>\n",
        "      <td> 193</td>\n",
        "      <td> 0.82789</td>\n",
        "      <td> 77.10</td>\n",
        "      <td> 47</td>\n",
        "      <td> 129</td>\n",
        "      <td> 0.85355</td>\n",
        "      <td> 59.01</td>\n",
        "    </tr>\n",
        "    <tr>\n",
        "      <th>33</th>\n",
        "      <td> 16</td>\n",
        "      <td> 1</td>\n",
        "      <td> 46</td>\n",
        "      <td>  96</td>\n",
        "      <td> 0.49492</td>\n",
        "      <td> 71.25</td>\n",
        "      <td> 37</td>\n",
        "      <td> 110</td>\n",
        "      <td> 0.92246</td>\n",
        "      <td> 42.66</td>\n",
        "    </tr>\n",
        "    <tr>\n",
        "      <th>35</th>\n",
        "      <td> 17</td>\n",
        "      <td> 1</td>\n",
        "      <td> 72</td>\n",
        "      <td> 119</td>\n",
        "      <td> 0.81671</td>\n",
        "      <td> 80.61</td>\n",
        "      <td> 54</td>\n",
        "      <td> 142</td>\n",
        "      <td> 0.89249</td>\n",
        "      <td> 63.46</td>\n",
        "    </tr>\n",
        "    <tr>\n",
        "      <th>37</th>\n",
        "      <td> 18</td>\n",
        "      <td> 1</td>\n",
        "      <td> 36</td>\n",
        "      <td>  64</td>\n",
        "      <td> 0.75091</td>\n",
        "      <td> 42.97</td>\n",
        "      <td> 26</td>\n",
        "      <td>  78</td>\n",
        "      <td> 0.90401</td>\n",
        "      <td> 30.99</td>\n",
        "    </tr>\n",
        "    <tr>\n",
        "      <th>39</th>\n",
        "      <td> 19</td>\n",
        "      <td> 1</td>\n",
        "      <td> 34</td>\n",
        "      <td> 126</td>\n",
        "      <td> 0.64869</td>\n",
        "      <td> 66.32</td>\n",
        "      <td> 29</td>\n",
        "      <td>  77</td>\n",
        "      <td> 0.88841</td>\n",
        "      <td> 34.36</td>\n",
        "    </tr>\n",
        "  </tbody>\n",
        "</table>\n",
        "</div>"
       ],
       "metadata": {},
       "output_type": "pyout",
       "prompt_number": 167,
       "text": [
        "    id  env  H_low  H_high      H_p   H_ev  L_low  L_high      L_p   L_ev\n",
        "1    0    1     29     167  0.76695  61.16     24     196  0.90584  40.20\n",
        "3    1    1     44      83  0.76928  53.00     28      56  0.66645  37.34\n",
        "5    2    1     74     113  0.82176  80.95     58      75  0.44110  67.50\n",
        "7    3    1     55     168  0.82740  74.50     50     157  0.87821  63.03\n",
        "9    4    1     33     110  0.85217  44.38     24     190  0.95016  32.27\n",
        "11   5    1     29     130  0.86666  42.47     24      59  0.84400  29.46\n",
        "13   6    1     35     111  0.90989  41.85     25     174  0.96000  30.96\n",
        "15   7    1     56     107  0.82890  64.73     37     137  0.84669  52.33\n",
        "17   8    1     66     133  0.84056  76.68     50     128  0.81933  64.09\n",
        "19   9    1     32     169  0.83630  54.43     25     165  0.87821  42.05\n",
        "21  10    1     51     146  0.93617  57.06     24     114  0.77339  44.39\n",
        "23  11    1     56     132  0.90996  62.84     32     165  0.87228  48.99\n",
        "25  12    1     33     124  0.72999  57.57     30      62  0.50491  45.84\n",
        "27  13    1     56      79  0.71975  62.45     23     189  0.86654  45.15\n",
        "29  14    1     72     164  0.86610  84.32     23     183  0.78480  57.43\n",
        "31  15    1     53     193  0.82789  77.10     47     129  0.85355  59.01\n",
        "33  16    1     46      96  0.49492  71.25     37     110  0.92246  42.66\n",
        "35  17    1     72     119  0.81671  80.61     54     142  0.89249  63.46\n",
        "37  18    1     36      64  0.75091  42.97     26      78  0.90401  30.99\n",
        "39  19    1     34     126  0.64869  66.32     29      77  0.88841  34.36"
       ]
      }
     ],
     "prompt_number": 167
    },
    {
     "cell_type": "code",
     "collapsed": false,
     "input": [
      "ev_A = env1_options.ix[0][['H_ev']].values[0]\n",
      "ev_B = env1_options.ix[0][['L_ev']].values[0]\n",
      "\n",
      "opt_A = env1_options.ix[0][['H_low', 'H_high', 'H_p']].values\n",
      "opt_B = env1_options.ix[0][['L_low', 'L_high', 'L_p']].values"
     ],
     "language": "python",
     "metadata": {},
     "outputs": [],
     "prompt_number": 168
    },
    {
     "cell_type": "code",
     "collapsed": false,
     "input": [
      "exp_error_A = [expected_absolute_error(opt_A, t) for t in range(1, T_MAX)]\n",
      "exp_error_B = [expected_absolute_error(opt_B, t) for t in range(1, T_MAX)]"
     ],
     "language": "python",
     "metadata": {},
     "outputs": [],
     "prompt_number": 169
    },
    {
     "cell_type": "code",
     "collapsed": false,
     "input": [
      "fig, ax = plt.subplots()\n",
      "ax.plot(np.array(exp_error_A), label='A')\n",
      "ax.plot(np.array(exp_error_B), label='B')\n",
      "ax.legend()\n",
      "plt.show()"
     ],
     "language": "python",
     "metadata": {},
     "outputs": [
      {
       "metadata": {},
       "output_type": "display_data",
       "png": "[encoded data removed]",
       "text": [
        "<matplotlib.figure.Figure at 0x11118b090>"
       ]
      }
     ],
     "prompt_number": 171
    },
    {
     "cell_type": "code",
     "collapsed": false,
     "input": [
      "def sim_obtained_value(opt, C=2, target_trial=0, comp_env='uniform'):\n",
      "    \"\"\"\n",
      "    Agent-based simulation, returning the obtained loss relative to best option\n",
      "    opt: option set\n",
      "    \n",
      "    Keyword args:\n",
      "    C -- number of competitors (in addition to self)\n",
      "    target_trial -- trial on which loss is evaluated\n",
      "    comp_env -- the competition environment; belief about others' stopping\n",
      "    \"\"\"\n",
      "\n",
      "    ev_A = opt[['A_ev']].values[0]\n",
      "    ev_B = opt[['B_ev']].values[0]\n",
      "    \n",
      "    opt_A = opt[['A_low', 'A_high', 'A_p']].values\n",
      "    opt_B = opt[['B_low', 'B_high', 'B_p']].values\n",
      "    options = [opt_A, opt_B]\n",
      "    expected_values = [ev_A, ev_B]\n",
      "    \n",
      "    stoptrials = np.random.randint(1, T_MAX, C)\n",
      "    consumed = []\n",
      "    \n",
      "    for trial in range(1, target_trial):\n",
      "        \n",
      "        # number of people stopping on this trial\n",
      "        n_stopping = np.sum(stoptrials==trial)\n",
      "        \n",
      "        # get preference orders for all stopping competitors\n",
      "        pref_orders = []\n",
      "        for i in range(n_stopping):\n",
      "            \n",
      "            # assign sampling trials to options\n",
      "            sampled_options = np.random.choice(range(len(options)), trial)\n",
      "    \n",
      "            # count samples per option\n",
      "            n_sample_by_option = [np.sum(sampled_options==i) for i in range(len(options))]\n",
      "            \n",
      "            # get estimated value of each option based on # of samples\n",
      "            est_value = np.array([simulate_sample_mean(options[i], n_sample_by_option[i]) for i in range(len(options))])\n",
      "            pref_orders.append((-est_value).argsort())\n",
      "            \n",
      "        # get choice order for competitors\n",
      "        choice_order = range(n_stopping)\n",
      "        shuffle(choice_order)\n",
      "        \n",
      "        # for each chooser, go through ranked preferences and \n",
      "        # consume the first one that is available\n",
      "        for chooser in choice_order:\n",
      "            \n",
      "            done = False\n",
      "            i = -1\n",
      "            while not done:\n",
      "                i += 1\n",
      "                if pref_orders[chooser][i] not in consumed:\n",
      "                    consumed.append(pref_orders[chooser][i])\n",
      "                    done = True  \n",
      "    \n",
      "    # now for target trial, do the same while including self\n",
      "    n_stopping = np.sum(stoptrials==target_trial)\n",
      "    \n",
      "    # get preference orders for all stopping competitors, including self\n",
      "    pref_orders = []\n",
      "    \n",
      "    # assign sampling trials to options\n",
      "    own_sampled_options = np.random.choice(range(len(options)), target_trial)\n",
      "            \n",
      "    # count samples per option\n",
      "    own_n_sample_by_option = [np.sum(own_sampled_options==i) for i in range(len(options))]\n",
      "            \n",
      "    # get estimated value of each option based on # of samples\n",
      "    own_est_value = np.array([simulate_sample_mean(options[i], own_n_sample_by_option[i]) for i in range(len(options))])\n",
      "    own_pref_order = (-own_est_value).argsort()\n",
      "    pref_orders.append(own_pref_order)\n",
      "        \n",
      "    for i in range(n_stopping):\n",
      "        \n",
      "        # assign sampling trials to options\n",
      "        sampled_options = np.random.choice(range(len(options)), target_trial)\n",
      "    \n",
      "        # count samples per option\n",
      "        n_sample_by_option = [np.sum(sampled_options==i) for i in range(len(options))]\n",
      "        \n",
      "        # get estimated value of each option based on # of samples\n",
      "        est_value = np.array([simulate_sample_mean(options[i], n_sample_by_option[i]) for i in range(len(options))])\n",
      "        pref_orders.append((-est_value).argsort())\n",
      "    \n",
      "    \n",
      "    # sample a choice order for self (0) and competitors\n",
      "    choice_order = range(n_stopping + 1)\n",
      "    shuffle(choice_order)\n",
      "    \n",
      "    obtained_value = None\n",
      "    for chooser in choice_order:\n",
      "        \n",
      "        done = False\n",
      "        i = -1\n",
      "        while not done:\n",
      "            i += 1\n",
      "            option_index = pref_orders[chooser][i]\n",
      "            if option_index not in consumed:\n",
      "                consumed.append(option_index)\n",
      "                done = True\n",
      "                \n",
      "                if chooser == 0:\n",
      "                    obtained_value = expected_values[option_index]\n",
      "    \n",
      "    best = np.max(expected_values)\n",
      "    return best - obtained_value"
     ],
     "language": "python",
     "metadata": {},
     "outputs": [],
     "prompt_number": 87
    },
    {
     "cell_type": "code",
     "collapsed": false,
     "input": [
      "ind = 3\n",
      "opt = env1_options.iloc[ind]\n",
      "v1 = np.zeros((N_ITER, T_MAX), float)\n",
      "for i in range(N_ITER):\n",
      "    v1[i,:] = np.array([sim_obtained_value(opt, C=0, target_trial=t) for t in range(T_MAX)])\n",
      "    \n",
      "opt = env2_options.iloc[ind]\n",
      "v2 = np.zeros((N_ITER, T_MAX), float)\n",
      "for i in range(N_ITER):\n",
      "    v2[i,:] = np.array([sim_obtained_value(opt, C=0, target_trial=t) for t in range(T_MAX)])\n",
      "    \n",
      "fig, ax = plt.subplots()\n",
      "ax.plot(v1.mean(axis=0))\n",
      "ax.plot(v2.mean(axis=0))\n",
      "plt.show()"
     ],
     "language": "python",
     "metadata": {},
     "outputs": [
      {
       "metadata": {},
       "output_type": "display_data",
       "png": "[encoded data removed]",
       "text": [
        "<matplotlib.figure.Figure at 0x11170de50>"
       ]
      }
     ],
     "prompt_number": 116
    },
    {
     "cell_type": "code",
     "collapsed": false,
     "input": [
      "n_opt = env1_options.shape[0]\n",
      "v1 = np.zeros((n_opt, T_MAX), float)\n",
      "for i in range(env1_options.shape[0]):\n",
      "    print '%s/%s' % (i, n_opt)\n",
      "    for t in range(T_MAX):\n",
      "        v1[i,t] = np.mean([sim_obtained_value(env1_options.iloc[i], C=0, target_trial=t) for _ in range(N_ITER)])"
     ],
     "language": "python",
     "metadata": {},
     "outputs": [
      {
       "output_type": "stream",
       "stream": "stdout",
       "text": [
        "0/100\n",
        "1/100"
       ]
      },
      {
       "output_type": "stream",
       "stream": "stdout",
       "text": [
        "\n",
        "2/100"
       ]
      },
      {
       "output_type": "stream",
       "stream": "stdout",
       "text": [
        "\n",
        "3/100"
       ]
      },
      {
       "output_type": "stream",
       "stream": "stdout",
       "text": [
        "\n",
        "4/100"
       ]
      },
      {
       "output_type": "stream",
       "stream": "stdout",
       "text": [
        "\n",
        "5/100"
       ]
      },
      {
       "output_type": "stream",
       "stream": "stdout",
       "text": [
        "\n",
        "6/100"
       ]
      },
      {
       "output_type": "stream",
       "stream": "stdout",
       "text": [
        "\n",
        "7/100"
       ]
      },
      {
       "output_type": "stream",
       "stream": "stdout",
       "text": [
        "\n",
        "8/100"
       ]
      },
      {
       "output_type": "stream",
       "stream": "stdout",
       "text": [
        "\n",
        "9/100"
       ]
      },
      {
       "output_type": "stream",
       "stream": "stdout",
       "text": [
        "\n",
        "10/100"
       ]
      },
      {
       "output_type": "stream",
       "stream": "stdout",
       "text": [
        "\n",
        "11/100"
       ]
      },
      {
       "output_type": "stream",
       "stream": "stdout",
       "text": [
        "\n",
        "12/100"
       ]
      },
      {
       "output_type": "stream",
       "stream": "stdout",
       "text": [
        "\n",
        "13/100"
       ]
      },
      {
       "output_type": "stream",
       "stream": "stdout",
       "text": [
        "\n",
        "14/100"
       ]
      },
      {
       "output_type": "stream",
       "stream": "stdout",
       "text": [
        "\n",
        "15/100"
       ]
      },
      {
       "output_type": "stream",
       "stream": "stdout",
       "text": [
        "\n",
        "16/100"
       ]
      },
      {
       "output_type": "stream",
       "stream": "stdout",
       "text": [
        "\n",
        "17/100"
       ]
      },
      {
       "output_type": "stream",
       "stream": "stdout",
       "text": [
        "\n",
        "18/100"
       ]
      },
      {
       "output_type": "stream",
       "stream": "stdout",
       "text": [
        "\n",
        "19/100"
       ]
      },
      {
       "output_type": "stream",
       "stream": "stdout",
       "text": [
        "\n",
        "20/100"
       ]
      },
      {
       "output_type": "stream",
       "stream": "stdout",
       "text": [
        "\n",
        "21/100"
       ]
      },
      {
       "output_type": "stream",
       "stream": "stdout",
       "text": [
        "\n",
        "22/100"
       ]
      },
      {
       "output_type": "stream",
       "stream": "stdout",
       "text": [
        "\n",
        "23/100"
       ]
      },
      {
       "output_type": "stream",
       "stream": "stdout",
       "text": [
        "\n",
        "24/100"
       ]
      },
      {
       "output_type": "stream",
       "stream": "stdout",
       "text": [
        "\n",
        "25/100"
       ]
      },
      {
       "output_type": "stream",
       "stream": "stdout",
       "text": [
        "\n",
        "26/100"
       ]
      },
      {
       "output_type": "stream",
       "stream": "stdout",
       "text": [
        "\n",
        "27/100"
       ]
      },
      {
       "output_type": "stream",
       "stream": "stdout",
       "text": [
        "\n",
        "28/100"
       ]
      },
      {
       "output_type": "stream",
       "stream": "stdout",
       "text": [
        "\n",
        "29/100"
       ]
      },
      {
       "output_type": "stream",
       "stream": "stdout",
       "text": [
        "\n",
        "30/100"
       ]
      },
      {
       "output_type": "stream",
       "stream": "stdout",
       "text": [
        "\n",
        "31/100"
       ]
      },
      {
       "output_type": "stream",
       "stream": "stdout",
       "text": [
        "\n",
        "32/100"
       ]
      },
      {
       "output_type": "stream",
       "stream": "stdout",
       "text": [
        "\n",
        "33/100"
       ]
      },
      {
       "output_type": "stream",
       "stream": "stdout",
       "text": [
        "\n",
        "34/100"
       ]
      },
      {
       "output_type": "stream",
       "stream": "stdout",
       "text": [
        "\n",
        "35/100"
       ]
      },
      {
       "output_type": "stream",
       "stream": "stdout",
       "text": [
        "\n",
        "36/100"
       ]
      },
      {
       "output_type": "stream",
       "stream": "stdout",
       "text": [
        "\n",
        "37/100"
       ]
      },
      {
       "output_type": "stream",
       "stream": "stdout",
       "text": [
        "\n",
        "38/100"
       ]
      },
      {
       "output_type": "stream",
       "stream": "stdout",
       "text": [
        "\n",
        "39/100"
       ]
      },
      {
       "output_type": "stream",
       "stream": "stdout",
       "text": [
        "\n",
        "40/100"
       ]
      },
      {
       "output_type": "stream",
       "stream": "stdout",
       "text": [
        "\n",
        "41/100"
       ]
      },
      {
       "output_type": "stream",
       "stream": "stdout",
       "text": [
        "\n",
        "42/100"
       ]
      },
      {
       "output_type": "stream",
       "stream": "stdout",
       "text": [
        "\n",
        "43/100"
       ]
      },
      {
       "output_type": "stream",
       "stream": "stdout",
       "text": [
        "\n",
        "44/100"
       ]
      },
      {
       "output_type": "stream",
       "stream": "stdout",
       "text": [
        "\n",
        "45/100"
       ]
      },
      {
       "output_type": "stream",
       "stream": "stdout",
       "text": [
        "\n",
        "46/100"
       ]
      },
      {
       "output_type": "stream",
       "stream": "stdout",
       "text": [
        "\n",
        "47/100"
       ]
      },
      {
       "output_type": "stream",
       "stream": "stdout",
       "text": [
        "\n",
        "48/100"
       ]
      },
      {
       "output_type": "stream",
       "stream": "stdout",
       "text": [
        "\n",
        "49/100"
       ]
      },
      {
       "output_type": "stream",
       "stream": "stdout",
       "text": [
        "\n",
        "50/100"
       ]
      },
      {
       "output_type": "stream",
       "stream": "stdout",
       "text": [
        "\n",
        "51/100"
       ]
      },
      {
       "output_type": "stream",
       "stream": "stdout",
       "text": [
        "\n",
        "52/100"
       ]
      },
      {
       "output_type": "stream",
       "stream": "stdout",
       "text": [
        "\n",
        "53/100"
       ]
      },
      {
       "output_type": "stream",
       "stream": "stdout",
       "text": [
        "\n",
        "54/100"
       ]
      },
      {
       "output_type": "stream",
       "stream": "stdout",
       "text": [
        "\n",
        "55/100"
       ]
      },
      {
       "output_type": "stream",
       "stream": "stdout",
       "text": [
        "\n",
        "56/100"
       ]
      },
      {
       "output_type": "stream",
       "stream": "stdout",
       "text": [
        "\n",
        "57/100"
       ]
      },
      {
       "output_type": "stream",
       "stream": "stdout",
       "text": [
        "\n",
        "58/100"
       ]
      },
      {
       "output_type": "stream",
       "stream": "stdout",
       "text": [
        "\n",
        "59/100"
       ]
      },
      {
       "output_type": "stream",
       "stream": "stdout",
       "text": [
        "\n",
        "60/100"
       ]
      },
      {
       "output_type": "stream",
       "stream": "stdout",
       "text": [
        "\n",
        "61/100"
       ]
      },
      {
       "output_type": "stream",
       "stream": "stdout",
       "text": [
        "\n",
        "62/100"
       ]
      },
      {
       "output_type": "stream",
       "stream": "stdout",
       "text": [
        "\n",
        "63/100"
       ]
      },
      {
       "output_type": "stream",
       "stream": "stdout",
       "text": [
        "\n",
        "64/100"
       ]
      },
      {
       "output_type": "stream",
       "stream": "stdout",
       "text": [
        "\n",
        "65/100"
       ]
      },
      {
       "output_type": "stream",
       "stream": "stdout",
       "text": [
        "\n",
        "66/100"
       ]
      },
      {
       "output_type": "stream",
       "stream": "stdout",
       "text": [
        "\n",
        "67/100"
       ]
      },
      {
       "output_type": "stream",
       "stream": "stdout",
       "text": [
        "\n",
        "68/100"
       ]
      },
      {
       "output_type": "stream",
       "stream": "stdout",
       "text": [
        "\n",
        "69/100"
       ]
      },
      {
       "output_type": "stream",
       "stream": "stdout",
       "text": [
        "\n",
        "70/100"
       ]
      },
      {
       "output_type": "stream",
       "stream": "stdout",
       "text": [
        "\n",
        "71/100"
       ]
      },
      {
       "output_type": "stream",
       "stream": "stdout",
       "text": [
        "\n",
        "72/100"
       ]
      },
      {
       "output_type": "stream",
       "stream": "stdout",
       "text": [
        "\n",
        "73/100"
       ]
      },
      {
       "output_type": "stream",
       "stream": "stdout",
       "text": [
        "\n",
        "74/100"
       ]
      },
      {
       "output_type": "stream",
       "stream": "stdout",
       "text": [
        "\n",
        "75/100"
       ]
      },
      {
       "output_type": "stream",
       "stream": "stdout",
       "text": [
        "\n",
        "76/100"
       ]
      },
      {
       "output_type": "stream",
       "stream": "stdout",
       "text": [
        "\n",
        "77/100"
       ]
      },
      {
       "output_type": "stream",
       "stream": "stdout",
       "text": [
        "\n",
        "78/100"
       ]
      },
      {
       "output_type": "stream",
       "stream": "stdout",
       "text": [
        "\n",
        "79/100"
       ]
      },
      {
       "output_type": "stream",
       "stream": "stdout",
       "text": [
        "\n",
        "80/100"
       ]
      },
      {
       "output_type": "stream",
       "stream": "stdout",
       "text": [
        "\n",
        "81/100"
       ]
      },
      {
       "output_type": "stream",
       "stream": "stdout",
       "text": [
        "\n",
        "82/100"
       ]
      },
      {
       "output_type": "stream",
       "stream": "stdout",
       "text": [
        "\n",
        "83/100"
       ]
      },
      {
       "output_type": "stream",
       "stream": "stdout",
       "text": [
        "\n",
        "84/100"
       ]
      },
      {
       "output_type": "stream",
       "stream": "stdout",
       "text": [
        "\n",
        "85/100"
       ]
      },
      {
       "output_type": "stream",
       "stream": "stdout",
       "text": [
        "\n",
        "86/100"
       ]
      },
      {
       "output_type": "stream",
       "stream": "stdout",
       "text": [
        "\n",
        "87/100"
       ]
      },
      {
       "output_type": "stream",
       "stream": "stdout",
       "text": [
        "\n",
        "88/100"
       ]
      },
      {
       "output_type": "stream",
       "stream": "stdout",
       "text": [
        "\n",
        "89/100"
       ]
      },
      {
       "output_type": "stream",
       "stream": "stdout",
       "text": [
        "\n",
        "90/100"
       ]
      },
      {
       "output_type": "stream",
       "stream": "stdout",
       "text": [
        "\n",
        "91/100"
       ]
      },
      {
       "output_type": "stream",
       "stream": "stdout",
       "text": [
        "\n",
        "92/100"
       ]
      },
      {
       "output_type": "stream",
       "stream": "stdout",
       "text": [
        "\n",
        "93/100"
       ]
      },
      {
       "output_type": "stream",
       "stream": "stdout",
       "text": [
        "\n",
        "94/100"
       ]
      },
      {
       "output_type": "stream",
       "stream": "stdout",
       "text": [
        "\n",
        "95/100"
       ]
      },
      {
       "output_type": "stream",
       "stream": "stdout",
       "text": [
        "\n",
        "96/100"
       ]
      },
      {
       "output_type": "stream",
       "stream": "stdout",
       "text": [
        "\n",
        "97/100"
       ]
      },
      {
       "output_type": "stream",
       "stream": "stdout",
       "text": [
        "\n",
        "98/100"
       ]
      },
      {
       "output_type": "stream",
       "stream": "stdout",
       "text": [
        "\n",
        "99/100"
       ]
      },
      {
       "output_type": "stream",
       "stream": "stdout",
       "text": [
        "\n"
       ]
      }
     ],
     "prompt_number": 126
    },
    {
     "cell_type": "code",
     "collapsed": false,
     "input": [
      "n_opt = env2_options.shape[0]\n",
      "v2 = np.zeros((n_opt, T_MAX), float)\n",
      "for i in range(n_opt):\n",
      "    print '%s/%s' % (i, n_opt)\n",
      "    for t in range(T_MAX):\n",
      "        v2[i,t] = np.mean([sim_obtained_value(env2_options.iloc[i], C=0, target_trial=t) for _ in range(N_ITER)])"
     ],
     "language": "python",
     "metadata": {},
     "outputs": [
      {
       "output_type": "stream",
       "stream": "stdout",
       "text": [
        "0/100\n",
        "1/100"
       ]
      },
      {
       "output_type": "stream",
       "stream": "stdout",
       "text": [
        "\n",
        "2/100"
       ]
      },
      {
       "output_type": "stream",
       "stream": "stdout",
       "text": [
        "\n",
        "3/100"
       ]
      },
      {
       "output_type": "stream",
       "stream": "stdout",
       "text": [
        "\n",
        "4/100"
       ]
      },
      {
       "output_type": "stream",
       "stream": "stdout",
       "text": [
        "\n",
        "5/100"
       ]
      },
      {
       "output_type": "stream",
       "stream": "stdout",
       "text": [
        "\n",
        "6/100"
       ]
      },
      {
       "output_type": "stream",
       "stream": "stdout",
       "text": [
        "\n",
        "7/100"
       ]
      },
      {
       "output_type": "stream",
       "stream": "stdout",
       "text": [
        "\n",
        "8/100"
       ]
      },
      {
       "output_type": "stream",
       "stream": "stdout",
       "text": [
        "\n",
        "9/100"
       ]
      },
      {
       "output_type": "stream",
       "stream": "stdout",
       "text": [
        "\n",
        "10/100"
       ]
      },
      {
       "output_type": "stream",
       "stream": "stdout",
       "text": [
        "\n",
        "11/100"
       ]
      },
      {
       "output_type": "stream",
       "stream": "stdout",
       "text": [
        "\n",
        "12/100"
       ]
      },
      {
       "output_type": "stream",
       "stream": "stdout",
       "text": [
        "\n",
        "13/100"
       ]
      },
      {
       "output_type": "stream",
       "stream": "stdout",
       "text": [
        "\n",
        "14/100"
       ]
      },
      {
       "output_type": "stream",
       "stream": "stdout",
       "text": [
        "\n",
        "15/100"
       ]
      },
      {
       "output_type": "stream",
       "stream": "stdout",
       "text": [
        "\n",
        "16/100"
       ]
      },
      {
       "output_type": "stream",
       "stream": "stdout",
       "text": [
        "\n",
        "17/100"
       ]
      },
      {
       "output_type": "stream",
       "stream": "stdout",
       "text": [
        "\n",
        "18/100"
       ]
      },
      {
       "output_type": "stream",
       "stream": "stdout",
       "text": [
        "\n",
        "19/100"
       ]
      },
      {
       "output_type": "stream",
       "stream": "stdout",
       "text": [
        "\n",
        "20/100"
       ]
      },
      {
       "output_type": "stream",
       "stream": "stdout",
       "text": [
        "\n",
        "21/100"
       ]
      },
      {
       "output_type": "stream",
       "stream": "stdout",
       "text": [
        "\n",
        "22/100"
       ]
      },
      {
       "output_type": "stream",
       "stream": "stdout",
       "text": [
        "\n",
        "23/100"
       ]
      },
      {
       "output_type": "stream",
       "stream": "stdout",
       "text": [
        "\n",
        "24/100"
       ]
      },
      {
       "output_type": "stream",
       "stream": "stdout",
       "text": [
        "\n",
        "25/100"
       ]
      },
      {
       "output_type": "stream",
       "stream": "stdout",
       "text": [
        "\n",
        "26/100"
       ]
      },
      {
       "output_type": "stream",
       "stream": "stdout",
       "text": [
        "\n",
        "27/100"
       ]
      },
      {
       "output_type": "stream",
       "stream": "stdout",
       "text": [
        "\n",
        "28/100"
       ]
      },
      {
       "output_type": "stream",
       "stream": "stdout",
       "text": [
        "\n",
        "29/100"
       ]
      },
      {
       "output_type": "stream",
       "stream": "stdout",
       "text": [
        "\n",
        "30/100"
       ]
      },
      {
       "output_type": "stream",
       "stream": "stdout",
       "text": [
        "\n",
        "31/100"
       ]
      },
      {
       "output_type": "stream",
       "stream": "stdout",
       "text": [
        "\n",
        "32/100"
       ]
      },
      {
       "output_type": "stream",
       "stream": "stdout",
       "text": [
        "\n",
        "33/100"
       ]
      },
      {
       "output_type": "stream",
       "stream": "stdout",
       "text": [
        "\n",
        "34/100"
       ]
      },
      {
       "output_type": "stream",
       "stream": "stdout",
       "text": [
        "\n",
        "35/100"
       ]
      },
      {
       "output_type": "stream",
       "stream": "stdout",
       "text": [
        "\n",
        "36/100"
       ]
      },
      {
       "output_type": "stream",
       "stream": "stdout",
       "text": [
        "\n",
        "37/100"
       ]
      },
      {
       "output_type": "stream",
       "stream": "stdout",
       "text": [
        "\n",
        "38/100"
       ]
      },
      {
       "output_type": "stream",
       "stream": "stdout",
       "text": [
        "\n",
        "39/100"
       ]
      },
      {
       "output_type": "stream",
       "stream": "stdout",
       "text": [
        "\n",
        "40/100"
       ]
      },
      {
       "output_type": "stream",
       "stream": "stdout",
       "text": [
        "\n",
        "41/100"
       ]
      },
      {
       "output_type": "stream",
       "stream": "stdout",
       "text": [
        "\n",
        "42/100"
       ]
      },
      {
       "output_type": "stream",
       "stream": "stdout",
       "text": [
        "\n",
        "43/100"
       ]
      },
      {
       "output_type": "stream",
       "stream": "stdout",
       "text": [
        "\n",
        "44/100"
       ]
      },
      {
       "output_type": "stream",
       "stream": "stdout",
       "text": [
        "\n",
        "45/100"
       ]
      },
      {
       "output_type": "stream",
       "stream": "stdout",
       "text": [
        "\n",
        "46/100"
       ]
      },
      {
       "output_type": "stream",
       "stream": "stdout",
       "text": [
        "\n",
        "47/100"
       ]
      },
      {
       "output_type": "stream",
       "stream": "stdout",
       "text": [
        "\n",
        "48/100"
       ]
      },
      {
       "output_type": "stream",
       "stream": "stdout",
       "text": [
        "\n",
        "49/100"
       ]
      },
      {
       "output_type": "stream",
       "stream": "stdout",
       "text": [
        "\n",
        "50/100"
       ]
      },
      {
       "output_type": "stream",
       "stream": "stdout",
       "text": [
        "\n",
        "51/100"
       ]
      },
      {
       "output_type": "stream",
       "stream": "stdout",
       "text": [
        "\n",
        "52/100"
       ]
      },
      {
       "output_type": "stream",
       "stream": "stdout",
       "text": [
        "\n",
        "53/100"
       ]
      },
      {
       "output_type": "stream",
       "stream": "stdout",
       "text": [
        "\n",
        "54/100"
       ]
      },
      {
       "output_type": "stream",
       "stream": "stdout",
       "text": [
        "\n",
        "55/100"
       ]
      },
      {
       "output_type": "stream",
       "stream": "stdout",
       "text": [
        "\n",
        "56/100"
       ]
      },
      {
       "output_type": "stream",
       "stream": "stdout",
       "text": [
        "\n",
        "57/100"
       ]
      },
      {
       "output_type": "stream",
       "stream": "stdout",
       "text": [
        "\n",
        "58/100"
       ]
      },
      {
       "output_type": "stream",
       "stream": "stdout",
       "text": [
        "\n",
        "59/100"
       ]
      },
      {
       "output_type": "stream",
       "stream": "stdout",
       "text": [
        "\n",
        "60/100"
       ]
      },
      {
       "output_type": "stream",
       "stream": "stdout",
       "text": [
        "\n",
        "61/100"
       ]
      },
      {
       "output_type": "stream",
       "stream": "stdout",
       "text": [
        "\n",
        "62/100"
       ]
      },
      {
       "output_type": "stream",
       "stream": "stdout",
       "text": [
        "\n",
        "63/100"
       ]
      },
      {
       "output_type": "stream",
       "stream": "stdout",
       "text": [
        "\n",
        "64/100"
       ]
      },
      {
       "output_type": "stream",
       "stream": "stdout",
       "text": [
        "\n",
        "65/100"
       ]
      },
      {
       "output_type": "stream",
       "stream": "stdout",
       "text": [
        "\n",
        "66/100"
       ]
      },
      {
       "output_type": "stream",
       "stream": "stdout",
       "text": [
        "\n",
        "67/100"
       ]
      },
      {
       "output_type": "stream",
       "stream": "stdout",
       "text": [
        "\n",
        "68/100"
       ]
      },
      {
       "output_type": "stream",
       "stream": "stdout",
       "text": [
        "\n",
        "69/100"
       ]
      },
      {
       "output_type": "stream",
       "stream": "stdout",
       "text": [
        "\n",
        "70/100"
       ]
      },
      {
       "output_type": "stream",
       "stream": "stdout",
       "text": [
        "\n",
        "71/100"
       ]
      },
      {
       "output_type": "stream",
       "stream": "stdout",
       "text": [
        "\n",
        "72/100"
       ]
      },
      {
       "output_type": "stream",
       "stream": "stdout",
       "text": [
        "\n",
        "73/100"
       ]
      },
      {
       "output_type": "stream",
       "stream": "stdout",
       "text": [
        "\n",
        "74/100"
       ]
      },
      {
       "output_type": "stream",
       "stream": "stdout",
       "text": [
        "\n",
        "75/100"
       ]
      },
      {
       "output_type": "stream",
       "stream": "stdout",
       "text": [
        "\n",
        "76/100"
       ]
      },
      {
       "output_type": "stream",
       "stream": "stdout",
       "text": [
        "\n",
        "77/100"
       ]
      },
      {
       "output_type": "stream",
       "stream": "stdout",
       "text": [
        "\n",
        "78/100"
       ]
      },
      {
       "output_type": "stream",
       "stream": "stdout",
       "text": [
        "\n",
        "79/100"
       ]
      },
      {
       "output_type": "stream",
       "stream": "stdout",
       "text": [
        "\n",
        "80/100"
       ]
      },
      {
       "output_type": "stream",
       "stream": "stdout",
       "text": [
        "\n",
        "81/100"
       ]
      },
      {
       "output_type": "stream",
       "stream": "stdout",
       "text": [
        "\n",
        "82/100"
       ]
      },
      {
       "output_type": "stream",
       "stream": "stdout",
       "text": [
        "\n",
        "83/100"
       ]
      },
      {
       "output_type": "stream",
       "stream": "stdout",
       "text": [
        "\n",
        "84/100"
       ]
      },
      {
       "output_type": "stream",
       "stream": "stdout",
       "text": [
        "\n",
        "85/100"
       ]
      },
      {
       "output_type": "stream",
       "stream": "stdout",
       "text": [
        "\n",
        "86/100"
       ]
      },
      {
       "output_type": "stream",
       "stream": "stdout",
       "text": [
        "\n",
        "87/100"
       ]
      },
      {
       "output_type": "stream",
       "stream": "stdout",
       "text": [
        "\n",
        "88/100"
       ]
      },
      {
       "output_type": "stream",
       "stream": "stdout",
       "text": [
        "\n",
        "89/100"
       ]
      },
      {
       "output_type": "stream",
       "stream": "stdout",
       "text": [
        "\n",
        "90/100"
       ]
      },
      {
       "output_type": "stream",
       "stream": "stdout",
       "text": [
        "\n",
        "91/100"
       ]
      },
      {
       "output_type": "stream",
       "stream": "stdout",
       "text": [
        "\n",
        "92/100"
       ]
      },
      {
       "output_type": "stream",
       "stream": "stdout",
       "text": [
        "\n",
        "93/100"
       ]
      },
      {
       "output_type": "stream",
       "stream": "stdout",
       "text": [
        "\n",
        "94/100"
       ]
      },
      {
       "output_type": "stream",
       "stream": "stdout",
       "text": [
        "\n",
        "95/100"
       ]
      },
      {
       "output_type": "stream",
       "stream": "stdout",
       "text": [
        "\n",
        "96/100"
       ]
      },
      {
       "output_type": "stream",
       "stream": "stdout",
       "text": [
        "\n",
        "97/100"
       ]
      },
      {
       "output_type": "stream",
       "stream": "stdout",
       "text": [
        "\n",
        "98/100"
       ]
      },
      {
       "output_type": "stream",
       "stream": "stdout",
       "text": [
        "\n",
        "99/100"
       ]
      },
      {
       "output_type": "stream",
       "stream": "stdout",
       "text": [
        "\n"
       ]
      }
     ],
     "prompt_number": 129
    },
    {
     "cell_type": "code",
     "collapsed": false,
     "input": [
      "fig, ax = plt.subplots()\n",
      "ax.plot(v1.mean(axis=0))\n",
      "ax.plot(v2.mean(axis=0))\n",
      "plt.show()"
     ],
     "language": "python",
     "metadata": {},
     "outputs": [
      {
       "metadata": {},
       "output_type": "display_data",
       "png": "[encoded data removed]",
       "text": [
        "<matplotlib.figure.Figure at 0x113a0add0>"
       ]
      }
     ],
     "prompt_number": 134
    },
    {
     "cell_type": "code",
     "collapsed": false,
     "input": [
      "sim_result = {}\n",
      "T_MAX = 30\n",
      "N_ITER = 500"
     ],
     "language": "python",
     "metadata": {},
     "outputs": [],
     "prompt_number": 176
    },
    {
     "cell_type": "code",
     "collapsed": false,
     "input": [
      "def iter_obtained_loss(env, C):\n",
      "    if env is 'env1':\n",
      "        optset = env1_options\n",
      "    else:\n",
      "        optset = env2_options\n",
      "    \n",
      "    n_opt = optset.shape[0]\n",
      "    v = np.zeros((n_opt, T_MAX), float)\n",
      "    for i in range(n_opt):\n",
      "        \n",
      "        opt = optset.iloc[i]\n",
      "        opt_A = opt[['H_low', 'H_high', 'H_p', 'H_ev']].values\n",
      "        opt_B = opt[['L_low', 'L_high', 'L_p', 'L_ev']].values\n",
      "        options = {'H': opt_A, 'L': opt_B}\n",
      "        \n",
      "        for t in range(1, T_MAX+1):\n",
      "            v[i,t-1] = np.mean([sim_obtained_loss(options, C=C, target_trial=t, T_MAX=T_MAX) for _ in range(N_ITER)])\n",
      "            \n",
      "    return v.mean(axis=0)"
     ],
     "language": "python",
     "metadata": {},
     "outputs": [],
     "prompt_number": 186
    },
    {
     "cell_type": "code",
     "collapsed": false,
     "input": [
      "for env in ['env1', 'env2']:\n",
      "    for C in [1]:\n",
      "        print (env, C)\n",
      "        sim_result[(env, C)] = iter_obtained_loss(env, C)"
     ],
     "language": "python",
     "metadata": {},
     "outputs": [
      {
       "output_type": "stream",
       "stream": "stdout",
       "text": [
        "('env1', 1)\n",
        "('env2', 1)"
       ]
      },
      {
       "output_type": "stream",
       "stream": "stdout",
       "text": [
        "\n"
       ]
      }
     ],
     "prompt_number": 187
    },
    {
     "cell_type": "code",
     "collapsed": false,
     "input": [
      "fig, ax = plt.subplots()\n",
      "#ax.plot(sim_result[('env1', 0)])\n",
      "ax.plot(sim_result[('env1', 1)])\n",
      "#ax.plot(sim_result[('env2', 0)])\n",
      "ax.plot(sim_result[('env2', 1)])"
     ],
     "language": "python",
     "metadata": {},
     "outputs": [
      {
       "metadata": {},
       "output_type": "pyout",
       "prompt_number": 188,
       "text": [
        "[<matplotlib.lines.Line2D at 0x10dd49ad0>]"
       ]
      },
      {
       "metadata": {},
       "output_type": "display_data",
       "png": "[encoded data removed]",
       "text": [
        "<matplotlib.figure.Figure at 0x111ecf310>"
       ]
      }
     ],
     "prompt_number": 188
    },
    {
     "cell_type": "code",
     "collapsed": false,
     "input": [],
     "language": "python",
     "metadata": {},
     "outputs": []
    }
   ],
   "metadata": {}
  }
 ]
}