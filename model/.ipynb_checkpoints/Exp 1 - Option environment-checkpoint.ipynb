{
 "metadata": {
  "name": "",
  "signature": "sha256:d64401eeb815b268c99e077806547e462ef9c28dad8466cefecccb07971257f0"
 },
 "nbformat": 3,
 "nbformat_minor": 0,
 "worksheets": [
  {
   "cells": [
    {
     "cell_type": "markdown",
     "metadata": {},
     "source": [
      "# Overview\n",
      "\n"
     ]
    },
    {
     "cell_type": "code",
     "collapsed": false,
     "input": [
      "%matplotlib inline\n",
      "import matplotlib.pyplot as plt\n",
      "from scipy.stats import norm, uniform, expon, beta, weibull_min, gumbel_r, lognorm\n",
      "import numpy as np\n",
      "import pandas as pd\n",
      "from competitive import *\n",
      "from gambles import *\n",
      "from expiration import *\n",
      "%load_ext autoreload\n",
      "%autoreload 2"
     ],
     "language": "python",
     "metadata": {},
     "outputs": [],
     "prompt_number": 1
    },
    {
     "cell_type": "code",
     "collapsed": false,
     "input": [
      "FIGDEST = '/Users/markant/Dropbox/Presentations/2014.09.18_ARC_Minicon/'"
     ],
     "language": "python",
     "metadata": {},
     "outputs": [],
     "prompt_number": 287
    },
    {
     "cell_type": "code",
     "collapsed": false,
     "input": [
      "dx = .01\n",
      "x = np.arange(0, 1+dx, dx)\n",
      "\n",
      "fig, ax = plt.subplots(1, 2, figsize=(8,2))\n",
      "y = np.array([beta.pdf(i, 10, 10) for i in x])\n",
      "ax[0].plot(x, y, 'k')\n",
      "ax[0].fill_between(x, y, 0, color='.92')\n",
      "\n",
      "y = np.array([beta.pdf(i, 20, 1) for i in x])\n",
      "ax[1].plot(x, y, 'k')\n",
      "ax[1].fill_between(x, y, 0, color='.92')\n",
      "for i in range(2):\n",
      "    ax[i].set_xlabel('value')\n",
      "    ax[i].set_ylabel('p(value)')\n",
      "    ax[i].set_yticklabels([])\n",
      "ax[0].set_title('Normal')\n",
      "ax[1].set_title('Skewed')\n",
      "plt.show()"
     ],
     "language": "python",
     "metadata": {},
     "outputs": [
      {
       "metadata": {},
       "output_type": "display_data",
       "png": "[encoded data removed]",
       "text": [
        "<matplotlib.figure.Figure at 0x10a7b1c50>"
       ]
      }
     ],
     "prompt_number": 5
    },
    {
     "cell_type": "markdown",
     "metadata": {},
     "source": [
      "outcomes are drawn from uniform distribution\n",
      "\n",
      "p is drawn either from balanced environment or from skewed environment"
     ]
    },
    {
     "cell_type": "code",
     "collapsed": false,
     "input": [
      "def plot_gamble(g, xlim=[0, 200], ax=None):\n",
      "\n",
      "    markersc = 30\n",
      "    \n",
      "    if ax is None:\n",
      "        fig, ax = plt.subplots(figsize=(4, 2))\n",
      "    ax.plot([0, 0], [-2, 2], linestyle='--', c='gray')\n",
      "    cols = ['red', 'blue']\n",
      "    for i, k in enumerate(g.keys()):\n",
      "        ax.plot(g[k][:2], [i, i], linestyle='-', color=cols[i], label=k)\n",
      "\n",
      "        for pt in [0, 1]:\n",
      "            ax.plot([g[k][pt]], [i], \n",
      "                    marker='o',  \n",
      "                    markersize=markersc*g[k][2] if pt==0 else (1-g[k][2])*markersc, color=cols[i], alpha=.5,\n",
      "                    markeredgewidth=0)\n",
      "        ax.plot([expected_value(g[k])], [i], marker='x', markersize=20, color=cols[i])\n",
      "    ax.set_xlim(xlim)\n",
      "    ax.set_ylim([-.5, i+.5])\n",
      "    ax.axes.get_yaxis().set_visible(False)\n",
      "    ax.legend()\n",
      "    \n",
      "    if ax is None:\n",
      "        return fig, ax\n",
      "    else:\n",
      "        return ax\n",
      "    \n",
      "def error(opt, max_N):\n",
      "    return np.array([expected_absolute_error(opt, t) for t in range(1, max_N)])\n",
      "\n",
      "def sample_matched_pair(e1_min_rng=0, e2_min_rng=0, e2_max_rng=np.inf):\n",
      "    done = False\n",
      "    while not done:\n",
      "        e1_p = beta.rvs(10, 10)\n",
      "        e1_low, e1_high = sort(uniform.rvs(scale=80, loc=20, size=2))        \n",
      "        e1_ev = e1_p * e1_low + (1 - e1_p) * e1_high\n",
      "        \n",
      "        e2_p = beta.rvs(10, 1)\n",
      "        e2_low = e1_low\n",
      "        e2_high = (e1_ev - e2_p * e2_low)/(1 - e2_p)\n",
      "        e2_ev = e2_p * e2_low + (1 - e2_p) * e2_high\n",
      "        \n",
      "        if e2_high < 200 and (e2_high - e2_low) > e2_min_rng and (e2_high - e2_low) < e2_max_rng and (e1_high - e1_low) > e1_min_rng:\n",
      "            done = True\n",
      "    \n",
      "    return {\"e1\": (e1_low, e1_high, e1_p), \"e2\": (e2_low, e2_high, e2_p)}"
     ],
     "language": "python",
     "metadata": {},
     "outputs": [],
     "prompt_number": 4
    },
    {
     "cell_type": "code",
     "collapsed": false,
     "input": [
      "def sample_matched_gamble(lower_predictive=True, max_out=200, min_ev_difference=10, min_out_difference=10):\n",
      "    \n",
      "    balanced_weights = [20, 20]\n",
      "    skewed_weights = [20, 1]\n",
      "    max_p = .96\n",
      "    \n",
      "    done = False\n",
      "    while not done:\n",
      "        \n",
      "        # first option, both environments\n",
      "        e1_p = round(beta.rvs(balanced_weights[0], balanced_weights[1]), 5)\n",
      "        e1_p = min([max_p, e1_p])\n",
      "        e1_low, e1_high = map(int, np.sort(uniform.rvs(scale=100, loc=0, size=2)))\n",
      "        e1_ev = round(e1_p * e1_low + (1 - e1_p) * e1_high, 2)\n",
      "        \n",
      "        e2_p = round(beta.rvs(skewed_weights[0], skewed_weights[1]), 5)\n",
      "        e2_p = min([max_p, e2_p])\n",
      "        \n",
      "        e2_low = e1_low\n",
      "        e2_high = int((e1_ev - e2_p * e2_low)/(1 - e2_p))\n",
      "        e2_ev = round(e2_p * e2_low + (1 - e2_p) * e2_high, 2)\n",
      "        \n",
      "        # second option, both environments\n",
      "        o2_e1_p = round(beta.rvs(balanced_weights[0], balanced_weights[1]), 5)\n",
      "        o2_e1_p = min([max_p, o2_e1_p])\n",
      "        \n",
      "        o2_e1_low, o2_e1_high = map(int, np.sort(uniform.rvs(scale=100, loc=0, size=2)))\n",
      "        o2_e1_ev = round(o2_e1_p * o2_e1_low + (1 - o2_e1_p) * o2_e1_high, 2)\n",
      "        \n",
      "        o2_e2_p = round(beta.rvs(skewed_weights[0], skewed_weights[1]), 5)\n",
      "        o2_e2_p = min([max_p, o2_e2_p])\n",
      "        o2_e2_low = o2_e1_low\n",
      "        o2_e2_high = int((o2_e1_ev - o2_e2_p * o2_e2_low)/(1 - o2_e2_p))\n",
      "        o2_e2_ev = round(o2_e2_p * o2_e2_low + (1 - o2_e2_p) * o2_e2_high, 2)\n",
      "        \n",
      "        # check whether ordering of LOW outcomes is predictive \n",
      "        # of the better choice\n",
      "        low_outcome_order = [0 if e1_low > o2_e1_low else 1]\n",
      "        ev_order = [0 if e1_ev > o2_e1_ev else 1]\n",
      "        \n",
      "        # minimum difference between EV of options in a single gamble\n",
      "        min_ev_diff = np.min(np.abs([e1_ev - o2_e1_ev, e2_ev - o2_e2_ev]))\n",
      "        \n",
      "        # maximum outcome\n",
      "        max_outcome = np.max([e1_high, e2_high, o2_e1_high, o2_e2_high])\n",
      "        \n",
      "        # minimum difference between outcomes for a given optin\n",
      "        min_diff = np.min([e1_high - e1_low, e2_high - e2_low, o2_e1_high - o2_e1_low, o2_e2_high - o2_e2_low])\n",
      "        \n",
      "        # non-dominating\n",
      "        nondom = e1_low < o2_e1_high and o2_e1_low < e1_high and e2_low < o2_e2_high and o2_e2_low < e2_high\n",
      "        \n",
      "        if ((low_outcome_order == ev_order) == lower_predictive) and max_outcome < max_out and min_ev_diff > min_ev_difference and min_diff > min_out_difference and nondom:\n",
      "            done = True\n",
      "            #print min_ev_diff\n",
      "            #print e1_ev, e2_ev, o2_e1_ev, o2_e2_ev\n",
      "    \n",
      "    if e1_ev > o2_e1_ev:\n",
      "        opt_e1 = {'H': [e1_low, e1_high, e1_p, e1_ev], 'L': [o2_e1_low, o2_e1_high, o2_e1_p, o2_e1_ev]}\n",
      "    else:\n",
      "        opt_e1 = {'L': [e1_low, e1_high, e1_p, e1_ev], 'H': [o2_e1_low, o2_e1_high, o2_e1_p, o2_e1_ev]}\n",
      "\n",
      "    if e2_ev > o2_e2_ev:\n",
      "        opt_e2 = {'H': [e2_low, e2_high, e2_p, e2_ev], 'L': [o2_e2_low, o2_e2_high, o2_e2_p, o2_e2_ev]}\n",
      "    else:\n",
      "        opt_e2 = {'L': [e2_low, e2_high, e2_p, e2_ev], 'H': [o2_e2_low, o2_e2_high, o2_e2_p, o2_e2_ev]}\n",
      "\n",
      "    \n",
      "    return {'e1': opt_e1,\n",
      "            'e2': opt_e2}"
     ],
     "language": "python",
     "metadata": {},
     "outputs": [],
     "prompt_number": 6
    },
    {
     "cell_type": "code",
     "collapsed": false,
     "input": [
      "opt = sample_matched_gamble(lower_predictive=False)\n",
      "fig, ax = plt.subplots(1, 2, figsize=(20,5))\n",
      "ax[0] = plot_gamble(opt['e1'], ax=ax[0])\n",
      "ax[0].set_title('Env 1 (Balanced)')\n",
      "\n",
      "ax[1] = plot_gamble(opt['e2'], ax=ax[1])\n",
      "ax[1].set_title('Env 2 (Skewed)')\n",
      "\n",
      "plt.show()"
     ],
     "language": "python",
     "metadata": {},
     "outputs": [
      {
       "metadata": {},
       "output_type": "display_data",
       "png": "[encoded data removed]",
       "text": [
        "<matplotlib.figure.Figure at 0x10b1aaa10>"
       ]
      }
     ],
     "prompt_number": 7
    },
    {
     "cell_type": "code",
     "collapsed": false,
     "input": [
      "fig, ax = plt.subplots(figsize=(8,3))\n",
      "ax = plot_gamble(opt['e1'], ax=ax)\n",
      "ax.set_title('Env 1 (Balanced)')\n",
      "\n",
      "#ax[1] = plot_gamble(opt['e2'], ax=ax[1])\n",
      "#ax[1].set_title('Env 2 (Skewed)')\n",
      "ax.set_xlabel('outcome')\n",
      "plt.show()"
     ],
     "language": "python",
     "metadata": {},
     "outputs": [
      {
       "metadata": {},
       "output_type": "display_data",
       "png": "[encoded data removed]",
       "text": [
        "<matplotlib.figure.Figure at 0x10b1d5a90>"
       ]
      }
     ],
     "prompt_number": 8
    },
    {
     "cell_type": "code",
     "collapsed": false,
     "input": [
      "fig.savefig(FIGDEST + 'env1_example_gamble.pdf')"
     ],
     "language": "python",
     "metadata": {},
     "outputs": [],
     "prompt_number": 297
    },
    {
     "cell_type": "code",
     "collapsed": false,
     "input": [
      "fig, ax = plt.subplots(figsize=(8,3))\n",
      "ax = plot_gamble(opt['e2'], ax=ax)\n",
      "ax.set_title('Env 2 (Skewed)')\n",
      "ax.set_xlabel('outcome')\n",
      "plt.show()"
     ],
     "language": "python",
     "metadata": {},
     "outputs": [
      {
       "metadata": {},
       "output_type": "display_data",
       "png": "[encoded data removed]",
       "text": [
        "<matplotlib.figure.Figure at 0x110bc8590>"
       ]
      }
     ],
     "prompt_number": 348
    },
    {
     "cell_type": "code",
     "collapsed": false,
     "input": [
      "print opt"
     ],
     "language": "python",
     "metadata": {},
     "outputs": [
      {
       "output_type": "stream",
       "stream": "stdout",
       "text": [
        "{'e1': {'H': [9, 69, 0.55158, 35.91], 'L': [12, 37, 0.45041, 25.74]}, 'e2': {'H': [9, 149, 0.80908, 35.73], 'L': [12, 96, 0.83712, 25.68]}}\n"
       ]
      }
     ],
     "prompt_number": 325
    },
    {
     "cell_type": "code",
     "collapsed": false,
     "input": [
      "fig.savefig(FIGDEST + 'env2_example_gamble.pdf')"
     ],
     "language": "python",
     "metadata": {},
     "outputs": [],
     "prompt_number": 349
    },
    {
     "cell_type": "code",
     "collapsed": false,
     "input": [
      "fig, ax = plt.subplots()\n",
      "ax.plot(error(opt['e1']['H'][:3], 100), color='blue')\n",
      "ax.plot(error(opt['e1']['L'][:3], 100), color='red')\n",
      "ax.plot(error(opt['e2']['H'][:3], 100), color='blue')\n",
      "ax.plot(error(opt['e2']['L'][:3], 100), color='red')\n",
      "plt.show()"
     ],
     "language": "python",
     "metadata": {},
     "outputs": [
      {
       "metadata": {},
       "output_type": "display_data",
       "png": "[encoded data removed]",
       "text": [
        "<matplotlib.figure.Figure at 0x10a7cb5d0>"
       ]
      }
     ],
     "prompt_number": 11
    },
    {
     "cell_type": "markdown",
     "metadata": {},
     "source": [
      "### What is probability of choosing H in the individual sampling case?"
     ]
    },
    {
     "cell_type": "code",
     "collapsed": false,
     "input": [
      "oppcost = .02\n",
      "T_SET = np.arange(1, 50)\n",
      "fixed_costs = T_SET * oppcost"
     ],
     "language": "python",
     "metadata": {},
     "outputs": [],
     "prompt_number": 9
    },
    {
     "cell_type": "code",
     "collapsed": false,
     "input": [
      "fig, ax = plt.subplots(figsize=(10,5))\n",
      "ax.plot(T_SET, [expected_loss(opt['e1'], t) for t in T_SET] + fixed_costs)\n",
      "ax.plot(T_SET, [expected_loss(opt['e2'], t) for t in T_SET] + fixed_costs)\n",
      "plt.show()"
     ],
     "language": "python",
     "metadata": {},
     "outputs": [
      {
       "metadata": {},
       "output_type": "display_data",
       "png": "[encoded data removed]",
       "text": [
        "<matplotlib.figure.Figure at 0x10a576e90>"
       ]
      }
     ],
     "prompt_number": 10
    },
    {
     "cell_type": "markdown",
     "metadata": {},
     "source": [
      "### Competitive case"
     ]
    },
    {
     "cell_type": "code",
     "collapsed": false,
     "input": [
      "e1_loss = np.array([[sim_obtained_loss(opt['e1'], target_trial=t) for t in T_SET] for _ in range(5000)])"
     ],
     "language": "python",
     "metadata": {},
     "outputs": [],
     "prompt_number": 12
    },
    {
     "cell_type": "code",
     "collapsed": false,
     "input": [
      "e2_loss = np.array([[sim_obtained_loss(opt['e2'], target_trial=t) for t in T_SET] for _ in range(5000)])"
     ],
     "language": "python",
     "metadata": {},
     "outputs": [],
     "prompt_number": 13
    },
    {
     "cell_type": "code",
     "collapsed": false,
     "input": [
      "fig, ax = plt.subplots(figsize=(5, 5))\n",
      "ax.plot(T_SET, e1_loss.mean(0) + fixed_costs)\n",
      "ax.plot(T_SET, e2_loss.mean(0) + fixed_costs)\n",
      "ax.set_xlim(0, 21)\n",
      "plt.show()"
     ],
     "language": "python",
     "metadata": {},
     "outputs": [
      {
       "metadata": {},
       "output_type": "display_data",
       "png": "[encoded data removed]",
       "text": [
        "<matplotlib.figure.Figure at 0x10a76cb90>"
       ]
      }
     ],
     "prompt_number": 15
    },
    {
     "cell_type": "code",
     "collapsed": false,
     "input": [
      "eloss = []\n",
      "for own_stop in range(1, 20):\n",
      "    print own_stop\n",
      "    eloss.append([np.mean([sim_obtained_loss_given_stop_time(opt['e1'], t, own_stop) for _ in range(5000)]) for t in range(1, 20)])"
     ],
     "language": "python",
     "metadata": {},
     "outputs": [
      {
       "output_type": "stream",
       "stream": "stdout",
       "text": [
        "1\n",
        "2"
       ]
      },
      {
       "output_type": "stream",
       "stream": "stdout",
       "text": [
        "\n",
        "3"
       ]
      },
      {
       "output_type": "stream",
       "stream": "stdout",
       "text": [
        "\n",
        "4"
       ]
      },
      {
       "output_type": "stream",
       "stream": "stdout",
       "text": [
        "\n",
        "5"
       ]
      },
      {
       "output_type": "stream",
       "stream": "stdout",
       "text": [
        "\n",
        "6"
       ]
      },
      {
       "output_type": "stream",
       "stream": "stdout",
       "text": [
        "\n",
        "7"
       ]
      },
      {
       "output_type": "stream",
       "stream": "stdout",
       "text": [
        "\n",
        "8"
       ]
      },
      {
       "output_type": "stream",
       "stream": "stdout",
       "text": [
        "\n",
        "9"
       ]
      },
      {
       "output_type": "stream",
       "stream": "stdout",
       "text": [
        "\n",
        "10"
       ]
      },
      {
       "output_type": "stream",
       "stream": "stdout",
       "text": [
        "\n",
        "11"
       ]
      },
      {
       "output_type": "stream",
       "stream": "stdout",
       "text": [
        "\n",
        "12"
       ]
      },
      {
       "output_type": "stream",
       "stream": "stdout",
       "text": [
        "\n",
        "13"
       ]
      },
      {
       "output_type": "stream",
       "stream": "stdout",
       "text": [
        "\n",
        "14"
       ]
      },
      {
       "output_type": "stream",
       "stream": "stdout",
       "text": [
        "\n",
        "15"
       ]
      },
      {
       "output_type": "stream",
       "stream": "stdout",
       "text": [
        "\n",
        "16"
       ]
      },
      {
       "output_type": "stream",
       "stream": "stdout",
       "text": [
        "\n",
        "17"
       ]
      },
      {
       "output_type": "stream",
       "stream": "stdout",
       "text": [
        "\n",
        "18"
       ]
      },
      {
       "output_type": "stream",
       "stream": "stdout",
       "text": [
        "\n",
        "19"
       ]
      },
      {
       "output_type": "stream",
       "stream": "stdout",
       "text": [
        "\n"
       ]
      }
     ],
     "prompt_number": 16
    },
    {
     "cell_type": "code",
     "collapsed": false,
     "input": [
      "fig, ax = plt.subplots(figsize=(6,6))\n",
      "ax.matshow(np.transpose(eloss), origin='lower')\n",
      "plt.show()"
     ],
     "language": "python",
     "metadata": {},
     "outputs": [
      {
       "metadata": {},
       "output_type": "display_data",
       "png": "[encoded data removed]",
       "text": [
        "<matplotlib.figure.Figure at 0x10b0f62d0>"
       ]
      }
     ],
     "prompt_number": 17
    },
    {
     "cell_type": "code",
     "collapsed": false,
     "input": [
      "fig.savefig(FIGDEST + 'env1_matrix.pdf')"
     ],
     "language": "python",
     "metadata": {},
     "outputs": [],
     "prompt_number": 327
    },
    {
     "cell_type": "code",
     "collapsed": false,
     "input": [
      "from scipy.stats import geom"
     ],
     "language": "python",
     "metadata": {},
     "outputs": [],
     "prompt_number": 18
    },
    {
     "cell_type": "code",
     "collapsed": false,
     "input": [
      "fast_weights = apply(lambda arr: arr/float(sum(arr)), np.array([[geom.pmf(x, .3) for x in range(1,20)]]))"
     ],
     "language": "python",
     "metadata": {},
     "outputs": [],
     "prompt_number": 19
    },
    {
     "cell_type": "code",
     "collapsed": false,
     "input": [
      "fig, ax = plt.subplots(figsize=(6,3))\n",
      "ax.plot(range(1,20), np.mean(eloss, 1), label='uniform')\n",
      "#ax.plot(range(1,20), np.dot(eloss, fast_weights), label='fast')\n",
      "ax.legend()\n",
      "ax.set_xlim(0,20)\n",
      "plt.show()"
     ],
     "language": "python",
     "metadata": {},
     "outputs": [
      {
       "metadata": {},
       "output_type": "display_data",
       "png": "[encoded data removed]",
       "text": [
        "<matplotlib.figure.Figure at 0x10b0c0ad0>"
       ]
      }
     ],
     "prompt_number": 20
    },
    {
     "cell_type": "code",
     "collapsed": false,
     "input": [
      "fig.savefig(FIGDEST + 'env1_eloss_uniform.pdf')"
     ],
     "language": "python",
     "metadata": {},
     "outputs": [],
     "prompt_number": 335
    },
    {
     "cell_type": "code",
     "collapsed": false,
     "input": [
      "fig, ax = plt.subplots(figsize=(6,3))\n",
      "ax.plot(range(1,20), np.mean(eloss, 1), label='uniform')\n",
      "ax.plot(range(1,20), np.dot(eloss, fast_weights), label='fast')\n",
      "ax.legend()\n",
      "ax.set_xlim(0,20)\n",
      "plt.show()"
     ],
     "language": "python",
     "metadata": {},
     "outputs": [
      {
       "metadata": {},
       "output_type": "display_data",
       "png": "[encoded data removed]",
       "text": [
        "<matplotlib.figure.Figure at 0x10b103610>"
       ]
      }
     ],
     "prompt_number": 21
    },
    {
     "cell_type": "code",
     "collapsed": false,
     "input": [
      "fig.savefig(FIGDEST + 'env1_eloss_uniform+fast.pdf')"
     ],
     "language": "python",
     "metadata": {},
     "outputs": [],
     "prompt_number": 343
    },
    {
     "cell_type": "code",
     "collapsed": false,
     "input": [
      "eloss_2 = []\n",
      "for own_stop in range(1, 20):\n",
      "    print own_stop\n",
      "    eloss_2.append([np.mean([sim_obtained_loss_given_stop_time(opt['e2'], t, own_stop) for _ in range(5000)]) for t in range(1, 20)])"
     ],
     "language": "python",
     "metadata": {},
     "outputs": [
      {
       "output_type": "stream",
       "stream": "stdout",
       "text": [
        "1\n",
        "2"
       ]
      },
      {
       "output_type": "stream",
       "stream": "stdout",
       "text": [
        "\n",
        "3"
       ]
      },
      {
       "output_type": "stream",
       "stream": "stdout",
       "text": [
        "\n",
        "4"
       ]
      },
      {
       "output_type": "stream",
       "stream": "stdout",
       "text": [
        "\n",
        "5"
       ]
      },
      {
       "output_type": "stream",
       "stream": "stdout",
       "text": [
        "\n",
        "6"
       ]
      },
      {
       "output_type": "stream",
       "stream": "stdout",
       "text": [
        "\n",
        "7"
       ]
      },
      {
       "output_type": "stream",
       "stream": "stdout",
       "text": [
        "\n",
        "8"
       ]
      },
      {
       "output_type": "stream",
       "stream": "stdout",
       "text": [
        "\n",
        "9"
       ]
      },
      {
       "output_type": "stream",
       "stream": "stdout",
       "text": [
        "\n",
        "10"
       ]
      },
      {
       "output_type": "stream",
       "stream": "stdout",
       "text": [
        "\n",
        "11"
       ]
      },
      {
       "output_type": "stream",
       "stream": "stdout",
       "text": [
        "\n",
        "12"
       ]
      },
      {
       "output_type": "stream",
       "stream": "stdout",
       "text": [
        "\n",
        "13"
       ]
      },
      {
       "output_type": "stream",
       "stream": "stdout",
       "text": [
        "\n",
        "14"
       ]
      },
      {
       "output_type": "stream",
       "stream": "stdout",
       "text": [
        "\n",
        "15"
       ]
      },
      {
       "output_type": "stream",
       "stream": "stdout",
       "text": [
        "\n",
        "16"
       ]
      },
      {
       "output_type": "stream",
       "stream": "stdout",
       "text": [
        "\n",
        "17"
       ]
      },
      {
       "output_type": "stream",
       "stream": "stdout",
       "text": [
        "\n",
        "18"
       ]
      },
      {
       "output_type": "stream",
       "stream": "stdout",
       "text": [
        "\n",
        "19"
       ]
      },
      {
       "output_type": "stream",
       "stream": "stdout",
       "text": [
        "\n"
       ]
      }
     ],
     "prompt_number": 22
    },
    {
     "cell_type": "code",
     "collapsed": false,
     "input": [
      "fig, ax = plt.subplots(figsize=(6,6))\n",
      "ax.matshow(np.transpose(eloss_2), origin='lower')\n",
      "plt.show()"
     ],
     "language": "python",
     "metadata": {},
     "outputs": [
      {
       "metadata": {},
       "output_type": "display_data",
       "png": "[encoded data removed]",
       "text": [
        "<matplotlib.figure.Figure at 0x10a7632d0>"
       ]
      }
     ],
     "prompt_number": 23
    },
    {
     "cell_type": "code",
     "collapsed": false,
     "input": [
      "fig.savefig(FIGDEST + 'env2_matrix.pdf')"
     ],
     "language": "python",
     "metadata": {},
     "outputs": [],
     "prompt_number": 339
    },
    {
     "cell_type": "code",
     "collapsed": false,
     "input": [
      "fig, ax = plt.subplots(figsize=(6,3))\n",
      "#ax.plot(range(1,20), np.mean(eloss, 1), '--', label='uniform')\n",
      "#ax.plot(range(1,20), np.dot(eloss, fast_weights), '--', label='fast')\n",
      "\n",
      "ax.plot(range(1,20), np.mean(eloss_2, 1), label='uniform')\n",
      "#ax.plot(range(1,20), np.dot(eloss_2, fast_weights), label='fast')\n",
      "\n",
      "ax.set_xlim(0,20)\n",
      "ax.legend()\n",
      "plt.show()"
     ],
     "language": "python",
     "metadata": {},
     "outputs": [
      {
       "metadata": {},
       "output_type": "display_data",
       "png": "[encoded data removed]",
       "text": [
        "<matplotlib.figure.Figure at 0x10a494c10>"
       ]
      }
     ],
     "prompt_number": 24
    },
    {
     "cell_type": "code",
     "collapsed": false,
     "input": [
      "fig.savefig(FIGDEST + 'env2_eloss_uniform.pdf')"
     ],
     "language": "python",
     "metadata": {},
     "outputs": [],
     "prompt_number": 345
    },
    {
     "cell_type": "code",
     "collapsed": false,
     "input": [
      "fig, ax = plt.subplots(figsize=(6,3))\n",
      "ax.plot(range(1,20), np.mean(eloss_2, 1), label='uniform')\n",
      "ax.plot(range(1,20), np.dot(eloss_2, fast_weights), label='fast')\n",
      "ax.legend()\n",
      "ax.set_xlim(0,20)\n",
      "plt.show()"
     ],
     "language": "python",
     "metadata": {},
     "outputs": [
      {
       "metadata": {},
       "output_type": "display_data",
       "png": "[encoded data removed]",
       "text": [
        "<matplotlib.figure.Figure at 0x1052012d0>"
       ]
      }
     ],
     "prompt_number": 25
    },
    {
     "cell_type": "code",
     "collapsed": false,
     "input": [
      "fig.savefig(FIGDEST + 'env2_eloss_uniform+fast.pdf')"
     ],
     "language": "python",
     "metadata": {},
     "outputs": [],
     "prompt_number": 347
    },
    {
     "cell_type": "markdown",
     "metadata": {},
     "source": [
      "## Generate option sets"
     ]
    },
    {
     "cell_type": "code",
     "collapsed": false,
     "input": [
      "opt_1 = []\n",
      "for i in range(50):\n",
      "    opt_1.append(sample_matched_gamble(lower_predictive=True))"
     ],
     "language": "python",
     "metadata": {},
     "outputs": [],
     "prompt_number": 26
    },
    {
     "cell_type": "code",
     "collapsed": false,
     "input": [
      "opt_2 = []\n",
      "for i in range(50):\n",
      "    opt_2.append(sample_matched_gamble(lower_predictive=False))"
     ],
     "language": "python",
     "metadata": {},
     "outputs": [],
     "prompt_number": 28
    },
    {
     "cell_type": "code",
     "collapsed": false,
     "input": [
      "for opt in opt_2:\n",
      "    plot_gamble(opt['e2'])"
     ],
     "language": "python",
     "metadata": {},
     "outputs": [
      {
       "output_type": "stream",
       "stream": "stderr",
       "text": [
        "/Users/markant/anaconda/lib/python2.7/site-packages/matplotlib/pyplot.py:412: RuntimeWarning: More than 20 figures have been opened. Figures created through the pyplot interface (`matplotlib.pyplot.figure`) are retained until explicitly closed and may consume too much memory. (To control this warning, see the rcParam `figure.max_num_figures`).\n",
        "  max_open_warning, RuntimeWarning)\n"
       ]
      },
      {
       "metadata": {},
       "output_type": "display_data",
       "png": "[encoded data removed]",
       "text": [
        "<matplotlib.figure.Figure at 0x10de1e0d0>"
       ]
      },
      {
       "metadata": {},
       "output_type": "display_data",
       "png": "[encoded data removed]",
       "text": [
        "<matplotlib.figure.Figure at 0x10e203a90>"
       ]
      },
      {
       "metadata": {},
       "output_type": "display_data",
       "png": "[encoded data removed]",
       "text": [
        "<matplotlib.figure.Figure at 0x10e29eb50>"
       ]
      },
      {
       "metadata": {},
       "output_type": "display_data",
       "png": "[encoded data removed]",
       "text": [
        "<matplotlib.figure.Figure at 0x10e360050>"
       ]
      },
      {
       "metadata": {},
       "output_type": "display_data",
       "png": "[encoded data removed]",
       "text": [
        "<matplotlib.figure.Figure at 0x10e40b2d0>"
       ]
      },
      {
       "metadata": {},
       "output_type": "display_data",
       "png": "[encoded data removed]",
       "text": [
        "<matplotlib.figure.Figure at 0x10e4ada10>"
       ]
      },
      {
       "metadata": {},
       "output_type": "display_data",
       "png": "[encoded data removed]",
       "text": [
        "<matplotlib.figure.Figure at 0x10e566ed0>"
       ]
      },
      {
       "metadata": {},
       "output_type": "display_data",
       "png": "[encoded data removed]",
       "text": [
        "<matplotlib.figure.Figure at 0x10e60cb10>"
       ]
      },
      {
       "metadata": {},
       "output_type": "display_data",
       "png": "[encoded data removed]",
       "text": [
        "<matplotlib.figure.Figure at 0x10e6cae10>"
       ]
      },
      {
       "metadata": {},
       "output_type": "display_data",
       "png": "[encoded data removed]",
       "text": [
        "<matplotlib.figure.Figure at 0x10e7792d0>"
       ]
      },
      {
       "metadata": {},
       "output_type": "display_data",
       "png": "[encoded data removed]",
       "text": [
        "<matplotlib.figure.Figure at 0x10e81c4d0>"
       ]
      },
      {
       "metadata": {},
       "output_type": "display_data",
       "png": "[encoded data removed]",
       "text": [
        "<matplotlib.figure.Figure at 0x10e8df6d0>"
       ]
      },
      {
       "metadata": {},
       "output_type": "display_data",
       "png": "[encoded data removed]",
       "text": [
        "<matplotlib.figure.Figure at 0x10e97a9d0>"
       ]
      },
      {
       "metadata": {},
       "output_type": "display_data",
       "png": "[encoded data removed]",
       "text": [
        "<matplotlib.figure.Figure at 0x10ea30d10>"
       ]
      },
      {
       "metadata": {},
       "output_type": "display_data",
       "png": "[encoded data removed]",
       "text": [
        "<matplotlib.figure.Figure at 0x10eae6650>"
       ]
      },
      {
       "metadata": {},
       "output_type": "display_data",
       "png": "[encoded data removed]",
       "text": [
        "<matplotlib.figure.Figure at 0x10eb8b390>"
       ]
      },
      {
       "metadata": {},
       "output_type": "display_data",
       "png": "[encoded data removed]",
       "text": [
        "<matplotlib.figure.Figure at 0x10ec41ad0>"
       ]
      },
      {
       "metadata": {},
       "output_type": "display_data",
       "png": "[encoded data removed]",
       "text": [
        "<matplotlib.figure.Figure at 0x10ece5f90>"
       ]
      },
      {
       "metadata": {},
       "output_type": "display_data",
       "png": "[encoded data removed]",
       "text": [
        "<matplotlib.figure.Figure at 0x10eda7c50>"
       ]
      },
      {
       "metadata": {},
       "output_type": "display_data",
       "png": "[encoded data removed]",
       "text": [
        "<matplotlib.figure.Figure at 0x10ee41b10>"
       ]
      },
      {
       "metadata": {},
       "output_type": "display_data",
       "png": "[encoded data removed]",
       "text": [
        "<matplotlib.figure.Figure at 0x10ef25490>"
       ]
      },
      {
       "metadata": {},
       "output_type": "display_data",
       "png": "[encoded data removed]",
       "text": [
        "<matplotlib.figure.Figure at 0x10f8057d0>"
       ]
      },
      {
       "metadata": {},
       "output_type": "display_data",
       "png": "[encoded data removed]",
       "text": [
        "<matplotlib.figure.Figure at 0x10f8aa590>"
       ]
      },
      {
       "metadata": {},
       "output_type": "display_data",
       "png": "[encoded data removed]",
       "text": [
        "<matplotlib.figure.Figure at 0x10f96b790>"
       ]
      },
      {
       "metadata": {},
       "output_type": "display_data",
       "png": "[encoded data removed]",
       "text": [
        "<matplotlib.figure.Figure at 0x10fa0ed10>"
       ]
      },
      {
       "metadata": {},
       "output_type": "display_data",
       "png": "[encoded data removed]",
       "text": [
        "<matplotlib.figure.Figure at 0x10fab1f10>"
       ]
      },
      {
       "metadata": {},
       "output_type": "display_data",
       "png": "[encoded data removed]",
       "text": [
        "<matplotlib.figure.Figure at 0x10fb7d150>"
       ]
      },
      {
       "metadata": {},
       "output_type": "display_data",
       "png": "[encoded data removed]",
       "text": [
        "<matplotlib.figure.Figure at 0x10fc18450>"
       ]
      },
      {
       "metadata": {},
       "output_type": "display_data",
       "png": "[encoded data removed]",
       "text": [
        "<matplotlib.figure.Figure at 0x10fcce790>"
       ]
      },
      {
       "metadata": {},
       "output_type": "display_data",
       "png": "[encoded data removed]",
       "text": [
        "<matplotlib.figure.Figure at 0x10fd860d0>"
       ]
      },
      {
       "metadata": {},
       "output_type": "display_data",
       "png": "[encoded data removed]",
       "text": [
        "<matplotlib.figure.Figure at 0x10fe1fdd0>"
       ]
      },
      {
       "metadata": {},
       "output_type": "display_data",
       "png": "[encoded data removed]",
       "text": [
        "<matplotlib.figure.Figure at 0x10fee0550>"
       ]
      },
      {
       "metadata": {},
       "output_type": "display_data",
       "png": "[encoded data removed]",
       "text": [
        "<matplotlib.figure.Figure at 0x10ff85a10>"
       ]
      },
      {
       "metadata": {},
       "output_type": "display_data",
       "png": "[encoded data removed]",
       "text": [
        "<matplotlib.figure.Figure at 0x1100466d0>"
       ]
      },
      {
       "metadata": {},
       "output_type": "display_data",
       "png": "[encoded data removed]",
       "text": [
        "<matplotlib.figure.Figure at 0x1100f3510>"
       ]
      },
      {
       "metadata": {},
       "output_type": "display_data",
       "png": "[encoded data removed]",
       "text": [
        "<matplotlib.figure.Figure at 0x11028fd90>"
       ]
      },
      {
       "metadata": {},
       "output_type": "display_data",
       "png": "[encoded data removed]",
       "text": [
        "<matplotlib.figure.Figure at 0x1103580d0>"
       ]
      },
      {
       "metadata": {},
       "output_type": "display_data",
       "png": "[encoded data removed]",
       "text": [
        "<matplotlib.figure.Figure at 0x1103df6d0>"
       ]
      },
      {
       "metadata": {},
       "output_type": "display_data",
       "png": "[encoded data removed]",
       "text": [
        "<matplotlib.figure.Figure at 0x110598910>"
       ]
      },
      {
       "metadata": {},
       "output_type": "display_data",
       "png": "[encoded data removed]",
       "text": [
        "<matplotlib.figure.Figure at 0x11064d350>"
       ]
      },
      {
       "metadata": {},
       "output_type": "display_data",
       "png": "[encoded data removed]",
       "text": [
        "<matplotlib.figure.Figure at 0x1106f0090>"
       ]
      },
      {
       "metadata": {},
       "output_type": "display_data",
       "png": "[encoded data removed]",
       "text": [
        "<matplotlib.figure.Figure at 0x1108a67d0>"
       ]
      },
      {
       "metadata": {},
       "output_type": "display_data",
       "png": "[encoded data removed]",
       "text": [
        "<matplotlib.figure.Figure at 0x11094dc90>"
       ]
      },
      {
       "metadata": {},
       "output_type": "display_data",
       "png": "[encoded data removed]",
       "text": [
        "<matplotlib.figure.Figure at 0x110b0d950>"
       ]
      },
      {
       "metadata": {},
       "output_type": "display_data",
       "png": "[encoded data removed]",
       "text": [
        "<matplotlib.figure.Figure at 0x110bbb790>"
       ]
      },
      {
       "metadata": {},
       "output_type": "display_data",
       "png": "[encoded data removed]",
       "text": [
        "<matplotlib.figure.Figure at 0x110c5f050>"
       ]
      },
      {
       "metadata": {},
       "output_type": "display_data",
       "png": "[encoded data removed]",
       "text": [
        "<matplotlib.figure.Figure at 0x110e1f350>"
       ]
      },
      {
       "metadata": {},
       "output_type": "display_data",
       "png": "[encoded data removed]",
       "text": [
        "<matplotlib.figure.Figure at 0x110ec4110>"
       ]
      },
      {
       "metadata": {},
       "output_type": "display_data",
       "png": "[encoded data removed]",
       "text": [
        "<matplotlib.figure.Figure at 0x110f7b350>"
       ]
      },
      {
       "metadata": {},
       "output_type": "display_data",
       "png": "[encoded data removed]",
       "text": [
        "<matplotlib.figure.Figure at 0x1111294d0>"
       ]
      }
     ],
     "prompt_number": 152
    },
    {
     "cell_type": "code",
     "collapsed": false,
     "input": [
      "recs = []\n",
      "for i, optset in enumerate(opt_1):\n",
      "    \n",
      "    r1 = [i, # index\n",
      "          0, # environment\n",
      "          optset['e1']['H'][0],\n",
      "          optset['e1']['H'][1],\n",
      "          optset['e1']['H'][2],\n",
      "          optset['e1']['H'][3],\n",
      "          optset['e1']['L'][0],\n",
      "          optset['e1']['L'][1],\n",
      "          optset['e1']['L'][2],\n",
      "          optset['e1']['L'][3]]\n",
      "    \n",
      "    r2 = [i, # index\n",
      "          1, # environment\n",
      "          optset['e2']['H'][0],\n",
      "          optset['e2']['H'][1],\n",
      "          optset['e2']['H'][2],\n",
      "          optset['e2']['H'][3],\n",
      "          optset['e2']['L'][0],\n",
      "          optset['e2']['L'][1],\n",
      "          optset['e2']['L'][2],\n",
      "          optset['e2']['L'][3]]\n",
      "\n",
      "    recs.append(r1)\n",
      "    recs.append(r2)\n",
      "    \n",
      "for i, optset in enumerate(opt_2):\n",
      "    \n",
      "    r1 = [i, # index\n",
      "          0, # environment\n",
      "          optset['e1']['H'][0],\n",
      "          optset['e1']['H'][1],\n",
      "          optset['e1']['H'][2],\n",
      "          optset['e1']['H'][3],\n",
      "          optset['e1']['L'][0],\n",
      "          optset['e1']['L'][1],\n",
      "          optset['e1']['L'][2],\n",
      "          optset['e1']['L'][3]]\n",
      "    \n",
      "    r2 = [i, # index\n",
      "          1, # environment\n",
      "          optset['e2']['H'][0],\n",
      "          optset['e2']['H'][1],\n",
      "          optset['e2']['H'][2],\n",
      "          optset['e2']['H'][3],\n",
      "          optset['e2']['L'][0],\n",
      "          optset['e2']['L'][1],\n",
      "          optset['e2']['L'][2],\n",
      "          optset['e2']['L'][3]]\n",
      "\n",
      "    recs.append(r1)\n",
      "    recs.append(r2)\n"
     ],
     "language": "python",
     "metadata": {},
     "outputs": [],
     "prompt_number": 29
    },
    {
     "cell_type": "code",
     "collapsed": false,
     "input": [
      "shuffle(recs)"
     ],
     "language": "python",
     "metadata": {},
     "outputs": [],
     "prompt_number": 34
    },
    {
     "cell_type": "code",
     "collapsed": false,
     "input": [
      "from random import shuffle"
     ],
     "language": "python",
     "metadata": {},
     "outputs": [],
     "prompt_number": 33
    },
    {
     "cell_type": "code",
     "collapsed": false,
     "input": [
      "recs"
     ],
     "language": "python",
     "metadata": {},
     "outputs": [
      {
       "metadata": {},
       "output_type": "pyout",
       "prompt_number": 36,
       "text": [
        "[[23, 1, 39, 176, 0.94649, 46.33, 31, 161, 0.96, 36.2],\n",
        " [20, 1, 0, 80, 0.65181, 27.86, 0, 176, 0.94843, 9.08],\n",
        " [7, 1, 0, 152, 0.87737, 18.64, 2, 128, 0.96, 7.04],\n",
        " [27, 0, 44, 77, 0.51645, 59.96, 7, 53, 0.56375, 27.07],\n",
        " [27, 0, 26, 80, 0.50389, 52.79, 26, 40, 0.57857, 31.9],\n",
        " [31, 0, 26, 78, 0.46833, 53.65, 26, 49, 0.52273, 36.98],\n",
        " [22, 1, 26, 156, 0.87377, 42.41, 1, 148, 0.9164, 13.29],\n",
        " [28, 0, 32, 62, 0.46063, 48.18, 33, 44, 0.5327, 38.14],\n",
        " [14, 1, 46, 172, 0.78369, 73.26, 44, 172, 0.96, 49.12],\n",
        " [22, 1, 5, 105, 0.7689, 28.11, 6, 126, 0.90506, 17.39],\n",
        " [4, 0, 38, 71, 0.50404, 54.37, 30, 67, 0.63654, 43.45],\n",
        " [17, 0, 3, 41, 0.49063, 22.36, 4, 15, 0.72265, 7.05],\n",
        " [16, 0, 44, 65, 0.59287, 52.55, 16, 48, 0.42924, 34.26],\n",
        " [11, 0, 9, 46, 0.45356, 29.22, 11, 27, 0.52729, 18.56],\n",
        " [33, 1, 0, 181, 0.82876, 30.99, 7, 140, 0.92325, 17.21],\n",
        " [23, 0, 22, 84, 0.50094, 52.94, 23, 54, 0.49676, 38.6],\n",
        " [26, 1, 42, 156, 0.91177, 52.06, 29, 174, 0.94162, 37.47],\n",
        " [7, 0, 0, 42, 0.55438, 18.72, 2, 13, 0.54061, 7.05],\n",
        " [10, 0, 28, 41, 0.51124, 34.35, 10, 29, 0.5269, 18.99],\n",
        " [34, 0, 52, 67, 0.39767, 61.03, 7, 56, 0.6536, 23.97],\n",
        " [7, 1, 61, 136, 0.9333, 66.0, 37, 163, 0.88135, 51.95],\n",
        " [30, 0, 13, 67, 0.50795, 39.57, 23, 39, 0.68205, 28.09],\n",
        " [43, 1, 17, 194, 0.89851, 34.96, 19, 144, 0.96, 24.0],\n",
        " [12, 0, 51, 78, 0.48655, 64.86, 34, 58, 0.76607, 39.61],\n",
        " [6, 0, 15, 43, 0.36857, 32.68, 7, 24, 0.55389, 14.58],\n",
        " [25, 1, 28, 144, 0.82947, 47.78, 28, 120, 0.95375, 32.26],\n",
        " [21, 1, 51, 157, 0.92097, 59.38, 29, 134, 0.83819, 45.99],\n",
        " [42, 0, 19, 75, 0.54074, 44.72, 19, 36, 0.46386, 28.11],\n",
        " [1, 1, 71, 180, 0.87079, 85.08, 39, 107, 0.76932, 54.69],\n",
        " [4, 1, 0, 196, 0.83191, 32.95, 4, 151, 0.96, 9.88],\n",
        " [23, 1, 22, 172, 0.79419, 52.87, 23, 191, 0.90739, 38.56],\n",
        " [3, 1, 4, 157, 0.81103, 32.91, 11, 143, 0.96, 16.28],\n",
        " [44, 0, 52, 97, 0.60473, 69.79, 53, 66, 0.5671, 58.63],\n",
        " [6, 0, 21, 94, 0.54623, 54.13, 22, 39, 0.53347, 29.93],\n",
        " [1, 0, 71, 98, 0.47586, 85.15, 39, 75, 0.5589, 54.88],\n",
        " [46, 1, 67, 120, 0.83007, 76.01, 18, 163, 0.82691, 43.1],\n",
        " [49, 1, 6, 190, 0.8653, 30.78, 8, 171, 0.94559, 16.87],\n",
        " [21, 1, 50, 164, 0.78653, 74.34, 50, 143, 0.8792, 61.23],\n",
        " [29, 1, 5, 189, 0.83237, 35.84, 12, 135, 0.94476, 18.79],\n",
        " [2, 1, 4, 97, 0.81502, 21.2, 5, 156, 0.96, 11.04],\n",
        " [18, 1, 59, 178, 0.94024, 66.11, 6, 196, 0.81619, 40.92],\n",
        " [26, 0, 42, 68, 0.61064, 52.12, 29, 47, 0.52693, 37.52],\n",
        " [39, 1, 61, 186, 0.84046, 80.94, 64, 189, 0.96, 69.0],\n",
        " [24, 0, 22, 87, 0.50379, 54.25, 23, 34, 0.55491, 27.9],\n",
        " [33, 0, 0, 74, 0.57918, 31.14, 7, 30, 0.55564, 17.22],\n",
        " [28, 0, 45, 78, 0.60257, 58.12, 40, 53, 0.5496, 45.86],\n",
        " [16, 0, 0, 36, 0.36702, 22.79, 5, 16, 0.43694, 11.19],\n",
        " [25, 0, 14, 78, 0.64752, 36.56, 20, 32, 0.5338, 25.59],\n",
        " [11, 1, 66, 173, 0.8989, 76.82, 52, 141, 0.87343, 63.26],\n",
        " [19, 1, 64, 157, 0.84384, 78.52, 12, 183, 0.8748, 33.41],\n",
        " [15, 1, 30, 144, 0.78065, 55.01, 35, 194, 0.96, 41.36],\n",
        " [11, 0, 66, 90, 0.54556, 76.91, 52, 78, 0.56429, 63.33],\n",
        " [8, 1, 37, 194, 0.88722, 54.71, 26, 162, 0.94351, 33.68],\n",
        " [37, 1, 10, 181, 0.81319, 41.94, 12, 155, 0.96, 17.72],\n",
        " [42, 1, 65, 152, 0.90149, 73.57, 18, 121, 0.76427, 42.28],\n",
        " [13, 1, 66, 145, 0.85416, 77.52, 51, 137, 0.93319, 56.75],\n",
        " [46, 0, 67, 89, 0.58881, 76.05, 18, 71, 0.52398, 43.23],\n",
        " [31, 1, 38, 194, 0.88683, 55.65, 29, 189, 0.94071, 38.49],\n",
        " [30, 0, 80, 93, 0.51697, 86.28, 59, 87, 0.57894, 70.79],\n",
        " [8, 1, 35, 198, 0.78664, 69.78, 36, 129, 0.86937, 48.15],\n",
        " [17, 0, 40, 96, 0.60004, 62.4, 26, 43, 0.30568, 37.8],\n",
        " [45, 1, 22, 184, 0.82925, 49.66, 13, 197, 0.96, 20.36],\n",
        " [5, 0, 11, 70, 0.52797, 38.85, 10, 23, 0.55011, 15.85],\n",
        " [39, 0, 38, 77, 0.5027, 57.39, 23, 50, 0.49809, 36.55],\n",
        " [9, 1, 1, 183, 0.76842, 43.15, 25, 175, 0.96, 31.0],\n",
        " [26, 0, 6, 70, 0.57307, 33.32, 15, 35, 0.60354, 22.93],\n",
        " [44, 0, 58, 77, 0.40042, 69.39, 51, 65, 0.51995, 57.72],\n",
        " [37, 1, 7, 111, 0.80635, 27.14, 6, 167, 0.94883, 14.24],\n",
        " [35, 0, 31, 55, 0.44978, 44.21, 7, 41, 0.55826, 22.02],\n",
        " [2, 0, 4, 38, 0.49384, 21.21, 5, 18, 0.53296, 11.07],\n",
        " [20, 0, 0, 57, 0.5102, 27.92, 0, 22, 0.58639, 9.1],\n",
        " [36, 1, 31, 199, 0.94746, 39.83, 18, 76, 0.88673, 24.57],\n",
        " [28, 1, 45, 185, 0.90651, 58.09, 40, 100, 0.90237, 45.86],\n",
        " [43, 1, 45, 197, 0.94296, 53.67, 19, 162, 0.84359, 41.37],\n",
        " [29, 0, 32, 60, 0.5303, 45.15, 21, 34, 0.53737, 27.01],\n",
        " [41, 0, 23, 85, 0.45844, 56.58, 28, 48, 0.65959, 34.81],\n",
        " [25, 0, 28, 73, 0.55829, 47.88, 28, 39, 0.612, 32.27],\n",
        " [10, 1, 28, 186, 0.96, 34.32, 10, 50, 0.78058, 18.78],\n",
        " [26, 1, 6, 168, 0.83137, 33.32, 15, 82, 0.8822, 22.89],\n",
        " [24, 1, 8, 147, 0.85445, 28.23, 2, 135, 0.94458, 9.37],\n",
        " [48, 1, 54, 176, 0.92658, 62.96, 8, 134, 0.86326, 25.23],\n",
        " [32, 1, 22, 121, 0.85893, 35.97, 12, 112, 0.92593, 19.41],\n",
        " [0, 1, 55, 142, 0.92982, 61.11, 43, 146, 0.92206, 51.03],\n",
        " [46, 0, 40, 92, 0.31531, 75.6, 45, 59, 0.59475, 50.67],\n",
        " [35, 1, 4, 143, 0.81095, 30.28, 7, 194, 0.9423, 17.79],\n",
        " [40, 0, 64, 88, 0.54805, 74.85, 53, 79, 0.55487, 64.57],\n",
        " [15, 1, 44, 86, 0.72734, 55.45, 4, 160, 0.85455, 26.69],\n",
        " [20, 1, 41, 184, 0.96, 46.72, 20, 137, 0.89237, 32.59],\n",
        " [48, 0, 54, 68, 0.35698, 63.0, 8, 60, 0.66629, 25.35],\n",
        " [30, 1, 13, 171, 0.83201, 39.54, 23, 150, 0.96, 28.08],\n",
        " [32, 1, 22, 170, 0.81772, 48.98, 29, 131, 0.93691, 35.44],\n",
        " [19, 1, 9, 167, 0.8478, 33.05, 17, 137, 0.96, 21.8],\n",
        " [40, 0, 31, 67, 0.49272, 49.26, 31, 48, 0.70007, 36.1],\n",
        " [17, 1, 3, 199, 0.90131, 22.34, 4, 26, 0.86223, 7.03],\n",
        " [30, 1, 80, 129, 0.87417, 86.17, 59, 131, 0.83673, 70.76],\n",
        " [47, 1, 42, 102, 0.89534, 48.28, 28, 151, 0.92804, 36.85],\n",
        " [18, 1, 6, 191, 0.84411, 34.84, 8, 79, 0.92069, 13.63],\n",
        " [41, 1, 1, 193, 0.85133, 29.54, 0, 182, 0.96, 7.28],\n",
        " [37, 0, 10, 66, 0.42625, 42.13, 12, 26, 0.58973, 17.74],\n",
        " [29, 0, 5, 68, 0.50853, 35.96, 12, 25, 0.47548, 18.82],\n",
        " [11, 1, 9, 144, 0.85101, 29.11, 11, 199, 0.96, 18.52],\n",
        " [29, 1, 32, 196, 0.91996, 45.13, 21, 171, 0.96, 27.0],\n",
        " [22, 0, 5, 42, 0.37327, 28.19, 6, 32, 0.5595, 17.45],\n",
        " [39, 1, 38, 155, 0.83436, 57.38, 23, 166, 0.90533, 36.54],\n",
        " [23, 0, 39, 58, 0.6139, 46.34, 31, 42, 0.52384, 36.24],\n",
        " [8, 0, 35, 95, 0.4197, 69.82, 36, 58, 0.44532, 48.2],\n",
        " [47, 0, 42, 56, 0.55035, 48.3, 28, 56, 0.68325, 36.87],\n",
        " [19, 0, 9, 64, 0.5606, 33.17, 17, 29, 0.59692, 21.84],\n",
        " [22, 0, 26, 51, 0.33889, 42.53, 1, 29, 0.55946, 13.34],\n",
        " [43, 0, 45, 67, 0.60354, 53.72, 19, 63, 0.48983, 41.45],\n",
        " [4, 1, 38, 134, 0.83082, 54.24, 30, 126, 0.86038, 43.4],\n",
        " [1, 1, 15, 169, 0.82279, 42.29, 18, 109, 0.92744, 24.6],\n",
        " [16, 1, 0, 141, 0.83843, 22.78, 5, 51, 0.866, 11.16],\n",
        " [0, 0, 55, 68, 0.52926, 61.12, 43, 64, 0.61735, 51.04],\n",
        " [0, 1, 7, 82, 0.75139, 25.65, 9, 95, 0.93653, 14.46],\n",
        " [32, 0, 22, 56, 0.58836, 36.0, 12, 24, 0.37785, 19.47],\n",
        " [19, 0, 64, 92, 0.4807, 78.54, 12, 73, 0.64719, 33.52],\n",
        " [3, 0, 51, 81, 0.5017, 65.95, 27, 57, 0.54313, 40.71],\n",
        " [35, 0, 4, 47, 0.38594, 30.4, 7, 27, 0.4593, 17.81],\n",
        " [40, 1, 31, 110, 0.77092, 49.1, 31, 158, 0.96, 36.08],\n",
        " [33, 0, 35, 49, 0.55908, 41.17, 2, 57, 0.5148, 28.69],\n",
        " [14, 1, 38, 156, 0.7681, 65.36, 41, 122, 0.87388, 51.22],\n",
        " [5, 1, 3, 175, 0.82588, 32.95, 9, 81, 0.93708, 13.53],\n",
        " [49, 1, 27, 190, 0.96, 33.52, 15, 192, 0.95857, 22.33],\n",
        " [36, 1, 6, 194, 0.78313, 46.77, 12, 130, 0.87923, 26.25],\n",
        " [8, 0, 37, 83, 0.61402, 54.76, 26, 43, 0.54525, 33.73],\n",
        " [6, 1, 21, 175, 0.78592, 53.97, 22, 101, 0.89978, 29.92],\n",
        " [5, 1, 11, 188, 0.84324, 38.75, 10, 156, 0.96, 15.84],\n",
        " [44, 1, 58, 182, 0.90824, 69.38, 51, 138, 0.92327, 57.68],\n",
        " [44, 1, 52, 169, 0.84901, 69.67, 53, 119, 0.91524, 58.59],\n",
        " [31, 0, 38, 69, 0.4299, 55.67, 29, 49, 0.52515, 38.5],\n",
        " [9, 0, 32, 70, 0.54685, 49.22, 17, 33, 0.74744, 21.04],\n",
        " [15, 0, 30, 79, 0.48947, 55.02, 35, 48, 0.50922, 41.38],\n",
        " [33, 1, 35, 189, 0.96, 41.16, 2, 184, 0.85373, 28.62],\n",
        " [38, 1, 17, 191, 0.79995, 51.81, 25, 109, 0.92202, 31.55],\n",
        " [10, 1, 16, 190, 0.81811, 47.65, 23, 158, 0.9529, 29.36],\n",
        " [14, 0, 38, 83, 0.38687, 65.59, 41, 63, 0.53251, 51.28],\n",
        " [5, 0, 3, 72, 0.56429, 33.06, 9, 20, 0.58666, 13.55],\n",
        " [9, 1, 32, 129, 0.824, 49.07, 17, 110, 0.95672, 21.03],\n",
        " [46, 1, 40, 188, 0.7603, 75.48, 45, 186, 0.96, 50.64],\n",
        " [38, 0, 17, 76, 0.40715, 51.98, 25, 37, 0.45041, 31.6],\n",
        " [35, 1, 31, 131, 0.8682, 44.18, 7, 195, 0.92038, 21.97],\n",
        " [39, 0, 61, 96, 0.42981, 80.96, 64, 77, 0.61398, 69.02],\n",
        " [24, 0, 8, 54, 0.55972, 28.25, 2, 14, 0.38308, 9.4],\n",
        " [2, 0, 30, 68, 0.4635, 50.39, 5, 33, 0.55561, 17.44],\n",
        " [31, 1, 26, 199, 0.84099, 53.51, 26, 149, 0.91112, 36.93],\n",
        " [34, 1, 52, 119, 0.86677, 60.93, 7, 103, 0.82341, 23.95],\n",
        " [49, 0, 27, 40, 0.49588, 33.55, 15, 30, 0.50946, 22.36],\n",
        " [25, 1, 14, 184, 0.86755, 36.52, 20, 159, 0.96, 25.56],\n",
        " [47, 0, 2, 54, 0.36565, 34.99, 10, 22, 0.43433, 16.79],\n",
        " [28, 1, 32, 187, 0.89584, 48.14, 33, 96, 0.91929, 38.08],\n",
        " [12, 0, 3, 60, 0.54506, 28.93, 10, 23, 0.59766, 15.23],\n",
        " [9, 0, 1, 87, 0.50789, 43.32, 25, 39, 0.56869, 31.04],\n",
        " [18, 0, 6, 70, 0.54734, 34.97, 8, 21, 0.5608, 13.71],\n",
        " [4, 0, 0, 62, 0.46812, 32.98, 4, 16, 0.50913, 9.89],\n",
        " [24, 1, 22, 137, 0.72129, 54.05, 23, 122, 0.95057, 27.89],\n",
        " [48, 0, 8, 50, 0.53022, 27.73, 9, 21, 0.5037, 14.96],\n",
        " [6, 1, 15, 192, 0.90014, 32.68, 7, 196, 0.96, 14.56],\n",
        " [48, 1, 8, 147, 0.85872, 27.64, 9, 157, 0.96, 14.92],\n",
        " [41, 0, 1, 57, 0.4877, 29.69, 0, 18, 0.59444, 7.3],\n",
        " [32, 0, 22, 89, 0.59621, 49.05, 29, 42, 0.50456, 35.44],\n",
        " [38, 1, 30, 160, 0.87849, 45.8, 7, 84, 0.86607, 17.31],\n",
        " [45, 1, 29, 179, 0.85094, 51.36, 30, 105, 0.88409, 38.69],\n",
        " [16, 1, 44, 116, 0.88212, 52.49, 16, 192, 0.89654, 34.21],\n",
        " [3, 0, 4, 64, 0.51537, 33.08, 11, 22, 0.51607, 16.32],\n",
        " [38, 0, 30, 62, 0.5039, 45.88, 7, 37, 0.65492, 17.35],\n",
        " [42, 0, 65, 83, 0.51932, 73.65, 18, 74, 0.56534, 42.34],\n",
        " [13, 0, 66, 90, 0.51493, 77.64, 51, 67, 0.6368, 56.81],\n",
        " [14, 0, 46, 92, 0.40467, 73.39, 44, 55, 0.53369, 49.13],\n",
        " [13, 0, 11, 65, 0.44367, 41.04, 13, 24, 0.56672, 17.77],\n",
        " [12, 1, 51, 157, 0.86955, 64.83, 34, 66, 0.82757, 39.52],\n",
        " [45, 0, 22, 74, 0.46514, 49.81, 13, 27, 0.47378, 20.37],\n",
        " [13, 1, 11, 144, 0.77518, 40.9, 13, 132, 0.96, 17.76],\n",
        " [49, 0, 6, 51, 0.44798, 30.84, 8, 27, 0.53252, 16.88],\n",
        " [41, 1, 23, 190, 0.79993, 56.41, 28, 196, 0.95949, 34.81],\n",
        " [37, 0, 7, 47, 0.4917, 27.33, 6, 23, 0.51274, 14.28],\n",
        " [12, 1, 3, 163, 0.83805, 28.91, 10, 80, 0.92539, 15.22],\n",
        " [27, 1, 44, 182, 0.8846, 59.93, 7, 140, 0.84929, 27.04],\n",
        " [34, 0, 7, 88, 0.49283, 48.08, 20, 31, 0.54491, 25.01],\n",
        " [7, 0, 61, 72, 0.54479, 66.01, 37, 79, 0.64235, 52.02],\n",
        " [27, 1, 26, 161, 0.80262, 52.65, 26, 144, 0.95038, 31.86],\n",
        " [3, 1, 51, 170, 0.87469, 65.91, 27, 131, 0.86881, 40.64],\n",
        " [18, 0, 59, 73, 0.4909, 66.13, 6, 96, 0.61159, 40.96],\n",
        " [10, 0, 16, 83, 0.52577, 47.77, 23, 34, 0.41883, 29.39],\n",
        " [15, 0, 44, 71, 0.57486, 55.48, 4, 51, 0.51475, 26.81],\n",
        " [34, 1, 7, 117, 0.62901, 47.81, 20, 145, 0.96, 25.0],\n",
        " [36, 0, 6, 98, 0.55507, 46.93, 12, 43, 0.53729, 26.34],\n",
        " [1, 0, 15, 72, 0.51834, 42.45, 18, 31, 0.48862, 24.65],\n",
        " [45, 0, 29, 69, 0.43854, 51.46, 30, 50, 0.565, 38.7],\n",
        " [20, 0, 41, 53, 0.5217, 46.74, 20, 60, 0.68465, 32.61],\n",
        " [43, 0, 17, 58, 0.56049, 35.02, 19, 36, 0.70538, 24.01],\n",
        " [47, 1, 2, 191, 0.82596, 34.89, 10, 179, 0.96, 16.76],\n",
        " [40, 1, 64, 198, 0.91915, 74.83, 53, 110, 0.79886, 64.46],\n",
        " [0, 0, 7, 44, 0.49327, 25.75, 9, 20, 0.5028, 14.47],\n",
        " [21, 0, 50, 91, 0.4059, 74.36, 50, 75, 0.5477, 61.31],\n",
        " [36, 0, 31, 50, 0.53507, 39.83, 18, 33, 0.55967, 24.6],\n",
        " [17, 1, 40, 158, 0.81026, 62.39, 26, 147, 0.90309, 37.73],\n",
        " [42, 1, 19, 178, 0.83906, 44.59, 19, 164, 0.93741, 28.08],\n",
        " [2, 1, 30, 175, 0.85945, 50.38, 5, 142, 0.90964, 17.38],\n",
        " [21, 0, 51, 71, 0.57912, 59.42, 29, 70, 0.58375, 46.07]]"
       ]
      }
     ],
     "prompt_number": 36
    },
    {
     "cell_type": "code",
     "collapsed": false,
     "input": [
      "options = pd.DataFrame(recs, columns=['id', 'env', 'H_low', 'H_high', 'H_p', 'H_ev', 'L_low', 'L_high', 'L_p', 'L_ev'])"
     ],
     "language": "python",
     "metadata": {},
     "outputs": [],
     "prompt_number": 37
    },
    {
     "cell_type": "code",
     "collapsed": false,
     "input": [
      "options.head(20)"
     ],
     "language": "python",
     "metadata": {},
     "outputs": [
      {
       "html": [
        "<div style=\"max-height:1000px;max-width:1500px;overflow:auto;\">\n",
        "<table border=\"1\" class=\"dataframe\">\n",
        "  <thead>\n",
        "    <tr style=\"text-align: right;\">\n",
        "      <th></th>\n",
        "      <th>id</th>\n",
        "      <th>env</th>\n",
        "      <th>H_low</th>\n",
        "      <th>H_high</th>\n",
        "      <th>H_p</th>\n",
        "      <th>H_ev</th>\n",
        "      <th>L_low</th>\n",
        "      <th>L_high</th>\n",
        "      <th>L_p</th>\n",
        "      <th>L_ev</th>\n",
        "    </tr>\n",
        "  </thead>\n",
        "  <tbody>\n",
        "    <tr>\n",
        "      <th>0 </th>\n",
        "      <td> 23</td>\n",
        "      <td> 1</td>\n",
        "      <td> 39</td>\n",
        "      <td> 176</td>\n",
        "      <td> 0.94649</td>\n",
        "      <td> 46.33</td>\n",
        "      <td> 31</td>\n",
        "      <td> 161</td>\n",
        "      <td> 0.96000</td>\n",
        "      <td> 36.20</td>\n",
        "    </tr>\n",
        "    <tr>\n",
        "      <th>1 </th>\n",
        "      <td> 20</td>\n",
        "      <td> 1</td>\n",
        "      <td>  0</td>\n",
        "      <td>  80</td>\n",
        "      <td> 0.65181</td>\n",
        "      <td> 27.86</td>\n",
        "      <td>  0</td>\n",
        "      <td> 176</td>\n",
        "      <td> 0.94843</td>\n",
        "      <td>  9.08</td>\n",
        "    </tr>\n",
        "    <tr>\n",
        "      <th>2 </th>\n",
        "      <td>  7</td>\n",
        "      <td> 1</td>\n",
        "      <td>  0</td>\n",
        "      <td> 152</td>\n",
        "      <td> 0.87737</td>\n",
        "      <td> 18.64</td>\n",
        "      <td>  2</td>\n",
        "      <td> 128</td>\n",
        "      <td> 0.96000</td>\n",
        "      <td>  7.04</td>\n",
        "    </tr>\n",
        "    <tr>\n",
        "      <th>3 </th>\n",
        "      <td> 27</td>\n",
        "      <td> 0</td>\n",
        "      <td> 44</td>\n",
        "      <td>  77</td>\n",
        "      <td> 0.51645</td>\n",
        "      <td> 59.96</td>\n",
        "      <td>  7</td>\n",
        "      <td>  53</td>\n",
        "      <td> 0.56375</td>\n",
        "      <td> 27.07</td>\n",
        "    </tr>\n",
        "    <tr>\n",
        "      <th>4 </th>\n",
        "      <td> 27</td>\n",
        "      <td> 0</td>\n",
        "      <td> 26</td>\n",
        "      <td>  80</td>\n",
        "      <td> 0.50389</td>\n",
        "      <td> 52.79</td>\n",
        "      <td> 26</td>\n",
        "      <td>  40</td>\n",
        "      <td> 0.57857</td>\n",
        "      <td> 31.90</td>\n",
        "    </tr>\n",
        "    <tr>\n",
        "      <th>5 </th>\n",
        "      <td> 31</td>\n",
        "      <td> 0</td>\n",
        "      <td> 26</td>\n",
        "      <td>  78</td>\n",
        "      <td> 0.46833</td>\n",
        "      <td> 53.65</td>\n",
        "      <td> 26</td>\n",
        "      <td>  49</td>\n",
        "      <td> 0.52273</td>\n",
        "      <td> 36.98</td>\n",
        "    </tr>\n",
        "    <tr>\n",
        "      <th>6 </th>\n",
        "      <td> 22</td>\n",
        "      <td> 1</td>\n",
        "      <td> 26</td>\n",
        "      <td> 156</td>\n",
        "      <td> 0.87377</td>\n",
        "      <td> 42.41</td>\n",
        "      <td>  1</td>\n",
        "      <td> 148</td>\n",
        "      <td> 0.91640</td>\n",
        "      <td> 13.29</td>\n",
        "    </tr>\n",
        "    <tr>\n",
        "      <th>7 </th>\n",
        "      <td> 28</td>\n",
        "      <td> 0</td>\n",
        "      <td> 32</td>\n",
        "      <td>  62</td>\n",
        "      <td> 0.46063</td>\n",
        "      <td> 48.18</td>\n",
        "      <td> 33</td>\n",
        "      <td>  44</td>\n",
        "      <td> 0.53270</td>\n",
        "      <td> 38.14</td>\n",
        "    </tr>\n",
        "    <tr>\n",
        "      <th>8 </th>\n",
        "      <td> 14</td>\n",
        "      <td> 1</td>\n",
        "      <td> 46</td>\n",
        "      <td> 172</td>\n",
        "      <td> 0.78369</td>\n",
        "      <td> 73.26</td>\n",
        "      <td> 44</td>\n",
        "      <td> 172</td>\n",
        "      <td> 0.96000</td>\n",
        "      <td> 49.12</td>\n",
        "    </tr>\n",
        "    <tr>\n",
        "      <th>9 </th>\n",
        "      <td> 22</td>\n",
        "      <td> 1</td>\n",
        "      <td>  5</td>\n",
        "      <td> 105</td>\n",
        "      <td> 0.76890</td>\n",
        "      <td> 28.11</td>\n",
        "      <td>  6</td>\n",
        "      <td> 126</td>\n",
        "      <td> 0.90506</td>\n",
        "      <td> 17.39</td>\n",
        "    </tr>\n",
        "    <tr>\n",
        "      <th>10</th>\n",
        "      <td>  4</td>\n",
        "      <td> 0</td>\n",
        "      <td> 38</td>\n",
        "      <td>  71</td>\n",
        "      <td> 0.50404</td>\n",
        "      <td> 54.37</td>\n",
        "      <td> 30</td>\n",
        "      <td>  67</td>\n",
        "      <td> 0.63654</td>\n",
        "      <td> 43.45</td>\n",
        "    </tr>\n",
        "    <tr>\n",
        "      <th>11</th>\n",
        "      <td> 17</td>\n",
        "      <td> 0</td>\n",
        "      <td>  3</td>\n",
        "      <td>  41</td>\n",
        "      <td> 0.49063</td>\n",
        "      <td> 22.36</td>\n",
        "      <td>  4</td>\n",
        "      <td>  15</td>\n",
        "      <td> 0.72265</td>\n",
        "      <td>  7.05</td>\n",
        "    </tr>\n",
        "    <tr>\n",
        "      <th>12</th>\n",
        "      <td> 16</td>\n",
        "      <td> 0</td>\n",
        "      <td> 44</td>\n",
        "      <td>  65</td>\n",
        "      <td> 0.59287</td>\n",
        "      <td> 52.55</td>\n",
        "      <td> 16</td>\n",
        "      <td>  48</td>\n",
        "      <td> 0.42924</td>\n",
        "      <td> 34.26</td>\n",
        "    </tr>\n",
        "    <tr>\n",
        "      <th>13</th>\n",
        "      <td> 11</td>\n",
        "      <td> 0</td>\n",
        "      <td>  9</td>\n",
        "      <td>  46</td>\n",
        "      <td> 0.45356</td>\n",
        "      <td> 29.22</td>\n",
        "      <td> 11</td>\n",
        "      <td>  27</td>\n",
        "      <td> 0.52729</td>\n",
        "      <td> 18.56</td>\n",
        "    </tr>\n",
        "    <tr>\n",
        "      <th>14</th>\n",
        "      <td> 33</td>\n",
        "      <td> 1</td>\n",
        "      <td>  0</td>\n",
        "      <td> 181</td>\n",
        "      <td> 0.82876</td>\n",
        "      <td> 30.99</td>\n",
        "      <td>  7</td>\n",
        "      <td> 140</td>\n",
        "      <td> 0.92325</td>\n",
        "      <td> 17.21</td>\n",
        "    </tr>\n",
        "    <tr>\n",
        "      <th>15</th>\n",
        "      <td> 23</td>\n",
        "      <td> 0</td>\n",
        "      <td> 22</td>\n",
        "      <td>  84</td>\n",
        "      <td> 0.50094</td>\n",
        "      <td> 52.94</td>\n",
        "      <td> 23</td>\n",
        "      <td>  54</td>\n",
        "      <td> 0.49676</td>\n",
        "      <td> 38.60</td>\n",
        "    </tr>\n",
        "    <tr>\n",
        "      <th>16</th>\n",
        "      <td> 26</td>\n",
        "      <td> 1</td>\n",
        "      <td> 42</td>\n",
        "      <td> 156</td>\n",
        "      <td> 0.91177</td>\n",
        "      <td> 52.06</td>\n",
        "      <td> 29</td>\n",
        "      <td> 174</td>\n",
        "      <td> 0.94162</td>\n",
        "      <td> 37.47</td>\n",
        "    </tr>\n",
        "    <tr>\n",
        "      <th>17</th>\n",
        "      <td>  7</td>\n",
        "      <td> 0</td>\n",
        "      <td>  0</td>\n",
        "      <td>  42</td>\n",
        "      <td> 0.55438</td>\n",
        "      <td> 18.72</td>\n",
        "      <td>  2</td>\n",
        "      <td>  13</td>\n",
        "      <td> 0.54061</td>\n",
        "      <td>  7.05</td>\n",
        "    </tr>\n",
        "    <tr>\n",
        "      <th>18</th>\n",
        "      <td> 10</td>\n",
        "      <td> 0</td>\n",
        "      <td> 28</td>\n",
        "      <td>  41</td>\n",
        "      <td> 0.51124</td>\n",
        "      <td> 34.35</td>\n",
        "      <td> 10</td>\n",
        "      <td>  29</td>\n",
        "      <td> 0.52690</td>\n",
        "      <td> 18.99</td>\n",
        "    </tr>\n",
        "    <tr>\n",
        "      <th>19</th>\n",
        "      <td> 34</td>\n",
        "      <td> 0</td>\n",
        "      <td> 52</td>\n",
        "      <td>  67</td>\n",
        "      <td> 0.39767</td>\n",
        "      <td> 61.03</td>\n",
        "      <td>  7</td>\n",
        "      <td>  56</td>\n",
        "      <td> 0.65360</td>\n",
        "      <td> 23.97</td>\n",
        "    </tr>\n",
        "  </tbody>\n",
        "</table>\n",
        "</div>"
       ],
       "metadata": {},
       "output_type": "pyout",
       "prompt_number": 38,
       "text": [
        "    id  env  H_low  H_high      H_p   H_ev  L_low  L_high      L_p   L_ev\n",
        "0   23    1     39     176  0.94649  46.33     31     161  0.96000  36.20\n",
        "1   20    1      0      80  0.65181  27.86      0     176  0.94843   9.08\n",
        "2    7    1      0     152  0.87737  18.64      2     128  0.96000   7.04\n",
        "3   27    0     44      77  0.51645  59.96      7      53  0.56375  27.07\n",
        "4   27    0     26      80  0.50389  52.79     26      40  0.57857  31.90\n",
        "5   31    0     26      78  0.46833  53.65     26      49  0.52273  36.98\n",
        "6   22    1     26     156  0.87377  42.41      1     148  0.91640  13.29\n",
        "7   28    0     32      62  0.46063  48.18     33      44  0.53270  38.14\n",
        "8   14    1     46     172  0.78369  73.26     44     172  0.96000  49.12\n",
        "9   22    1      5     105  0.76890  28.11      6     126  0.90506  17.39\n",
        "10   4    0     38      71  0.50404  54.37     30      67  0.63654  43.45\n",
        "11  17    0      3      41  0.49063  22.36      4      15  0.72265   7.05\n",
        "12  16    0     44      65  0.59287  52.55     16      48  0.42924  34.26\n",
        "13  11    0      9      46  0.45356  29.22     11      27  0.52729  18.56\n",
        "14  33    1      0     181  0.82876  30.99      7     140  0.92325  17.21\n",
        "15  23    0     22      84  0.50094  52.94     23      54  0.49676  38.60\n",
        "16  26    1     42     156  0.91177  52.06     29     174  0.94162  37.47\n",
        "17   7    0      0      42  0.55438  18.72      2      13  0.54061   7.05\n",
        "18  10    0     28      41  0.51124  34.35     10      29  0.52690  18.99\n",
        "19  34    0     52      67  0.39767  61.03      7      56  0.65360  23.97"
       ]
      }
     ],
     "prompt_number": 38
    },
    {
     "cell_type": "code",
     "collapsed": false,
     "input": [
      "options.to_csv('exp1_option_sets.csv')"
     ],
     "language": "python",
     "metadata": {},
     "outputs": [],
     "prompt_number": 39
    },
    {
     "cell_type": "markdown",
     "metadata": {},
     "source": [
      "What should stimuli be like? \n",
      "\n",
      "1. Expected value matched across conditions\n",
      "\n",
      "2. The ordering of LOW outcomes predicts correct choice in only half of games\n",
      "\n"
     ]
    },
    {
     "cell_type": "code",
     "collapsed": false,
     "input": [
      "# say range of means is drawn uniformly between [20, 40]\n",
      "mu_rng = [20, 40]\n",
      "\n",
      "# say range of outcomes is truncated between [0, 100]\n",
      "x_rng = [0, 200]\n",
      "\n",
      "x = np.arange(x_rng[0], 1+x_rng[1])"
     ],
     "language": "python",
     "metadata": {},
     "outputs": [],
     "prompt_number": 2
    },
    {
     "cell_type": "markdown",
     "metadata": {},
     "source": [
      "In the normal environment, outcomes are drawn from a normal distribution"
     ]
    },
    {
     "cell_type": "code",
     "collapsed": false,
     "input": [
      "fig, ax = plt.subplots(1, 2, figsize=(8,2))\n",
      "y = [weibull_min.pdf(xi, 3, loc=10, scale=40) for xi in x]\n",
      "ax[0].plot(x, y, 'k')\n",
      "ax[0].fill_between(x, y, 0, color='.92')\n",
      "\n",
      "y = [weibull_min.pdf(xi, 3, loc=30, scale=20) for xi in x]\n",
      "ax[0].plot(x, y, 'k')\n",
      "ax[0].fill_between(x, y, 0, color='.80')\n",
      "ax[0].set_ylim(0, .1)\n",
      "ax[0].set_xlim(0, 100)\n",
      "\n",
      "y = [weibull_min.pdf(xi, 2, loc=0, scale=40) for xi in x]\n",
      "ax[1].plot(x, y, 'k')\n",
      "ax[1].fill_between(x, y, 0, color='.92')\n",
      "\n",
      "y = [weibull_min.pdf(xi, 4, loc=0, scale=40) for xi in x]\n",
      "ax[1].plot(x, y, 'k')\n",
      "ax[1].fill_between(x, y, 0, color='.80')\n",
      "ax[1].set_ylim(0, .05)\n",
      "ax[1].set_xlim(0, 100)\n",
      "\n",
      "plt.show()"
     ],
     "language": "python",
     "metadata": {},
     "outputs": [
      {
       "metadata": {},
       "output_type": "display_data",
       "png": "[encoded data removed]",
       "text": [
        "<matplotlib.figure.Figure at 0x10dd342d0>"
       ]
      }
     ],
     "prompt_number": 3
    },
    {
     "cell_type": "code",
     "collapsed": false,
     "input": [
      "X = weibull_min.rvs(2, loc=0, scale=50, size=10000)\n",
      "plt.hist(X)\n",
      "plt.show()"
     ],
     "language": "python",
     "metadata": {},
     "outputs": [
      {
       "metadata": {},
       "output_type": "display_data",
       "png": "[encoded data removed]",
       "text": [
        "<matplotlib.figure.Figure at 0x10f7caad0>"
       ]
      }
     ],
     "prompt_number": 38
    },
    {
     "cell_type": "code",
     "collapsed": false,
     "input": [
      "options"
     ],
     "language": "python",
     "metadata": {},
     "outputs": [
      {
       "metadata": {},
       "output_type": "pyout",
       "prompt_number": 97,
       "text": [
        "[array([ 26.     ,  65.     ,   0.75391]),\n",
        " array([ 59.     ,  86.     ,   0.80866])]"
       ]
      }
     ],
     "prompt_number": 97
    },
    {
     "cell_type": "markdown",
     "metadata": {},
     "source": [
      "## Model predictions based on option environment"
     ]
    },
    {
     "cell_type": "code",
     "collapsed": false,
     "input": [
      "from gambles import *\n",
      "from competitive import simulate_sample_mean\n",
      "%load_ext autoreload\n",
      "%autoreload 2"
     ],
     "language": "python",
     "metadata": {},
     "outputs": [
      {
       "output_type": "stream",
       "stream": "stdout",
       "text": [
        "The autoreload extension is already loaded. To reload it, use:\n",
        "  %reload_ext autoreload\n"
       ]
      }
     ],
     "prompt_number": 40
    },
    {
     "cell_type": "code",
     "collapsed": false,
     "input": [
      "options.head(20)"
     ],
     "language": "python",
     "metadata": {},
     "outputs": [
      {
       "html": [
        "<div style=\"max-height:1000px;max-width:1500px;overflow:auto;\">\n",
        "<table border=\"1\" class=\"dataframe\">\n",
        "  <thead>\n",
        "    <tr style=\"text-align: right;\">\n",
        "      <th></th>\n",
        "      <th>id</th>\n",
        "      <th>env</th>\n",
        "      <th>H_low</th>\n",
        "      <th>H_high</th>\n",
        "      <th>H_p</th>\n",
        "      <th>H_ev</th>\n",
        "      <th>L_low</th>\n",
        "      <th>L_high</th>\n",
        "      <th>L_p</th>\n",
        "      <th>L_ev</th>\n",
        "    </tr>\n",
        "  </thead>\n",
        "  <tbody>\n",
        "    <tr>\n",
        "      <th>0 </th>\n",
        "      <td> 23</td>\n",
        "      <td> 1</td>\n",
        "      <td> 39</td>\n",
        "      <td> 176</td>\n",
        "      <td> 0.94649</td>\n",
        "      <td> 46.33</td>\n",
        "      <td> 31</td>\n",
        "      <td> 161</td>\n",
        "      <td> 0.96000</td>\n",
        "      <td> 36.20</td>\n",
        "    </tr>\n",
        "    <tr>\n",
        "      <th>1 </th>\n",
        "      <td> 20</td>\n",
        "      <td> 1</td>\n",
        "      <td>  0</td>\n",
        "      <td>  80</td>\n",
        "      <td> 0.65181</td>\n",
        "      <td> 27.86</td>\n",
        "      <td>  0</td>\n",
        "      <td> 176</td>\n",
        "      <td> 0.94843</td>\n",
        "      <td>  9.08</td>\n",
        "    </tr>\n",
        "    <tr>\n",
        "      <th>2 </th>\n",
        "      <td>  7</td>\n",
        "      <td> 1</td>\n",
        "      <td>  0</td>\n",
        "      <td> 152</td>\n",
        "      <td> 0.87737</td>\n",
        "      <td> 18.64</td>\n",
        "      <td>  2</td>\n",
        "      <td> 128</td>\n",
        "      <td> 0.96000</td>\n",
        "      <td>  7.04</td>\n",
        "    </tr>\n",
        "    <tr>\n",
        "      <th>3 </th>\n",
        "      <td> 27</td>\n",
        "      <td> 0</td>\n",
        "      <td> 44</td>\n",
        "      <td>  77</td>\n",
        "      <td> 0.51645</td>\n",
        "      <td> 59.96</td>\n",
        "      <td>  7</td>\n",
        "      <td>  53</td>\n",
        "      <td> 0.56375</td>\n",
        "      <td> 27.07</td>\n",
        "    </tr>\n",
        "    <tr>\n",
        "      <th>4 </th>\n",
        "      <td> 27</td>\n",
        "      <td> 0</td>\n",
        "      <td> 26</td>\n",
        "      <td>  80</td>\n",
        "      <td> 0.50389</td>\n",
        "      <td> 52.79</td>\n",
        "      <td> 26</td>\n",
        "      <td>  40</td>\n",
        "      <td> 0.57857</td>\n",
        "      <td> 31.90</td>\n",
        "    </tr>\n",
        "    <tr>\n",
        "      <th>5 </th>\n",
        "      <td> 31</td>\n",
        "      <td> 0</td>\n",
        "      <td> 26</td>\n",
        "      <td>  78</td>\n",
        "      <td> 0.46833</td>\n",
        "      <td> 53.65</td>\n",
        "      <td> 26</td>\n",
        "      <td>  49</td>\n",
        "      <td> 0.52273</td>\n",
        "      <td> 36.98</td>\n",
        "    </tr>\n",
        "    <tr>\n",
        "      <th>6 </th>\n",
        "      <td> 22</td>\n",
        "      <td> 1</td>\n",
        "      <td> 26</td>\n",
        "      <td> 156</td>\n",
        "      <td> 0.87377</td>\n",
        "      <td> 42.41</td>\n",
        "      <td>  1</td>\n",
        "      <td> 148</td>\n",
        "      <td> 0.91640</td>\n",
        "      <td> 13.29</td>\n",
        "    </tr>\n",
        "    <tr>\n",
        "      <th>7 </th>\n",
        "      <td> 28</td>\n",
        "      <td> 0</td>\n",
        "      <td> 32</td>\n",
        "      <td>  62</td>\n",
        "      <td> 0.46063</td>\n",
        "      <td> 48.18</td>\n",
        "      <td> 33</td>\n",
        "      <td>  44</td>\n",
        "      <td> 0.53270</td>\n",
        "      <td> 38.14</td>\n",
        "    </tr>\n",
        "    <tr>\n",
        "      <th>8 </th>\n",
        "      <td> 14</td>\n",
        "      <td> 1</td>\n",
        "      <td> 46</td>\n",
        "      <td> 172</td>\n",
        "      <td> 0.78369</td>\n",
        "      <td> 73.26</td>\n",
        "      <td> 44</td>\n",
        "      <td> 172</td>\n",
        "      <td> 0.96000</td>\n",
        "      <td> 49.12</td>\n",
        "    </tr>\n",
        "    <tr>\n",
        "      <th>9 </th>\n",
        "      <td> 22</td>\n",
        "      <td> 1</td>\n",
        "      <td>  5</td>\n",
        "      <td> 105</td>\n",
        "      <td> 0.76890</td>\n",
        "      <td> 28.11</td>\n",
        "      <td>  6</td>\n",
        "      <td> 126</td>\n",
        "      <td> 0.90506</td>\n",
        "      <td> 17.39</td>\n",
        "    </tr>\n",
        "    <tr>\n",
        "      <th>10</th>\n",
        "      <td>  4</td>\n",
        "      <td> 0</td>\n",
        "      <td> 38</td>\n",
        "      <td>  71</td>\n",
        "      <td> 0.50404</td>\n",
        "      <td> 54.37</td>\n",
        "      <td> 30</td>\n",
        "      <td>  67</td>\n",
        "      <td> 0.63654</td>\n",
        "      <td> 43.45</td>\n",
        "    </tr>\n",
        "    <tr>\n",
        "      <th>11</th>\n",
        "      <td> 17</td>\n",
        "      <td> 0</td>\n",
        "      <td>  3</td>\n",
        "      <td>  41</td>\n",
        "      <td> 0.49063</td>\n",
        "      <td> 22.36</td>\n",
        "      <td>  4</td>\n",
        "      <td>  15</td>\n",
        "      <td> 0.72265</td>\n",
        "      <td>  7.05</td>\n",
        "    </tr>\n",
        "    <tr>\n",
        "      <th>12</th>\n",
        "      <td> 16</td>\n",
        "      <td> 0</td>\n",
        "      <td> 44</td>\n",
        "      <td>  65</td>\n",
        "      <td> 0.59287</td>\n",
        "      <td> 52.55</td>\n",
        "      <td> 16</td>\n",
        "      <td>  48</td>\n",
        "      <td> 0.42924</td>\n",
        "      <td> 34.26</td>\n",
        "    </tr>\n",
        "    <tr>\n",
        "      <th>13</th>\n",
        "      <td> 11</td>\n",
        "      <td> 0</td>\n",
        "      <td>  9</td>\n",
        "      <td>  46</td>\n",
        "      <td> 0.45356</td>\n",
        "      <td> 29.22</td>\n",
        "      <td> 11</td>\n",
        "      <td>  27</td>\n",
        "      <td> 0.52729</td>\n",
        "      <td> 18.56</td>\n",
        "    </tr>\n",
        "    <tr>\n",
        "      <th>14</th>\n",
        "      <td> 33</td>\n",
        "      <td> 1</td>\n",
        "      <td>  0</td>\n",
        "      <td> 181</td>\n",
        "      <td> 0.82876</td>\n",
        "      <td> 30.99</td>\n",
        "      <td>  7</td>\n",
        "      <td> 140</td>\n",
        "      <td> 0.92325</td>\n",
        "      <td> 17.21</td>\n",
        "    </tr>\n",
        "    <tr>\n",
        "      <th>15</th>\n",
        "      <td> 23</td>\n",
        "      <td> 0</td>\n",
        "      <td> 22</td>\n",
        "      <td>  84</td>\n",
        "      <td> 0.50094</td>\n",
        "      <td> 52.94</td>\n",
        "      <td> 23</td>\n",
        "      <td>  54</td>\n",
        "      <td> 0.49676</td>\n",
        "      <td> 38.60</td>\n",
        "    </tr>\n",
        "    <tr>\n",
        "      <th>16</th>\n",
        "      <td> 26</td>\n",
        "      <td> 1</td>\n",
        "      <td> 42</td>\n",
        "      <td> 156</td>\n",
        "      <td> 0.91177</td>\n",
        "      <td> 52.06</td>\n",
        "      <td> 29</td>\n",
        "      <td> 174</td>\n",
        "      <td> 0.94162</td>\n",
        "      <td> 37.47</td>\n",
        "    </tr>\n",
        "    <tr>\n",
        "      <th>17</th>\n",
        "      <td>  7</td>\n",
        "      <td> 0</td>\n",
        "      <td>  0</td>\n",
        "      <td>  42</td>\n",
        "      <td> 0.55438</td>\n",
        "      <td> 18.72</td>\n",
        "      <td>  2</td>\n",
        "      <td>  13</td>\n",
        "      <td> 0.54061</td>\n",
        "      <td>  7.05</td>\n",
        "    </tr>\n",
        "    <tr>\n",
        "      <th>18</th>\n",
        "      <td> 10</td>\n",
        "      <td> 0</td>\n",
        "      <td> 28</td>\n",
        "      <td>  41</td>\n",
        "      <td> 0.51124</td>\n",
        "      <td> 34.35</td>\n",
        "      <td> 10</td>\n",
        "      <td>  29</td>\n",
        "      <td> 0.52690</td>\n",
        "      <td> 18.99</td>\n",
        "    </tr>\n",
        "    <tr>\n",
        "      <th>19</th>\n",
        "      <td> 34</td>\n",
        "      <td> 0</td>\n",
        "      <td> 52</td>\n",
        "      <td>  67</td>\n",
        "      <td> 0.39767</td>\n",
        "      <td> 61.03</td>\n",
        "      <td>  7</td>\n",
        "      <td>  56</td>\n",
        "      <td> 0.65360</td>\n",
        "      <td> 23.97</td>\n",
        "    </tr>\n",
        "  </tbody>\n",
        "</table>\n",
        "</div>"
       ],
       "metadata": {},
       "output_type": "pyout",
       "prompt_number": 41,
       "text": [
        "    id  env  H_low  H_high      H_p   H_ev  L_low  L_high      L_p   L_ev\n",
        "0   23    1     39     176  0.94649  46.33     31     161  0.96000  36.20\n",
        "1   20    1      0      80  0.65181  27.86      0     176  0.94843   9.08\n",
        "2    7    1      0     152  0.87737  18.64      2     128  0.96000   7.04\n",
        "3   27    0     44      77  0.51645  59.96      7      53  0.56375  27.07\n",
        "4   27    0     26      80  0.50389  52.79     26      40  0.57857  31.90\n",
        "5   31    0     26      78  0.46833  53.65     26      49  0.52273  36.98\n",
        "6   22    1     26     156  0.87377  42.41      1     148  0.91640  13.29\n",
        "7   28    0     32      62  0.46063  48.18     33      44  0.53270  38.14\n",
        "8   14    1     46     172  0.78369  73.26     44     172  0.96000  49.12\n",
        "9   22    1      5     105  0.76890  28.11      6     126  0.90506  17.39\n",
        "10   4    0     38      71  0.50404  54.37     30      67  0.63654  43.45\n",
        "11  17    0      3      41  0.49063  22.36      4      15  0.72265   7.05\n",
        "12  16    0     44      65  0.59287  52.55     16      48  0.42924  34.26\n",
        "13  11    0      9      46  0.45356  29.22     11      27  0.52729  18.56\n",
        "14  33    1      0     181  0.82876  30.99      7     140  0.92325  17.21\n",
        "15  23    0     22      84  0.50094  52.94     23      54  0.49676  38.60\n",
        "16  26    1     42     156  0.91177  52.06     29     174  0.94162  37.47\n",
        "17   7    0      0      42  0.55438  18.72      2      13  0.54061   7.05\n",
        "18  10    0     28      41  0.51124  34.35     10      29  0.52690  18.99\n",
        "19  34    0     52      67  0.39767  61.03      7      56  0.65360  23.97"
       ]
      }
     ],
     "prompt_number": 41
    },
    {
     "cell_type": "code",
     "collapsed": false,
     "input": [
      "def error(opt, max_N):\n",
      "    return np.array([expected_absolute_error(opt, t) for t in range(1, max_N)])"
     ],
     "language": "python",
     "metadata": {},
     "outputs": [],
     "prompt_number": 42
    },
    {
     "cell_type": "code",
     "collapsed": false,
     "input": [
      "opt_A_env1 = options[options['env']==0][['H_low', 'H_high', 'H_p']].values\n",
      "opt_B_env1 = options[options['env']==0][['L_low', 'L_high', 'L_p']].values\n",
      "opt_A_env2 = options[options['env']==1][['H_low', 'H_high', 'H_p']].values\n",
      "opt_B_env2 = options[options['env']==1][['L_low', 'L_high', 'L_p']].values"
     ],
     "language": "python",
     "metadata": {},
     "outputs": [],
     "prompt_number": 43
    },
    {
     "cell_type": "code",
     "collapsed": false,
     "input": [
      "max_N = 50\n",
      "err_env1 = [np.array([expected_absolute_error(opt, t) for t in range(1, max_N)]) for opt in np.concatenate((opt_A_env1, opt_B_env1))]"
     ],
     "language": "python",
     "metadata": {},
     "outputs": [],
     "prompt_number": 44
    },
    {
     "cell_type": "code",
     "collapsed": false,
     "input": [
      "err_env2 = [np.array([expected_absolute_error(opt, t) for t in range(1, max_N)]) for opt in np.concatenate((opt_A_env2, opt_B_env2))]"
     ],
     "language": "python",
     "metadata": {},
     "outputs": [],
     "prompt_number": 45
    },
    {
     "cell_type": "code",
     "collapsed": false,
     "input": [
      "fig, ax = plt.subplots()\n",
      "ax.plot(np.array(err_env1).mean(axis=0), label='env 1')\n",
      "ax.plot(np.array(err_env2).mean(axis=0), label='env 2')\n",
      "ax.legend()\n",
      "plt.show()"
     ],
     "language": "python",
     "metadata": {},
     "outputs": [
      {
       "metadata": {},
       "output_type": "display_data",
       "png": "[encoded data removed]",
       "text": [
        "<matplotlib.figure.Figure at 0x10a50c350>"
       ]
      }
     ],
     "prompt_number": 46
    },
    {
     "cell_type": "code",
     "collapsed": false,
     "input": [
      "envs = ['env1', 'env2']\n",
      "N_ITER = 100\n",
      "T_MAX = 50\n",
      "avg_err = {'env1': err_env1, 'env2': err_env2}    "
     ],
     "language": "python",
     "metadata": {},
     "outputs": [],
     "prompt_number": 47
    },
    {
     "cell_type": "code",
     "collapsed": false,
     "input": [
      "env_options = {'env1': {'A': opt_A_env1, 'B': opt_B_env1}, \n",
      "               'env2': {'A': opt_A_env2, 'B': opt_B_env2}}"
     ],
     "language": "python",
     "metadata": {},
     "outputs": [],
     "prompt_number": 48
    },
    {
     "cell_type": "code",
     "collapsed": false,
     "input": [
      "env1_options = options[options['env']==0]\n",
      "env2_options = options[options['env']==1]"
     ],
     "language": "python",
     "metadata": {},
     "outputs": [],
     "prompt_number": 49
    },
    {
     "cell_type": "code",
     "collapsed": false,
     "input": [
      "ev_A = env1_options.ix[0][['H_ev']].values[0]\n",
      "ev_B = env1_options.ix[0][['L_ev']].values[0]\n",
      "\n",
      "opt_A = env1_options.ix[0][['H_low', 'H_high', 'H_p']].values\n",
      "opt_B = env1_options.ix[0][['L_low', 'L_high', 'L_p']].values"
     ],
     "language": "python",
     "metadata": {},
     "outputs": [
      {
       "ename": "KeyError",
       "evalue": "0",
       "output_type": "pyerr",
       "traceback": [
        "\u001b[0;31m---------------------------------------------------------------------------\u001b[0m\n\u001b[0;31mKeyError\u001b[0m                                  Traceback (most recent call last)",
        "\u001b[0;32m<ipython-input-51-c16253fca276>\u001b[0m in \u001b[0;36m<module>\u001b[0;34m()\u001b[0m\n\u001b[0;32m----> 1\u001b[0;31m \u001b[0mev_A\u001b[0m \u001b[0;34m=\u001b[0m \u001b[0menv1_options\u001b[0m\u001b[0;34m.\u001b[0m\u001b[0mix\u001b[0m\u001b[0;34m[\u001b[0m\u001b[0;36m0\u001b[0m\u001b[0;34m]\u001b[0m\u001b[0;34m[\u001b[0m\u001b[0;34m[\u001b[0m\u001b[0;34m'H_ev'\u001b[0m\u001b[0;34m]\u001b[0m\u001b[0;34m]\u001b[0m\u001b[0;34m.\u001b[0m\u001b[0mvalues\u001b[0m\u001b[0;34m[\u001b[0m\u001b[0;36m0\u001b[0m\u001b[0;34m]\u001b[0m\u001b[0;34m\u001b[0m\u001b[0m\n\u001b[0m\u001b[1;32m      2\u001b[0m \u001b[0mev_B\u001b[0m \u001b[0;34m=\u001b[0m \u001b[0menv1_options\u001b[0m\u001b[0;34m.\u001b[0m\u001b[0mix\u001b[0m\u001b[0;34m[\u001b[0m\u001b[0;36m0\u001b[0m\u001b[0;34m]\u001b[0m\u001b[0;34m[\u001b[0m\u001b[0;34m[\u001b[0m\u001b[0;34m'L_ev'\u001b[0m\u001b[0;34m]\u001b[0m\u001b[0;34m]\u001b[0m\u001b[0;34m.\u001b[0m\u001b[0mvalues\u001b[0m\u001b[0;34m[\u001b[0m\u001b[0;36m0\u001b[0m\u001b[0;34m]\u001b[0m\u001b[0;34m\u001b[0m\u001b[0m\n\u001b[1;32m      3\u001b[0m \u001b[0;34m\u001b[0m\u001b[0m\n\u001b[1;32m      4\u001b[0m \u001b[0mopt_A\u001b[0m \u001b[0;34m=\u001b[0m \u001b[0menv1_options\u001b[0m\u001b[0;34m.\u001b[0m\u001b[0mix\u001b[0m\u001b[0;34m[\u001b[0m\u001b[0;36m0\u001b[0m\u001b[0;34m]\u001b[0m\u001b[0;34m[\u001b[0m\u001b[0;34m[\u001b[0m\u001b[0;34m'H_low'\u001b[0m\u001b[0;34m,\u001b[0m \u001b[0;34m'H_high'\u001b[0m\u001b[0;34m,\u001b[0m \u001b[0;34m'H_p'\u001b[0m\u001b[0;34m]\u001b[0m\u001b[0;34m]\u001b[0m\u001b[0;34m.\u001b[0m\u001b[0mvalues\u001b[0m\u001b[0;34m\u001b[0m\u001b[0m\n\u001b[1;32m      5\u001b[0m \u001b[0mopt_B\u001b[0m \u001b[0;34m=\u001b[0m \u001b[0menv1_options\u001b[0m\u001b[0;34m.\u001b[0m\u001b[0mix\u001b[0m\u001b[0;34m[\u001b[0m\u001b[0;36m0\u001b[0m\u001b[0;34m]\u001b[0m\u001b[0;34m[\u001b[0m\u001b[0;34m[\u001b[0m\u001b[0;34m'L_low'\u001b[0m\u001b[0;34m,\u001b[0m \u001b[0;34m'L_high'\u001b[0m\u001b[0;34m,\u001b[0m \u001b[0;34m'L_p'\u001b[0m\u001b[0;34m]\u001b[0m\u001b[0;34m]\u001b[0m\u001b[0;34m.\u001b[0m\u001b[0mvalues\u001b[0m\u001b[0;34m\u001b[0m\u001b[0m\n",
        "\u001b[0;32m/Users/markant/anaconda/lib/python2.7/site-packages/pandas/core/indexing.pyc\u001b[0m in \u001b[0;36m__getitem__\u001b[0;34m(self, key)\u001b[0m\n\u001b[1;32m     68\u001b[0m             \u001b[0;32mreturn\u001b[0m \u001b[0mself\u001b[0m\u001b[0;34m.\u001b[0m\u001b[0m_getitem_tuple\u001b[0m\u001b[0;34m(\u001b[0m\u001b[0mkey\u001b[0m\u001b[0;34m)\u001b[0m\u001b[0;34m\u001b[0m\u001b[0m\n\u001b[1;32m     69\u001b[0m         \u001b[0;32melse\u001b[0m\u001b[0;34m:\u001b[0m\u001b[0;34m\u001b[0m\u001b[0m\n\u001b[0;32m---> 70\u001b[0;31m             \u001b[0;32mreturn\u001b[0m \u001b[0mself\u001b[0m\u001b[0;34m.\u001b[0m\u001b[0m_getitem_axis\u001b[0m\u001b[0;34m(\u001b[0m\u001b[0mkey\u001b[0m\u001b[0;34m,\u001b[0m \u001b[0maxis\u001b[0m\u001b[0;34m=\u001b[0m\u001b[0;36m0\u001b[0m\u001b[0;34m)\u001b[0m\u001b[0;34m\u001b[0m\u001b[0m\n\u001b[0m\u001b[1;32m     71\u001b[0m \u001b[0;34m\u001b[0m\u001b[0m\n\u001b[1;32m     72\u001b[0m     \u001b[0;32mdef\u001b[0m \u001b[0m_get_label\u001b[0m\u001b[0;34m(\u001b[0m\u001b[0mself\u001b[0m\u001b[0;34m,\u001b[0m \u001b[0mlabel\u001b[0m\u001b[0;34m,\u001b[0m \u001b[0maxis\u001b[0m\u001b[0;34m=\u001b[0m\u001b[0;36m0\u001b[0m\u001b[0;34m)\u001b[0m\u001b[0;34m:\u001b[0m\u001b[0;34m\u001b[0m\u001b[0m\n",
        "\u001b[0;32m/Users/markant/anaconda/lib/python2.7/site-packages/pandas/core/indexing.pyc\u001b[0m in \u001b[0;36m_getitem_axis\u001b[0;34m(self, key, axis, validate_iterable)\u001b[0m\n\u001b[1;32m    863\u001b[0m                     \u001b[0;32mreturn\u001b[0m \u001b[0mself\u001b[0m\u001b[0;34m.\u001b[0m\u001b[0m_get_loc\u001b[0m\u001b[0;34m(\u001b[0m\u001b[0mkey\u001b[0m\u001b[0;34m,\u001b[0m \u001b[0maxis\u001b[0m\u001b[0;34m=\u001b[0m\u001b[0maxis\u001b[0m\u001b[0;34m)\u001b[0m\u001b[0;34m\u001b[0m\u001b[0m\n\u001b[1;32m    864\u001b[0m \u001b[0;34m\u001b[0m\u001b[0m\n\u001b[0;32m--> 865\u001b[0;31m             \u001b[0;32mreturn\u001b[0m \u001b[0mself\u001b[0m\u001b[0;34m.\u001b[0m\u001b[0m_get_label\u001b[0m\u001b[0;34m(\u001b[0m\u001b[0mkey\u001b[0m\u001b[0;34m,\u001b[0m \u001b[0maxis\u001b[0m\u001b[0;34m=\u001b[0m\u001b[0maxis\u001b[0m\u001b[0;34m)\u001b[0m\u001b[0;34m\u001b[0m\u001b[0m\n\u001b[0m\u001b[1;32m    866\u001b[0m \u001b[0;34m\u001b[0m\u001b[0m\n\u001b[1;32m    867\u001b[0m     \u001b[0;32mdef\u001b[0m \u001b[0m_getitem_iterable\u001b[0m\u001b[0;34m(\u001b[0m\u001b[0mself\u001b[0m\u001b[0;34m,\u001b[0m \u001b[0mkey\u001b[0m\u001b[0;34m,\u001b[0m \u001b[0maxis\u001b[0m\u001b[0;34m=\u001b[0m\u001b[0;36m0\u001b[0m\u001b[0;34m)\u001b[0m\u001b[0;34m:\u001b[0m\u001b[0;34m\u001b[0m\u001b[0m\n",
        "\u001b[0;32m/Users/markant/anaconda/lib/python2.7/site-packages/pandas/core/indexing.pyc\u001b[0m in \u001b[0;36m_get_label\u001b[0;34m(self, label, axis)\u001b[0m\n\u001b[1;32m     84\u001b[0m             \u001b[0;32mraise\u001b[0m \u001b[0mIndexingError\u001b[0m\u001b[0;34m(\u001b[0m\u001b[0;34m'no slices here, handle elsewhere'\u001b[0m\u001b[0;34m)\u001b[0m\u001b[0;34m\u001b[0m\u001b[0m\n\u001b[1;32m     85\u001b[0m \u001b[0;34m\u001b[0m\u001b[0m\n\u001b[0;32m---> 86\u001b[0;31m         \u001b[0;32mreturn\u001b[0m \u001b[0mself\u001b[0m\u001b[0;34m.\u001b[0m\u001b[0mobj\u001b[0m\u001b[0;34m.\u001b[0m\u001b[0m_xs\u001b[0m\u001b[0;34m(\u001b[0m\u001b[0mlabel\u001b[0m\u001b[0;34m,\u001b[0m \u001b[0maxis\u001b[0m\u001b[0;34m=\u001b[0m\u001b[0maxis\u001b[0m\u001b[0;34m)\u001b[0m\u001b[0;34m\u001b[0m\u001b[0m\n\u001b[0m\u001b[1;32m     87\u001b[0m \u001b[0;34m\u001b[0m\u001b[0m\n\u001b[1;32m     88\u001b[0m     \u001b[0;32mdef\u001b[0m \u001b[0m_get_loc\u001b[0m\u001b[0;34m(\u001b[0m\u001b[0mself\u001b[0m\u001b[0;34m,\u001b[0m \u001b[0mkey\u001b[0m\u001b[0;34m,\u001b[0m \u001b[0maxis\u001b[0m\u001b[0;34m=\u001b[0m\u001b[0;36m0\u001b[0m\u001b[0;34m)\u001b[0m\u001b[0;34m:\u001b[0m\u001b[0;34m\u001b[0m\u001b[0m\n",
        "\u001b[0;32m/Users/markant/anaconda/lib/python2.7/site-packages/pandas/core/generic.pyc\u001b[0m in \u001b[0;36mxs\u001b[0;34m(self, key, axis, level, copy, drop_level)\u001b[0m\n\u001b[1;32m   1347\u001b[0m                                                       drop_level=drop_level)\n\u001b[1;32m   1348\u001b[0m         \u001b[0;32melse\u001b[0m\u001b[0;34m:\u001b[0m\u001b[0;34m\u001b[0m\u001b[0m\n\u001b[0;32m-> 1349\u001b[0;31m             \u001b[0mloc\u001b[0m \u001b[0;34m=\u001b[0m \u001b[0mself\u001b[0m\u001b[0;34m.\u001b[0m\u001b[0mindex\u001b[0m\u001b[0;34m.\u001b[0m\u001b[0mget_loc\u001b[0m\u001b[0;34m(\u001b[0m\u001b[0mkey\u001b[0m\u001b[0;34m)\u001b[0m\u001b[0;34m\u001b[0m\u001b[0m\n\u001b[0m\u001b[1;32m   1350\u001b[0m \u001b[0;34m\u001b[0m\u001b[0m\n\u001b[1;32m   1351\u001b[0m             \u001b[0;32mif\u001b[0m \u001b[0misinstance\u001b[0m\u001b[0;34m(\u001b[0m\u001b[0mloc\u001b[0m\u001b[0;34m,\u001b[0m \u001b[0mnp\u001b[0m\u001b[0;34m.\u001b[0m\u001b[0mndarray\u001b[0m\u001b[0;34m)\u001b[0m\u001b[0;34m:\u001b[0m\u001b[0;34m\u001b[0m\u001b[0m\n",
        "\u001b[0;32m/Users/markant/anaconda/lib/python2.7/site-packages/pandas/core/index.pyc\u001b[0m in \u001b[0;36mget_loc\u001b[0;34m(self, key)\u001b[0m\n\u001b[1;32m   1154\u001b[0m         \u001b[0mloc\u001b[0m \u001b[0;34m:\u001b[0m \u001b[0mint\u001b[0m \u001b[0;32mif\u001b[0m \u001b[0munique\u001b[0m \u001b[0mindex\u001b[0m\u001b[0;34m,\u001b[0m \u001b[0mpossibly\u001b[0m \u001b[0mslice\u001b[0m \u001b[0;32mor\u001b[0m \u001b[0mmask\u001b[0m \u001b[0;32mif\u001b[0m \u001b[0;32mnot\u001b[0m\u001b[0;34m\u001b[0m\u001b[0m\n\u001b[1;32m   1155\u001b[0m         \"\"\"\n\u001b[0;32m-> 1156\u001b[0;31m         \u001b[0;32mreturn\u001b[0m \u001b[0mself\u001b[0m\u001b[0;34m.\u001b[0m\u001b[0m_engine\u001b[0m\u001b[0;34m.\u001b[0m\u001b[0mget_loc\u001b[0m\u001b[0;34m(\u001b[0m\u001b[0m_values_from_object\u001b[0m\u001b[0;34m(\u001b[0m\u001b[0mkey\u001b[0m\u001b[0;34m)\u001b[0m\u001b[0;34m)\u001b[0m\u001b[0;34m\u001b[0m\u001b[0m\n\u001b[0m\u001b[1;32m   1157\u001b[0m \u001b[0;34m\u001b[0m\u001b[0m\n\u001b[1;32m   1158\u001b[0m     \u001b[0;32mdef\u001b[0m \u001b[0mget_value\u001b[0m\u001b[0;34m(\u001b[0m\u001b[0mself\u001b[0m\u001b[0;34m,\u001b[0m \u001b[0mseries\u001b[0m\u001b[0;34m,\u001b[0m \u001b[0mkey\u001b[0m\u001b[0;34m)\u001b[0m\u001b[0;34m:\u001b[0m\u001b[0;34m\u001b[0m\u001b[0m\n",
        "\u001b[0;32m/Users/markant/anaconda/lib/python2.7/site-packages/pandas/index.so\u001b[0m in \u001b[0;36mpandas.index.IndexEngine.get_loc (pandas/index.c:3650)\u001b[0;34m()\u001b[0m\n",
        "\u001b[0;32m/Users/markant/anaconda/lib/python2.7/site-packages/pandas/index.so\u001b[0m in \u001b[0;36mpandas.index.IndexEngine.get_loc (pandas/index.c:3528)\u001b[0;34m()\u001b[0m\n",
        "\u001b[0;32m/Users/markant/anaconda/lib/python2.7/site-packages/pandas/hashtable.so\u001b[0m in \u001b[0;36mpandas.hashtable.Int64HashTable.get_item (pandas/hashtable.c:7032)\u001b[0;34m()\u001b[0m\n",
        "\u001b[0;32m/Users/markant/anaconda/lib/python2.7/site-packages/pandas/hashtable.so\u001b[0m in \u001b[0;36mpandas.hashtable.Int64HashTable.get_item (pandas/hashtable.c:6973)\u001b[0;34m()\u001b[0m\n",
        "\u001b[0;31mKeyError\u001b[0m: 0"
       ]
      }
     ],
     "prompt_number": 51
    },
    {
     "cell_type": "code",
     "collapsed": false,
     "input": [
      "exp_error_A = [expected_absolute_error(opt_A, t) for t in range(1, T_MAX)]\n",
      "exp_error_B = [expected_absolute_error(opt_B, t) for t in range(1, T_MAX)]"
     ],
     "language": "python",
     "metadata": {},
     "outputs": [],
     "prompt_number": 169
    },
    {
     "cell_type": "code",
     "collapsed": false,
     "input": [
      "fig, ax = plt.subplots()\n",
      "ax.plot(np.array(exp_error_A), label='A')\n",
      "ax.plot(np.array(exp_error_B), label='B')\n",
      "ax.legend()\n",
      "plt.show()"
     ],
     "language": "python",
     "metadata": {},
     "outputs": [
      {
       "metadata": {},
       "output_type": "display_data",
       "png": "[encoded data removed]",
       "text": [
        "<matplotlib.figure.Figure at 0x11118b090>"
       ]
      }
     ],
     "prompt_number": 171
    },
    {
     "cell_type": "code",
     "collapsed": false,
     "input": [
      "def sim_obtained_value(opt, C=2, target_trial=0, comp_env='uniform'):\n",
      "    \"\"\"\n",
      "    Agent-based simulation, returning the obtained loss relative to best option\n",
      "    opt: option set\n",
      "    \n",
      "    Keyword args:\n",
      "    C -- number of competitors (in addition to self)\n",
      "    target_trial -- trial on which loss is evaluated\n",
      "    comp_env -- the competition environment; belief about others' stopping\n",
      "    \"\"\"\n",
      "\n",
      "    ev_A = opt[['A_ev']].values[0]\n",
      "    ev_B = opt[['B_ev']].values[0]\n",
      "    \n",
      "    opt_A = opt[['A_low', 'A_high', 'A_p']].values\n",
      "    opt_B = opt[['B_low', 'B_high', 'B_p']].values\n",
      "    options = [opt_A, opt_B]\n",
      "    expected_values = [ev_A, ev_B]\n",
      "    \n",
      "    stoptrials = np.random.randint(1, T_MAX, C)\n",
      "    consumed = []\n",
      "    \n",
      "    for trial in range(1, target_trial):\n",
      "        \n",
      "        # number of people stopping on this trial\n",
      "        n_stopping = np.sum(stoptrials==trial)\n",
      "        \n",
      "        # get preference orders for all stopping competitors\n",
      "        pref_orders = []\n",
      "        for i in range(n_stopping):\n",
      "            \n",
      "            # assign sampling trials to options\n",
      "            sampled_options = np.random.choice(range(len(options)), trial)\n",
      "    \n",
      "            # count samples per option\n",
      "            n_sample_by_option = [np.sum(sampled_options==i) for i in range(len(options))]\n",
      "            \n",
      "            # get estimated value of each option based on # of samples\n",
      "            est_value = np.array([simulate_sample_mean(options[i], n_sample_by_option[i]) for i in range(len(options))])\n",
      "            pref_orders.append((-est_value).argsort())\n",
      "            \n",
      "        # get choice order for competitors\n",
      "        choice_order = range(n_stopping)\n",
      "        shuffle(choice_order)\n",
      "        \n",
      "        # for each chooser, go through ranked preferences and \n",
      "        # consume the first one that is available\n",
      "        for chooser in choice_order:\n",
      "            \n",
      "            done = False\n",
      "            i = -1\n",
      "            while not done:\n",
      "                i += 1\n",
      "                if pref_orders[chooser][i] not in consumed:\n",
      "                    consumed.append(pref_orders[chooser][i])\n",
      "                    done = True  \n",
      "    \n",
      "    # now for target trial, do the same while including self\n",
      "    n_stopping = np.sum(stoptrials==target_trial)\n",
      "    \n",
      "    # get preference orders for all stopping competitors, including self\n",
      "    pref_orders = []\n",
      "    \n",
      "    # assign sampling trials to options\n",
      "    own_sampled_options = np.random.choice(range(len(options)), target_trial)\n",
      "            \n",
      "    # count samples per option\n",
      "    own_n_sample_by_option = [np.sum(own_sampled_options==i) for i in range(len(options))]\n",
      "            \n",
      "    # get estimated value of each option based on # of samples\n",
      "    own_est_value = np.array([simulate_sample_mean(options[i], own_n_sample_by_option[i]) for i in range(len(options))])\n",
      "    own_pref_order = (-own_est_value).argsort()\n",
      "    pref_orders.append(own_pref_order)\n",
      "        \n",
      "    for i in range(n_stopping):\n",
      "        \n",
      "        # assign sampling trials to options\n",
      "        sampled_options = np.random.choice(range(len(options)), target_trial)\n",
      "    \n",
      "        # count samples per option\n",
      "        n_sample_by_option = [np.sum(sampled_options==i) for i in range(len(options))]\n",
      "        \n",
      "        # get estimated value of each option based on # of samples\n",
      "        est_value = np.array([simulate_sample_mean(options[i], n_sample_by_option[i]) for i in range(len(options))])\n",
      "        pref_orders.append((-est_value).argsort())\n",
      "    \n",
      "    \n",
      "    # sample a choice order for self (0) and competitors\n",
      "    choice_order = range(n_stopping + 1)\n",
      "    shuffle(choice_order)\n",
      "    \n",
      "    obtained_value = None\n",
      "    for chooser in choice_order:\n",
      "        \n",
      "        done = False\n",
      "        i = -1\n",
      "        while not done:\n",
      "            i += 1\n",
      "            option_index = pref_orders[chooser][i]\n",
      "            if option_index not in consumed:\n",
      "                consumed.append(option_index)\n",
      "                done = True\n",
      "                \n",
      "                if chooser == 0:\n",
      "                    obtained_value = expected_values[option_index]\n",
      "    \n",
      "    best = np.max(expected_values)\n",
      "    return best - obtained_value"
     ],
     "language": "python",
     "metadata": {},
     "outputs": [],
     "prompt_number": 52
    },
    {
     "cell_type": "code",
     "collapsed": false,
     "input": [
      "ind = 3\n",
      "opt = env1_options.iloc[ind]\n",
      "v1 = np.zeros((N_ITER, T_MAX), float)\n",
      "for i in range(N_ITER):\n",
      "    v1[i,:] = np.array([sim_obtained_value(opt, C=0, target_trial=t) for t in range(T_MAX)])\n",
      "    \n",
      "opt = env2_options.iloc[ind]\n",
      "v2 = np.zeros((N_ITER, T_MAX), float)\n",
      "for i in range(N_ITER):\n",
      "    v2[i,:] = np.array([sim_obtained_value(opt, C=0, target_trial=t) for t in range(T_MAX)])\n",
      "    \n",
      "fig, ax = plt.subplots()\n",
      "ax.plot(v1.mean(axis=0))\n",
      "ax.plot(v2.mean(axis=0))\n",
      "plt.show()"
     ],
     "language": "python",
     "metadata": {},
     "outputs": [
      {
       "metadata": {},
       "output_type": "display_data",
       "png": "[encoded data removed]",
       "text": [
        "<matplotlib.figure.Figure at 0x10b11b090>"
       ]
      }
     ],
     "prompt_number": 53
    },
    {
     "cell_type": "code",
     "collapsed": false,
     "input": [
      "n_opt = env1_options.shape[0]\n",
      "v1 = np.zeros((n_opt, T_MAX), float)\n",
      "for i in range(env1_options.shape[0]):\n",
      "    print '%s/%s' % (i, n_opt)\n",
      "    for t in range(T_MAX):\n",
      "        v1[i,t] = np.mean([sim_obtained_value(env1_options.iloc[i], C=0, target_trial=t) for _ in range(N_ITER)])"
     ],
     "language": "python",
     "metadata": {},
     "outputs": [
      {
       "output_type": "stream",
       "stream": "stdout",
       "text": [
        "0/100\n",
        "1/100"
       ]
      },
      {
       "output_type": "stream",
       "stream": "stdout",
       "text": [
        "\n",
        "2/100"
       ]
      },
      {
       "output_type": "stream",
       "stream": "stdout",
       "text": [
        "\n",
        "3/100"
       ]
      },
      {
       "output_type": "stream",
       "stream": "stdout",
       "text": [
        "\n",
        "4/100"
       ]
      },
      {
       "output_type": "stream",
       "stream": "stdout",
       "text": [
        "\n",
        "5/100"
       ]
      },
      {
       "output_type": "stream",
       "stream": "stdout",
       "text": [
        "\n",
        "6/100"
       ]
      },
      {
       "output_type": "stream",
       "stream": "stdout",
       "text": [
        "\n",
        "7/100"
       ]
      },
      {
       "output_type": "stream",
       "stream": "stdout",
       "text": [
        "\n",
        "8/100"
       ]
      },
      {
       "output_type": "stream",
       "stream": "stdout",
       "text": [
        "\n",
        "9/100"
       ]
      },
      {
       "output_type": "stream",
       "stream": "stdout",
       "text": [
        "\n",
        "10/100"
       ]
      },
      {
       "output_type": "stream",
       "stream": "stdout",
       "text": [
        "\n",
        "11/100"
       ]
      },
      {
       "output_type": "stream",
       "stream": "stdout",
       "text": [
        "\n",
        "12/100"
       ]
      },
      {
       "output_type": "stream",
       "stream": "stdout",
       "text": [
        "\n",
        "13/100"
       ]
      },
      {
       "output_type": "stream",
       "stream": "stdout",
       "text": [
        "\n",
        "14/100"
       ]
      },
      {
       "output_type": "stream",
       "stream": "stdout",
       "text": [
        "\n",
        "15/100"
       ]
      },
      {
       "output_type": "stream",
       "stream": "stdout",
       "text": [
        "\n",
        "16/100"
       ]
      },
      {
       "output_type": "stream",
       "stream": "stdout",
       "text": [
        "\n",
        "17/100"
       ]
      },
      {
       "output_type": "stream",
       "stream": "stdout",
       "text": [
        "\n",
        "18/100"
       ]
      },
      {
       "output_type": "stream",
       "stream": "stdout",
       "text": [
        "\n",
        "19/100"
       ]
      },
      {
       "output_type": "stream",
       "stream": "stdout",
       "text": [
        "\n",
        "20/100"
       ]
      },
      {
       "output_type": "stream",
       "stream": "stdout",
       "text": [
        "\n",
        "21/100"
       ]
      },
      {
       "output_type": "stream",
       "stream": "stdout",
       "text": [
        "\n",
        "22/100"
       ]
      },
      {
       "output_type": "stream",
       "stream": "stdout",
       "text": [
        "\n",
        "23/100"
       ]
      },
      {
       "output_type": "stream",
       "stream": "stdout",
       "text": [
        "\n",
        "24/100"
       ]
      },
      {
       "output_type": "stream",
       "stream": "stdout",
       "text": [
        "\n",
        "25/100"
       ]
      },
      {
       "output_type": "stream",
       "stream": "stdout",
       "text": [
        "\n",
        "26/100"
       ]
      },
      {
       "output_type": "stream",
       "stream": "stdout",
       "text": [
        "\n",
        "27/100"
       ]
      },
      {
       "output_type": "stream",
       "stream": "stdout",
       "text": [
        "\n",
        "28/100"
       ]
      },
      {
       "output_type": "stream",
       "stream": "stdout",
       "text": [
        "\n",
        "29/100"
       ]
      },
      {
       "output_type": "stream",
       "stream": "stdout",
       "text": [
        "\n",
        "30/100"
       ]
      },
      {
       "output_type": "stream",
       "stream": "stdout",
       "text": [
        "\n",
        "31/100"
       ]
      },
      {
       "output_type": "stream",
       "stream": "stdout",
       "text": [
        "\n",
        "32/100"
       ]
      },
      {
       "output_type": "stream",
       "stream": "stdout",
       "text": [
        "\n",
        "33/100"
       ]
      },
      {
       "output_type": "stream",
       "stream": "stdout",
       "text": [
        "\n",
        "34/100"
       ]
      },
      {
       "output_type": "stream",
       "stream": "stdout",
       "text": [
        "\n",
        "35/100"
       ]
      },
      {
       "output_type": "stream",
       "stream": "stdout",
       "text": [
        "\n",
        "36/100"
       ]
      },
      {
       "output_type": "stream",
       "stream": "stdout",
       "text": [
        "\n",
        "37/100"
       ]
      },
      {
       "output_type": "stream",
       "stream": "stdout",
       "text": [
        "\n",
        "38/100"
       ]
      },
      {
       "output_type": "stream",
       "stream": "stdout",
       "text": [
        "\n",
        "39/100"
       ]
      },
      {
       "output_type": "stream",
       "stream": "stdout",
       "text": [
        "\n",
        "40/100"
       ]
      },
      {
       "output_type": "stream",
       "stream": "stdout",
       "text": [
        "\n",
        "41/100"
       ]
      },
      {
       "output_type": "stream",
       "stream": "stdout",
       "text": [
        "\n",
        "42/100"
       ]
      },
      {
       "output_type": "stream",
       "stream": "stdout",
       "text": [
        "\n",
        "43/100"
       ]
      },
      {
       "output_type": "stream",
       "stream": "stdout",
       "text": [
        "\n",
        "44/100"
       ]
      },
      {
       "output_type": "stream",
       "stream": "stdout",
       "text": [
        "\n",
        "45/100"
       ]
      },
      {
       "output_type": "stream",
       "stream": "stdout",
       "text": [
        "\n",
        "46/100"
       ]
      },
      {
       "output_type": "stream",
       "stream": "stdout",
       "text": [
        "\n",
        "47/100"
       ]
      },
      {
       "output_type": "stream",
       "stream": "stdout",
       "text": [
        "\n",
        "48/100"
       ]
      },
      {
       "output_type": "stream",
       "stream": "stdout",
       "text": [
        "\n",
        "49/100"
       ]
      },
      {
       "output_type": "stream",
       "stream": "stdout",
       "text": [
        "\n",
        "50/100"
       ]
      },
      {
       "output_type": "stream",
       "stream": "stdout",
       "text": [
        "\n",
        "51/100"
       ]
      },
      {
       "output_type": "stream",
       "stream": "stdout",
       "text": [
        "\n",
        "52/100"
       ]
      },
      {
       "output_type": "stream",
       "stream": "stdout",
       "text": [
        "\n",
        "53/100"
       ]
      },
      {
       "output_type": "stream",
       "stream": "stdout",
       "text": [
        "\n",
        "54/100"
       ]
      },
      {
       "output_type": "stream",
       "stream": "stdout",
       "text": [
        "\n",
        "55/100"
       ]
      },
      {
       "output_type": "stream",
       "stream": "stdout",
       "text": [
        "\n",
        "56/100"
       ]
      },
      {
       "output_type": "stream",
       "stream": "stdout",
       "text": [
        "\n",
        "57/100"
       ]
      },
      {
       "output_type": "stream",
       "stream": "stdout",
       "text": [
        "\n",
        "58/100"
       ]
      },
      {
       "output_type": "stream",
       "stream": "stdout",
       "text": [
        "\n",
        "59/100"
       ]
      },
      {
       "output_type": "stream",
       "stream": "stdout",
       "text": [
        "\n",
        "60/100"
       ]
      },
      {
       "output_type": "stream",
       "stream": "stdout",
       "text": [
        "\n",
        "61/100"
       ]
      },
      {
       "output_type": "stream",
       "stream": "stdout",
       "text": [
        "\n",
        "62/100"
       ]
      },
      {
       "output_type": "stream",
       "stream": "stdout",
       "text": [
        "\n",
        "63/100"
       ]
      },
      {
       "output_type": "stream",
       "stream": "stdout",
       "text": [
        "\n",
        "64/100"
       ]
      },
      {
       "output_type": "stream",
       "stream": "stdout",
       "text": [
        "\n",
        "65/100"
       ]
      },
      {
       "output_type": "stream",
       "stream": "stdout",
       "text": [
        "\n",
        "66/100"
       ]
      },
      {
       "output_type": "stream",
       "stream": "stdout",
       "text": [
        "\n",
        "67/100"
       ]
      },
      {
       "output_type": "stream",
       "stream": "stdout",
       "text": [
        "\n",
        "68/100"
       ]
      },
      {
       "output_type": "stream",
       "stream": "stdout",
       "text": [
        "\n",
        "69/100"
       ]
      },
      {
       "output_type": "stream",
       "stream": "stdout",
       "text": [
        "\n",
        "70/100"
       ]
      },
      {
       "output_type": "stream",
       "stream": "stdout",
       "text": [
        "\n",
        "71/100"
       ]
      },
      {
       "output_type": "stream",
       "stream": "stdout",
       "text": [
        "\n",
        "72/100"
       ]
      },
      {
       "output_type": "stream",
       "stream": "stdout",
       "text": [
        "\n",
        "73/100"
       ]
      },
      {
       "output_type": "stream",
       "stream": "stdout",
       "text": [
        "\n",
        "74/100"
       ]
      },
      {
       "output_type": "stream",
       "stream": "stdout",
       "text": [
        "\n",
        "75/100"
       ]
      },
      {
       "output_type": "stream",
       "stream": "stdout",
       "text": [
        "\n",
        "76/100"
       ]
      },
      {
       "output_type": "stream",
       "stream": "stdout",
       "text": [
        "\n",
        "77/100"
       ]
      },
      {
       "output_type": "stream",
       "stream": "stdout",
       "text": [
        "\n",
        "78/100"
       ]
      },
      {
       "output_type": "stream",
       "stream": "stdout",
       "text": [
        "\n",
        "79/100"
       ]
      },
      {
       "output_type": "stream",
       "stream": "stdout",
       "text": [
        "\n",
        "80/100"
       ]
      },
      {
       "output_type": "stream",
       "stream": "stdout",
       "text": [
        "\n",
        "81/100"
       ]
      },
      {
       "output_type": "stream",
       "stream": "stdout",
       "text": [
        "\n",
        "82/100"
       ]
      },
      {
       "output_type": "stream",
       "stream": "stdout",
       "text": [
        "\n",
        "83/100"
       ]
      },
      {
       "output_type": "stream",
       "stream": "stdout",
       "text": [
        "\n",
        "84/100"
       ]
      },
      {
       "output_type": "stream",
       "stream": "stdout",
       "text": [
        "\n",
        "85/100"
       ]
      },
      {
       "output_type": "stream",
       "stream": "stdout",
       "text": [
        "\n",
        "86/100"
       ]
      },
      {
       "output_type": "stream",
       "stream": "stdout",
       "text": [
        "\n",
        "87/100"
       ]
      },
      {
       "output_type": "stream",
       "stream": "stdout",
       "text": [
        "\n",
        "88/100"
       ]
      },
      {
       "output_type": "stream",
       "stream": "stdout",
       "text": [
        "\n",
        "89/100"
       ]
      },
      {
       "output_type": "stream",
       "stream": "stdout",
       "text": [
        "\n",
        "90/100"
       ]
      },
      {
       "output_type": "stream",
       "stream": "stdout",
       "text": [
        "\n",
        "91/100"
       ]
      },
      {
       "output_type": "stream",
       "stream": "stdout",
       "text": [
        "\n",
        "92/100"
       ]
      },
      {
       "output_type": "stream",
       "stream": "stdout",
       "text": [
        "\n",
        "93/100"
       ]
      },
      {
       "output_type": "stream",
       "stream": "stdout",
       "text": [
        "\n",
        "94/100"
       ]
      },
      {
       "output_type": "stream",
       "stream": "stdout",
       "text": [
        "\n",
        "95/100"
       ]
      },
      {
       "output_type": "stream",
       "stream": "stdout",
       "text": [
        "\n",
        "96/100"
       ]
      },
      {
       "output_type": "stream",
       "stream": "stdout",
       "text": [
        "\n",
        "97/100"
       ]
      },
      {
       "output_type": "stream",
       "stream": "stdout",
       "text": [
        "\n",
        "98/100"
       ]
      },
      {
       "output_type": "stream",
       "stream": "stdout",
       "text": [
        "\n",
        "99/100"
       ]
      },
      {
       "output_type": "stream",
       "stream": "stdout",
       "text": [
        "\n"
       ]
      }
     ],
     "prompt_number": 126
    },
    {
     "cell_type": "code",
     "collapsed": false,
     "input": [
      "n_opt = env2_options.shape[0]\n",
      "v2 = np.zeros((n_opt, T_MAX), float)\n",
      "for i in range(n_opt):\n",
      "    print '%s/%s' % (i, n_opt)\n",
      "    for t in range(T_MAX):\n",
      "        v2[i,t] = np.mean([sim_obtained_value(env2_options.iloc[i], C=0, target_trial=t) for _ in range(N_ITER)])"
     ],
     "language": "python",
     "metadata": {},
     "outputs": [
      {
       "output_type": "stream",
       "stream": "stdout",
       "text": [
        "0/100\n",
        "1/100"
       ]
      },
      {
       "output_type": "stream",
       "stream": "stdout",
       "text": [
        "\n",
        "2/100"
       ]
      },
      {
       "output_type": "stream",
       "stream": "stdout",
       "text": [
        "\n",
        "3/100"
       ]
      },
      {
       "output_type": "stream",
       "stream": "stdout",
       "text": [
        "\n",
        "4/100"
       ]
      },
      {
       "output_type": "stream",
       "stream": "stdout",
       "text": [
        "\n",
        "5/100"
       ]
      },
      {
       "output_type": "stream",
       "stream": "stdout",
       "text": [
        "\n",
        "6/100"
       ]
      },
      {
       "output_type": "stream",
       "stream": "stdout",
       "text": [
        "\n",
        "7/100"
       ]
      },
      {
       "output_type": "stream",
       "stream": "stdout",
       "text": [
        "\n",
        "8/100"
       ]
      },
      {
       "output_type": "stream",
       "stream": "stdout",
       "text": [
        "\n",
        "9/100"
       ]
      },
      {
       "output_type": "stream",
       "stream": "stdout",
       "text": [
        "\n",
        "10/100"
       ]
      },
      {
       "output_type": "stream",
       "stream": "stdout",
       "text": [
        "\n",
        "11/100"
       ]
      },
      {
       "output_type": "stream",
       "stream": "stdout",
       "text": [
        "\n",
        "12/100"
       ]
      },
      {
       "output_type": "stream",
       "stream": "stdout",
       "text": [
        "\n",
        "13/100"
       ]
      },
      {
       "output_type": "stream",
       "stream": "stdout",
       "text": [
        "\n",
        "14/100"
       ]
      },
      {
       "output_type": "stream",
       "stream": "stdout",
       "text": [
        "\n",
        "15/100"
       ]
      },
      {
       "output_type": "stream",
       "stream": "stdout",
       "text": [
        "\n",
        "16/100"
       ]
      },
      {
       "output_type": "stream",
       "stream": "stdout",
       "text": [
        "\n",
        "17/100"
       ]
      },
      {
       "output_type": "stream",
       "stream": "stdout",
       "text": [
        "\n",
        "18/100"
       ]
      },
      {
       "output_type": "stream",
       "stream": "stdout",
       "text": [
        "\n",
        "19/100"
       ]
      },
      {
       "output_type": "stream",
       "stream": "stdout",
       "text": [
        "\n",
        "20/100"
       ]
      },
      {
       "output_type": "stream",
       "stream": "stdout",
       "text": [
        "\n",
        "21/100"
       ]
      },
      {
       "output_type": "stream",
       "stream": "stdout",
       "text": [
        "\n",
        "22/100"
       ]
      },
      {
       "output_type": "stream",
       "stream": "stdout",
       "text": [
        "\n",
        "23/100"
       ]
      },
      {
       "output_type": "stream",
       "stream": "stdout",
       "text": [
        "\n",
        "24/100"
       ]
      },
      {
       "output_type": "stream",
       "stream": "stdout",
       "text": [
        "\n",
        "25/100"
       ]
      },
      {
       "output_type": "stream",
       "stream": "stdout",
       "text": [
        "\n",
        "26/100"
       ]
      },
      {
       "output_type": "stream",
       "stream": "stdout",
       "text": [
        "\n",
        "27/100"
       ]
      },
      {
       "output_type": "stream",
       "stream": "stdout",
       "text": [
        "\n",
        "28/100"
       ]
      },
      {
       "output_type": "stream",
       "stream": "stdout",
       "text": [
        "\n",
        "29/100"
       ]
      },
      {
       "output_type": "stream",
       "stream": "stdout",
       "text": [
        "\n",
        "30/100"
       ]
      },
      {
       "output_type": "stream",
       "stream": "stdout",
       "text": [
        "\n",
        "31/100"
       ]
      },
      {
       "output_type": "stream",
       "stream": "stdout",
       "text": [
        "\n",
        "32/100"
       ]
      },
      {
       "output_type": "stream",
       "stream": "stdout",
       "text": [
        "\n",
        "33/100"
       ]
      },
      {
       "output_type": "stream",
       "stream": "stdout",
       "text": [
        "\n",
        "34/100"
       ]
      },
      {
       "output_type": "stream",
       "stream": "stdout",
       "text": [
        "\n",
        "35/100"
       ]
      },
      {
       "output_type": "stream",
       "stream": "stdout",
       "text": [
        "\n",
        "36/100"
       ]
      },
      {
       "output_type": "stream",
       "stream": "stdout",
       "text": [
        "\n",
        "37/100"
       ]
      },
      {
       "output_type": "stream",
       "stream": "stdout",
       "text": [
        "\n",
        "38/100"
       ]
      },
      {
       "output_type": "stream",
       "stream": "stdout",
       "text": [
        "\n",
        "39/100"
       ]
      },
      {
       "output_type": "stream",
       "stream": "stdout",
       "text": [
        "\n",
        "40/100"
       ]
      },
      {
       "output_type": "stream",
       "stream": "stdout",
       "text": [
        "\n",
        "41/100"
       ]
      },
      {
       "output_type": "stream",
       "stream": "stdout",
       "text": [
        "\n",
        "42/100"
       ]
      },
      {
       "output_type": "stream",
       "stream": "stdout",
       "text": [
        "\n",
        "43/100"
       ]
      },
      {
       "output_type": "stream",
       "stream": "stdout",
       "text": [
        "\n",
        "44/100"
       ]
      },
      {
       "output_type": "stream",
       "stream": "stdout",
       "text": [
        "\n",
        "45/100"
       ]
      },
      {
       "output_type": "stream",
       "stream": "stdout",
       "text": [
        "\n",
        "46/100"
       ]
      },
      {
       "output_type": "stream",
       "stream": "stdout",
       "text": [
        "\n",
        "47/100"
       ]
      },
      {
       "output_type": "stream",
       "stream": "stdout",
       "text": [
        "\n",
        "48/100"
       ]
      },
      {
       "output_type": "stream",
       "stream": "stdout",
       "text": [
        "\n",
        "49/100"
       ]
      },
      {
       "output_type": "stream",
       "stream": "stdout",
       "text": [
        "\n",
        "50/100"
       ]
      },
      {
       "output_type": "stream",
       "stream": "stdout",
       "text": [
        "\n",
        "51/100"
       ]
      },
      {
       "output_type": "stream",
       "stream": "stdout",
       "text": [
        "\n",
        "52/100"
       ]
      },
      {
       "output_type": "stream",
       "stream": "stdout",
       "text": [
        "\n",
        "53/100"
       ]
      },
      {
       "output_type": "stream",
       "stream": "stdout",
       "text": [
        "\n",
        "54/100"
       ]
      },
      {
       "output_type": "stream",
       "stream": "stdout",
       "text": [
        "\n",
        "55/100"
       ]
      },
      {
       "output_type": "stream",
       "stream": "stdout",
       "text": [
        "\n",
        "56/100"
       ]
      },
      {
       "output_type": "stream",
       "stream": "stdout",
       "text": [
        "\n",
        "57/100"
       ]
      },
      {
       "output_type": "stream",
       "stream": "stdout",
       "text": [
        "\n",
        "58/100"
       ]
      },
      {
       "output_type": "stream",
       "stream": "stdout",
       "text": [
        "\n",
        "59/100"
       ]
      },
      {
       "output_type": "stream",
       "stream": "stdout",
       "text": [
        "\n",
        "60/100"
       ]
      },
      {
       "output_type": "stream",
       "stream": "stdout",
       "text": [
        "\n",
        "61/100"
       ]
      },
      {
       "output_type": "stream",
       "stream": "stdout",
       "text": [
        "\n",
        "62/100"
       ]
      },
      {
       "output_type": "stream",
       "stream": "stdout",
       "text": [
        "\n",
        "63/100"
       ]
      },
      {
       "output_type": "stream",
       "stream": "stdout",
       "text": [
        "\n",
        "64/100"
       ]
      },
      {
       "output_type": "stream",
       "stream": "stdout",
       "text": [
        "\n",
        "65/100"
       ]
      },
      {
       "output_type": "stream",
       "stream": "stdout",
       "text": [
        "\n",
        "66/100"
       ]
      },
      {
       "output_type": "stream",
       "stream": "stdout",
       "text": [
        "\n",
        "67/100"
       ]
      },
      {
       "output_type": "stream",
       "stream": "stdout",
       "text": [
        "\n",
        "68/100"
       ]
      },
      {
       "output_type": "stream",
       "stream": "stdout",
       "text": [
        "\n",
        "69/100"
       ]
      },
      {
       "output_type": "stream",
       "stream": "stdout",
       "text": [
        "\n",
        "70/100"
       ]
      },
      {
       "output_type": "stream",
       "stream": "stdout",
       "text": [
        "\n",
        "71/100"
       ]
      },
      {
       "output_type": "stream",
       "stream": "stdout",
       "text": [
        "\n",
        "72/100"
       ]
      },
      {
       "output_type": "stream",
       "stream": "stdout",
       "text": [
        "\n",
        "73/100"
       ]
      },
      {
       "output_type": "stream",
       "stream": "stdout",
       "text": [
        "\n",
        "74/100"
       ]
      },
      {
       "output_type": "stream",
       "stream": "stdout",
       "text": [
        "\n",
        "75/100"
       ]
      },
      {
       "output_type": "stream",
       "stream": "stdout",
       "text": [
        "\n",
        "76/100"
       ]
      },
      {
       "output_type": "stream",
       "stream": "stdout",
       "text": [
        "\n",
        "77/100"
       ]
      },
      {
       "output_type": "stream",
       "stream": "stdout",
       "text": [
        "\n",
        "78/100"
       ]
      },
      {
       "output_type": "stream",
       "stream": "stdout",
       "text": [
        "\n",
        "79/100"
       ]
      },
      {
       "output_type": "stream",
       "stream": "stdout",
       "text": [
        "\n",
        "80/100"
       ]
      },
      {
       "output_type": "stream",
       "stream": "stdout",
       "text": [
        "\n",
        "81/100"
       ]
      },
      {
       "output_type": "stream",
       "stream": "stdout",
       "text": [
        "\n",
        "82/100"
       ]
      },
      {
       "output_type": "stream",
       "stream": "stdout",
       "text": [
        "\n",
        "83/100"
       ]
      },
      {
       "output_type": "stream",
       "stream": "stdout",
       "text": [
        "\n",
        "84/100"
       ]
      },
      {
       "output_type": "stream",
       "stream": "stdout",
       "text": [
        "\n",
        "85/100"
       ]
      },
      {
       "output_type": "stream",
       "stream": "stdout",
       "text": [
        "\n",
        "86/100"
       ]
      },
      {
       "output_type": "stream",
       "stream": "stdout",
       "text": [
        "\n",
        "87/100"
       ]
      },
      {
       "output_type": "stream",
       "stream": "stdout",
       "text": [
        "\n",
        "88/100"
       ]
      },
      {
       "output_type": "stream",
       "stream": "stdout",
       "text": [
        "\n",
        "89/100"
       ]
      },
      {
       "output_type": "stream",
       "stream": "stdout",
       "text": [
        "\n",
        "90/100"
       ]
      },
      {
       "output_type": "stream",
       "stream": "stdout",
       "text": [
        "\n",
        "91/100"
       ]
      },
      {
       "output_type": "stream",
       "stream": "stdout",
       "text": [
        "\n",
        "92/100"
       ]
      },
      {
       "output_type": "stream",
       "stream": "stdout",
       "text": [
        "\n",
        "93/100"
       ]
      },
      {
       "output_type": "stream",
       "stream": "stdout",
       "text": [
        "\n",
        "94/100"
       ]
      },
      {
       "output_type": "stream",
       "stream": "stdout",
       "text": [
        "\n",
        "95/100"
       ]
      },
      {
       "output_type": "stream",
       "stream": "stdout",
       "text": [
        "\n",
        "96/100"
       ]
      },
      {
       "output_type": "stream",
       "stream": "stdout",
       "text": [
        "\n",
        "97/100"
       ]
      },
      {
       "output_type": "stream",
       "stream": "stdout",
       "text": [
        "\n",
        "98/100"
       ]
      },
      {
       "output_type": "stream",
       "stream": "stdout",
       "text": [
        "\n",
        "99/100"
       ]
      },
      {
       "output_type": "stream",
       "stream": "stdout",
       "text": [
        "\n"
       ]
      }
     ],
     "prompt_number": 129
    },
    {
     "cell_type": "code",
     "collapsed": false,
     "input": [
      "fig, ax = plt.subplots()\n",
      "ax.plot(v1.mean(axis=0))\n",
      "ax.plot(v2.mean(axis=0))\n",
      "plt.show()"
     ],
     "language": "python",
     "metadata": {},
     "outputs": [
      {
       "metadata": {},
       "output_type": "display_data",
       "png": "[encoded data removed]",
       "text": [
        "<matplotlib.figure.Figure at 0x113a0add0>"
       ]
      }
     ],
     "prompt_number": 134
    },
    {
     "cell_type": "code",
     "collapsed": false,
     "input": [
      "sim_result = {}\n",
      "T_MAX = 30\n",
      "N_ITER = 500"
     ],
     "language": "python",
     "metadata": {},
     "outputs": [],
     "prompt_number": 176
    },
    {
     "cell_type": "code",
     "collapsed": false,
     "input": [
      "def iter_obtained_loss(env, C):\n",
      "    if env is 'env1':\n",
      "        optset = env1_options\n",
      "    else:\n",
      "        optset = env2_options\n",
      "    \n",
      "    n_opt = optset.shape[0]\n",
      "    v = np.zeros((n_opt, T_MAX), float)\n",
      "    for i in range(n_opt):\n",
      "        \n",
      "        opt = optset.iloc[i]\n",
      "        opt_A = opt[['H_low', 'H_high', 'H_p', 'H_ev']].values\n",
      "        opt_B = opt[['L_low', 'L_high', 'L_p', 'L_ev']].values\n",
      "        options = {'H': opt_A, 'L': opt_B}\n",
      "        \n",
      "        for t in range(1, T_MAX+1):\n",
      "            v[i,t-1] = np.mean([sim_obtained_loss(options, C=C, target_trial=t, T_MAX=T_MAX) for _ in range(N_ITER)])\n",
      "            \n",
      "    return v.mean(axis=0)"
     ],
     "language": "python",
     "metadata": {},
     "outputs": [],
     "prompt_number": 186
    },
    {
     "cell_type": "code",
     "collapsed": false,
     "input": [
      "for env in ['env1', 'env2']:\n",
      "    for C in [1]:\n",
      "        print (env, C)\n",
      "        sim_result[(env, C)] = iter_obtained_loss(env, C)"
     ],
     "language": "python",
     "metadata": {},
     "outputs": [
      {
       "output_type": "stream",
       "stream": "stdout",
       "text": [
        "('env1', 1)\n",
        "('env2', 1)"
       ]
      },
      {
       "output_type": "stream",
       "stream": "stdout",
       "text": [
        "\n"
       ]
      }
     ],
     "prompt_number": 187
    },
    {
     "cell_type": "code",
     "collapsed": false,
     "input": [
      "fig, ax = plt.subplots()\n",
      "#ax.plot(sim_result[('env1', 0)])\n",
      "ax.plot(sim_result[('env1', 1)])\n",
      "#ax.plot(sim_result[('env2', 0)])\n",
      "ax.plot(sim_result[('env2', 1)])"
     ],
     "language": "python",
     "metadata": {},
     "outputs": [
      {
       "metadata": {},
       "output_type": "pyout",
       "prompt_number": 188,
       "text": [
        "[<matplotlib.lines.Line2D at 0x10dd49ad0>]"
       ]
      },
      {
       "metadata": {},
       "output_type": "display_data",
       "png": "[encoded data removed]",
       "text": [
        "<matplotlib.figure.Figure at 0x111ecf310>"
       ]
      }
     ],
     "prompt_number": 188
    },
    {
     "cell_type": "code",
     "collapsed": false,
     "input": [],
     "language": "python",
     "metadata": {},
     "outputs": []
    }
   ],
   "metadata": {}
  }
 ]
}