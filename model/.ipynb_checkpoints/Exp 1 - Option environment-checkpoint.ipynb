{
 "metadata": {
  "name": ""
 },
 "nbformat": 3,
 "nbformat_minor": 0,
 "worksheets": [
  {
   "cells": [
    {
     "cell_type": "markdown",
     "metadata": {},
     "source": [
      "# Overview\n",
      "\n"
     ]
    },
    {
     "cell_type": "code",
     "collapsed": false,
     "input": [
      "%matplotlib inline\n",
      "import matplotlib.pyplot as plt\n",
      "from scipy.stats import norm, uniform, expon, beta, weibull_min, gumbel_r, lognorm\n",
      "import numpy as np\n",
      "import pandas as pd"
     ],
     "language": "python",
     "metadata": {},
     "outputs": [],
     "prompt_number": 2
    },
    {
     "cell_type": "code",
     "collapsed": false,
     "input": [
      "dx = .05\n",
      "x = np.arange(0, 1+dx, dx)\n",
      "\n",
      "fig, ax = plt.subplots(1, 2, figsize=(8,2))\n",
      "y = np.array([beta.pdf(i, 5, 5) for i in x])\n",
      "ax[0].plot(x, y, 'k')\n",
      "ax[0].fill_between(x, y, 0, color='.92')\n",
      "\n",
      "y = np.array([beta.pdf(i, 6, 1) for i in x])\n",
      "ax[1].plot(x, y, 'k')\n",
      "ax[1].fill_between(x, y, 0, color='.92')\n",
      "for i in range(2):\n",
      "    ax[i].set_xlabel('value')\n",
      "    ax[i].set_ylabel('p(value)')\n",
      "    ax[i].set_yticklabels([])\n",
      "ax[0].set_title('Normal')\n",
      "ax[1].set_title('Skewed')\n",
      "plt.show()"
     ],
     "language": "python",
     "metadata": {},
     "outputs": [
      {
       "metadata": {},
       "output_type": "display_data",
       "png": "[encoded data removed]",
       "text": [
        "<matplotlib.figure.Figure at 0x112ed4950>"
       ]
      }
     ],
     "prompt_number": 150
    },
    {
     "cell_type": "markdown",
     "metadata": {},
     "source": [
      "outcomes are drawn from uniform distribution\n",
      "\n",
      "p is drawn either from balanced environment or from skewed environment"
     ]
    },
    {
     "cell_type": "code",
     "collapsed": false,
     "input": [
      "def expected_value(option):\n",
      "    v_low, v_high, p_low, ev = option\n",
      "    return v_low * p_low + v_high * (1 - p_low)\n",
      "\n",
      "def plot_gamble(g, xlim=[0, 200]):\n",
      "\n",
      "    fig, ax = plt.subplots(figsize=(4, 2))\n",
      "    ax.plot([0, 0], [-2, 2], linestyle='--', c='gray')\n",
      "    cols = ['red', 'blue']\n",
      "    for i, k in enumerate(g.keys()):\n",
      "        ax.plot([g[k][0], g[k][1]], [i, i], marker='o', markeredgewidth=0, linestyle='-', color=cols[i], label=k)\n",
      "        ax.plot([expected_value(g[k])], [i], marker='x', markersize=14, color=cols[i])\n",
      "    ax.set_xlim(xlim)\n",
      "    ax.set_ylim([-.5, i+.5])\n",
      "    ax.axes.get_yaxis().set_visible(False)\n",
      "    ax.legend()\n",
      "    return fig, ax"
     ],
     "language": "python",
     "metadata": {},
     "outputs": [],
     "prompt_number": 7
    },
    {
     "cell_type": "code",
     "collapsed": false,
     "input": [
      "def sample_matched_pair(e1_min_rng=0, e2_min_rng=0, e2_max_rng=inf):\n",
      "    done = False\n",
      "    while not done:\n",
      "        e1_p = beta.rvs(5, 5)\n",
      "        e1_low, e1_high = sort(uniform.rvs(scale=80, loc=20, size=2))\n",
      "        \n",
      "        e1_ev = e1_p * e1_low + (1 - e1_p) * e1_high\n",
      "        #print e1_p, e1_low, e1_high, e1_ev\n",
      "        \n",
      "        e2_p = beta.rvs(5, 1)\n",
      "        e2_low = e1_low\n",
      "        e2_high = (e1_ev - e2_p * e2_low)/(1 - e2_p)\n",
      "        e2_ev = e2_p * e2_low + (1 - e2_p) * e2_high\n",
      "        #print e2_p, e2_low, e2_high, e2_ev\n",
      "        \n",
      "        if e2_high < 200 and (e2_high - e2_low) > e2_min_rng and (e2_high - e2_low) < e2_max_rng and (e1_high - e1_low) > e1_min_rng:\n",
      "            done = True\n",
      "    \n",
      "    return {\"e1\": (e1_low, e1_high, e1_p), \"e2\": (e2_low, e2_high, e2_p)}"
     ],
     "language": "python",
     "metadata": {},
     "outputs": [],
     "prompt_number": 8
    },
    {
     "cell_type": "code",
     "collapsed": false,
     "input": [
      "def sample_matched_gamble(lower_predictive=True, max_out=200, min_ev_difference=10, min_out_difference=10):\n",
      "    \n",
      "    done = False\n",
      "    while not done:\n",
      "        \n",
      "        # first option, both environments\n",
      "        e1_p = round(beta.rvs(5, 5), 5)\n",
      "        e1_low, e1_high = map(int, sort(uniform.rvs(scale=80, loc=20, size=2)))\n",
      "        e1_ev = round(e1_p * e1_low + (1 - e1_p) * e1_high, 2)\n",
      "        \n",
      "        e2_p = round(beta.rvs(5, 1), 5)\n",
      "        e2_low = e1_low\n",
      "        e2_high = int((e1_ev - e2_p * e2_low)/(1 - e2_p))\n",
      "        e2_ev = round(e2_p * e2_low + (1 - e2_p) * e2_high, 2)\n",
      "        \n",
      "        # second option, both environments\n",
      "        o2_e1_p = round(beta.rvs(5, 5), 5)\n",
      "        o2_e1_low, o2_e1_high = map(int, sort(uniform.rvs(scale=80, loc=20, size=2)))\n",
      "        o2_e1_ev = round(o2_e1_p * o2_e1_low + (1 - o2_e1_p) * o2_e1_high, 2)\n",
      "        \n",
      "        o2_e2_p = round(beta.rvs(5, 1), 5)\n",
      "        o2_e2_low = o2_e1_low\n",
      "        o2_e2_high = int((o2_e1_ev - o2_e2_p * o2_e2_low)/(1 - o2_e2_p))\n",
      "        o2_e2_ev = round(o2_e2_p * o2_e2_low + (1 - o2_e2_p) * o2_e2_high, 2)\n",
      "        \n",
      "        # check whether ordering of LOW outcomes is predictive \n",
      "        # of the better choice\n",
      "        low_outcome_order = [0 if e1_low > o2_e1_low else 1]\n",
      "        ev_order = [0 if e1_ev > o2_e1_ev else 1]\n",
      "        \n",
      "        # minimum difference between EV of options in a single gamble\n",
      "        min_ev_diff = np.min(np.abs([e1_ev - o2_e1_ev, e2_ev - o2_e2_ev]))\n",
      "        \n",
      "        # maximum outcome\n",
      "        max_outcome = np.max([e1_high, e2_high, o2_e1_high, o2_e2_high])\n",
      "        \n",
      "        # minimum difference between outcomes for a given optin\n",
      "        min_diff = np.min([e1_high - e1_low, e2_high - e2_low, o2_e1_high - o2_e1_low, o2_e2_high - o2_e2_low])\n",
      "        \n",
      "        # non-dominating\n",
      "        nondom = e1_low < o2_e1_high and o2_e1_low < e1_high and e2_low < o2_e2_high and o2_e2_low < e2_high\n",
      "        \n",
      "        if ((low_outcome_order == ev_order) == lower_predictive) and max_outcome < max_out and min_ev_diff > min_ev_difference and min_diff > min_out_difference and nondom:\n",
      "            done = True\n",
      "            #print min_ev_diff\n",
      "            #print e1_ev, e2_ev, o2_e1_ev, o2_e2_ev\n",
      "            \n",
      "    return {'e1': {'A': [e1_low, e1_high, e1_p, e1_ev], 'B': [o2_e1_low, o2_e1_high, o2_e1_p, o2_e1_ev]},\n",
      "            'e2': {'A': [e2_low, e2_high, e2_p, e2_ev], 'B': [o2_e2_low, o2_e2_high, o2_e2_p, o2_e2_ev]}}"
     ],
     "language": "python",
     "metadata": {},
     "outputs": [],
     "prompt_number": 8
    },
    {
     "cell_type": "code",
     "collapsed": false,
     "input": [
      "opt = sample_matched_gamble(lower_predictive=False)\n",
      "print 'e2 p:', opt['e2']['A'][2], opt['e2']['B'][2]\n",
      "print 'e2 high:', opt['e2']['A'][1], opt['e2']['B'][1]\n",
      "fig, ax = plot_gamble(opt['e1'])\n",
      "ax.set_title('Environment 1')\n",
      "\n",
      "fig, ax = plot_gamble(opt['e2'])\n",
      "ax.set_title('Environment 2')\n",
      "\n",
      "plt.show()"
     ],
     "language": "python",
     "metadata": {},
     "outputs": [
      {
       "output_type": "stream",
       "stream": "stdout",
       "text": [
        "e2 p: 0.58286 0.7638\n",
        "e2 high: 153 124\n"
       ]
      },
      {
       "metadata": {},
       "output_type": "display_data",
       "png": "[encoded data removed]",
       "text": [
        "<matplotlib.figure.Figure at 0x10fcf2e50>"
       ]
      },
      {
       "metadata": {},
       "output_type": "display_data",
       "png": "[encoded data removed]",
       "text": [
        "<matplotlib.figure.Figure at 0x110013510>"
       ]
      }
     ],
     "prompt_number": 9
    },
    {
     "cell_type": "code",
     "collapsed": false,
     "input": [
      "opt"
     ],
     "language": "python",
     "metadata": {},
     "outputs": [
      {
       "metadata": {},
       "output_type": "pyout",
       "prompt_number": 246,
       "text": [
        "{'e1': {'A': [38, 93, 0.38437, 71.86], 'B': [48, 60, 0.25743, 56.91]},\n",
        " 'e2': {'A': [38, 120, 0.58828, 71.76], 'B': [48, 106, 0.84836, 56.8]}}"
       ]
      }
     ],
     "prompt_number": 246
    },
    {
     "cell_type": "code",
     "collapsed": false,
     "input": [
      "opt_1 = []\n",
      "for i in range(50):\n",
      "    opt_1.append(sample_matched_gamble(lower_predictive=True))"
     ],
     "language": "python",
     "metadata": {},
     "outputs": [],
     "prompt_number": 10
    },
    {
     "cell_type": "code",
     "collapsed": false,
     "input": [
      "opt_2 = []\n",
      "for i in range(50):\n",
      "    opt_2.append(sample_matched_gamble(lower_predictive=False))"
     ],
     "language": "python",
     "metadata": {},
     "outputs": [],
     "prompt_number": 12
    },
    {
     "cell_type": "code",
     "collapsed": false,
     "input": [
      "for opt in opt_2:\n",
      "    plot_gamble(opt['e2'])"
     ],
     "language": "python",
     "metadata": {},
     "outputs": [
      {
       "output_type": "stream",
       "stream": "stderr",
       "text": [
        "/Users/markant/Library/Enthought/Canopy_64bit/User/lib/python2.7/site-packages/matplotlib/pyplot.py:412: RuntimeWarning: More than 20 figures have been opened. Figures created through the pyplot interface (`matplotlib.pyplot.figure`) are retained until explicitly closed and may consume too much memory. (To control this warning, see the rcParam `figure.max_num_figures`).\n",
        "  max_open_warning, RuntimeWarning)\n"
       ]
      },
      {
       "metadata": {},
       "output_type": "display_data",
       "png": "[encoded data removed]",
       "text": [
        "<matplotlib.figure.Figure at 0x1100750d0>"
       ]
      },
      {
       "metadata": {},
       "output_type": "display_data",
       "png": "[encoded data removed]",
       "text": [
        "<matplotlib.figure.Figure at 0x10fcf9f90>"
       ]
      },
      {
       "metadata": {},
       "output_type": "display_data",
       "png": "[encoded data removed]",
       "text": [
        "<matplotlib.figure.Figure at 0x10fcf9ad0>"
       ]
      },
      {
       "metadata": {},
       "output_type": "display_data",
       "png": "[encoded data removed]",
       "text": [
        "<matplotlib.figure.Figure at 0x110081250>"
       ]
      },
      {
       "metadata": {},
       "output_type": "display_data",
       "png": "[encoded data removed]",
       "text": [
        "<matplotlib.figure.Figure at 0x10fcbf590>"
       ]
      },
      {
       "metadata": {},
       "output_type": "display_data",
       "png": "[encoded data removed]",
       "text": [
        "<matplotlib.figure.Figure at 0x1100a7e10>"
       ]
      },
      {
       "metadata": {},
       "output_type": "display_data",
       "png": "[encoded data removed]",
       "text": [
        "<matplotlib.figure.Figure at 0x1100ad8d0>"
       ]
      },
      {
       "metadata": {},
       "output_type": "display_data",
       "png": "[encoded data removed]",
       "text": [
        "<matplotlib.figure.Figure at 0x110437e50>"
       ]
      },
      {
       "metadata": {},
       "output_type": "display_data",
       "png": "[encoded data removed]",
       "text": [
        "<matplotlib.figure.Figure at 0x1102a15d0>"
       ]
      },
      {
       "metadata": {},
       "output_type": "display_data",
       "png": "[encoded data removed]",
       "text": [
        "<matplotlib.figure.Figure at 0x110466e90>"
       ]
      },
      {
       "metadata": {},
       "output_type": "display_data",
       "png": "[encoded data removed]",
       "text": [
        "<matplotlib.figure.Figure at 0x11046dad0>"
       ]
      },
      {
       "metadata": {},
       "output_type": "display_data",
       "png": "[encoded data removed]",
       "text": [
        "<matplotlib.figure.Figure at 0x1104d7ed0>"
       ]
      },
      {
       "metadata": {},
       "output_type": "display_data",
       "png": "[encoded data removed]",
       "text": [
        "<matplotlib.figure.Figure at 0x1104dd710>"
       ]
      },
      {
       "metadata": {},
       "output_type": "display_data",
       "png": "[encoded data removed]",
       "text": [
        "<matplotlib.figure.Figure at 0x11134ff10>"
       ]
      },
      {
       "metadata": {},
       "output_type": "display_data",
       "png": "[encoded data removed]",
       "text": [
        "<matplotlib.figure.Figure at 0x111355b50>"
       ]
      },
      {
       "metadata": {},
       "output_type": "display_data",
       "png": "[encoded data removed]",
       "text": [
        "<matplotlib.figure.Figure at 0x1113acf50>"
       ]
      },
      {
       "metadata": {},
       "output_type": "display_data",
       "png": "[encoded data removed]",
       "text": [
        "<matplotlib.figure.Figure at 0x1113b1790>"
       ]
      },
      {
       "metadata": {},
       "output_type": "display_data",
       "png": "[encoded data removed]",
       "text": [
        "<matplotlib.figure.Figure at 0x111705f90>"
       ]
      },
      {
       "metadata": {},
       "output_type": "display_data",
       "png": "[encoded data removed]",
       "text": [
        "<matplotlib.figure.Figure at 0x11170dbd0>"
       ]
      },
      {
       "metadata": {},
       "output_type": "display_data",
       "png": "[encoded data removed]",
       "text": [
        "<matplotlib.figure.Figure at 0x111761fd0>"
       ]
      },
      {
       "metadata": {},
       "output_type": "display_data",
       "png": "[encoded data removed]",
       "text": [
        "<matplotlib.figure.Figure at 0x1117cb050>"
       ]
      },
      {
       "metadata": {},
       "output_type": "display_data",
       "png": "[encoded data removed]",
       "text": [
        "<matplotlib.figure.Figure at 0x1117f9550>"
       ]
      },
      {
       "metadata": {},
       "output_type": "display_data",
       "png": "[encoded data removed]",
       "text": [
        "<matplotlib.figure.Figure at 0x1117fed10>"
       ]
      },
      {
       "metadata": {},
       "output_type": "display_data",
       "png": "[encoded data removed]",
       "text": [
        "<matplotlib.figure.Figure at 0x111b54f90>"
       ]
      },
      {
       "metadata": {},
       "output_type": "display_data",
       "png": "[encoded data removed]",
       "text": [
        "<matplotlib.figure.Figure at 0x111b871d0>"
       ]
      },
      {
       "metadata": {},
       "output_type": "display_data",
       "png": "[encoded data removed]",
       "text": [
        "<matplotlib.figure.Figure at 0x111bb06d0>"
       ]
      },
      {
       "metadata": {},
       "output_type": "display_data",
       "png": "[encoded data removed]",
       "text": [
        "<matplotlib.figure.Figure at 0x111be4110>"
       ]
      },
      {
       "metadata": {},
       "output_type": "display_data",
       "png": "[encoded data removed]",
       "text": [
        "<matplotlib.figure.Figure at 0x111f0a710>"
       ]
      },
      {
       "metadata": {},
       "output_type": "display_data",
       "png": "[encoded data removed]",
       "text": [
        "<matplotlib.figure.Figure at 0x111f3c610>"
       ]
      },
      {
       "metadata": {},
       "output_type": "display_data",
       "png": "[encoded data removed]",
       "text": [
        "<matplotlib.figure.Figure at 0x111f668d0>"
       ]
      },
      {
       "metadata": {},
       "output_type": "display_data",
       "png": "[encoded data removed]",
       "text": [
        "<matplotlib.figure.Figure at 0x111f9b110>"
       ]
      },
      {
       "metadata": {},
       "output_type": "display_data",
       "png": "[encoded data removed]",
       "text": [
        "<matplotlib.figure.Figure at 0x111fc1910>"
       ]
      },
      {
       "metadata": {},
       "output_type": "display_data",
       "png": "[encoded data removed]",
       "text": [
        "<matplotlib.figure.Figure at 0x111ff2810>"
       ]
      },
      {
       "metadata": {},
       "output_type": "display_data",
       "png": "[encoded data removed]",
       "text": [
        "<matplotlib.figure.Figure at 0x11251dad0>"
       ]
      },
      {
       "metadata": {},
       "output_type": "display_data",
       "png": "[encoded data removed]",
       "text": [
        "<matplotlib.figure.Figure at 0x112552310>"
       ]
      },
      {
       "metadata": {},
       "output_type": "display_data",
       "png": "[encoded data removed]",
       "text": [
        "<matplotlib.figure.Figure at 0x112578b10>"
       ]
      },
      {
       "metadata": {},
       "output_type": "display_data",
       "png": "[encoded data removed]",
       "text": [
        "<matplotlib.figure.Figure at 0x1125aaa10>"
       ]
      },
      {
       "metadata": {},
       "output_type": "display_data",
       "png": "[encoded data removed]",
       "text": [
        "<matplotlib.figure.Figure at 0x1125d2cd0>"
       ]
      },
      {
       "metadata": {},
       "output_type": "display_data",
       "png": "[encoded data removed]",
       "text": [
        "<matplotlib.figure.Figure at 0x112909510>"
       ]
      },
      {
       "metadata": {},
       "output_type": "display_data",
       "png": "[encoded data removed]",
       "text": [
        "<matplotlib.figure.Figure at 0x11292fd10>"
       ]
      },
      {
       "metadata": {},
       "output_type": "display_data",
       "png": "[encoded data removed]",
       "text": [
        "<matplotlib.figure.Figure at 0x112961c10>"
       ]
      },
      {
       "metadata": {},
       "output_type": "display_data",
       "png": "[encoded data removed]",
       "text": [
        "<matplotlib.figure.Figure at 0x11298bed0>"
       ]
      },
      {
       "metadata": {},
       "output_type": "display_data",
       "png": "[encoded data removed]",
       "text": [
        "<matplotlib.figure.Figure at 0x1129be710>"
       ]
      },
      {
       "metadata": {},
       "output_type": "display_data",
       "png": "[encoded data removed]",
       "text": [
        "<matplotlib.figure.Figure at 0x1129e7f10>"
       ]
      },
      {
       "metadata": {},
       "output_type": "display_data",
       "png": "[encoded data removed]",
       "text": [
        "<matplotlib.figure.Figure at 0x112e18e10>"
       ]
      },
      {
       "metadata": {},
       "output_type": "display_data",
       "png": "[encoded data removed]",
       "text": [
        "<matplotlib.figure.Figure at 0x112e416d0>"
       ]
      },
      {
       "metadata": {},
       "output_type": "display_data",
       "png": "[encoded data removed]",
       "text": [
        "<matplotlib.figure.Figure at 0x112e72d50>"
       ]
      },
      {
       "metadata": {},
       "output_type": "display_data",
       "png": "[encoded data removed]",
       "text": [
        "<matplotlib.figure.Figure at 0x112ea0990>"
       ]
      },
      {
       "metadata": {},
       "output_type": "display_data",
       "png": "[encoded data removed]",
       "text": [
        "<matplotlib.figure.Figure at 0x112ed2c90>"
       ]
      },
      {
       "metadata": {},
       "output_type": "display_data",
       "png": "[encoded data removed]",
       "text": [
        "<matplotlib.figure.Figure at 0x112efd410>"
       ]
      }
     ],
     "prompt_number": 13
    },
    {
     "cell_type": "code",
     "collapsed": false,
     "input": [
      "recs = []\n",
      "for i, optset in enumerate(opt_1):\n",
      "    \n",
      "    r1 = [i, # index\n",
      "          0, # environment\n",
      "          optset['e1']['A'][0],\n",
      "          optset['e1']['A'][1],\n",
      "          optset['e1']['A'][2],\n",
      "          optset['e1']['A'][3],\n",
      "          optset['e1']['B'][0],\n",
      "          optset['e1']['B'][1],\n",
      "          optset['e1']['B'][2],\n",
      "          optset['e1']['B'][3]]\n",
      "    \n",
      "    r2 = [i, # index\n",
      "          1, # environment\n",
      "          optset['e2']['A'][0],\n",
      "          optset['e2']['A'][1],\n",
      "          optset['e2']['A'][2],\n",
      "          optset['e2']['A'][3],\n",
      "          optset['e2']['B'][0],\n",
      "          optset['e2']['B'][1],\n",
      "          optset['e2']['B'][2],\n",
      "          optset['e2']['B'][3]]\n",
      "\n",
      "    recs.append(r1)\n",
      "    recs.append(r2)\n",
      "    \n",
      "for i, optset in enumerate(opt_2):\n",
      "    \n",
      "    r1 = [i, # index\n",
      "          0, # environment\n",
      "          optset['e1']['A'][0],\n",
      "          optset['e1']['A'][1],\n",
      "          optset['e1']['A'][2],\n",
      "          optset['e1']['A'][3],\n",
      "          optset['e1']['B'][0],\n",
      "          optset['e1']['B'][1],\n",
      "          optset['e1']['B'][2],\n",
      "          optset['e1']['B'][3]]\n",
      "    \n",
      "    r2 = [i, # index\n",
      "          1, # environment\n",
      "          optset['e2']['A'][0],\n",
      "          optset['e2']['A'][1],\n",
      "          optset['e2']['A'][2],\n",
      "          optset['e2']['A'][3],\n",
      "          optset['e2']['B'][0],\n",
      "          optset['e2']['B'][1],\n",
      "          optset['e2']['B'][2],\n",
      "          optset['e2']['B'][3]]\n",
      "\n",
      "    recs.append(r1)\n",
      "    recs.append(r2)\n"
     ],
     "language": "python",
     "metadata": {},
     "outputs": [],
     "prompt_number": 14
    },
    {
     "cell_type": "code",
     "collapsed": false,
     "input": [
      "options = pd.DataFrame(recs, columns=['id', 'env', 'A_low', 'A_high', 'A_p', 'A_ev', 'B_low', 'B_high', 'B_p', 'B_ev'])"
     ],
     "language": "python",
     "metadata": {},
     "outputs": [],
     "prompt_number": 98
    },
    {
     "cell_type": "code",
     "collapsed": false,
     "input": [
      "options.head(20)"
     ],
     "language": "python",
     "metadata": {},
     "outputs": [
      {
       "html": [
        "<div style=\"max-height:1000px;max-width:1500px;overflow:auto;\">\n",
        "<table border=\"1\" class=\"dataframe\">\n",
        "  <thead>\n",
        "    <tr style=\"text-align: right;\">\n",
        "      <th></th>\n",
        "      <th>id</th>\n",
        "      <th>env</th>\n",
        "      <th>A_low</th>\n",
        "      <th>A_high</th>\n",
        "      <th>A_p</th>\n",
        "      <th>A_ev</th>\n",
        "      <th>B_low</th>\n",
        "      <th>B_high</th>\n",
        "      <th>B_p</th>\n",
        "      <th>B_ev</th>\n",
        "    </tr>\n",
        "  </thead>\n",
        "  <tbody>\n",
        "    <tr>\n",
        "      <th>0 </th>\n",
        "      <td> 0</td>\n",
        "      <td> 0</td>\n",
        "      <td> 26</td>\n",
        "      <td>  65</td>\n",
        "      <td> 0.75391</td>\n",
        "      <td> 35.60</td>\n",
        "      <td> 59</td>\n",
        "      <td>  86</td>\n",
        "      <td> 0.80866</td>\n",
        "      <td> 64.17</td>\n",
        "    </tr>\n",
        "    <tr>\n",
        "      <th>1 </th>\n",
        "      <td> 0</td>\n",
        "      <td> 1</td>\n",
        "      <td> 26</td>\n",
        "      <td>  94</td>\n",
        "      <td> 0.86057</td>\n",
        "      <td> 35.48</td>\n",
        "      <td> 59</td>\n",
        "      <td> 123</td>\n",
        "      <td> 0.92011</td>\n",
        "      <td> 64.11</td>\n",
        "    </tr>\n",
        "    <tr>\n",
        "      <th>2 </th>\n",
        "      <td> 1</td>\n",
        "      <td> 0</td>\n",
        "      <td> 72</td>\n",
        "      <td>  99</td>\n",
        "      <td> 0.62974</td>\n",
        "      <td> 82.00</td>\n",
        "      <td> 34</td>\n",
        "      <td>  84</td>\n",
        "      <td> 0.65554</td>\n",
        "      <td> 51.22</td>\n",
        "    </tr>\n",
        "    <tr>\n",
        "      <th>3 </th>\n",
        "      <td> 1</td>\n",
        "      <td> 1</td>\n",
        "      <td> 72</td>\n",
        "      <td>  96</td>\n",
        "      <td> 0.58999</td>\n",
        "      <td> 81.84</td>\n",
        "      <td> 34</td>\n",
        "      <td> 106</td>\n",
        "      <td> 0.76226</td>\n",
        "      <td> 51.12</td>\n",
        "    </tr>\n",
        "    <tr>\n",
        "      <th>4 </th>\n",
        "      <td> 2</td>\n",
        "      <td> 0</td>\n",
        "      <td> 20</td>\n",
        "      <td>  31</td>\n",
        "      <td> 0.45197</td>\n",
        "      <td> 26.03</td>\n",
        "      <td> 21</td>\n",
        "      <td>  83</td>\n",
        "      <td> 0.63990</td>\n",
        "      <td> 43.33</td>\n",
        "    </tr>\n",
        "    <tr>\n",
        "      <th>5 </th>\n",
        "      <td> 2</td>\n",
        "      <td> 1</td>\n",
        "      <td> 20</td>\n",
        "      <td>  36</td>\n",
        "      <td> 0.63945</td>\n",
        "      <td> 25.77</td>\n",
        "      <td> 21</td>\n",
        "      <td> 116</td>\n",
        "      <td> 0.76561</td>\n",
        "      <td> 43.27</td>\n",
        "    </tr>\n",
        "    <tr>\n",
        "      <th>6 </th>\n",
        "      <td> 3</td>\n",
        "      <td> 0</td>\n",
        "      <td> 58</td>\n",
        "      <td>  77</td>\n",
        "      <td> 0.57468</td>\n",
        "      <td> 66.08</td>\n",
        "      <td> 44</td>\n",
        "      <td>  79</td>\n",
        "      <td> 0.68732</td>\n",
        "      <td> 54.94</td>\n",
        "    </tr>\n",
        "    <tr>\n",
        "      <th>7 </th>\n",
        "      <td> 3</td>\n",
        "      <td> 1</td>\n",
        "      <td> 58</td>\n",
        "      <td> 132</td>\n",
        "      <td> 0.89169</td>\n",
        "      <td> 66.01</td>\n",
        "      <td> 44</td>\n",
        "      <td> 150</td>\n",
        "      <td> 0.89687</td>\n",
        "      <td> 54.93</td>\n",
        "    </tr>\n",
        "    <tr>\n",
        "      <th>8 </th>\n",
        "      <td> 4</td>\n",
        "      <td> 0</td>\n",
        "      <td> 28</td>\n",
        "      <td>  50</td>\n",
        "      <td> 0.45216</td>\n",
        "      <td> 40.05</td>\n",
        "      <td> 38</td>\n",
        "      <td>  73</td>\n",
        "      <td> 0.49321</td>\n",
        "      <td> 55.74</td>\n",
        "    </tr>\n",
        "    <tr>\n",
        "      <th>9 </th>\n",
        "      <td> 4</td>\n",
        "      <td> 1</td>\n",
        "      <td> 28</td>\n",
        "      <td>  67</td>\n",
        "      <td> 0.69684</td>\n",
        "      <td> 39.82</td>\n",
        "      <td> 38</td>\n",
        "      <td> 148</td>\n",
        "      <td> 0.83957</td>\n",
        "      <td> 55.65</td>\n",
        "    </tr>\n",
        "    <tr>\n",
        "      <th>10</th>\n",
        "      <td> 5</td>\n",
        "      <td> 0</td>\n",
        "      <td> 26</td>\n",
        "      <td>  86</td>\n",
        "      <td> 0.49456</td>\n",
        "      <td> 56.33</td>\n",
        "      <td> 67</td>\n",
        "      <td>  83</td>\n",
        "      <td> 0.19488</td>\n",
        "      <td> 79.88</td>\n",
        "    </tr>\n",
        "    <tr>\n",
        "      <th>11</th>\n",
        "      <td> 5</td>\n",
        "      <td> 1</td>\n",
        "      <td> 26</td>\n",
        "      <td> 180</td>\n",
        "      <td> 0.80380</td>\n",
        "      <td> 56.21</td>\n",
        "      <td> 67</td>\n",
        "      <td> 101</td>\n",
        "      <td> 0.62419</td>\n",
        "      <td> 79.78</td>\n",
        "    </tr>\n",
        "    <tr>\n",
        "      <th>12</th>\n",
        "      <td> 6</td>\n",
        "      <td> 0</td>\n",
        "      <td> 42</td>\n",
        "      <td>  69</td>\n",
        "      <td> 0.58281</td>\n",
        "      <td> 53.26</td>\n",
        "      <td> 50</td>\n",
        "      <td>  78</td>\n",
        "      <td> 0.31759</td>\n",
        "      <td> 69.11</td>\n",
        "    </tr>\n",
        "    <tr>\n",
        "      <th>13</th>\n",
        "      <td> 6</td>\n",
        "      <td> 1</td>\n",
        "      <td> 42</td>\n",
        "      <td> 118</td>\n",
        "      <td> 0.85295</td>\n",
        "      <td> 53.18</td>\n",
        "      <td> 50</td>\n",
        "      <td> 182</td>\n",
        "      <td> 0.85574</td>\n",
        "      <td> 69.04</td>\n",
        "    </tr>\n",
        "    <tr>\n",
        "      <th>14</th>\n",
        "      <td> 7</td>\n",
        "      <td> 0</td>\n",
        "      <td> 34</td>\n",
        "      <td>  51</td>\n",
        "      <td> 0.38018</td>\n",
        "      <td> 44.54</td>\n",
        "      <td> 47</td>\n",
        "      <td>  98</td>\n",
        "      <td> 0.63402</td>\n",
        "      <td> 65.66</td>\n",
        "    </tr>\n",
        "    <tr>\n",
        "      <th>15</th>\n",
        "      <td> 7</td>\n",
        "      <td> 1</td>\n",
        "      <td> 34</td>\n",
        "      <td>  75</td>\n",
        "      <td> 0.74770</td>\n",
        "      <td> 44.34</td>\n",
        "      <td> 47</td>\n",
        "      <td>  81</td>\n",
        "      <td> 0.45471</td>\n",
        "      <td> 65.54</td>\n",
        "    </tr>\n",
        "    <tr>\n",
        "      <th>16</th>\n",
        "      <td> 8</td>\n",
        "      <td> 0</td>\n",
        "      <td> 40</td>\n",
        "      <td>  94</td>\n",
        "      <td> 0.43730</td>\n",
        "      <td> 70.39</td>\n",
        "      <td> 32</td>\n",
        "      <td>  92</td>\n",
        "      <td> 0.78913</td>\n",
        "      <td> 44.65</td>\n",
        "    </tr>\n",
        "    <tr>\n",
        "      <th>17</th>\n",
        "      <td> 8</td>\n",
        "      <td> 1</td>\n",
        "      <td> 40</td>\n",
        "      <td> 199</td>\n",
        "      <td> 0.80980</td>\n",
        "      <td> 70.24</td>\n",
        "      <td> 32</td>\n",
        "      <td> 139</td>\n",
        "      <td> 0.88209</td>\n",
        "      <td> 44.62</td>\n",
        "    </tr>\n",
        "    <tr>\n",
        "      <th>18</th>\n",
        "      <td> 9</td>\n",
        "      <td> 0</td>\n",
        "      <td> 67</td>\n",
        "      <td>  79</td>\n",
        "      <td> 0.44980</td>\n",
        "      <td> 73.60</td>\n",
        "      <td> 39</td>\n",
        "      <td>  68</td>\n",
        "      <td> 0.59065</td>\n",
        "      <td> 50.87</td>\n",
        "    </tr>\n",
        "    <tr>\n",
        "      <th>19</th>\n",
        "      <td> 9</td>\n",
        "      <td> 1</td>\n",
        "      <td> 67</td>\n",
        "      <td>  78</td>\n",
        "      <td> 0.43576</td>\n",
        "      <td> 73.21</td>\n",
        "      <td> 39</td>\n",
        "      <td>  71</td>\n",
        "      <td> 0.63782</td>\n",
        "      <td> 50.59</td>\n",
        "    </tr>\n",
        "  </tbody>\n",
        "</table>\n",
        "</div>"
       ],
       "metadata": {},
       "output_type": "pyout",
       "prompt_number": 16,
       "text": [
        "    id  env  A_low  A_high      A_p   A_ev  B_low  B_high      B_p   B_ev\n",
        "0    0    0     26      65  0.75391  35.60     59      86  0.80866  64.17\n",
        "1    0    1     26      94  0.86057  35.48     59     123  0.92011  64.11\n",
        "2    1    0     72      99  0.62974  82.00     34      84  0.65554  51.22\n",
        "3    1    1     72      96  0.58999  81.84     34     106  0.76226  51.12\n",
        "4    2    0     20      31  0.45197  26.03     21      83  0.63990  43.33\n",
        "5    2    1     20      36  0.63945  25.77     21     116  0.76561  43.27\n",
        "6    3    0     58      77  0.57468  66.08     44      79  0.68732  54.94\n",
        "7    3    1     58     132  0.89169  66.01     44     150  0.89687  54.93\n",
        "8    4    0     28      50  0.45216  40.05     38      73  0.49321  55.74\n",
        "9    4    1     28      67  0.69684  39.82     38     148  0.83957  55.65\n",
        "10   5    0     26      86  0.49456  56.33     67      83  0.19488  79.88\n",
        "11   5    1     26     180  0.80380  56.21     67     101  0.62419  79.78\n",
        "12   6    0     42      69  0.58281  53.26     50      78  0.31759  69.11\n",
        "13   6    1     42     118  0.85295  53.18     50     182  0.85574  69.04\n",
        "14   7    0     34      51  0.38018  44.54     47      98  0.63402  65.66\n",
        "15   7    1     34      75  0.74770  44.34     47      81  0.45471  65.54\n",
        "16   8    0     40      94  0.43730  70.39     32      92  0.78913  44.65\n",
        "17   8    1     40     199  0.80980  70.24     32     139  0.88209  44.62\n",
        "18   9    0     67      79  0.44980  73.60     39      68  0.59065  50.87\n",
        "19   9    1     67      78  0.43576  73.21     39      71  0.63782  50.59"
       ]
      }
     ],
     "prompt_number": 16
    },
    {
     "cell_type": "code",
     "collapsed": false,
     "input": [
      "options.to_csv('exp1_option_sets.csv')"
     ],
     "language": "python",
     "metadata": {},
     "outputs": [],
     "prompt_number": 254
    },
    {
     "cell_type": "markdown",
     "metadata": {},
     "source": [
      "What should stimuli be like? \n",
      "\n",
      "1. Expected value matched across conditions\n",
      "\n",
      "2. The ordering of LOW outcomes predicts correct choice in only half of games\n",
      "\n"
     ]
    },
    {
     "cell_type": "code",
     "collapsed": false,
     "input": [
      "# say range of means is drawn uniformly between [20, 40]\n",
      "mu_rng = [20, 40]\n",
      "\n",
      "# say range of outcomes is truncated between [0, 100]\n",
      "x_rng = [0, 200]\n",
      "\n",
      "x = np.arange(x_rng[0], 1+x_rng[1])"
     ],
     "language": "python",
     "metadata": {},
     "outputs": [],
     "prompt_number": 2
    },
    {
     "cell_type": "markdown",
     "metadata": {},
     "source": [
      "In the normal environment, outcomes are drawn from a normal distribution"
     ]
    },
    {
     "cell_type": "code",
     "collapsed": false,
     "input": [
      "fig, ax = plt.subplots(1, 2, figsize=(8,2))\n",
      "y = [weibull_min.pdf(xi, 3, loc=10, scale=40) for xi in x]\n",
      "ax[0].plot(x, y, 'k')\n",
      "ax[0].fill_between(x, y, 0, color='.92')\n",
      "\n",
      "y = [weibull_min.pdf(xi, 3, loc=30, scale=20) for xi in x]\n",
      "ax[0].plot(x, y, 'k')\n",
      "ax[0].fill_between(x, y, 0, color='.80')\n",
      "ax[0].set_ylim(0, .1)\n",
      "ax[0].set_xlim(0, 100)\n",
      "\n",
      "y = [weibull_min.pdf(xi, 2, loc=0, scale=40) for xi in x]\n",
      "ax[1].plot(x, y, 'k')\n",
      "ax[1].fill_between(x, y, 0, color='.92')\n",
      "\n",
      "y = [weibull_min.pdf(xi, 4, loc=0, scale=40) for xi in x]\n",
      "ax[1].plot(x, y, 'k')\n",
      "ax[1].fill_between(x, y, 0, color='.80')\n",
      "ax[1].set_ylim(0, .05)\n",
      "ax[1].set_xlim(0, 100)\n",
      "\n",
      "plt.show()"
     ],
     "language": "python",
     "metadata": {},
     "outputs": [
      {
       "metadata": {},
       "output_type": "display_data",
       "png": "[encoded data removed]",
       "text": [
        "<matplotlib.figure.Figure at 0x10dd342d0>"
       ]
      }
     ],
     "prompt_number": 3
    },
    {
     "cell_type": "code",
     "collapsed": false,
     "input": [
      "X = weibull_min.rvs(2, loc=0, scale=50, size=10000)\n",
      "plt.hist(X)\n",
      "plt.show()"
     ],
     "language": "python",
     "metadata": {},
     "outputs": [
      {
       "metadata": {},
       "output_type": "display_data",
       "png": "[encoded data removed]",
       "text": [
        "<matplotlib.figure.Figure at 0x10f7caad0>"
       ]
      }
     ],
     "prompt_number": 38
    },
    {
     "cell_type": "code",
     "collapsed": false,
     "input": [
      "options"
     ],
     "language": "python",
     "metadata": {},
     "outputs": [
      {
       "metadata": {},
       "output_type": "pyout",
       "prompt_number": 97,
       "text": [
        "[array([ 26.     ,  65.     ,   0.75391]),\n",
        " array([ 59.     ,  86.     ,   0.80866])]"
       ]
      }
     ],
     "prompt_number": 97
    },
    {
     "cell_type": "markdown",
     "metadata": {},
     "source": [
      "## Model predictions based on option environment"
     ]
    },
    {
     "cell_type": "code",
     "collapsed": false,
     "input": [
      "from gambles import *\n",
      "from competitive import simulate_sample_mean"
     ],
     "language": "python",
     "metadata": {},
     "outputs": [],
     "prompt_number": 74
    },
    {
     "cell_type": "code",
     "collapsed": false,
     "input": [
      "options.head(20)"
     ],
     "language": "python",
     "metadata": {},
     "outputs": [
      {
       "html": [
        "<div style=\"max-height:1000px;max-width:1500px;overflow:auto;\">\n",
        "<table border=\"1\" class=\"dataframe\">\n",
        "  <thead>\n",
        "    <tr style=\"text-align: right;\">\n",
        "      <th></th>\n",
        "      <th>id</th>\n",
        "      <th>env</th>\n",
        "      <th>A_low</th>\n",
        "      <th>A_high</th>\n",
        "      <th>A_p</th>\n",
        "      <th>A_ev</th>\n",
        "      <th>B_low</th>\n",
        "      <th>B_high</th>\n",
        "      <th>B_p</th>\n",
        "      <th>B_ev</th>\n",
        "    </tr>\n",
        "  </thead>\n",
        "  <tbody>\n",
        "    <tr>\n",
        "      <th>0 </th>\n",
        "      <td> 0</td>\n",
        "      <td> 0</td>\n",
        "      <td> 26</td>\n",
        "      <td>  65</td>\n",
        "      <td> 0.75391</td>\n",
        "      <td> 35.60</td>\n",
        "      <td> 59</td>\n",
        "      <td>  86</td>\n",
        "      <td> 0.80866</td>\n",
        "      <td> 64.17</td>\n",
        "    </tr>\n",
        "    <tr>\n",
        "      <th>1 </th>\n",
        "      <td> 0</td>\n",
        "      <td> 1</td>\n",
        "      <td> 26</td>\n",
        "      <td>  94</td>\n",
        "      <td> 0.86057</td>\n",
        "      <td> 35.48</td>\n",
        "      <td> 59</td>\n",
        "      <td> 123</td>\n",
        "      <td> 0.92011</td>\n",
        "      <td> 64.11</td>\n",
        "    </tr>\n",
        "    <tr>\n",
        "      <th>2 </th>\n",
        "      <td> 1</td>\n",
        "      <td> 0</td>\n",
        "      <td> 72</td>\n",
        "      <td>  99</td>\n",
        "      <td> 0.62974</td>\n",
        "      <td> 82.00</td>\n",
        "      <td> 34</td>\n",
        "      <td>  84</td>\n",
        "      <td> 0.65554</td>\n",
        "      <td> 51.22</td>\n",
        "    </tr>\n",
        "    <tr>\n",
        "      <th>3 </th>\n",
        "      <td> 1</td>\n",
        "      <td> 1</td>\n",
        "      <td> 72</td>\n",
        "      <td>  96</td>\n",
        "      <td> 0.58999</td>\n",
        "      <td> 81.84</td>\n",
        "      <td> 34</td>\n",
        "      <td> 106</td>\n",
        "      <td> 0.76226</td>\n",
        "      <td> 51.12</td>\n",
        "    </tr>\n",
        "    <tr>\n",
        "      <th>4 </th>\n",
        "      <td> 2</td>\n",
        "      <td> 0</td>\n",
        "      <td> 20</td>\n",
        "      <td>  31</td>\n",
        "      <td> 0.45197</td>\n",
        "      <td> 26.03</td>\n",
        "      <td> 21</td>\n",
        "      <td>  83</td>\n",
        "      <td> 0.63990</td>\n",
        "      <td> 43.33</td>\n",
        "    </tr>\n",
        "    <tr>\n",
        "      <th>5 </th>\n",
        "      <td> 2</td>\n",
        "      <td> 1</td>\n",
        "      <td> 20</td>\n",
        "      <td>  36</td>\n",
        "      <td> 0.63945</td>\n",
        "      <td> 25.77</td>\n",
        "      <td> 21</td>\n",
        "      <td> 116</td>\n",
        "      <td> 0.76561</td>\n",
        "      <td> 43.27</td>\n",
        "    </tr>\n",
        "    <tr>\n",
        "      <th>6 </th>\n",
        "      <td> 3</td>\n",
        "      <td> 0</td>\n",
        "      <td> 58</td>\n",
        "      <td>  77</td>\n",
        "      <td> 0.57468</td>\n",
        "      <td> 66.08</td>\n",
        "      <td> 44</td>\n",
        "      <td>  79</td>\n",
        "      <td> 0.68732</td>\n",
        "      <td> 54.94</td>\n",
        "    </tr>\n",
        "    <tr>\n",
        "      <th>7 </th>\n",
        "      <td> 3</td>\n",
        "      <td> 1</td>\n",
        "      <td> 58</td>\n",
        "      <td> 132</td>\n",
        "      <td> 0.89169</td>\n",
        "      <td> 66.01</td>\n",
        "      <td> 44</td>\n",
        "      <td> 150</td>\n",
        "      <td> 0.89687</td>\n",
        "      <td> 54.93</td>\n",
        "    </tr>\n",
        "    <tr>\n",
        "      <th>8 </th>\n",
        "      <td> 4</td>\n",
        "      <td> 0</td>\n",
        "      <td> 28</td>\n",
        "      <td>  50</td>\n",
        "      <td> 0.45216</td>\n",
        "      <td> 40.05</td>\n",
        "      <td> 38</td>\n",
        "      <td>  73</td>\n",
        "      <td> 0.49321</td>\n",
        "      <td> 55.74</td>\n",
        "    </tr>\n",
        "    <tr>\n",
        "      <th>9 </th>\n",
        "      <td> 4</td>\n",
        "      <td> 1</td>\n",
        "      <td> 28</td>\n",
        "      <td>  67</td>\n",
        "      <td> 0.69684</td>\n",
        "      <td> 39.82</td>\n",
        "      <td> 38</td>\n",
        "      <td> 148</td>\n",
        "      <td> 0.83957</td>\n",
        "      <td> 55.65</td>\n",
        "    </tr>\n",
        "    <tr>\n",
        "      <th>10</th>\n",
        "      <td> 5</td>\n",
        "      <td> 0</td>\n",
        "      <td> 26</td>\n",
        "      <td>  86</td>\n",
        "      <td> 0.49456</td>\n",
        "      <td> 56.33</td>\n",
        "      <td> 67</td>\n",
        "      <td>  83</td>\n",
        "      <td> 0.19488</td>\n",
        "      <td> 79.88</td>\n",
        "    </tr>\n",
        "    <tr>\n",
        "      <th>11</th>\n",
        "      <td> 5</td>\n",
        "      <td> 1</td>\n",
        "      <td> 26</td>\n",
        "      <td> 180</td>\n",
        "      <td> 0.80380</td>\n",
        "      <td> 56.21</td>\n",
        "      <td> 67</td>\n",
        "      <td> 101</td>\n",
        "      <td> 0.62419</td>\n",
        "      <td> 79.78</td>\n",
        "    </tr>\n",
        "    <tr>\n",
        "      <th>12</th>\n",
        "      <td> 6</td>\n",
        "      <td> 0</td>\n",
        "      <td> 42</td>\n",
        "      <td>  69</td>\n",
        "      <td> 0.58281</td>\n",
        "      <td> 53.26</td>\n",
        "      <td> 50</td>\n",
        "      <td>  78</td>\n",
        "      <td> 0.31759</td>\n",
        "      <td> 69.11</td>\n",
        "    </tr>\n",
        "    <tr>\n",
        "      <th>13</th>\n",
        "      <td> 6</td>\n",
        "      <td> 1</td>\n",
        "      <td> 42</td>\n",
        "      <td> 118</td>\n",
        "      <td> 0.85295</td>\n",
        "      <td> 53.18</td>\n",
        "      <td> 50</td>\n",
        "      <td> 182</td>\n",
        "      <td> 0.85574</td>\n",
        "      <td> 69.04</td>\n",
        "    </tr>\n",
        "    <tr>\n",
        "      <th>14</th>\n",
        "      <td> 7</td>\n",
        "      <td> 0</td>\n",
        "      <td> 34</td>\n",
        "      <td>  51</td>\n",
        "      <td> 0.38018</td>\n",
        "      <td> 44.54</td>\n",
        "      <td> 47</td>\n",
        "      <td>  98</td>\n",
        "      <td> 0.63402</td>\n",
        "      <td> 65.66</td>\n",
        "    </tr>\n",
        "    <tr>\n",
        "      <th>15</th>\n",
        "      <td> 7</td>\n",
        "      <td> 1</td>\n",
        "      <td> 34</td>\n",
        "      <td>  75</td>\n",
        "      <td> 0.74770</td>\n",
        "      <td> 44.34</td>\n",
        "      <td> 47</td>\n",
        "      <td>  81</td>\n",
        "      <td> 0.45471</td>\n",
        "      <td> 65.54</td>\n",
        "    </tr>\n",
        "    <tr>\n",
        "      <th>16</th>\n",
        "      <td> 8</td>\n",
        "      <td> 0</td>\n",
        "      <td> 40</td>\n",
        "      <td>  94</td>\n",
        "      <td> 0.43730</td>\n",
        "      <td> 70.39</td>\n",
        "      <td> 32</td>\n",
        "      <td>  92</td>\n",
        "      <td> 0.78913</td>\n",
        "      <td> 44.65</td>\n",
        "    </tr>\n",
        "    <tr>\n",
        "      <th>17</th>\n",
        "      <td> 8</td>\n",
        "      <td> 1</td>\n",
        "      <td> 40</td>\n",
        "      <td> 199</td>\n",
        "      <td> 0.80980</td>\n",
        "      <td> 70.24</td>\n",
        "      <td> 32</td>\n",
        "      <td> 139</td>\n",
        "      <td> 0.88209</td>\n",
        "      <td> 44.62</td>\n",
        "    </tr>\n",
        "    <tr>\n",
        "      <th>18</th>\n",
        "      <td> 9</td>\n",
        "      <td> 0</td>\n",
        "      <td> 67</td>\n",
        "      <td>  79</td>\n",
        "      <td> 0.44980</td>\n",
        "      <td> 73.60</td>\n",
        "      <td> 39</td>\n",
        "      <td>  68</td>\n",
        "      <td> 0.59065</td>\n",
        "      <td> 50.87</td>\n",
        "    </tr>\n",
        "    <tr>\n",
        "      <th>19</th>\n",
        "      <td> 9</td>\n",
        "      <td> 1</td>\n",
        "      <td> 67</td>\n",
        "      <td>  78</td>\n",
        "      <td> 0.43576</td>\n",
        "      <td> 73.21</td>\n",
        "      <td> 39</td>\n",
        "      <td>  71</td>\n",
        "      <td> 0.63782</td>\n",
        "      <td> 50.59</td>\n",
        "    </tr>\n",
        "  </tbody>\n",
        "</table>\n",
        "</div>"
       ],
       "metadata": {},
       "output_type": "pyout",
       "prompt_number": 18,
       "text": [
        "    id  env  A_low  A_high      A_p   A_ev  B_low  B_high      B_p   B_ev\n",
        "0    0    0     26      65  0.75391  35.60     59      86  0.80866  64.17\n",
        "1    0    1     26      94  0.86057  35.48     59     123  0.92011  64.11\n",
        "2    1    0     72      99  0.62974  82.00     34      84  0.65554  51.22\n",
        "3    1    1     72      96  0.58999  81.84     34     106  0.76226  51.12\n",
        "4    2    0     20      31  0.45197  26.03     21      83  0.63990  43.33\n",
        "5    2    1     20      36  0.63945  25.77     21     116  0.76561  43.27\n",
        "6    3    0     58      77  0.57468  66.08     44      79  0.68732  54.94\n",
        "7    3    1     58     132  0.89169  66.01     44     150  0.89687  54.93\n",
        "8    4    0     28      50  0.45216  40.05     38      73  0.49321  55.74\n",
        "9    4    1     28      67  0.69684  39.82     38     148  0.83957  55.65\n",
        "10   5    0     26      86  0.49456  56.33     67      83  0.19488  79.88\n",
        "11   5    1     26     180  0.80380  56.21     67     101  0.62419  79.78\n",
        "12   6    0     42      69  0.58281  53.26     50      78  0.31759  69.11\n",
        "13   6    1     42     118  0.85295  53.18     50     182  0.85574  69.04\n",
        "14   7    0     34      51  0.38018  44.54     47      98  0.63402  65.66\n",
        "15   7    1     34      75  0.74770  44.34     47      81  0.45471  65.54\n",
        "16   8    0     40      94  0.43730  70.39     32      92  0.78913  44.65\n",
        "17   8    1     40     199  0.80980  70.24     32     139  0.88209  44.62\n",
        "18   9    0     67      79  0.44980  73.60     39      68  0.59065  50.87\n",
        "19   9    1     67      78  0.43576  73.21     39      71  0.63782  50.59"
       ]
      }
     ],
     "prompt_number": 18
    },
    {
     "cell_type": "code",
     "collapsed": false,
     "input": [
      "def error(opt, max_N):\n",
      "    return np.array([expected_absolute_error(opt, t) for t in range(1, max_N)])"
     ],
     "language": "python",
     "metadata": {},
     "outputs": []
    },
    {
     "cell_type": "code",
     "collapsed": false,
     "input": [
      "opt_A_env1 = options[options['env']==0][['A_low', 'A_high', 'A_p']].values\n",
      "opt_B_env1 = options[options['env']==0][['B_low', 'B_high', 'B_p']].values\n",
      "opt_A_env2 = options[options['env']==1][['A_low', 'A_high', 'A_p']].values\n",
      "opt_B_env2 = options[options['env']==1][['B_low', 'B_high', 'B_p']].values"
     ],
     "language": "python",
     "metadata": {},
     "outputs": [],
     "prompt_number": 39
    },
    {
     "cell_type": "code",
     "collapsed": false,
     "input": [
      "err_env1 = [np.array([expected_absolute_error(opt, t) for t in range(1, max_N)]) for opt in np.concatenate((opt_A_env1, opt_B_env1))]"
     ],
     "language": "python",
     "metadata": {},
     "outputs": [],
     "prompt_number": 40
    },
    {
     "cell_type": "code",
     "collapsed": false,
     "input": [
      "err_env2 = [np.array([expected_absolute_error(opt, t) for t in range(1, max_N)]) for opt in np.concatenate((opt_A_env2, opt_B_env2))]"
     ],
     "language": "python",
     "metadata": {},
     "outputs": [],
     "prompt_number": 41
    },
    {
     "cell_type": "code",
     "collapsed": false,
     "input": [
      "fig, ax = subplots()\n",
      "ax.plot(np.array(err_env1).mean(axis=0), label='env 1')\n",
      "ax.plot(np.array(err_env2).mean(axis=0), label='env 2')\n",
      "ax.legend()\n",
      "plt.show()"
     ],
     "language": "python",
     "metadata": {},
     "outputs": [
      {
       "metadata": {},
       "output_type": "display_data",
       "png": "[encoded data removed]",
       "text": [
        "<matplotlib.figure.Figure at 0x11458e7d0>"
       ]
      }
     ],
     "prompt_number": 44
    },
    {
     "cell_type": "code",
     "collapsed": false,
     "input": [
      "envs = ['env1', 'env2']\n",
      "N_ITER = 100\n",
      "T_MAX = 50\n",
      "avg_err = {'env1': err_env1, 'env2': err_env2}    "
     ],
     "language": "python",
     "metadata": {},
     "outputs": [],
     "prompt_number": 58
    },
    {
     "cell_type": "code",
     "collapsed": false,
     "input": [
      "env_options = {'env1': {'A': opt_A_env1, 'B': opt_B_env1}, \n",
      "               'env2': {'A': opt_A_env2, 'B': opt_B_env2}}"
     ],
     "language": "python",
     "metadata": {},
     "outputs": [],
     "prompt_number": 46
    },
    {
     "cell_type": "code",
     "collapsed": false,
     "input": [
      "env1_options = options[options['env']==0]\n",
      "env2_options = options[options['env']==1]"
     ],
     "language": "python",
     "metadata": {},
     "outputs": [],
     "prompt_number": 99
    },
    {
     "cell_type": "code",
     "collapsed": false,
     "input": [
      "env2_options.head(20)"
     ],
     "language": "python",
     "metadata": {},
     "outputs": [
      {
       "html": [
        "<div style=\"max-height:1000px;max-width:1500px;overflow:auto;\">\n",
        "<table border=\"1\" class=\"dataframe\">\n",
        "  <thead>\n",
        "    <tr style=\"text-align: right;\">\n",
        "      <th></th>\n",
        "      <th>id</th>\n",
        "      <th>env</th>\n",
        "      <th>A_low</th>\n",
        "      <th>A_high</th>\n",
        "      <th>A_p</th>\n",
        "      <th>A_ev</th>\n",
        "      <th>B_low</th>\n",
        "      <th>B_high</th>\n",
        "      <th>B_p</th>\n",
        "      <th>B_ev</th>\n",
        "    </tr>\n",
        "  </thead>\n",
        "  <tbody>\n",
        "    <tr>\n",
        "      <th>1 </th>\n",
        "      <td>  0</td>\n",
        "      <td> 1</td>\n",
        "      <td> 26</td>\n",
        "      <td>  94</td>\n",
        "      <td> 0.86057</td>\n",
        "      <td> 35.48</td>\n",
        "      <td> 59</td>\n",
        "      <td> 123</td>\n",
        "      <td> 0.92011</td>\n",
        "      <td> 64.11</td>\n",
        "    </tr>\n",
        "    <tr>\n",
        "      <th>3 </th>\n",
        "      <td>  1</td>\n",
        "      <td> 1</td>\n",
        "      <td> 72</td>\n",
        "      <td>  96</td>\n",
        "      <td> 0.58999</td>\n",
        "      <td> 81.84</td>\n",
        "      <td> 34</td>\n",
        "      <td> 106</td>\n",
        "      <td> 0.76226</td>\n",
        "      <td> 51.12</td>\n",
        "    </tr>\n",
        "    <tr>\n",
        "      <th>5 </th>\n",
        "      <td>  2</td>\n",
        "      <td> 1</td>\n",
        "      <td> 20</td>\n",
        "      <td>  36</td>\n",
        "      <td> 0.63945</td>\n",
        "      <td> 25.77</td>\n",
        "      <td> 21</td>\n",
        "      <td> 116</td>\n",
        "      <td> 0.76561</td>\n",
        "      <td> 43.27</td>\n",
        "    </tr>\n",
        "    <tr>\n",
        "      <th>7 </th>\n",
        "      <td>  3</td>\n",
        "      <td> 1</td>\n",
        "      <td> 58</td>\n",
        "      <td> 132</td>\n",
        "      <td> 0.89169</td>\n",
        "      <td> 66.01</td>\n",
        "      <td> 44</td>\n",
        "      <td> 150</td>\n",
        "      <td> 0.89687</td>\n",
        "      <td> 54.93</td>\n",
        "    </tr>\n",
        "    <tr>\n",
        "      <th>9 </th>\n",
        "      <td>  4</td>\n",
        "      <td> 1</td>\n",
        "      <td> 28</td>\n",
        "      <td>  67</td>\n",
        "      <td> 0.69684</td>\n",
        "      <td> 39.82</td>\n",
        "      <td> 38</td>\n",
        "      <td> 148</td>\n",
        "      <td> 0.83957</td>\n",
        "      <td> 55.65</td>\n",
        "    </tr>\n",
        "    <tr>\n",
        "      <th>11</th>\n",
        "      <td>  5</td>\n",
        "      <td> 1</td>\n",
        "      <td> 26</td>\n",
        "      <td> 180</td>\n",
        "      <td> 0.80380</td>\n",
        "      <td> 56.21</td>\n",
        "      <td> 67</td>\n",
        "      <td> 101</td>\n",
        "      <td> 0.62419</td>\n",
        "      <td> 79.78</td>\n",
        "    </tr>\n",
        "    <tr>\n",
        "      <th>13</th>\n",
        "      <td>  6</td>\n",
        "      <td> 1</td>\n",
        "      <td> 42</td>\n",
        "      <td> 118</td>\n",
        "      <td> 0.85295</td>\n",
        "      <td> 53.18</td>\n",
        "      <td> 50</td>\n",
        "      <td> 182</td>\n",
        "      <td> 0.85574</td>\n",
        "      <td> 69.04</td>\n",
        "    </tr>\n",
        "    <tr>\n",
        "      <th>15</th>\n",
        "      <td>  7</td>\n",
        "      <td> 1</td>\n",
        "      <td> 34</td>\n",
        "      <td>  75</td>\n",
        "      <td> 0.74770</td>\n",
        "      <td> 44.34</td>\n",
        "      <td> 47</td>\n",
        "      <td>  81</td>\n",
        "      <td> 0.45471</td>\n",
        "      <td> 65.54</td>\n",
        "    </tr>\n",
        "    <tr>\n",
        "      <th>17</th>\n",
        "      <td>  8</td>\n",
        "      <td> 1</td>\n",
        "      <td> 40</td>\n",
        "      <td> 199</td>\n",
        "      <td> 0.80980</td>\n",
        "      <td> 70.24</td>\n",
        "      <td> 32</td>\n",
        "      <td> 139</td>\n",
        "      <td> 0.88209</td>\n",
        "      <td> 44.62</td>\n",
        "    </tr>\n",
        "    <tr>\n",
        "      <th>19</th>\n",
        "      <td>  9</td>\n",
        "      <td> 1</td>\n",
        "      <td> 67</td>\n",
        "      <td>  78</td>\n",
        "      <td> 0.43576</td>\n",
        "      <td> 73.21</td>\n",
        "      <td> 39</td>\n",
        "      <td>  71</td>\n",
        "      <td> 0.63782</td>\n",
        "      <td> 50.59</td>\n",
        "    </tr>\n",
        "    <tr>\n",
        "      <th>21</th>\n",
        "      <td> 10</td>\n",
        "      <td> 1</td>\n",
        "      <td> 55</td>\n",
        "      <td> 154</td>\n",
        "      <td> 0.79008</td>\n",
        "      <td> 75.78</td>\n",
        "      <td> 22</td>\n",
        "      <td>  76</td>\n",
        "      <td> 0.63512</td>\n",
        "      <td> 41.70</td>\n",
        "    </tr>\n",
        "    <tr>\n",
        "      <th>23</th>\n",
        "      <td> 11</td>\n",
        "      <td> 1</td>\n",
        "      <td> 54</td>\n",
        "      <td> 145</td>\n",
        "      <td> 0.71620</td>\n",
        "      <td> 79.83</td>\n",
        "      <td> 43</td>\n",
        "      <td> 182</td>\n",
        "      <td> 0.82762</td>\n",
        "      <td> 66.96</td>\n",
        "    </tr>\n",
        "    <tr>\n",
        "      <th>25</th>\n",
        "      <td> 12</td>\n",
        "      <td> 1</td>\n",
        "      <td> 57</td>\n",
        "      <td> 191</td>\n",
        "      <td> 0.94364</td>\n",
        "      <td> 64.55</td>\n",
        "      <td> 69</td>\n",
        "      <td> 126</td>\n",
        "      <td> 0.76236</td>\n",
        "      <td> 82.55</td>\n",
        "    </tr>\n",
        "    <tr>\n",
        "      <th>27</th>\n",
        "      <td> 13</td>\n",
        "      <td> 1</td>\n",
        "      <td> 55</td>\n",
        "      <td>  84</td>\n",
        "      <td> 0.74458</td>\n",
        "      <td> 62.41</td>\n",
        "      <td> 47</td>\n",
        "      <td>  65</td>\n",
        "      <td> 0.70933</td>\n",
        "      <td> 52.23</td>\n",
        "    </tr>\n",
        "    <tr>\n",
        "      <th>29</th>\n",
        "      <td> 14</td>\n",
        "      <td> 1</td>\n",
        "      <td> 70</td>\n",
        "      <td> 116</td>\n",
        "      <td> 0.68138</td>\n",
        "      <td> 84.66</td>\n",
        "      <td> 20</td>\n",
        "      <td> 194</td>\n",
        "      <td> 0.82311</td>\n",
        "      <td> 50.78</td>\n",
        "    </tr>\n",
        "    <tr>\n",
        "      <th>31</th>\n",
        "      <td> 15</td>\n",
        "      <td> 1</td>\n",
        "      <td> 48</td>\n",
        "      <td> 137</td>\n",
        "      <td> 0.82981</td>\n",
        "      <td> 63.15</td>\n",
        "      <td> 64</td>\n",
        "      <td>  95</td>\n",
        "      <td> 0.70406</td>\n",
        "      <td> 73.17</td>\n",
        "    </tr>\n",
        "    <tr>\n",
        "      <th>33</th>\n",
        "      <td> 16</td>\n",
        "      <td> 1</td>\n",
        "      <td> 28</td>\n",
        "      <td> 101</td>\n",
        "      <td> 0.75668</td>\n",
        "      <td> 45.76</td>\n",
        "      <td> 22</td>\n",
        "      <td>  61</td>\n",
        "      <td> 0.65102</td>\n",
        "      <td> 35.61</td>\n",
        "    </tr>\n",
        "    <tr>\n",
        "      <th>35</th>\n",
        "      <td> 17</td>\n",
        "      <td> 1</td>\n",
        "      <td> 48</td>\n",
        "      <td> 165</td>\n",
        "      <td> 0.86693</td>\n",
        "      <td> 63.57</td>\n",
        "      <td> 71</td>\n",
        "      <td> 136</td>\n",
        "      <td> 0.87287</td>\n",
        "      <td> 79.26</td>\n",
        "    </tr>\n",
        "    <tr>\n",
        "      <th>37</th>\n",
        "      <td> 18</td>\n",
        "      <td> 1</td>\n",
        "      <td> 53</td>\n",
        "      <td> 114</td>\n",
        "      <td> 0.71637</td>\n",
        "      <td> 70.30</td>\n",
        "      <td> 42</td>\n",
        "      <td> 114</td>\n",
        "      <td> 0.92100</td>\n",
        "      <td> 47.69</td>\n",
        "    </tr>\n",
        "    <tr>\n",
        "      <th>39</th>\n",
        "      <td> 19</td>\n",
        "      <td> 1</td>\n",
        "      <td> 27</td>\n",
        "      <td>  90</td>\n",
        "      <td> 0.75485</td>\n",
        "      <td> 42.44</td>\n",
        "      <td> 46</td>\n",
        "      <td> 144</td>\n",
        "      <td> 0.80226</td>\n",
        "      <td> 65.38</td>\n",
        "    </tr>\n",
        "  </tbody>\n",
        "</table>\n",
        "</div>"
       ],
       "metadata": {},
       "output_type": "pyout",
       "prompt_number": 100,
       "text": [
        "    id  env  A_low  A_high      A_p   A_ev  B_low  B_high      B_p   B_ev\n",
        "1    0    1     26      94  0.86057  35.48     59     123  0.92011  64.11\n",
        "3    1    1     72      96  0.58999  81.84     34     106  0.76226  51.12\n",
        "5    2    1     20      36  0.63945  25.77     21     116  0.76561  43.27\n",
        "7    3    1     58     132  0.89169  66.01     44     150  0.89687  54.93\n",
        "9    4    1     28      67  0.69684  39.82     38     148  0.83957  55.65\n",
        "11   5    1     26     180  0.80380  56.21     67     101  0.62419  79.78\n",
        "13   6    1     42     118  0.85295  53.18     50     182  0.85574  69.04\n",
        "15   7    1     34      75  0.74770  44.34     47      81  0.45471  65.54\n",
        "17   8    1     40     199  0.80980  70.24     32     139  0.88209  44.62\n",
        "19   9    1     67      78  0.43576  73.21     39      71  0.63782  50.59\n",
        "21  10    1     55     154  0.79008  75.78     22      76  0.63512  41.70\n",
        "23  11    1     54     145  0.71620  79.83     43     182  0.82762  66.96\n",
        "25  12    1     57     191  0.94364  64.55     69     126  0.76236  82.55\n",
        "27  13    1     55      84  0.74458  62.41     47      65  0.70933  52.23\n",
        "29  14    1     70     116  0.68138  84.66     20     194  0.82311  50.78\n",
        "31  15    1     48     137  0.82981  63.15     64      95  0.70406  73.17\n",
        "33  16    1     28     101  0.75668  45.76     22      61  0.65102  35.61\n",
        "35  17    1     48     165  0.86693  63.57     71     136  0.87287  79.26\n",
        "37  18    1     53     114  0.71637  70.30     42     114  0.92100  47.69\n",
        "39  19    1     27      90  0.75485  42.44     46     144  0.80226  65.38"
       ]
      }
     ],
     "prompt_number": 100
    },
    {
     "cell_type": "code",
     "collapsed": false,
     "input": [
      "ev_A = env1_options.ix[0][['A_ev']].values[0]\n",
      "ev_B = env1_options.ix[0][['B_ev']].values[0]\n",
      "\n",
      "opt_A = env1_options.ix[0][['A_low', 'A_high', 'A_p']].values\n",
      "opt_B = env1_options.ix[0][['B_low', 'B_high', 'B_p']].values"
     ],
     "language": "python",
     "metadata": {},
     "outputs": [],
     "prompt_number": 70
    },
    {
     "cell_type": "code",
     "collapsed": false,
     "input": [
      "exp_error_A = [expected_absolute_error(opt_A, t) for t in range(1, T_MAX)]\n",
      "exp_error_B = [expected_absolute_error(opt_B, t) for t in range(1, T_MAX)]"
     ],
     "language": "python",
     "metadata": {},
     "outputs": [],
     "prompt_number": 62
    },
    {
     "cell_type": "code",
     "collapsed": false,
     "input": [
      "fig, ax = subplots()\n",
      "ax.plot(np.array(exp_error_A), label='A')\n",
      "ax.plot(np.array(exp_error_B), label='B')\n",
      "ax.legend()\n",
      "plt.show()"
     ],
     "language": "python",
     "metadata": {},
     "outputs": [
      {
       "metadata": {},
       "output_type": "display_data",
       "png": "[encoded data removed]",
       "text": [
        "<matplotlib.figure.Figure at 0x112910cd0>"
       ]
      }
     ],
     "prompt_number": 65
    },
    {
     "cell_type": "code",
     "collapsed": false,
     "input": [
      "def sim_obtained_value(opt, C=2, target_trial=0, comp_env='uniform'):\n",
      "    \"\"\"Agent-based simulation, returning the obtained loss relative to best option\n",
      "    opt: option set\n",
      "    \n",
      "    Keyword args:\n",
      "    C -- number of competitors (in addition to self)\n",
      "    target_trial -- trial on which loss is evaluated\n",
      "    comp_env -- the competition environment; belief about others' stopping\n",
      "    \"\"\"\n",
      "\n",
      "    ev_A = opt[['A_ev']].values[0]\n",
      "    ev_B = opt[['B_ev']].values[0]\n",
      "    \n",
      "    opt_A = opt[['A_low', 'A_high', 'A_p']].values\n",
      "    opt_B = opt[['B_low', 'B_high', 'B_p']].values\n",
      "    options = [opt_A, opt_B]\n",
      "    expected_values = [ev_A, ev_B]\n",
      "    \n",
      "    stoptrials = np.random.randint(1, T_MAX, C)\n",
      "    consumed = []\n",
      "    \n",
      "    for trial in range(1, target_trial):\n",
      "        \n",
      "        # number of people stopping on this trial\n",
      "        n_stopping = np.sum(stoptrials==trial)\n",
      "        \n",
      "        # get preference orders for all stopping competitors\n",
      "        pref_orders = []\n",
      "        for i in range(n_stopping):\n",
      "            \n",
      "            # assign sampling trials to options\n",
      "            sampled_options = np.random.choice(range(len(options)), trial)\n",
      "    \n",
      "            # count samples per option\n",
      "            n_sample_by_option = [np.sum(sampled_options==i) for i in range(len(options))]\n",
      "            \n",
      "            # get estimated value of each option based on # of samples\n",
      "            est_value = np.array([simulate_sample_mean(options[i], n_sample_by_option[i]) for i in range(len(options))])\n",
      "            pref_orders.append((-est_value).argsort())\n",
      "            \n",
      "        # get choice order for competitors\n",
      "        choice_order = range(n_stopping)\n",
      "        shuffle(choice_order)\n",
      "        \n",
      "        # for each chooser, go through ranked preferences and \n",
      "        # consume the first one that is available\n",
      "        for chooser in choice_order:\n",
      "            \n",
      "            done = False\n",
      "            i = -1\n",
      "            while not done:\n",
      "                i += 1\n",
      "                if pref_orders[chooser][i] not in consumed:\n",
      "                    consumed.append(pref_orders[chooser][i])\n",
      "                    done = True  \n",
      "    \n",
      "    # now for target trial, do the same while including self\n",
      "    n_stopping = np.sum(stoptrials==target_trial)\n",
      "    \n",
      "    # get preference orders for all stopping competitors, including self\n",
      "    pref_orders = []\n",
      "    \n",
      "    # assign sampling trials to options\n",
      "    own_sampled_options = np.random.choice(range(len(options)), target_trial)\n",
      "            \n",
      "    # count samples per option\n",
      "    own_n_sample_by_option = [np.sum(own_sampled_options==i) for i in range(len(options))]\n",
      "            \n",
      "    # get estimated value of each option based on # of samples\n",
      "    own_est_value = np.array([simulate_sample_mean(options[i], own_n_sample_by_option[i]) for i in range(len(options))])\n",
      "    own_pref_order = (-own_est_value).argsort()\n",
      "    pref_orders.append(own_pref_order)\n",
      "        \n",
      "    for i in range(n_stopping):\n",
      "        \n",
      "        # assign sampling trials to options\n",
      "        sampled_options = np.random.choice(range(len(options)), target_trial)\n",
      "    \n",
      "        # count samples per option\n",
      "        n_sample_by_option = [np.sum(sampled_options==i) for i in range(len(options))]\n",
      "        \n",
      "        # get estimated value of each option based on # of samples\n",
      "        est_value = np.array([simulate_sample_mean(options[i], n_sample_by_option[i]) for i in range(len(options))])\n",
      "        pref_orders.append((-est_value).argsort())\n",
      "    \n",
      "    \n",
      "    # sample a choice order for self (0) and competitors\n",
      "    choice_order = range(n_stopping + 1)\n",
      "    shuffle(choice_order)\n",
      "    \n",
      "    obtained_value = None\n",
      "    for chooser in choice_order:\n",
      "        \n",
      "        done = False\n",
      "        i = -1\n",
      "        while not done:\n",
      "            i += 1\n",
      "            option_index = pref_orders[chooser][i]\n",
      "            if option_index not in consumed:\n",
      "                consumed.append(option_index)\n",
      "                done = True\n",
      "                \n",
      "                if chooser == 0:\n",
      "                    obtained_value = expected_values[option_index]\n",
      "    \n",
      "    best = np.max(expected_values)\n",
      "    return best - obtained_value"
     ],
     "language": "python",
     "metadata": {},
     "outputs": [],
     "prompt_number": 87
    },
    {
     "cell_type": "code",
     "collapsed": false,
     "input": [
      "env2_options.iloc[0]"
     ],
     "language": "python",
     "metadata": {},
     "outputs": [
      {
       "metadata": {},
       "output_type": "pyout",
       "prompt_number": 106,
       "text": [
        "id          0.00000\n",
        "env         1.00000\n",
        "A_low      26.00000\n",
        "A_high     94.00000\n",
        "A_p         0.86057\n",
        "A_ev       35.48000\n",
        "B_low      59.00000\n",
        "B_high    123.00000\n",
        "B_p         0.92011\n",
        "B_ev       64.11000\n",
        "Name: 1, dtype: float64"
       ]
      }
     ],
     "prompt_number": 106
    },
    {
     "cell_type": "code",
     "collapsed": false,
     "input": [
      "ind = 3\n",
      "opt = env1_options.iloc[ind]\n",
      "v1 = np.zeros((N_ITER, T_MAX), float)\n",
      "for i in range(N_ITER):\n",
      "    v1[i,:] = np.array([sim_obtained_value(opt, C=0, target_trial=t) for t in range(T_MAX)])\n",
      "    \n",
      "opt = env2_options.iloc[ind]\n",
      "v2 = np.zeros((N_ITER, T_MAX), float)\n",
      "for i in range(N_ITER):\n",
      "    v2[i,:] = np.array([sim_obtained_value(opt, C=0, target_trial=t) for t in range(T_MAX)])\n",
      "    \n",
      "fig, ax = plt.subplots()\n",
      "ax.plot(v1.mean(axis=0))\n",
      "ax.plot(v2.mean(axis=0))\n",
      "plt.show()"
     ],
     "language": "python",
     "metadata": {},
     "outputs": [
      {
       "metadata": {},
       "output_type": "display_data",
       "png": "[encoded data removed]",
       "text": [
        "<matplotlib.figure.Figure at 0x11170de50>"
       ]
      }
     ],
     "prompt_number": 116
    },
    {
     "cell_type": "code",
     "collapsed": false,
     "input": [
      "n_opt = env1_options.shape[0]\n",
      "v1 = np.zeros((n_opt, T_MAX), float)\n",
      "for i in range(env1_options.shape[0]):\n",
      "    print '%s/%s' % (i, n_opt)\n",
      "    for t in range(T_MAX):\n",
      "        v1[i,t] = np.mean([sim_obtained_value(env1_options.iloc[i], C=0, target_trial=t) for _ in range(N_ITER)])"
     ],
     "language": "python",
     "metadata": {},
     "outputs": [
      {
       "output_type": "stream",
       "stream": "stdout",
       "text": [
        "0/100\n",
        "1/100"
       ]
      },
      {
       "output_type": "stream",
       "stream": "stdout",
       "text": [
        "\n",
        "2/100"
       ]
      },
      {
       "output_type": "stream",
       "stream": "stdout",
       "text": [
        "\n",
        "3/100"
       ]
      },
      {
       "output_type": "stream",
       "stream": "stdout",
       "text": [
        "\n",
        "4/100"
       ]
      },
      {
       "output_type": "stream",
       "stream": "stdout",
       "text": [
        "\n",
        "5/100"
       ]
      },
      {
       "output_type": "stream",
       "stream": "stdout",
       "text": [
        "\n",
        "6/100"
       ]
      },
      {
       "output_type": "stream",
       "stream": "stdout",
       "text": [
        "\n",
        "7/100"
       ]
      },
      {
       "output_type": "stream",
       "stream": "stdout",
       "text": [
        "\n",
        "8/100"
       ]
      },
      {
       "output_type": "stream",
       "stream": "stdout",
       "text": [
        "\n",
        "9/100"
       ]
      },
      {
       "output_type": "stream",
       "stream": "stdout",
       "text": [
        "\n",
        "10/100"
       ]
      },
      {
       "output_type": "stream",
       "stream": "stdout",
       "text": [
        "\n",
        "11/100"
       ]
      },
      {
       "output_type": "stream",
       "stream": "stdout",
       "text": [
        "\n",
        "12/100"
       ]
      },
      {
       "output_type": "stream",
       "stream": "stdout",
       "text": [
        "\n",
        "13/100"
       ]
      },
      {
       "output_type": "stream",
       "stream": "stdout",
       "text": [
        "\n",
        "14/100"
       ]
      },
      {
       "output_type": "stream",
       "stream": "stdout",
       "text": [
        "\n",
        "15/100"
       ]
      },
      {
       "output_type": "stream",
       "stream": "stdout",
       "text": [
        "\n",
        "16/100"
       ]
      },
      {
       "output_type": "stream",
       "stream": "stdout",
       "text": [
        "\n",
        "17/100"
       ]
      },
      {
       "output_type": "stream",
       "stream": "stdout",
       "text": [
        "\n",
        "18/100"
       ]
      },
      {
       "output_type": "stream",
       "stream": "stdout",
       "text": [
        "\n",
        "19/100"
       ]
      },
      {
       "output_type": "stream",
       "stream": "stdout",
       "text": [
        "\n",
        "20/100"
       ]
      },
      {
       "output_type": "stream",
       "stream": "stdout",
       "text": [
        "\n",
        "21/100"
       ]
      },
      {
       "output_type": "stream",
       "stream": "stdout",
       "text": [
        "\n",
        "22/100"
       ]
      },
      {
       "output_type": "stream",
       "stream": "stdout",
       "text": [
        "\n",
        "23/100"
       ]
      },
      {
       "output_type": "stream",
       "stream": "stdout",
       "text": [
        "\n",
        "24/100"
       ]
      },
      {
       "output_type": "stream",
       "stream": "stdout",
       "text": [
        "\n",
        "25/100"
       ]
      },
      {
       "output_type": "stream",
       "stream": "stdout",
       "text": [
        "\n",
        "26/100"
       ]
      },
      {
       "output_type": "stream",
       "stream": "stdout",
       "text": [
        "\n",
        "27/100"
       ]
      },
      {
       "output_type": "stream",
       "stream": "stdout",
       "text": [
        "\n",
        "28/100"
       ]
      },
      {
       "output_type": "stream",
       "stream": "stdout",
       "text": [
        "\n",
        "29/100"
       ]
      },
      {
       "output_type": "stream",
       "stream": "stdout",
       "text": [
        "\n",
        "30/100"
       ]
      },
      {
       "output_type": "stream",
       "stream": "stdout",
       "text": [
        "\n",
        "31/100"
       ]
      },
      {
       "output_type": "stream",
       "stream": "stdout",
       "text": [
        "\n",
        "32/100"
       ]
      },
      {
       "output_type": "stream",
       "stream": "stdout",
       "text": [
        "\n",
        "33/100"
       ]
      },
      {
       "output_type": "stream",
       "stream": "stdout",
       "text": [
        "\n",
        "34/100"
       ]
      },
      {
       "output_type": "stream",
       "stream": "stdout",
       "text": [
        "\n",
        "35/100"
       ]
      },
      {
       "output_type": "stream",
       "stream": "stdout",
       "text": [
        "\n",
        "36/100"
       ]
      },
      {
       "output_type": "stream",
       "stream": "stdout",
       "text": [
        "\n",
        "37/100"
       ]
      },
      {
       "output_type": "stream",
       "stream": "stdout",
       "text": [
        "\n",
        "38/100"
       ]
      },
      {
       "output_type": "stream",
       "stream": "stdout",
       "text": [
        "\n",
        "39/100"
       ]
      },
      {
       "output_type": "stream",
       "stream": "stdout",
       "text": [
        "\n",
        "40/100"
       ]
      },
      {
       "output_type": "stream",
       "stream": "stdout",
       "text": [
        "\n",
        "41/100"
       ]
      },
      {
       "output_type": "stream",
       "stream": "stdout",
       "text": [
        "\n",
        "42/100"
       ]
      },
      {
       "output_type": "stream",
       "stream": "stdout",
       "text": [
        "\n",
        "43/100"
       ]
      },
      {
       "output_type": "stream",
       "stream": "stdout",
       "text": [
        "\n",
        "44/100"
       ]
      },
      {
       "output_type": "stream",
       "stream": "stdout",
       "text": [
        "\n",
        "45/100"
       ]
      },
      {
       "output_type": "stream",
       "stream": "stdout",
       "text": [
        "\n",
        "46/100"
       ]
      },
      {
       "output_type": "stream",
       "stream": "stdout",
       "text": [
        "\n",
        "47/100"
       ]
      },
      {
       "output_type": "stream",
       "stream": "stdout",
       "text": [
        "\n",
        "48/100"
       ]
      },
      {
       "output_type": "stream",
       "stream": "stdout",
       "text": [
        "\n",
        "49/100"
       ]
      },
      {
       "output_type": "stream",
       "stream": "stdout",
       "text": [
        "\n",
        "50/100"
       ]
      },
      {
       "output_type": "stream",
       "stream": "stdout",
       "text": [
        "\n",
        "51/100"
       ]
      },
      {
       "output_type": "stream",
       "stream": "stdout",
       "text": [
        "\n",
        "52/100"
       ]
      },
      {
       "output_type": "stream",
       "stream": "stdout",
       "text": [
        "\n",
        "53/100"
       ]
      },
      {
       "output_type": "stream",
       "stream": "stdout",
       "text": [
        "\n",
        "54/100"
       ]
      },
      {
       "output_type": "stream",
       "stream": "stdout",
       "text": [
        "\n",
        "55/100"
       ]
      },
      {
       "output_type": "stream",
       "stream": "stdout",
       "text": [
        "\n",
        "56/100"
       ]
      },
      {
       "output_type": "stream",
       "stream": "stdout",
       "text": [
        "\n",
        "57/100"
       ]
      },
      {
       "output_type": "stream",
       "stream": "stdout",
       "text": [
        "\n",
        "58/100"
       ]
      },
      {
       "output_type": "stream",
       "stream": "stdout",
       "text": [
        "\n",
        "59/100"
       ]
      },
      {
       "output_type": "stream",
       "stream": "stdout",
       "text": [
        "\n",
        "60/100"
       ]
      },
      {
       "output_type": "stream",
       "stream": "stdout",
       "text": [
        "\n",
        "61/100"
       ]
      },
      {
       "output_type": "stream",
       "stream": "stdout",
       "text": [
        "\n",
        "62/100"
       ]
      },
      {
       "output_type": "stream",
       "stream": "stdout",
       "text": [
        "\n",
        "63/100"
       ]
      },
      {
       "output_type": "stream",
       "stream": "stdout",
       "text": [
        "\n",
        "64/100"
       ]
      },
      {
       "output_type": "stream",
       "stream": "stdout",
       "text": [
        "\n",
        "65/100"
       ]
      },
      {
       "output_type": "stream",
       "stream": "stdout",
       "text": [
        "\n",
        "66/100"
       ]
      },
      {
       "output_type": "stream",
       "stream": "stdout",
       "text": [
        "\n",
        "67/100"
       ]
      },
      {
       "output_type": "stream",
       "stream": "stdout",
       "text": [
        "\n",
        "68/100"
       ]
      },
      {
       "output_type": "stream",
       "stream": "stdout",
       "text": [
        "\n",
        "69/100"
       ]
      },
      {
       "output_type": "stream",
       "stream": "stdout",
       "text": [
        "\n",
        "70/100"
       ]
      },
      {
       "output_type": "stream",
       "stream": "stdout",
       "text": [
        "\n",
        "71/100"
       ]
      },
      {
       "output_type": "stream",
       "stream": "stdout",
       "text": [
        "\n",
        "72/100"
       ]
      },
      {
       "output_type": "stream",
       "stream": "stdout",
       "text": [
        "\n",
        "73/100"
       ]
      },
      {
       "output_type": "stream",
       "stream": "stdout",
       "text": [
        "\n",
        "74/100"
       ]
      },
      {
       "output_type": "stream",
       "stream": "stdout",
       "text": [
        "\n",
        "75/100"
       ]
      },
      {
       "output_type": "stream",
       "stream": "stdout",
       "text": [
        "\n",
        "76/100"
       ]
      },
      {
       "output_type": "stream",
       "stream": "stdout",
       "text": [
        "\n",
        "77/100"
       ]
      },
      {
       "output_type": "stream",
       "stream": "stdout",
       "text": [
        "\n",
        "78/100"
       ]
      },
      {
       "output_type": "stream",
       "stream": "stdout",
       "text": [
        "\n",
        "79/100"
       ]
      },
      {
       "output_type": "stream",
       "stream": "stdout",
       "text": [
        "\n",
        "80/100"
       ]
      },
      {
       "output_type": "stream",
       "stream": "stdout",
       "text": [
        "\n",
        "81/100"
       ]
      },
      {
       "output_type": "stream",
       "stream": "stdout",
       "text": [
        "\n",
        "82/100"
       ]
      },
      {
       "output_type": "stream",
       "stream": "stdout",
       "text": [
        "\n",
        "83/100"
       ]
      },
      {
       "output_type": "stream",
       "stream": "stdout",
       "text": [
        "\n",
        "84/100"
       ]
      },
      {
       "output_type": "stream",
       "stream": "stdout",
       "text": [
        "\n",
        "85/100"
       ]
      },
      {
       "output_type": "stream",
       "stream": "stdout",
       "text": [
        "\n",
        "86/100"
       ]
      },
      {
       "output_type": "stream",
       "stream": "stdout",
       "text": [
        "\n",
        "87/100"
       ]
      },
      {
       "output_type": "stream",
       "stream": "stdout",
       "text": [
        "\n",
        "88/100"
       ]
      },
      {
       "output_type": "stream",
       "stream": "stdout",
       "text": [
        "\n",
        "89/100"
       ]
      },
      {
       "output_type": "stream",
       "stream": "stdout",
       "text": [
        "\n",
        "90/100"
       ]
      },
      {
       "output_type": "stream",
       "stream": "stdout",
       "text": [
        "\n",
        "91/100"
       ]
      },
      {
       "output_type": "stream",
       "stream": "stdout",
       "text": [
        "\n",
        "92/100"
       ]
      },
      {
       "output_type": "stream",
       "stream": "stdout",
       "text": [
        "\n",
        "93/100"
       ]
      },
      {
       "output_type": "stream",
       "stream": "stdout",
       "text": [
        "\n",
        "94/100"
       ]
      },
      {
       "output_type": "stream",
       "stream": "stdout",
       "text": [
        "\n",
        "95/100"
       ]
      },
      {
       "output_type": "stream",
       "stream": "stdout",
       "text": [
        "\n",
        "96/100"
       ]
      },
      {
       "output_type": "stream",
       "stream": "stdout",
       "text": [
        "\n",
        "97/100"
       ]
      },
      {
       "output_type": "stream",
       "stream": "stdout",
       "text": [
        "\n",
        "98/100"
       ]
      },
      {
       "output_type": "stream",
       "stream": "stdout",
       "text": [
        "\n",
        "99/100"
       ]
      },
      {
       "output_type": "stream",
       "stream": "stdout",
       "text": [
        "\n"
       ]
      }
     ],
     "prompt_number": 126
    },
    {
     "cell_type": "code",
     "collapsed": false,
     "input": [
      "n_opt = env2_options.shape[0]\n",
      "v2 = np.zeros((n_opt, T_MAX), float)\n",
      "for i in range(n_opt):\n",
      "    print '%s/%s' % (i, n_opt)\n",
      "    for t in range(T_MAX):\n",
      "        v2[i,t] = np.mean([sim_obtained_value(env2_options.iloc[i], C=0, target_trial=t) for _ in range(N_ITER)])"
     ],
     "language": "python",
     "metadata": {},
     "outputs": [
      {
       "output_type": "stream",
       "stream": "stdout",
       "text": [
        "0/100\n",
        "1/100"
       ]
      },
      {
       "output_type": "stream",
       "stream": "stdout",
       "text": [
        "\n",
        "2/100"
       ]
      },
      {
       "output_type": "stream",
       "stream": "stdout",
       "text": [
        "\n",
        "3/100"
       ]
      },
      {
       "output_type": "stream",
       "stream": "stdout",
       "text": [
        "\n",
        "4/100"
       ]
      },
      {
       "output_type": "stream",
       "stream": "stdout",
       "text": [
        "\n",
        "5/100"
       ]
      },
      {
       "output_type": "stream",
       "stream": "stdout",
       "text": [
        "\n",
        "6/100"
       ]
      },
      {
       "output_type": "stream",
       "stream": "stdout",
       "text": [
        "\n",
        "7/100"
       ]
      },
      {
       "output_type": "stream",
       "stream": "stdout",
       "text": [
        "\n",
        "8/100"
       ]
      },
      {
       "output_type": "stream",
       "stream": "stdout",
       "text": [
        "\n",
        "9/100"
       ]
      },
      {
       "output_type": "stream",
       "stream": "stdout",
       "text": [
        "\n",
        "10/100"
       ]
      },
      {
       "output_type": "stream",
       "stream": "stdout",
       "text": [
        "\n",
        "11/100"
       ]
      },
      {
       "output_type": "stream",
       "stream": "stdout",
       "text": [
        "\n",
        "12/100"
       ]
      },
      {
       "output_type": "stream",
       "stream": "stdout",
       "text": [
        "\n",
        "13/100"
       ]
      },
      {
       "output_type": "stream",
       "stream": "stdout",
       "text": [
        "\n",
        "14/100"
       ]
      },
      {
       "output_type": "stream",
       "stream": "stdout",
       "text": [
        "\n",
        "15/100"
       ]
      },
      {
       "output_type": "stream",
       "stream": "stdout",
       "text": [
        "\n",
        "16/100"
       ]
      },
      {
       "output_type": "stream",
       "stream": "stdout",
       "text": [
        "\n",
        "17/100"
       ]
      },
      {
       "output_type": "stream",
       "stream": "stdout",
       "text": [
        "\n",
        "18/100"
       ]
      },
      {
       "output_type": "stream",
       "stream": "stdout",
       "text": [
        "\n",
        "19/100"
       ]
      },
      {
       "output_type": "stream",
       "stream": "stdout",
       "text": [
        "\n",
        "20/100"
       ]
      },
      {
       "output_type": "stream",
       "stream": "stdout",
       "text": [
        "\n",
        "21/100"
       ]
      },
      {
       "output_type": "stream",
       "stream": "stdout",
       "text": [
        "\n",
        "22/100"
       ]
      },
      {
       "output_type": "stream",
       "stream": "stdout",
       "text": [
        "\n",
        "23/100"
       ]
      },
      {
       "output_type": "stream",
       "stream": "stdout",
       "text": [
        "\n",
        "24/100"
       ]
      },
      {
       "output_type": "stream",
       "stream": "stdout",
       "text": [
        "\n",
        "25/100"
       ]
      },
      {
       "output_type": "stream",
       "stream": "stdout",
       "text": [
        "\n",
        "26/100"
       ]
      },
      {
       "output_type": "stream",
       "stream": "stdout",
       "text": [
        "\n",
        "27/100"
       ]
      },
      {
       "output_type": "stream",
       "stream": "stdout",
       "text": [
        "\n",
        "28/100"
       ]
      },
      {
       "output_type": "stream",
       "stream": "stdout",
       "text": [
        "\n",
        "29/100"
       ]
      },
      {
       "output_type": "stream",
       "stream": "stdout",
       "text": [
        "\n",
        "30/100"
       ]
      },
      {
       "output_type": "stream",
       "stream": "stdout",
       "text": [
        "\n",
        "31/100"
       ]
      },
      {
       "output_type": "stream",
       "stream": "stdout",
       "text": [
        "\n",
        "32/100"
       ]
      },
      {
       "output_type": "stream",
       "stream": "stdout",
       "text": [
        "\n",
        "33/100"
       ]
      },
      {
       "output_type": "stream",
       "stream": "stdout",
       "text": [
        "\n",
        "34/100"
       ]
      },
      {
       "output_type": "stream",
       "stream": "stdout",
       "text": [
        "\n",
        "35/100"
       ]
      },
      {
       "output_type": "stream",
       "stream": "stdout",
       "text": [
        "\n",
        "36/100"
       ]
      },
      {
       "output_type": "stream",
       "stream": "stdout",
       "text": [
        "\n",
        "37/100"
       ]
      },
      {
       "output_type": "stream",
       "stream": "stdout",
       "text": [
        "\n",
        "38/100"
       ]
      },
      {
       "output_type": "stream",
       "stream": "stdout",
       "text": [
        "\n",
        "39/100"
       ]
      },
      {
       "output_type": "stream",
       "stream": "stdout",
       "text": [
        "\n",
        "40/100"
       ]
      },
      {
       "output_type": "stream",
       "stream": "stdout",
       "text": [
        "\n",
        "41/100"
       ]
      },
      {
       "output_type": "stream",
       "stream": "stdout",
       "text": [
        "\n",
        "42/100"
       ]
      },
      {
       "output_type": "stream",
       "stream": "stdout",
       "text": [
        "\n",
        "43/100"
       ]
      },
      {
       "output_type": "stream",
       "stream": "stdout",
       "text": [
        "\n",
        "44/100"
       ]
      },
      {
       "output_type": "stream",
       "stream": "stdout",
       "text": [
        "\n",
        "45/100"
       ]
      },
      {
       "output_type": "stream",
       "stream": "stdout",
       "text": [
        "\n",
        "46/100"
       ]
      },
      {
       "output_type": "stream",
       "stream": "stdout",
       "text": [
        "\n",
        "47/100"
       ]
      },
      {
       "output_type": "stream",
       "stream": "stdout",
       "text": [
        "\n",
        "48/100"
       ]
      },
      {
       "output_type": "stream",
       "stream": "stdout",
       "text": [
        "\n",
        "49/100"
       ]
      },
      {
       "output_type": "stream",
       "stream": "stdout",
       "text": [
        "\n",
        "50/100"
       ]
      },
      {
       "output_type": "stream",
       "stream": "stdout",
       "text": [
        "\n",
        "51/100"
       ]
      },
      {
       "output_type": "stream",
       "stream": "stdout",
       "text": [
        "\n",
        "52/100"
       ]
      },
      {
       "output_type": "stream",
       "stream": "stdout",
       "text": [
        "\n",
        "53/100"
       ]
      },
      {
       "output_type": "stream",
       "stream": "stdout",
       "text": [
        "\n",
        "54/100"
       ]
      },
      {
       "output_type": "stream",
       "stream": "stdout",
       "text": [
        "\n",
        "55/100"
       ]
      },
      {
       "output_type": "stream",
       "stream": "stdout",
       "text": [
        "\n",
        "56/100"
       ]
      },
      {
       "output_type": "stream",
       "stream": "stdout",
       "text": [
        "\n",
        "57/100"
       ]
      },
      {
       "output_type": "stream",
       "stream": "stdout",
       "text": [
        "\n",
        "58/100"
       ]
      },
      {
       "output_type": "stream",
       "stream": "stdout",
       "text": [
        "\n",
        "59/100"
       ]
      },
      {
       "output_type": "stream",
       "stream": "stdout",
       "text": [
        "\n",
        "60/100"
       ]
      },
      {
       "output_type": "stream",
       "stream": "stdout",
       "text": [
        "\n",
        "61/100"
       ]
      },
      {
       "output_type": "stream",
       "stream": "stdout",
       "text": [
        "\n",
        "62/100"
       ]
      },
      {
       "output_type": "stream",
       "stream": "stdout",
       "text": [
        "\n",
        "63/100"
       ]
      },
      {
       "output_type": "stream",
       "stream": "stdout",
       "text": [
        "\n",
        "64/100"
       ]
      },
      {
       "output_type": "stream",
       "stream": "stdout",
       "text": [
        "\n",
        "65/100"
       ]
      },
      {
       "output_type": "stream",
       "stream": "stdout",
       "text": [
        "\n",
        "66/100"
       ]
      },
      {
       "output_type": "stream",
       "stream": "stdout",
       "text": [
        "\n",
        "67/100"
       ]
      },
      {
       "output_type": "stream",
       "stream": "stdout",
       "text": [
        "\n",
        "68/100"
       ]
      },
      {
       "output_type": "stream",
       "stream": "stdout",
       "text": [
        "\n",
        "69/100"
       ]
      },
      {
       "output_type": "stream",
       "stream": "stdout",
       "text": [
        "\n",
        "70/100"
       ]
      },
      {
       "output_type": "stream",
       "stream": "stdout",
       "text": [
        "\n",
        "71/100"
       ]
      },
      {
       "output_type": "stream",
       "stream": "stdout",
       "text": [
        "\n",
        "72/100"
       ]
      },
      {
       "output_type": "stream",
       "stream": "stdout",
       "text": [
        "\n",
        "73/100"
       ]
      },
      {
       "output_type": "stream",
       "stream": "stdout",
       "text": [
        "\n",
        "74/100"
       ]
      },
      {
       "output_type": "stream",
       "stream": "stdout",
       "text": [
        "\n",
        "75/100"
       ]
      },
      {
       "output_type": "stream",
       "stream": "stdout",
       "text": [
        "\n",
        "76/100"
       ]
      },
      {
       "output_type": "stream",
       "stream": "stdout",
       "text": [
        "\n",
        "77/100"
       ]
      },
      {
       "output_type": "stream",
       "stream": "stdout",
       "text": [
        "\n",
        "78/100"
       ]
      },
      {
       "output_type": "stream",
       "stream": "stdout",
       "text": [
        "\n",
        "79/100"
       ]
      },
      {
       "output_type": "stream",
       "stream": "stdout",
       "text": [
        "\n",
        "80/100"
       ]
      },
      {
       "output_type": "stream",
       "stream": "stdout",
       "text": [
        "\n",
        "81/100"
       ]
      },
      {
       "output_type": "stream",
       "stream": "stdout",
       "text": [
        "\n",
        "82/100"
       ]
      },
      {
       "output_type": "stream",
       "stream": "stdout",
       "text": [
        "\n",
        "83/100"
       ]
      },
      {
       "output_type": "stream",
       "stream": "stdout",
       "text": [
        "\n",
        "84/100"
       ]
      },
      {
       "output_type": "stream",
       "stream": "stdout",
       "text": [
        "\n",
        "85/100"
       ]
      },
      {
       "output_type": "stream",
       "stream": "stdout",
       "text": [
        "\n",
        "86/100"
       ]
      },
      {
       "output_type": "stream",
       "stream": "stdout",
       "text": [
        "\n",
        "87/100"
       ]
      },
      {
       "output_type": "stream",
       "stream": "stdout",
       "text": [
        "\n",
        "88/100"
       ]
      },
      {
       "output_type": "stream",
       "stream": "stdout",
       "text": [
        "\n",
        "89/100"
       ]
      },
      {
       "output_type": "stream",
       "stream": "stdout",
       "text": [
        "\n",
        "90/100"
       ]
      },
      {
       "output_type": "stream",
       "stream": "stdout",
       "text": [
        "\n",
        "91/100"
       ]
      },
      {
       "output_type": "stream",
       "stream": "stdout",
       "text": [
        "\n",
        "92/100"
       ]
      },
      {
       "output_type": "stream",
       "stream": "stdout",
       "text": [
        "\n",
        "93/100"
       ]
      },
      {
       "output_type": "stream",
       "stream": "stdout",
       "text": [
        "\n",
        "94/100"
       ]
      },
      {
       "output_type": "stream",
       "stream": "stdout",
       "text": [
        "\n",
        "95/100"
       ]
      },
      {
       "output_type": "stream",
       "stream": "stdout",
       "text": [
        "\n",
        "96/100"
       ]
      },
      {
       "output_type": "stream",
       "stream": "stdout",
       "text": [
        "\n",
        "97/100"
       ]
      },
      {
       "output_type": "stream",
       "stream": "stdout",
       "text": [
        "\n",
        "98/100"
       ]
      },
      {
       "output_type": "stream",
       "stream": "stdout",
       "text": [
        "\n",
        "99/100"
       ]
      },
      {
       "output_type": "stream",
       "stream": "stdout",
       "text": [
        "\n"
       ]
      }
     ],
     "prompt_number": 129
    },
    {
     "cell_type": "code",
     "collapsed": false,
     "input": [
      "fig, ax = plt.subplots()\n",
      "ax.plot(v1.mean(axis=0))\n",
      "ax.plot(v2.mean(axis=0))\n",
      "plt.show()"
     ],
     "language": "python",
     "metadata": {},
     "outputs": [
      {
       "metadata": {},
       "output_type": "display_data",
       "png": "[encoded data removed]",
       "text": [
        "<matplotlib.figure.Figure at 0x113a0add0>"
       ]
      }
     ],
     "prompt_number": 134
    },
    {
     "cell_type": "code",
     "collapsed": false,
     "input": [
      "sim_result = {}"
     ],
     "language": "python",
     "metadata": {},
     "outputs": [],
     "prompt_number": 135
    },
    {
     "cell_type": "code",
     "collapsed": false,
     "input": [
      "def iter_obtained_loss(env, C):\n",
      "    if env is 'env1':\n",
      "        optset = env1_options\n",
      "    else:\n",
      "        optset = env2_options\n",
      "    \n",
      "    n_opt = optset.shape[0]\n",
      "    v = np.zeros((n_opt, T_MAX), float)\n",
      "    for i in range(n_opt):\n",
      "        for t in range(T_MAX):\n",
      "            v[i,t] = np.mean([sim_obtained_value(optset.iloc[i], C=C, target_trial=t) for _ in range(N_ITER)])\n",
      "            \n",
      "    return v.mean(axis=0)"
     ],
     "language": "python",
     "metadata": {},
     "outputs": [],
     "prompt_number": 136
    },
    {
     "cell_type": "code",
     "collapsed": false,
     "input": [
      "T_MAX = 30\n",
      "N_ITER = 500"
     ],
     "language": "python",
     "metadata": {},
     "outputs": [],
     "prompt_number": 146
    },
    {
     "cell_type": "code",
     "collapsed": false,
     "input": [
      "for env in ['env1', 'env2']:\n",
      "    for C in [0, 1]:\n",
      "        print (env, C)\n",
      "        sim_result[(env, C)] = iter_obtained_loss(env, C)"
     ],
     "language": "python",
     "metadata": {},
     "outputs": [
      {
       "output_type": "stream",
       "stream": "stdout",
       "text": [
        "('env1', 0)\n",
        "('env1', 1)"
       ]
      },
      {
       "output_type": "stream",
       "stream": "stdout",
       "text": [
        "\n",
        "('env2', 0)"
       ]
      },
      {
       "output_type": "stream",
       "stream": "stdout",
       "text": [
        "\n",
        "('env2', 1)"
       ]
      },
      {
       "output_type": "stream",
       "stream": "stdout",
       "text": [
        "\n"
       ]
      }
     ],
     "prompt_number": 147
    },
    {
     "cell_type": "code",
     "collapsed": false,
     "input": [
      "fig, ax = plt.subplots()\n",
      "ax.plot(sim_result[('env1', 0)])\n",
      "ax.plot(sim_result[('env1', 1)])\n",
      "ax.plot(sim_result[('env2', 0)])\n",
      "ax.plot(sim_result[('env2', 1)])"
     ],
     "language": "python",
     "metadata": {},
     "outputs": [
      {
       "metadata": {},
       "output_type": "pyout",
       "prompt_number": 148,
       "text": [
        "[<matplotlib.lines.Line2D at 0x110229dd0>]"
       ]
      },
      {
       "metadata": {},
       "output_type": "display_data",
       "png": "[encoded data removed]",
       "text": [
        "<matplotlib.figure.Figure at 0x11022e190>"
       ]
      }
     ],
     "prompt_number": 148
    },
    {
     "cell_type": "code",
     "collapsed": false,
     "input": [],
     "language": "python",
     "metadata": {},
     "outputs": []
    }
   ],
   "metadata": {}
  }
 ]
}