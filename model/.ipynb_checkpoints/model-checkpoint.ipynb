{
 "metadata": {
  "name": ""
 },
 "nbformat": 3,
 "nbformat_minor": 0,
 "worksheets": [
  {
   "cells": [
    {
     "cell_type": "code",
     "collapsed": false,
     "input": [
      "%load_ext autoreload"
     ],
     "language": "python",
     "metadata": {},
     "outputs": [],
     "prompt_number": 25
    },
    {
     "cell_type": "code",
     "collapsed": false,
     "input": [
      "%autoreload 2"
     ],
     "language": "python",
     "metadata": {},
     "outputs": [],
     "prompt_number": 26
    },
    {
     "cell_type": "code",
     "collapsed": false,
     "input": [
      "from gambles import *"
     ],
     "language": "python",
     "metadata": {},
     "outputs": [],
     "prompt_number": 2
    },
    {
     "cell_type": "markdown",
     "metadata": {},
     "source": [
      "# Individual case"
     ]
    },
    {
     "cell_type": "code",
     "collapsed": false,
     "input": [
      "# for a single gamble, find probability of choosing the H option given\n",
      "# few samples\n",
      "opt = generate_gamble()\n",
      "print_gamble(opt)\n",
      "\n",
      "print \"p(choose H): %s\" % prob_choose_H(opt, 1, 1)\n",
      "\n",
      "\n",
      "# now do the same across many randomly generated gambles and sample sizes\n",
      "maxsamp = 20\n",
      "ngambles = 5000\n",
      "pH = np.zeros((maxsamp, ngambles), float)\n",
      "for n in range(1, maxsamp+1):\n",
      "    for i in range(ngambles):\n",
      "\n",
      "        opt = generate_gamble()\n",
      "        pH[n-1, i] = prob_choose_H(opt, n, n)"
     ],
     "language": "python",
     "metadata": {},
     "outputs": [
      {
       "output_type": "stream",
       "stream": "stdout",
       "text": [
        "high option: (71, -49, 0.9297050360807148) (EV: 62.5646043297)\n",
        "low option: (30, -38, 0.7216811963231397) (EV: 11.07432135)\n",
        "p(choose H): 0.929705036081\n"
       ]
      }
     ],
     "prompt_number": 3
    },
    {
     "cell_type": "code",
     "collapsed": false,
     "input": [
      "x = 2 * (1+np.arange(pH.shape[0]))\n",
      "y = pH.mean(axis=1)\n",
      "err = pH.std(axis=1)/np.sqrt(pH.shape[1])\n",
      "plt.figure()\n",
      "plt.errorbar(x, y, yerr=err)\n",
      "plt.grid(b=True, which='major', color='gray', linestyle='-')"
     ],
     "language": "python",
     "metadata": {},
     "outputs": [
      {
       "metadata": {},
       "output_type": "display_data",
       "png": "iVBORw0KGgoAAAANSUhEUgAAAXsAAAEACAYAAABS29YJAAAABHNCSVQICAgIfAhkiAAAAAlwSFlz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\nkQYw7ImINIBhT0SkAf8P/frWuME0wPgAAAAASUVORK5CYII=\n",
       "text": [
        "<matplotlib.figure.Figure at 0x10f58efd0>"
       ]
      }
     ],
     "prompt_number": 6
    },
    {
     "cell_type": "markdown",
     "metadata": {},
     "source": [
      "# Competitive case"
     ]
    },
    {
     "cell_type": "code",
     "collapsed": false,
     "input": [
      "opt = generate_gamble()\n",
      "print_gamble(opt)"
     ],
     "language": "python",
     "metadata": {},
     "outputs": [
      {
       "ename": "NameError",
       "evalue": "name 'print_gamble' is not defined",
       "output_type": "pyerr",
       "traceback": [
        "\u001b[0;31m---------------------------------------------------------------------------\u001b[0m\n\u001b[0;31mNameError\u001b[0m                                 Traceback (most recent call last)",
        "\u001b[0;32m<ipython-input-13-0d9ba14ccadb>\u001b[0m in \u001b[0;36m<module>\u001b[0;34m()\u001b[0m\n\u001b[1;32m      1\u001b[0m \u001b[0mopt\u001b[0m \u001b[0;34m=\u001b[0m \u001b[0mgenerate_gamble\u001b[0m\u001b[0;34m(\u001b[0m\u001b[0;34m)\u001b[0m\u001b[0;34m\u001b[0m\u001b[0m\n\u001b[0;32m----> 2\u001b[0;31m \u001b[0mprint_gamble\u001b[0m\u001b[0;34m(\u001b[0m\u001b[0mopt\u001b[0m\u001b[0;34m)\u001b[0m\u001b[0;34m\u001b[0m\u001b[0m\n\u001b[0m",
        "\u001b[0;31mNameError\u001b[0m: name 'print_gamble' is not defined"
       ]
      }
     ],
     "prompt_number": 13
    },
    {
     "cell_type": "code",
     "collapsed": false,
     "input": [
      "print_gamble"
     ],
     "language": "python",
     "metadata": {},
     "outputs": [
      {
       "ename": "NameError",
       "evalue": "name 'print_gamble' is not defined",
       "output_type": "pyerr",
       "traceback": [
        "\u001b[0;31m---------------------------------------------------------------------------\u001b[0m\n\u001b[0;31mNameError\u001b[0m                                 Traceback (most recent call last)",
        "\u001b[0;32m<ipython-input-3-0c73a4a349c3>\u001b[0m in \u001b[0;36m<module>\u001b[0;34m()\u001b[0m\n\u001b[0;32m----> 1\u001b[0;31m \u001b[0mprint_gamble\u001b[0m\u001b[0;34m\u001b[0m\u001b[0m\n\u001b[0m",
        "\u001b[0;31mNameError\u001b[0m: name 'print_gamble' is not defined"
       ]
      }
     ],
     "prompt_number": 3
    },
    {
     "cell_type": "code",
     "collapsed": false,
     "input": [],
     "language": "python",
     "metadata": {},
     "outputs": []
    }
   ],
   "metadata": {}
  }
 ]
}                                                                                                                                                                                                                                                                                                                                                                                                                                                                                                                                                                                                                                                                                                                                                                                                                                                                                                                                                                                       