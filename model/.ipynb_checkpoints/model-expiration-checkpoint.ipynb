{
 "metadata": {
  "name": ""
 },
 "nbformat": 3,
 "nbformat_minor": 0,
 "worksheets": [
  {
   "cells": [
    {
     "cell_type": "code",
     "collapsed": false,
     "input": [
      "import matplotlib.pyplot as plt\n",
      "from gambles import *\n",
      "from expiration import *\n",
      "%load_ext autoreload\n",
      "%autoreload 2"
     ],
     "language": "python",
     "metadata": {},
     "outputs": [
      {
       "output_type": "stream",
       "stream": "stdout",
       "text": [
        "The autoreload extension is already loaded. To reload it, use:\n",
        "  %reload_ext autoreload\n"
       ]
      }
     ],
     "prompt_number": 217
    },
    {
     "cell_type": "markdown",
     "metadata": {},
     "source": [
      "# Optimal stopping under uncertainty\n",
      "\n",
      "A decision is often preceded by information search -- a period of time in which the decision maker gathers information about the options they have to choose from. How people collect information during this period affects their ultimate decision. For example, if they gather too little information they might have incorrect beliefs about the value of the option that they select.\n",
      "\n",
      "Although basing decisions on litte experience with different options seems ill-advised, there are a number of reasons why it may actually be an adaptive behavior. One obvious reason is that there may be a limited period within which a choice is even possible. For example, companies often use \"limited-time offers\" to market products. Sometimes, there is a fixed amount of time in which an offer can be claimed, providing a clear restriction of the degree to which people can search for information (e.g., by comparing to other options that are available, or learning more about the offer). Assuming that it is a difficult choice, the best strategy for an ideal decision maker in this condition is to gather as much information as possible up to the point of expiration, and choose right before the offer goes away.\n",
      "\n",
      "However, people often make choices under uncertainty about how long an offer will be available. One common reason for this uncertainty (which is exploited by marketers) is that they are competing with other people for the same resources. For example, there are a fixed number of tickets available to a concert, but you are uncertain about how long tickets will be available because you don't know how many other people are competing for those tickets and are likely to snatch them away. Like in the fixed expiration case, you may have to sacrifice some confidence in your decision (and potential gains resulting from it) for the opportunity to make a choice in the first place.\n",
      "\n",
      "The competitive setting is one example of a stopping problem with the following conditions:\n",
      "\n",
      "1. There is uncertainty about how long information collection can continue until the choice expires\n",
      "\n",
      "2. If the choice expires, the learner can no longer select the option that they prefer (e.g., they are assigned an option at random, or are left with an option that wasn't chosen by someone else)\n",
      "\n",
      "Together, these conditions have implications for how people should sample information, and when they should curtail sampling in order to make a choice.\n",
      "\n",
      "## Decision making under time pressure\n",
      "\n",
      "Rieskamp and Hoffrage (2008) found that time pressure, either as a fixed response deadline or the presence of opportunity costs, led to less information search and increased reliance on a noncompensatory strategy (LEX). \n",
      "\n",
      "## Decisions from experience\n",
      "\n",
      "Sampling paradigm, in which people are faced with a choice between two options, H (high) and L (low). \n",
      "\n",
      "Assumptions on how gambles are generated:\n",
      "\n",
      "- each option has one positive outcome and one negative outcome\n",
      "- neither option has both outcomes higher than the corresponding outcomes of the other option\n",
      "\n",
      "### What factors affect how much people sample?\n",
      "\n",
      "Greater incentives lead to greater search (Hau et al, 2008).\n",
      "\n",
      "Prospect of losses or experience of variability might encourage more search (Lejarraga et al., 2012).\n",
      "\n",
      "### Does time pressure influence how people draw samples?\n",
      "\n",
      "Rieskamp and Hoffrage (2008) found that time pressure led to increased reliance on the most valid cues.\n",
      "\n",
      "\"Round-wise\" vs. \"summary\" (Hills and Hertwig, 2010). People who do \"summary\" sampling probably are planning to take a number of samples from each option. If there is uncertainty about the stopping point, this might cause people to switch to \"round-wise\" sampling.\n",
      "\n",
      "\n",
      "## Simulating the effect of uncertainty on optimal stopping\n",
      "\n",
      "First, can look at a single gamble, and how the number of samples increases the chance of selecting the H option."
     ]
    },
    {
     "cell_type": "code",
     "collapsed": false,
     "input": [
      "opt = generate_gamble_posneg()\n",
      "print_gamble(opt)\n",
      "pH = [prob_choose_H_all_allocations(opt, n) for n in range(1,25)]\n",
      "\n",
      "fig = plt.figure()\n",
      "ax = fig.add_axes([.1,.1,.8,.8])\n",
      "ax.plot(range(1,25), pH)\n",
      "ax.set_xlabel('total # samples')\n",
      "ax.set_ylabel('p(get H)')"
     ],
     "language": "python",
     "metadata": {},
     "outputs": [
      {
       "output_type": "stream",
       "stream": "stdout",
       "text": [
        "high option: (65, -59, 0.7920034395569686) (EV: 39.2084265051)\n",
        "low option: (85, -91, 0.44680223733955426) (EV: -12.3628062282)\n"
       ]
      },
      {
       "metadata": {},
       "output_type": "pyout",
       "prompt_number": 145,
       "text": [
        "<matplotlib.text.Text at 0x112f3b3d0>"
       ]
      },
      {
       "metadata": {},
       "output_type": "display_data",
       "png": "[encoded data removed]",
       "text": [
        "<matplotlib.figure.Figure at 0x112f308d0>"
       ]
      }
     ],
     "prompt_number": 145
    },
    {
     "cell_type": "markdown",
     "metadata": {},
     "source": [
      "Now the exact form of that curve will depend quite strongly on the particular gamble (e.g,., for some gambles, basing a decision on less than 5 samples might lead you to the H option nearly all the time). Below, averaging across lots of randomly generated gambles:"
     ]
    },
    {
     "cell_type": "code",
     "collapsed": false,
     "input": [
      "maxsamp = 25\n",
      "ngambles = 500\n",
      "pH = np.zeros((maxsamp, ngambles), float)\n",
      "for i in range(ngambles):\n",
      "    opt = generate_gamble_posneg_nondom()\n",
      "    for n in range(1, maxsamp+1):\n",
      "        pH[n-1, i] = prob_choose_H_all_allocations(opt, n)"
     ],
     "language": "python",
     "metadata": {},
     "outputs": [],
     "prompt_number": 166
    },
    {
     "cell_type": "code",
     "collapsed": false,
     "input": [
      "x = range(1, maxsamp+1)\n",
      "y = pH.mean(axis=1)\n",
      "err = pH.std(axis=1)/np.sqrt(pH.shape[1])\n",
      "plt.figure()\n",
      "plt.errorbar(x, y, yerr=err)\n",
      "plt.grid(b=True, which='major', color='gray', linestyle='-')\n",
      "plt.title('Probability of choosing H with increasing samples')\n",
      "plt.xlabel('# of samples')\n",
      "plt.ylabel('p(choose H)')"
     ],
     "language": "python",
     "metadata": {},
     "outputs": [
      {
       "metadata": {},
       "output_type": "pyout",
       "prompt_number": 167,
       "text": [
        "<matplotlib.text.Text at 0x113337ad0>"
       ]
      },
      {
       "metadata": {},
       "output_type": "display_data",
       "png": "[encoded data removed]",
       "text": [
        "<matplotlib.figure.Figure at 0x112f38110>"
       ]
      }
     ],
     "prompt_number": 167
    },
    {
     "cell_type": "markdown",
     "metadata": {},
     "source": [
      "That plot shows, for a given number of total samples, the expected benefit from choosing in terms of the probability of getting the H option, relative to a random assignment of options.\n",
      "\n",
      "Of course, the actual gain in terms of rewards depends on the value of a particular gamble. There may be some gamble for which it doesn't make a big difference in terms of actual rewards whether or not you choose the H option. Below, looking at the expected gain relative to a random choice across different numbers of samples:"
     ]
    },
    {
     "cell_type": "code",
     "collapsed": false,
     "input": [
      "maxsamp = 25\n",
      "ngambles = 100\n",
      "eg = np.zeros((maxsamp, ngambles), float)\n",
      "for i in range(ngambles):\n",
      "    opt = generate_gamble_posneg_nondom()\n",
      "    ev_random = 0.5 * expected_value(opt['H']) + 0.5 * expected_value(opt['L'])\n",
      "    for n in range(1, maxsamp+1):\n",
      "        pH = prob_choose_H_all_allocations(opt, n)\n",
      "        eg[n-1, i] = (pH * expected_value(opt['H']) + (1 - pH) * expected_value(opt['L'])) - ev_random"
     ],
     "language": "python",
     "metadata": {},
     "outputs": [],
     "prompt_number": 174
    },
    {
     "cell_type": "code",
     "collapsed": false,
     "input": [
      "x = range(1, maxsamp+1)\n",
      "y = eg.mean(axis=1)\n",
      "err = eg.std(axis=1)/np.sqrt(eg.shape[1])\n",
      "fig = plt.figure()\n",
      "ax = fig.add_axes([.1,.1,.8,.8])\n",
      "ax.errorbar(x, y, yerr=err)\n",
      "ax.grid(b=True, which='major', color='gray', linestyle='-')\n",
      "ax.set_xlabel('total # samples')\n",
      "ax.set_ylabel('E[gain]')\n",
      "ax.set_title('Expected gain relative to random assignment')"
     ],
     "language": "python",
     "metadata": {},
     "outputs": [
      {
       "metadata": {},
       "output_type": "pyout",
       "prompt_number": 175,
       "text": [
        "<matplotlib.text.Text at 0x113fc6310>"
       ]
      },
      {
       "metadata": {},
       "output_type": "display_data",
       "png": "[encoded data removed]",
       "text": [
        "<matplotlib.figure.Figure at 0x1137d9f10>"
       ]
      }
     ],
     "prompt_number": 175
    },
    {
     "cell_type": "markdown",
     "metadata": {},
     "source": [
      "### Uniform expiration \n",
      "\n",
      "If you know when an option will expire, then the optimal policy is to sample up until that point (although the expected gain curve shows that there is little marginal gain after 10-15 samples, so if there is any cost to continuing to sample, the optimal point may be earlier). \n",
      "\n",
      "But, what if you are uncertain about when the expiration will occur?  First looking at a single gamble, assuming that there is a fixed probability (p = .05) that the choice will expire on every trial:"
     ]
    },
    {
     "cell_type": "code",
     "collapsed": false,
     "input": [
      "p_expire = .05\n",
      "opt = generate_gamble_posneg_nondom()\n",
      "eg = expected_gain_given_uniform_expiration(opt, p_expire, 25)\n",
      "\n",
      "fig = plt.figure()\n",
      "ax = fig.add_axes([.1,.1,.8,.8])\n",
      "ax.plot(range(1, 26), eg)\n",
      "ax.grid(b=True, which='major', color='gray', linestyle='-')\n",
      "ax.set_xlabel('planned # samples')\n",
      "ax.set_ylabel('E[gain]')\n",
      "ax.set_title('Expected gain given uniform p(expire)')"
     ],
     "language": "python",
     "metadata": {},
     "outputs": [
      {
       "metadata": {},
       "output_type": "pyout",
       "prompt_number": 71,
       "text": [
        "<matplotlib.text.Text at 0x111dacc10>"
       ]
      },
      {
       "metadata": {},
       "output_type": "display_data",
       "png": "[encoded data removed]",
       "text": [
        "<matplotlib.figure.Figure at 0x1118ba990>"
       ]
      }
     ],
     "prompt_number": 71
    },
    {
     "cell_type": "markdown",
     "metadata": {},
     "source": [
      "Now do the same thing averaging across many possible gambles, for three different levels of risk:"
     ]
    },
    {
     "cell_type": "code",
     "collapsed": false,
     "input": [
      "p_expire = [.01, .05, .1]\n",
      "maxsamp = 25\n",
      "ngambles = 100\n",
      "eg = {p: np.zeros((ngambles, maxsamp), float) for p in p_expire}\n",
      "\n",
      "for i in range(ngambles):\n",
      "    opt = generate_gamble_posneg_nondom()\n",
      "    for p in p_expire:\n",
      "        eg[p][i] = expected_gain_given_uniform_expiration(opt, p, maxsamp)"
     ],
     "language": "python",
     "metadata": {},
     "outputs": [],
     "prompt_number": 72
    },
    {
     "cell_type": "code",
     "collapsed": false,
     "input": [
      "x = range(1, maxsamp+1)\n",
      "fig = plt.figure()\n",
      "ax = fig.add_axes([.1,.1,.8,.8])\n",
      "for p in p_expire:\n",
      "    y = eg[p].mean(axis=0)\n",
      "    err = eg[p].std(axis=0)/np.sqrt(eg[p].shape[0])\n",
      "    ax.errorbar(x, y, yerr=err)\n",
      "ax.grid(b=True, which='major', color='gray', linestyle='-')\n",
      "ax.set_xlabel('total # samples')\n",
      "ax.set_ylabel('E[gain]')\n",
      "ax.set_title('Expected gain relative to random assignment')"
     ],
     "language": "python",
     "metadata": {},
     "outputs": [
      {
       "metadata": {},
       "output_type": "pyout",
       "prompt_number": 73,
       "text": [
        "<matplotlib.text.Text at 0x111de2550>"
       ]
      },
      {
       "metadata": {},
       "output_type": "display_data",
       "png": "[encoded data removed]",
       "text": [
        "<matplotlib.figure.Figure at 0x111dc9cd0>"
       ]
      }
     ],
     "prompt_number": 73
    },
    {
     "cell_type": "markdown",
     "metadata": {},
     "source": [
      "When p(expire) = .01 there's relatively little effect on the expected gain, which peaks at around 10 samples. When the risk of expiration increases, the optimal stopping point (bsaed on maximizing expected gain) shifts earlier to about 5 samples."
     ]
    },
    {
     "cell_type": "markdown",
     "metadata": {},
     "source": [
      "### Normally-distributed expiration"
     ]
    },
    {
     "cell_type": "code",
     "collapsed": false,
     "input": [
      "from scipy.stats import norm\n",
      "\n",
      "expire_par = [[10, 3], [20, 3]]\n",
      "maxsamp = 25\n",
      "ngambles = 200\n",
      "eg = [np.zeros((ngambles, maxsamp), float) for _ in expire_par]\n",
      "\n",
      "for i in range(ngambles):\n",
      "    opt = generate_gamble_posneg_nondom()\n",
      "    for p_i, p in enumerate(expire_par):\n",
      "        eg[p_i][i] = expected_gain_given_normal_expiration(opt, p[0], p[1], maxsamp)"
     ],
     "language": "python",
     "metadata": {},
     "outputs": [],
     "prompt_number": 178
    },
    {
     "cell_type": "code",
     "collapsed": false,
     "input": [
      "x = range(1, maxsamp+1)\n",
      "fig = plt.figure()\n",
      "ax = fig.add_axes([.1,.1,.8,.8])\n",
      "for i in range(len(expire_par)):\n",
      "    y = eg[i].mean(axis=0)\n",
      "    err = eg[i].std(axis=0)/np.sqrt(eg[i].shape[0])\n",
      "    ax.errorbar(x, y, yerr=err)\n",
      "ax.grid(b=True, which='major', color='gray', linestyle='-')\n",
      "ax.set_xlabel('total # samples')\n",
      "ax.set_ylabel('E[gain]')\n",
      "ax.set_title('Expected gain relative to random assignment')"
     ],
     "language": "python",
     "metadata": {},
     "outputs": [
      {
       "metadata": {},
       "output_type": "pyout",
       "prompt_number": 179,
       "text": [
        "<matplotlib.text.Text at 0x114d3f750>"
       ]
      },
      {
       "metadata": {},
       "output_type": "display_data",
       "png": "[encoded data removed]",
       "text": [
        "<matplotlib.figure.Figure at 0x114d0f890>"
       ]
      }
     ],
     "prompt_number": 179
    },
    {
     "cell_type": "code",
     "collapsed": false,
     "input": [
      "fig = plt.figure()\n",
      "ax = fig.add_axes([.1,.1,.8,.8])\n",
      "\n",
      "for [mn, sd] in expire_par:\n",
      "    ax.plot([norm.pdf(x, loc=mn, scale=sd) for x in range(maxsamp)])\n",
      "    \n",
      "ax.grid(b=True, which='major', color='gray', linestyle='-')\n",
      "ax.set_xlabel('trial')\n",
      "ax.set_ylabel('p(expire)')\n",
      "ax.set_title('Probability of expiring')"
     ],
     "language": "python",
     "metadata": {},
     "outputs": [
      {
       "metadata": {},
       "output_type": "pyout",
       "prompt_number": 97,
       "text": [
        "<matplotlib.text.Text at 0x112d14c10>"
       ]
      },
      {
       "metadata": {},
       "output_type": "display_data",
       "png": "[encoded data removed]",
       "text": [
        "<matplotlib.figure.Figure at 0x112d2b590>"
       ]
      }
     ],
     "prompt_number": 97
    },
    {
     "cell_type": "markdown",
     "metadata": {},
     "source": [
      "## Conditions"
     ]
    },
    {
     "cell_type": "code",
     "collapsed": false,
     "input": [
      "# first, fixed probability of expiration over whole range\n",
      "key = 'U(1,25; .05)'\n",
      "p_expire = .05\n",
      "maxsamp = 25\n",
      "ngambles = 100\n",
      "eg = {key: np.zeros((ngambles, maxsamp), float)}\n",
      "\n",
      "for i in range(ngambles):\n",
      "    opt = generate_gamble_posneg_nondom()\n",
      "    eg[key][i] = expected_gain_given_uniform_expiration(opt, p_expire, maxsamp)"
     ],
     "language": "python",
     "metadata": {},
     "outputs": [],
     "prompt_number": 60
    },
    {
     "cell_type": "code",
     "collapsed": false,
     "input": [
      "# next, fixed probability of expiration over limited range\n",
      "key = 'U(1,25; .1)'\n",
      "p_expire = .1\n",
      "maxsamp = 25\n",
      "ngambles = 100\n",
      "eg[key] = np.zeros((ngambles, maxsamp), float)\n",
      "\n",
      "for i in range(ngambles):\n",
      "    opt = generate_gamble_posneg_nondom()\n",
      "    eg[key][i] = expected_gain_given_uniform_expiration(opt, p_expire, maxsamp)"
     ],
     "language": "python",
     "metadata": {},
     "outputs": [],
     "prompt_number": 61
    },
    {
     "cell_type": "code",
     "collapsed": false,
     "input": [
      "keys = ['U(1,25; .05)','U(1,25; .1)']\n",
      "fig = plt.figure()\n",
      "ax = fig.add_axes([.1,.1,.8,.8])\n",
      "\n",
      "for key in keys:\n",
      "    y = eg[key].mean(axis=0)\n",
      "    err = eg[key].std(axis=0)/np.sqrt(eg[key].shape[0])\n",
      "    ax.errorbar(range(1, maxsamp+1), y, yerr=err)\n",
      "ax.grid(b=True, which='major', color='gray', linestyle='-')\n",
      "ax.set_xlabel('# samples')\n",
      "ax.set_ylabel('E[gain]')\n",
      "ax.set_title('Expected gain relative to random assignment')"
     ],
     "language": "python",
     "metadata": {},
     "outputs": [
      {
       "metadata": {},
       "output_type": "pyout",
       "prompt_number": 62,
       "text": [
        "<matplotlib.text.Text at 0x110d9e590>"
       ]
      },
      {
       "metadata": {},
       "output_type": "display_data",
       "png": "[encoded data removed]",
       "text": [
        "<matplotlib.figure.Figure at 0x1111af310>"
       ]
      }
     ],
     "prompt_number": 62
    },
    {
     "cell_type": "markdown",
     "metadata": {},
     "source": [
      "Yeah, this confirms a general problem, which is that there is still very little marginal gain after a few samples. Really would like to only use gambles in which there is a greater marginal gain with more sampling."
     ]
    },
    {
     "cell_type": "code",
     "collapsed": false,
     "input": [
      "# first, fixed probability of expiration over whole range\n",
      "key = 'U(1,25; .05)'\n",
      "p_expire = .05\n",
      "maxsamp = 25\n",
      "ngambles = 100\n",
      "pos_range = [0, 101]\n",
      "neg_range = [-100, 1]\n",
      "p_range = [.33, .66]\n",
      "eg = {key: np.zeros((ngambles, maxsamp), float)}\n",
      "\n",
      "for i in range(ngambles):\n",
      "    opt = generate_gamble_posneg_nondom(pos_range=pos_range, neg_range=neg_range, p_range=p_range)\n",
      "    eg[key][i] = expected_gain_given_uniform_expiration(opt, p_expire, maxsamp)\n",
      "    \n",
      "# higher fixed probability over whole range\n",
      "key = 'U(1,25; .1)'\n",
      "p_expire = .1\n",
      "eg[key] = np.zeros((ngambles, maxsamp), float)\n",
      "\n",
      "for i in range(ngambles):\n",
      "    opt = generate_gamble_posneg_nondom(pos_range=pos_range, neg_range=neg_range, p_range=p_range)\n",
      "    eg[key][i] = expected_gain_given_uniform_expiration(opt, p_expire, maxsamp)"
     ],
     "language": "python",
     "metadata": {},
     "outputs": [],
     "prompt_number": 57
    },
    {
     "cell_type": "code",
     "collapsed": false,
     "input": [
      "# normal distribution\n",
      "key = 'N(15,3)'\n",
      "mn, sc = [15, 3]\n",
      "eg[key] = np.zeros((ngambles, maxsamp), float)\n",
      "\n",
      "for i in range(ngambles):\n",
      "    opt = generate_gamble_posneg_nondom(pos_range=pos_range, neg_range=neg_range, p_range=p_range)\n",
      "    eg[key][i] = expected_gain_given_normal_expiration(opt, mn, sc, maxsamp)"
     ],
     "language": "python",
     "metadata": {},
     "outputs": [],
     "prompt_number": 58
    },
    {
     "cell_type": "code",
     "collapsed": false,
     "input": [
      "keys = ['U(1,25; .05)', 'U(1,25; .1)', 'N(15,3)']\n",
      "fig = plt.figure()\n",
      "ax = fig.add_axes([.1,.1,.8,.8])\n",
      "\n",
      "for key in keys:\n",
      "    y = eg[key].mean(axis=0)\n",
      "    err = eg[key].std(axis=0)/np.sqrt(eg[key].shape[0])\n",
      "    ax.errorbar(range(1, maxsamp+1), y, yerr=err)\n",
      "ax.grid(b=True, which='major', color='gray', linestyle='-')\n",
      "ax.set_xlabel('# samples')\n",
      "ax.set_ylabel('E[gain]')\n",
      "ax.set_title('Expected gain relative to random assignment')"
     ],
     "language": "python",
     "metadata": {},
     "outputs": [
      {
       "metadata": {},
       "output_type": "pyout",
       "prompt_number": 59,
       "text": [
        "<matplotlib.text.Text at 0x1111aa510>"
       ]
      },
      {
       "metadata": {},
       "output_type": "display_data",
       "png": "[encoded data removed]",
       "text": [
        "<matplotlib.figure.Figure at 0x111175f10>"
       ]
      }
     ],
     "prompt_number": 59
    },
    {
     "cell_type": "code",
     "collapsed": false,
     "input": [
      "# first, fixed probability of expiration over whole range\n",
      "key = 'U(1,25; .05)'\n",
      "p_expire = .05\n",
      "maxsamp = 25\n",
      "ngambles = 100\n",
      "pos_range = [0, 101]\n",
      "neg_range = [-100, 1]\n",
      "p_range = [.75, 1]\n",
      "eg = {key: np.zeros((ngambles, maxsamp), float)}\n",
      "\n",
      "for i in range(ngambles):\n",
      "    opt = generate_gamble_posneg_nondom(pos_range=pos_range, neg_range=neg_range, p_range=p_range)\n",
      "    eg[key][i] = expected_gain_given_uniform_expiration(opt, p_expire, maxsamp)\n",
      "    \n",
      "# higher fixed probability over whole range\n",
      "key = 'U(1,25; .1)'\n",
      "p_expire = .1\n",
      "eg[key] = np.zeros((ngambles, maxsamp), float)\n",
      "\n",
      "for i in range(ngambles):\n",
      "    opt = generate_gamble_posneg_nondom(pos_range=pos_range, neg_range=neg_range, p_range=p_range)\n",
      "    eg[key][i] = expected_gain_given_uniform_expiration(opt, p_expire, maxsamp)\n",
      "    \n",
      "# normal distribution\n",
      "key = 'N(15,3)'\n",
      "mn, sc = [15, 3]\n",
      "eg[key] = np.zeros((ngambles, maxsamp), float)\n",
      "\n",
      "for i in range(ngambles):\n",
      "    opt = generate_gamble_posneg_nondom(pos_range=pos_range, neg_range=neg_range, p_range=p_range)\n",
      "    eg[key][i] = expected_gain_given_normal_expiration(opt, mn, sc, maxsamp)"
     ],
     "language": "python",
     "metadata": {},
     "outputs": [],
     "prompt_number": 75
    },
    {
     "cell_type": "code",
     "collapsed": false,
     "input": [
      "keys = ['U(1,25; .05)', 'U(1,25; .1)', 'N(15,3)']\n",
      "fig = plt.figure()\n",
      "ax = fig.add_axes([.1,.1,.8,.8])\n",
      "\n",
      "for key in keys:\n",
      "    y = eg[key].mean(axis=0)\n",
      "    err = eg[key].std(axis=0)/np.sqrt(eg[key].shape[0])\n",
      "    ax.errorbar(range(1, maxsamp+1), y, yerr=err)\n",
      "ax.grid(b=True, which='major', color='gray', linestyle='-')\n",
      "ax.set_xlabel('# samples')\n",
      "ax.set_ylabel('E[gain]')\n",
      "ax.set_title('Expected gain relative to random assignment')"
     ],
     "language": "python",
     "metadata": {},
     "outputs": [
      {
       "ename": "NameError",
       "evalue": "name 'eg' is not defined",
       "output_type": "pyerr",
       "traceback": [
        "\u001b[0;31m---------------------------------------------------------------------------\u001b[0m\n\u001b[0;31mNameError\u001b[0m                                 Traceback (most recent call last)",
        "\u001b[0;32m<ipython-input-1-4b34dd0d4b64>\u001b[0m in \u001b[0;36m<module>\u001b[0;34m()\u001b[0m\n\u001b[1;32m      4\u001b[0m \u001b[0;34m\u001b[0m\u001b[0m\n\u001b[1;32m      5\u001b[0m \u001b[0;32mfor\u001b[0m \u001b[0mkey\u001b[0m \u001b[0;32min\u001b[0m \u001b[0mkeys\u001b[0m\u001b[0;34m:\u001b[0m\u001b[0;34m\u001b[0m\u001b[0m\n\u001b[0;32m----> 6\u001b[0;31m     \u001b[0my\u001b[0m \u001b[0;34m=\u001b[0m \u001b[0meg\u001b[0m\u001b[0;34m[\u001b[0m\u001b[0mkey\u001b[0m\u001b[0;34m]\u001b[0m\u001b[0;34m.\u001b[0m\u001b[0mmean\u001b[0m\u001b[0;34m(\u001b[0m\u001b[0maxis\u001b[0m\u001b[0;34m=\u001b[0m\u001b[0;36m0\u001b[0m\u001b[0;34m)\u001b[0m\u001b[0;34m\u001b[0m\u001b[0m\n\u001b[0m\u001b[1;32m      7\u001b[0m     \u001b[0merr\u001b[0m \u001b[0;34m=\u001b[0m \u001b[0meg\u001b[0m\u001b[0;34m[\u001b[0m\u001b[0mkey\u001b[0m\u001b[0;34m]\u001b[0m\u001b[0;34m.\u001b[0m\u001b[0mstd\u001b[0m\u001b[0;34m(\u001b[0m\u001b[0maxis\u001b[0m\u001b[0;34m=\u001b[0m\u001b[0;36m0\u001b[0m\u001b[0;34m)\u001b[0m\u001b[0;34m/\u001b[0m\u001b[0mnp\u001b[0m\u001b[0;34m.\u001b[0m\u001b[0msqrt\u001b[0m\u001b[0;34m(\u001b[0m\u001b[0meg\u001b[0m\u001b[0;34m[\u001b[0m\u001b[0mkey\u001b[0m\u001b[0;34m]\u001b[0m\u001b[0;34m.\u001b[0m\u001b[0mshape\u001b[0m\u001b[0;34m[\u001b[0m\u001b[0;36m0\u001b[0m\u001b[0;34m]\u001b[0m\u001b[0;34m)\u001b[0m\u001b[0;34m\u001b[0m\u001b[0m\n\u001b[1;32m      8\u001b[0m     \u001b[0max\u001b[0m\u001b[0;34m.\u001b[0m\u001b[0merrorbar\u001b[0m\u001b[0;34m(\u001b[0m\u001b[0mrange\u001b[0m\u001b[0;34m(\u001b[0m\u001b[0;36m1\u001b[0m\u001b[0;34m,\u001b[0m \u001b[0mmaxsamp\u001b[0m\u001b[0;34m+\u001b[0m\u001b[0;36m1\u001b[0m\u001b[0;34m)\u001b[0m\u001b[0;34m,\u001b[0m \u001b[0my\u001b[0m\u001b[0;34m,\u001b[0m \u001b[0myerr\u001b[0m\u001b[0;34m=\u001b[0m\u001b[0merr\u001b[0m\u001b[0;34m)\u001b[0m\u001b[0;34m\u001b[0m\u001b[0m\n",
        "\u001b[0;31mNameError\u001b[0m: name 'eg' is not defined"
       ]
      },
      {
       "metadata": {},
       "output_type": "display_data",
       "png": "[encoded data removed]",
       "text": [
        "<matplotlib.figure.Figure at 0x10c722ad0>"
       ]
      }
     ],
     "prompt_number": 1
    },
    {
     "cell_type": "markdown",
     "metadata": {},
     "source": [
      "Ok want to see how things change based on the type of gamble. "
     ]
    },
    {
     "cell_type": "code",
     "collapsed": false,
     "input": [
      "eg = {}"
     ],
     "language": "python",
     "metadata": {},
     "outputs": [],
     "prompt_number": 97
    },
    {
     "cell_type": "code",
     "collapsed": false,
     "input": [
      "A_pos = 10\n",
      "A_neg = -10\n",
      "B_pos = 10\n",
      "B_neg = -10\n",
      "p_expire = .05\n",
      "maxsamp = 25\n",
      "key = (A_pos, A_neg, B_pos, B_neg, p_expire)\n",
      "\n",
      "eg[key] = []\n",
      "for pA in np.arange(.05, 1., .05):\n",
      "    print pA\n",
      "    for pB in np.arange(.05, 1., .05):\n",
      "        opt = {'H': (A_pos, A_neg, pA), 'L': (B_pos, B_neg, pB)}\n",
      "        rnd = 0.5 * expected_value(opt['H']) + 0.5 * expected_value(opt['L'])\n",
      "        eg[key].append([pA, pB, expected_gain_given_uniform_expiration(opt, p_expire, maxsamp) - rnd])"
     ],
     "language": "python",
     "metadata": {},
     "outputs": [
      {
       "output_type": "stream",
       "stream": "stdout",
       "text": [
        "0.05\n",
        "0.1"
       ]
      },
      {
       "output_type": "stream",
       "stream": "stdout",
       "text": [
        "\n",
        "0.15"
       ]
      },
      {
       "output_type": "stream",
       "stream": "stdout",
       "text": [
        "\n",
        "0.2"
       ]
      },
      {
       "output_type": "stream",
       "stream": "stdout",
       "text": [
        "\n",
        "0.25"
       ]
      },
      {
       "output_type": "stream",
       "stream": "stdout",
       "text": [
        "\n",
        "0.3"
       ]
      },
      {
       "output_type": "stream",
       "stream": "stdout",
       "text": [
        "\n",
        "0.35"
       ]
      },
      {
       "output_type": "stream",
       "stream": "stdout",
       "text": [
        "\n",
        "0.4"
       ]
      },
      {
       "output_type": "stream",
       "stream": "stdout",
       "text": [
        "\n",
        "0.45"
       ]
      },
      {
       "output_type": "stream",
       "stream": "stdout",
       "text": [
        "\n",
        "0.5"
       ]
      },
      {
       "output_type": "stream",
       "stream": "stdout",
       "text": [
        "\n",
        "0.55"
       ]
      },
      {
       "output_type": "stream",
       "stream": "stdout",
       "text": [
        "\n",
        "0.6"
       ]
      },
      {
       "output_type": "stream",
       "stream": "stdout",
       "text": [
        "\n",
        "0.65"
       ]
      },
      {
       "output_type": "stream",
       "stream": "stdout",
       "text": [
        "\n",
        "0.7"
       ]
      },
      {
       "output_type": "stream",
       "stream": "stdout",
       "text": [
        "\n",
        "0.75"
       ]
      },
      {
       "output_type": "stream",
       "stream": "stdout",
       "text": [
        "\n",
        "0.8"
       ]
      },
      {
       "output_type": "stream",
       "stream": "stdout",
       "text": [
        "\n",
        "0.85"
       ]
      },
      {
       "output_type": "stream",
       "stream": "stdout",
       "text": [
        "\n",
        "0.9"
       ]
      },
      {
       "output_type": "stream",
       "stream": "stdout",
       "text": [
        "\n",
        "0.95"
       ]
      },
      {
       "output_type": "stream",
       "stream": "stdout",
       "text": [
        "\n"
       ]
      }
     ],
     "prompt_number": 98
    },
    {
     "cell_type": "code",
     "collapsed": false,
     "input": [
      "optstop = np.array(map(lambda v: [v[0], v[1], v[2].argmax()], eg[key]))\n",
      "levels = np.arange(0.05, 1., .05)\n",
      "mat = np.zeros((len(levels), len(levels)))\n",
      "for pt in optstop:\n",
      "     mat[np.where(levels==pt[1])[0][0], np.where(levels==pt[0])[0][0]] = pt[2]"
     ],
     "language": "python",
     "metadata": {},
     "outputs": [],
     "prompt_number": 129
    },
    {
     "cell_type": "code",
     "collapsed": false,
     "input": [
      "fig = plt.figure()\n",
      "ax = fig.add_axes([.1,.1,.8,.8])\n",
      "ax.contour(mat)"
     ],
     "language": "python",
     "metadata": {},
     "outputs": [
      {
       "metadata": {},
       "output_type": "pyout",
       "prompt_number": 137,
       "text": [
        "<matplotlib.contour.QuadContourSet instance at 0x111714248>"
       ]
      },
      {
       "metadata": {},
       "output_type": "display_data",
       "png": "[encoded data removed]",
       "text": [
        "<matplotlib.figure.Figure at 0x111d16250>"
       ]
      }
     ],
     "prompt_number": 137
    },
    {
     "cell_type": "code",
     "collapsed": false,
     "input": [
      "optstop[:,2].max()"
     ],
     "language": "python",
     "metadata": {},
     "outputs": [
      {
       "metadata": {},
       "output_type": "pyout",
       "prompt_number": 141,
       "text": [
        "8.0"
       ]
      }
     ],
     "prompt_number": 141
    },
    {
     "cell_type": "code",
     "collapsed": false,
     "input": [
      "A_pos = 10\n",
      "A_neg = -10\n",
      "B_pos = 10\n",
      "B_neg = -10\n",
      "p_expire = .1\n",
      "maxsamp = 25\n",
      "key = (A_pos, A_neg, B_pos, B_neg, p_expire)"
     ],
     "language": "python",
     "metadata": {},
     "outputs": [],
     "prompt_number": 178
    },
    {
     "cell_type": "code",
     "collapsed": false,
     "input": [
      "eg[key] = []\n",
      "for pA in np.arange(.05, 1., .05):\n",
      "    print pA\n",
      "    for pB in np.arange(.05, 1., .05):\n",
      "        opt = {'H': (A_pos, A_neg, pA), 'L': (B_pos, B_neg, pB)}\n",
      "        rnd = 0.5 * expected_value(opt['H']) + 0.5 * expected_value(opt['L'])\n",
      "        eg[key].append([pA, pB, expected_gain_given_uniform_expiration(opt, p_expire, maxsamp) - rnd])"
     ],
     "language": "python",
     "metadata": {},
     "outputs": [
      {
       "output_type": "stream",
       "stream": "stdout",
       "text": [
        "0.05\n",
        "0.1"
       ]
      },
      {
       "output_type": "stream",
       "stream": "stdout",
       "text": [
        "\n",
        "0.15"
       ]
      },
      {
       "output_type": "stream",
       "stream": "stdout",
       "text": [
        "\n",
        "0.2"
       ]
      },
      {
       "output_type": "stream",
       "stream": "stdout",
       "text": [
        "\n",
        "0.25"
       ]
      },
      {
       "output_type": "stream",
       "stream": "stdout",
       "text": [
        "\n",
        "0.3"
       ]
      },
      {
       "output_type": "stream",
       "stream": "stdout",
       "text": [
        "\n",
        "0.35"
       ]
      },
      {
       "output_type": "stream",
       "stream": "stdout",
       "text": [
        "\n",
        "0.4"
       ]
      },
      {
       "output_type": "stream",
       "stream": "stdout",
       "text": [
        "\n",
        "0.45"
       ]
      },
      {
       "output_type": "stream",
       "stream": "stdout",
       "text": [
        "\n",
        "0.5"
       ]
      },
      {
       "output_type": "stream",
       "stream": "stdout",
       "text": [
        "\n",
        "0.55"
       ]
      },
      {
       "output_type": "stream",
       "stream": "stdout",
       "text": [
        "\n",
        "0.6"
       ]
      },
      {
       "output_type": "stream",
       "stream": "stdout",
       "text": [
        "\n",
        "0.65"
       ]
      },
      {
       "output_type": "stream",
       "stream": "stdout",
       "text": [
        "\n",
        "0.7"
       ]
      },
      {
       "output_type": "stream",
       "stream": "stdout",
       "text": [
        "\n",
        "0.75"
       ]
      },
      {
       "output_type": "stream",
       "stream": "stdout",
       "text": [
        "\n",
        "0.8"
       ]
      },
      {
       "output_type": "stream",
       "stream": "stdout",
       "text": [
        "\n",
        "0.85"
       ]
      },
      {
       "output_type": "stream",
       "stream": "stdout",
       "text": [
        "\n",
        "0.9"
       ]
      },
      {
       "output_type": "stream",
       "stream": "stdout",
       "text": [
        "\n",
        "0.95"
       ]
      },
      {
       "output_type": "stream",
       "stream": "stdout",
       "text": [
        "\n"
       ]
      }
     ],
     "prompt_number": 142
    },
    {
     "cell_type": "code",
     "collapsed": false,
     "input": [
      "optstop = np.array(map(lambda v: [v[0], v[1], v[2].argmax()], eg[key]))\n",
      "levels = np.arange(0.05, 1., .05)\n",
      "mat = np.zeros((len(levels), len(levels)))\n",
      "for pt in optstop:\n",
      "     mat[np.where(levels==pt[1])[0][0], np.where(levels==pt[0])[0][0]] = pt[2]\n",
      "fig = plt.figure()\n",
      "ax = fig.add_axes([.1,.1,.8,.8])\n",
      "ax.pcolor(levels, levels, mat, cmap=plt.cm.YlOrRd)\n",
      "ax.set_aspect('equal')\n",
      "ax.set_xticks(np.arange(0.0, 1., .1))\n",
      "ax.set_yticks(np.arange(0.0, 1., .1))\n",
      "plt.show()"
     ],
     "language": "python",
     "metadata": {},
     "outputs": [
      {
       "metadata": {},
       "output_type": "display_data",
       "png": "[encoded data removed]",
       "text": [
        "<matplotlib.figure.Figure at 0x11448bed0>"
       ]
      }
     ],
     "prompt_number": 179
    },
    {
     "cell_type": "code",
     "collapsed": false,
     "input": [
      "hist(optstop[:,2])"
     ],
     "language": "python",
     "metadata": {},
     "outputs": [
      {
       "metadata": {},
       "output_type": "pyout",
       "prompt_number": 147,
       "text": [
        "(array([  52.,    0.,  289.,    0.,   18.,    0.,    0.,    0.,    1.,    1.]),\n",
        " array([  0.,   1.,   2.,   3.,   4.,   5.,   6.,   7.,   8.,   9.,  10.]),\n",
        " <a list of 10 Patch objects>)"
       ]
      },
      {
       "metadata": {},
       "output_type": "display_data",
       "png": "[encoded data removed]",
       "text": [
        "<matplotlib.figure.Figure at 0x1114bcb90>"
       ]
      }
     ],
     "prompt_number": 147
    },
    {
     "cell_type": "code",
     "collapsed": false,
     "input": [
      "A_pos = 10\n",
      "A_neg = -10\n",
      "B_pos = 10\n",
      "B_neg = -50\n",
      "p_expire = .05\n",
      "maxsamp = 25\n",
      "key = (A_pos, A_neg, B_pos, B_neg, p_expire)"
     ],
     "language": "python",
     "metadata": {},
     "outputs": [],
     "prompt_number": 175
    },
    {
     "cell_type": "code",
     "collapsed": false,
     "input": [
      "eg[key] = []\n",
      "for pA in np.arange(.05, 1., .05):\n",
      "    print pA\n",
      "    for pB in np.arange(.05, 1., .05):\n",
      "        opt = {'H': (A_pos, A_neg, pA), 'L': (B_pos, B_neg, pB)}\n",
      "        rnd = 0.5 * expected_value(opt['H']) + 0.5 * expected_value(opt['L'])\n",
      "        eg[key].append([pA, pB, expected_gain_given_uniform_expiration(opt, p_expire, maxsamp) - rnd])"
     ],
     "language": "python",
     "metadata": {},
     "outputs": [
      {
       "output_type": "stream",
       "stream": "stdout",
       "text": [
        "0.05\n",
        "0.1"
       ]
      },
      {
       "output_type": "stream",
       "stream": "stdout",
       "text": [
        "\n",
        "0.15"
       ]
      },
      {
       "output_type": "stream",
       "stream": "stdout",
       "text": [
        "\n",
        "0.2"
       ]
      },
      {
       "output_type": "stream",
       "stream": "stdout",
       "text": [
        "\n",
        "0.25"
       ]
      },
      {
       "output_type": "stream",
       "stream": "stdout",
       "text": [
        "\n",
        "0.3"
       ]
      },
      {
       "output_type": "stream",
       "stream": "stdout",
       "text": [
        "\n",
        "0.35"
       ]
      },
      {
       "output_type": "stream",
       "stream": "stdout",
       "text": [
        "\n",
        "0.4"
       ]
      },
      {
       "output_type": "stream",
       "stream": "stdout",
       "text": [
        "\n",
        "0.45"
       ]
      },
      {
       "output_type": "stream",
       "stream": "stdout",
       "text": [
        "\n",
        "0.5"
       ]
      },
      {
       "output_type": "stream",
       "stream": "stdout",
       "text": [
        "\n",
        "0.55"
       ]
      },
      {
       "output_type": "stream",
       "stream": "stdout",
       "text": [
        "\n",
        "0.6"
       ]
      },
      {
       "output_type": "stream",
       "stream": "stdout",
       "text": [
        "\n",
        "0.65"
       ]
      },
      {
       "output_type": "stream",
       "stream": "stdout",
       "text": [
        "\n",
        "0.7"
       ]
      },
      {
       "output_type": "stream",
       "stream": "stdout",
       "text": [
        "\n",
        "0.75"
       ]
      },
      {
       "output_type": "stream",
       "stream": "stdout",
       "text": [
        "\n",
        "0.8"
       ]
      },
      {
       "output_type": "stream",
       "stream": "stdout",
       "text": [
        "\n",
        "0.85"
       ]
      },
      {
       "output_type": "stream",
       "stream": "stdout",
       "text": [
        "\n",
        "0.9"
       ]
      },
      {
       "output_type": "stream",
       "stream": "stdout",
       "text": [
        "\n",
        "0.95"
       ]
      },
      {
       "output_type": "stream",
       "stream": "stdout",
       "text": [
        "\n"
       ]
      }
     ],
     "prompt_number": 148
    },
    {
     "cell_type": "code",
     "collapsed": false,
     "input": [
      "optstop = np.array(map(lambda v: [v[0], v[1], v[2].argmax()], eg[key]))\n",
      "levels = np.arange(0.05, 1., .05)\n",
      "mat = np.zeros((len(levels), len(levels)))\n",
      "for pt in optstop:\n",
      "     mat[np.where(levels==pt[1])[0][0], np.where(levels==pt[0])[0][0]] = pt[2]\n",
      "fig = plt.figure()\n",
      "ax = fig.add_axes([.1,.1,.8,.8])\n",
      "ax.pcolor(levels, levels, mat, cmap=plt.cm.YlOrRd)\n",
      "ax.set_aspect('equal')\n",
      "ax.set_xticks(np.arange(0.0, 1., .1))\n",
      "ax.set_yticks(np.arange(0.0, 1., .1))\n",
      "plt.show()"
     ],
     "language": "python",
     "metadata": {},
     "outputs": [
      {
       "metadata": {},
       "output_type": "display_data",
       "png": "[encoded data removed]",
       "text": [
        "<matplotlib.figure.Figure at 0x114451c90>"
       ]
      }
     ],
     "prompt_number": 177
    },
    {
     "cell_type": "code",
     "collapsed": false,
     "input": [
      "hist(optstop[:,2])"
     ],
     "language": "python",
     "metadata": {},
     "outputs": [
      {
       "metadata": {},
       "output_type": "pyout",
       "prompt_number": 150,
       "text": [
        "(array([  92.,  230.,    0.,    3.,   31.,    0.,    0.,    3.,    0.,    2.]),\n",
        " array([  0. ,   2.2,   4.4,   6.6,   8.8,  11. ,  13.2,  15.4,  17.6,\n",
        "        19.8,  22. ]),\n",
        " <a list of 10 Patch objects>)"
       ]
      },
      {
       "metadata": {},
       "output_type": "display_data",
       "png": "[encoded data removed]",
       "text": [
        "<matplotlib.figure.Figure at 0x111decad0>"
       ]
      }
     ],
     "prompt_number": 150
    },
    {
     "cell_type": "code",
     "collapsed": false,
     "input": [
      "A_pos = 10\n",
      "A_neg = -10\n",
      "B_pos = 50\n",
      "B_neg = -50\n",
      "p_expire = .05\n",
      "maxsamp = 25\n",
      "key = (A_pos, A_neg, B_pos, B_neg, p_expire)"
     ],
     "language": "python",
     "metadata": {},
     "outputs": [],
     "prompt_number": 188
    },
    {
     "cell_type": "code",
     "collapsed": false,
     "input": [
      "eg[key] = []\n",
      "for pA in np.arange(.05, 1., .05):\n",
      "    print pA\n",
      "    for pB in np.arange(.05, 1., .05):\n",
      "        opt = {'H': (A_pos, A_neg, pA), 'L': (B_pos, B_neg, pB)}\n",
      "        rnd = 0.5 * expected_value(opt['H']) + 0.5 * expected_value(opt['L'])\n",
      "        eg[key].append([pA, pB, expected_gain_given_uniform_expiration(opt, p_expire, maxsamp) - rnd])"
     ],
     "language": "python",
     "metadata": {},
     "outputs": [
      {
       "output_type": "stream",
       "stream": "stdout",
       "text": [
        "0.05\n",
        "0.1"
       ]
      },
      {
       "output_type": "stream",
       "stream": "stdout",
       "text": [
        "\n",
        "0.15"
       ]
      },
      {
       "output_type": "stream",
       "stream": "stdout",
       "text": [
        "\n",
        "0.2"
       ]
      },
      {
       "output_type": "stream",
       "stream": "stdout",
       "text": [
        "\n",
        "0.25"
       ]
      },
      {
       "output_type": "stream",
       "stream": "stdout",
       "text": [
        "\n",
        "0.3"
       ]
      },
      {
       "output_type": "stream",
       "stream": "stdout",
       "text": [
        "\n",
        "0.35"
       ]
      },
      {
       "output_type": "stream",
       "stream": "stdout",
       "text": [
        "\n",
        "0.4"
       ]
      },
      {
       "output_type": "stream",
       "stream": "stdout",
       "text": [
        "\n",
        "0.45"
       ]
      },
      {
       "output_type": "stream",
       "stream": "stdout",
       "text": [
        "\n",
        "0.5"
       ]
      },
      {
       "output_type": "stream",
       "stream": "stdout",
       "text": [
        "\n",
        "0.55"
       ]
      },
      {
       "output_type": "stream",
       "stream": "stdout",
       "text": [
        "\n",
        "0.6"
       ]
      },
      {
       "output_type": "stream",
       "stream": "stdout",
       "text": [
        "\n",
        "0.65"
       ]
      },
      {
       "output_type": "stream",
       "stream": "stdout",
       "text": [
        "\n",
        "0.7"
       ]
      },
      {
       "output_type": "stream",
       "stream": "stdout",
       "text": [
        "\n",
        "0.75"
       ]
      },
      {
       "output_type": "stream",
       "stream": "stdout",
       "text": [
        "\n",
        "0.8"
       ]
      },
      {
       "output_type": "stream",
       "stream": "stdout",
       "text": [
        "\n",
        "0.85"
       ]
      },
      {
       "output_type": "stream",
       "stream": "stdout",
       "text": [
        "\n",
        "0.9"
       ]
      },
      {
       "output_type": "stream",
       "stream": "stdout",
       "text": [
        "\n",
        "0.95"
       ]
      },
      {
       "output_type": "stream",
       "stream": "stdout",
       "text": [
        "\n"
       ]
      }
     ],
     "prompt_number": 151
    },
    {
     "cell_type": "code",
     "collapsed": false,
     "input": [
      "optstop = np.array(map(lambda v: [v[0], v[1], v[2].argmax()], eg[key]))\n",
      "levels = np.arange(0.05, 1., .05)\n",
      "mat = np.zeros((len(levels), len(levels)))\n",
      "for pt in optstop:\n",
      "     mat[np.where(levels==pt[1])[0][0], np.where(levels==pt[0])[0][0]] = pt[2]\n",
      "fig = plt.figure()\n",
      "ax = fig.add_axes([.1,.1,.8,.8])\n",
      "ax.pcolor(levels, levels, mat, cmap=plt.cm.YlOrRd)\n",
      "ax.set_aspect('equal')\n",
      "ax.set_xticks(np.arange(0.0, 1., .1))\n",
      "ax.set_yticks(np.arange(0.0, 1., .1))\n",
      "plt.show()"
     ],
     "language": "python",
     "metadata": {},
     "outputs": [
      {
       "metadata": {},
       "output_type": "display_data",
       "png": "[encoded data removed]",
       "text": [
        "<matplotlib.figure.Figure at 0x114698d10>"
       ]
      }
     ],
     "prompt_number": 193
    },
    {
     "cell_type": "code",
     "collapsed": false,
     "input": [
      "hist(optstop[:,2])"
     ],
     "language": "python",
     "metadata": {},
     "outputs": [
      {
       "metadata": {},
       "output_type": "pyout",
       "prompt_number": 190,
       "text": [
        "(array([ 121.,   98.,   64.,   54.,   10.,    2.,    0.,    0.,    2.,   10.]),\n",
        " array([  0. ,   2.3,   4.6,   6.9,   9.2,  11.5,  13.8,  16.1,  18.4,\n",
        "        20.7,  23. ]),\n",
        " <a list of 10 Patch objects>)"
       ]
      },
      {
       "metadata": {},
       "output_type": "display_data",
       "png": "[encoded data removed]",
       "text": [
        "<matplotlib.figure.Figure at 0x112e77ed0>"
       ]
      }
     ],
     "prompt_number": 190
    },
    {
     "cell_type": "code",
     "collapsed": false,
     "input": [
      "A_pos = 10\n",
      "A_neg = -10\n",
      "B_pos = 50\n",
      "B_neg = -10\n",
      "p_expire = .05\n",
      "maxsamp = 25\n",
      "key = (A_pos, A_neg, B_pos, B_neg, p_expire)"
     ],
     "language": "python",
     "metadata": {},
     "outputs": [],
     "prompt_number": 194
    },
    {
     "cell_type": "code",
     "collapsed": false,
     "input": [
      "eg[key] = []\n",
      "for pA in np.arange(.05, 1., .05):\n",
      "    print pA\n",
      "    for pB in np.arange(.05, 1., .05):\n",
      "        opt = {'H': (A_pos, A_neg, pA), 'L': (B_pos, B_neg, pB)}\n",
      "        rnd = 0.5 * expected_value(opt['H']) + 0.5 * expected_value(opt['L'])\n",
      "        eg[key].append([pA, pB, expected_gain_given_uniform_expiration(opt, p_expire, maxsamp) - rnd])"
     ],
     "language": "python",
     "metadata": {},
     "outputs": [
      {
       "output_type": "stream",
       "stream": "stdout",
       "text": [
        "0.05\n",
        "0.1"
       ]
      },
      {
       "output_type": "stream",
       "stream": "stdout",
       "text": [
        "\n",
        "0.15"
       ]
      },
      {
       "output_type": "stream",
       "stream": "stdout",
       "text": [
        "\n",
        "0.2"
       ]
      },
      {
       "output_type": "stream",
       "stream": "stdout",
       "text": [
        "\n",
        "0.25"
       ]
      },
      {
       "output_type": "stream",
       "stream": "stdout",
       "text": [
        "\n",
        "0.3"
       ]
      },
      {
       "output_type": "stream",
       "stream": "stdout",
       "text": [
        "\n",
        "0.35"
       ]
      },
      {
       "output_type": "stream",
       "stream": "stdout",
       "text": [
        "\n",
        "0.4"
       ]
      },
      {
       "output_type": "stream",
       "stream": "stdout",
       "text": [
        "\n",
        "0.45"
       ]
      },
      {
       "output_type": "stream",
       "stream": "stdout",
       "text": [
        "\n",
        "0.5"
       ]
      },
      {
       "output_type": "stream",
       "stream": "stdout",
       "text": [
        "\n",
        "0.55"
       ]
      },
      {
       "output_type": "stream",
       "stream": "stdout",
       "text": [
        "\n",
        "0.6"
       ]
      },
      {
       "output_type": "stream",
       "stream": "stdout",
       "text": [
        "\n",
        "0.65"
       ]
      },
      {
       "output_type": "stream",
       "stream": "stdout",
       "text": [
        "\n",
        "0.7"
       ]
      },
      {
       "output_type": "stream",
       "stream": "stdout",
       "text": [
        "\n",
        "0.75"
       ]
      },
      {
       "output_type": "stream",
       "stream": "stdout",
       "text": [
        "\n",
        "0.8"
       ]
      },
      {
       "output_type": "stream",
       "stream": "stdout",
       "text": [
        "\n",
        "0.85"
       ]
      },
      {
       "output_type": "stream",
       "stream": "stdout",
       "text": [
        "\n",
        "0.9"
       ]
      },
      {
       "output_type": "stream",
       "stream": "stdout",
       "text": [
        "\n",
        "0.95"
       ]
      },
      {
       "output_type": "stream",
       "stream": "stdout",
       "text": [
        "\n"
       ]
      }
     ],
     "prompt_number": 181
    },
    {
     "cell_type": "code",
     "collapsed": false,
     "input": [
      "optstop = np.array(map(lambda v: [v[0], v[1], v[2].argmax()], eg[key]))\n",
      "levels = np.arange(0.05, 1., .05)\n",
      "mat = np.zeros((len(levels), len(levels)))\n",
      "for pt in optstop:\n",
      "     mat[np.where(levels==pt[1])[0][0], np.where(levels==pt[0])[0][0]] = pt[2]\n",
      "fig = plt.figure()\n",
      "ax = fig.add_axes([.1,.1,.8,.8])\n",
      "ax.pcolor(levels, levels, mat, cmap=plt.cm.YlOrRd)\n",
      "ax.set_aspect('equal')\n",
      "ax.set_xticks(np.arange(0.0, 1., .1))\n",
      "ax.set_yticks(np.arange(0.0, 1., .1))\n",
      "plt.show()"
     ],
     "language": "python",
     "metadata": {},
     "outputs": [
      {
       "metadata": {},
       "output_type": "display_data",
       "png": "[encoded data removed]",
       "text": [
        "<matplotlib.figure.Figure at 0x114880b10>"
       ]
      }
     ],
     "prompt_number": 195
    },
    {
     "cell_type": "code",
     "collapsed": false,
     "input": [
      "hist(optstop[:,2])"
     ],
     "language": "python",
     "metadata": {},
     "outputs": [
      {
       "metadata": {},
       "output_type": "pyout",
       "prompt_number": 187,
       "text": [
        "(array([  92.,  230.,    0.,    3.,   31.,    0.,    0.,    3.,    0.,    2.]),\n",
        " array([  0. ,   2.2,   4.4,   6.6,   8.8,  11. ,  13.2,  15.4,  17.6,\n",
        "        19.8,  22. ]),\n",
        " <a list of 10 Patch objects>)"
       ]
      },
      {
       "metadata": {},
       "output_type": "display_data",
       "png": "[encoded data removed]",
       "text": [
        "<matplotlib.figure.Figure at 0x1144797d0>"
       ]
      }
     ],
     "prompt_number": 187
    },
    {
     "cell_type": "markdown",
     "metadata": {},
     "source": [
      "What if the outcome values are known, but not probabilities?"
     ]
    },
    {
     "cell_type": "code",
     "collapsed": false,
     "input": [
      "eg = {}"
     ],
     "language": "python",
     "metadata": {},
     "outputs": [],
     "prompt_number": 196
    },
    {
     "cell_type": "code",
     "collapsed": false,
     "input": [
      "# first, fixed probability of expiration over whole range\n",
      "key = 'U(1,25; .05), fixed'\n",
      "A_pos = 10\n",
      "A_neg = -10\n",
      "B_pos = 50\n",
      "B_neg = -15\n",
      "p_expire = .05\n",
      "maxsamp = 25\n",
      "ngambles = 100\n",
      "p_range = [0, 1]\n",
      "eg[key] = np.zeros((ngambles, maxsamp-1), float)\n",
      "\n",
      "for i in range(ngambles):\n",
      "    opt = generate_gamble_posneg_nondom_fixed_outcomes(A_pos, A_neg, B_pos, B_neg)\n",
      "    eg[key][i] = expected_gain_given_uniform_expiration(opt, p_expire, maxsamp)"
     ],
     "language": "python",
     "metadata": {},
     "outputs": [],
     "prompt_number": 209
    },
    {
     "cell_type": "code",
     "collapsed": false,
     "input": [
      "eg[key]"
     ],
     "language": "python",
     "metadata": {},
     "outputs": [
      {
       "metadata": {},
       "output_type": "pyout",
       "prompt_number": 211,
       "text": [
        "array([[ 33.25707368,  33.28888884,  34.96846587, ...,  22.46777204,\n",
        "         22.0757069 ,  21.7032449 ],\n",
        "       [ 37.04010492,  39.55808869,  40.88217072, ...,  31.24530161,\n",
        "         30.86091194,  30.48119488],\n",
        "       [ 41.22620464,  41.03924333,  41.65327757, ...,  27.33231423,\n",
        "         26.89054105,  26.47085652],\n",
        "       ..., \n",
        "       [ 25.84209277,  26.23035601,  28.98975902, ...,  18.7904141 ,\n",
        "         18.44977427,  18.12616168],\n",
        "       [ 25.39016952,  25.9502261 ,  28.80956883, ...,  18.92315482,\n",
        "         18.58684806,  18.26734982],\n",
        "       [  4.43445759,   4.39828264,   4.39561619, ...,  -0.28600805,\n",
        "         -0.45337955,  -0.61240001]])"
       ]
      }
     ],
     "prompt_number": 211
    },
    {
     "cell_type": "code",
     "collapsed": false,
     "input": [
      "# first, fixed probability of expiration over whole range\n",
      "key = 'U(1,25; .05), V=(10,-10,50,-50)'\n",
      "A_pos = 10\n",
      "A_neg = -10\n",
      "B_pos = 50\n",
      "B_neg = -50\n",
      "p_expire = .05\n",
      "maxsamp = 25\n",
      "ngambles = 100\n",
      "p_range = [0, 1]\n",
      "eg[key] = np.zeros((ngambles, maxsamp-1), float)\n",
      "\n",
      "for i in range(ngambles):\n",
      "    opt = generate_gamble_posneg_nondom_fixed_outcomes(A_pos, A_neg, B_pos, B_neg)\n",
      "    eg[key][i] = expected_gain_given_uniform_expiration(opt, p_expire, maxsamp)"
     ],
     "language": "python",
     "metadata": {},
     "outputs": [],
     "prompt_number": 213
    },
    {
     "cell_type": "code",
     "collapsed": false,
     "input": [
      "keys = ['U(1,25; .05), fixed', 'U(1,25; .05), V=(10,-10,50,-50)','U(1,25; .05), V=(10,-10,15,-100)']\n",
      "fig = plt.figure()\n",
      "ax = fig.add_axes([.1,.1,.8,.8])\n",
      "\n",
      "for key in keys:\n",
      "    y = eg[key].mean(axis=0)\n",
      "    err = eg[key].std(axis=0)/np.sqrt(eg[key].shape[0])\n",
      "    ax.errorbar(range(1, maxsamp), y, yerr=err)\n",
      "ax.grid(b=True, which='major', color='gray', linestyle='-')\n",
      "ax.set_xlabel('# samples')\n",
      "ax.set_ylabel('E[gain]')\n",
      "ax.set_title('Expected gain relative to random assignment')\n",
      "fig.show()"
     ],
     "language": "python",
     "metadata": {},
     "outputs": [
      {
       "metadata": {},
       "output_type": "display_data",
       "png": "[encoded data removed]",
       "text": [
        "<matplotlib.figure.Figure at 0x114d0d750>"
       ]
      }
     ],
     "prompt_number": 216
    },
    {
     "cell_type": "code",
     "collapsed": false,
     "input": [
      "# first, fixed probability of expiration over whole range\n",
      "key = 'U(1,25; .05), V=(10,-10,15,-100)'\n",
      "A_pos = 10\n",
      "A_neg = -10\n",
      "B_pos = 15\n",
      "B_neg = -100\n",
      "p_expire = .05\n",
      "maxsamp = 25\n",
      "ngambles = 100\n",
      "p_range = [0, 1]\n",
      "eg[key] = np.zeros((ngambles, maxsamp-1), float)\n",
      "\n",
      "for i in range(ngambles):\n",
      "    opt = generate_gamble_posneg_nondom_fixed_outcomes(A_pos, A_neg, B_pos, B_neg)\n",
      "    eg[key][i] = expected_gain_given_uniform_expiration(opt, p_expire, maxsamp)"
     ],
     "language": "python",
     "metadata": {},
     "outputs": [],
     "prompt_number": 215
    },
    {
     "cell_type": "code",
     "collapsed": false,
     "input": [
      "# first, fixed probability of expiration over whole range\n",
      "key = 'U(1,25; .05), V=(10,-10,15,-70)'\n",
      "A_pos = 10\n",
      "A_neg = -10\n",
      "A_p_range = [0, 1]\n",
      "B_pos = 15\n",
      "B_neg = -70\n",
      "B_p_range = [0.4, 0.6]\n",
      "p_expire = .05\n",
      "maxsamp = 25\n",
      "ngambles = 100\n",
      "p_range = [0, 1]\n",
      "eg[key] = np.zeros((ngambles, maxsamp-1), float)\n",
      "\n",
      "for i in range(ngambles):\n",
      "    opt = generate_gamble_posneg_nondom_fixed_outcomes(A_pos, A_neg, B_pos, B_neg, A_p_range, B_p_range)\n",
      "    eg[key][i] = expected_gain_given_uniform_expiration(opt, p_expire, maxsamp)"
     ],
     "language": "python",
     "metadata": {},
     "outputs": [],
     "prompt_number": 220
    },
    {
     "cell_type": "code",
     "collapsed": false,
     "input": [
      "keys = ['U(1,25; .05), V=(10,-10,15,-70)']\n",
      "fig = plt.figure()\n",
      "ax = fig.add_axes([.1,.1,.8,.8])\n",
      "\n",
      "for key in keys:\n",
      "    y = eg[key].mean(axis=0)\n",
      "    err = eg[key].std(axis=0)/np.sqrt(eg[key].shape[0])\n",
      "    ax.errorbar(range(1, maxsamp), y, yerr=err)\n",
      "ax.grid(b=True, which='major', color='gray', linestyle='-')\n",
      "ax.set_xlabel('# samples')\n",
      "ax.set_ylabel('E[gain]')\n",
      "ax.set_title('Expected gain relative to random assignment')\n",
      "fig.show()"
     ],
     "language": "python",
     "metadata": {},
     "outputs": [
      {
       "metadata": {},
       "output_type": "display_data",
       "png": "[encoded data removed]",
       "text": [
        "<matplotlib.figure.Figure at 0x115898a10>"
       ]
      }
     ],
     "prompt_number": 222
    },
    {
     "cell_type": "code",
     "collapsed": false,
     "input": [],
     "language": "python",
     "metadata": {},
     "outputs": []
    }
   ],
   "metadata": {}
  }
 ]
}