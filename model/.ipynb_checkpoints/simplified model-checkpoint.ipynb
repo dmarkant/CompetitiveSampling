{
 "metadata": {
  "name": ""
 },
 "nbformat": 3,
 "nbformat_minor": 0,
 "worksheets": [
  {
   "cells": [
    {
     "cell_type": "markdown",
     "metadata": {},
     "source": [
      "Binomial pdf:\n",
      "\n",
      "$binompdf(k, N, p) = choose(N, k) \\; p^k (1 - p)^{N-k}$"
     ]
    },
    {
     "cell_type": "code",
     "collapsed": false,
     "input": [
      "import matplotlib.pyplot as plt\n",
      "from gambles import *\n",
      "from expiration import *\n",
      "\n",
      "from scipy.stats import binom\n",
      "%load_ext autoreload\n",
      "%autoreload 2"
     ],
     "language": "python",
     "metadata": {},
     "outputs": [
      {
       "output_type": "stream",
       "stream": "stdout",
       "text": [
        "The autoreload extension is already loaded. To reload it, use:\n",
        "  %reload_ext autoreload\n"
       ]
      }
     ],
     "prompt_number": 51
    },
    {
     "cell_type": "code",
     "collapsed": false,
     "input": [
      "N_H = 5\n",
      "N_L = 5\n",
      "g = generate_gamble_posneg()\n",
      "print_gamble(g)\n",
      "\n",
      "x = np.arange(0, N_H + 1, 1)\n",
      "y = np.arange(0, N_L + 1, 1)\n",
      "Y, X = np.meshgrid(x, y)\n",
      "\n",
      "# observed means\n",
      "Z = np.zeros((N_H + 1, N_L + 1))\n",
      "for i, j in np.nditer([X,Y]):\n",
      "\n",
      "    Z[i,j] = value_given_outcomes(g['H'], i, N_H-i) - value_given_outcomes(g['L'], j, N_L-j)\n",
      "\n",
      "# joint probability\n",
      "Zp = np.zeros((N_H + 1, N_L + 1))\n",
      "for i, j in np.nditer([X,Y]):\n",
      "    Zp[i,j] = binom.pmf(i, N_H, g['H'][2]) * binom.pmf(j, N_L, g['L'][2])\n",
      "    \n",
      "fig = plt.figure()\n",
      "ax = fig.add_subplot(1, 2, 1)\n",
      "ax.contourf(X, Y, Zp, 10,\n",
      "                        cmap='gray',\n",
      "                        origin='lower')\n",
      "ax.set_xlabel('total # samples')\n",
      "ax.set_ylabel('p(n+|H) * p(n+|L)')\n",
      "ax.set_aspect('equal')\n",
      "ax.set_title('joint prob')\n",
      "\n",
      "ax = fig.add_subplot(1, 2, 2)\n",
      "ax.contourf(X, Y, Z, 10,\n",
      "                        #alpha=0.5,\n",
      "                        cmap='RdBu',\n",
      "                        origin='lower')\n",
      "ax.set_xlabel('total # samples')\n",
      "ax.set_ylabel('V(H) - V(L)')\n",
      "ax.set_aspect('equal')\n",
      "ax.set_title('difference in value')\n",
      "\n",
      "plt.show()"
     ],
     "language": "python",
     "metadata": {},
     "outputs": [
      {
       "output_type": "stream",
       "stream": "stdout",
       "text": [
        "high option: (62, -60, 0.8036264935217181) (EV: 38.0424322096)\n",
        "low option: (6, -43, 0.1933069253128441) (EV: -33.5279606597)\n"
       ]
      },
      {
       "metadata": {},
       "output_type": "display_data",
       "png": "[encoded data removed]",
       "text": [
        "<matplotlib.figure.Figure at 0x1102c4a90>"
       ]
      }
     ],
     "prompt_number": 106
    },
    {
     "cell_type": "markdown",
     "metadata": {},
     "source": [
      "Given:\n",
      "\n",
      "    a gamble G\n",
      "    N_h (number of samples to H option)\n",
      "    N_l (number of samples to L option)\n",
      "\n",
      "What is the probability of choosing the H option if the option with the highest observed mean is selected?"
     ]
    },
    {
     "cell_type": "code",
     "collapsed": false,
     "input": [],
     "language": "python",
     "metadata": {},
     "outputs": []
    }
   ],
   "metadata": {}
  }
 ]
}