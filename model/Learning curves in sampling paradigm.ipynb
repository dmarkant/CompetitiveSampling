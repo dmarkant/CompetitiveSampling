{
 "metadata": {
  "name": ""
 },
 "nbformat": 3,
 "nbformat_minor": 0,
 "worksheets": [
  {
   "cells": [
    {
     "cell_type": "code",
     "collapsed": false,
     "input": [
      "import matplotlib.pyplot as plt\n",
      "from gambles import *\n",
      "from expiration import *\n",
      "import numpy as np"
     ],
     "language": "python",
     "metadata": {},
     "outputs": [],
     "prompt_number": 5
    },
    {
     "cell_type": "code",
     "collapsed": false,
     "input": [
      "opt = generate_gamble()"
     ],
     "language": "python",
     "metadata": {},
     "outputs": [],
     "prompt_number": 2
    },
    {
     "cell_type": "code",
     "collapsed": false,
     "input": [
      "expected_value(opt['H'])"
     ],
     "language": "python",
     "metadata": {},
     "outputs": [
      {
       "metadata": {},
       "output_type": "pyout",
       "prompt_number": 10,
       "text": [
        "13.646455988187085"
       ]
      }
     ],
     "prompt_number": 10
    },
    {
     "cell_type": "code",
     "collapsed": false,
     "input": [
      "est_values, probs = option_sample_means_and_probs(opt['H'], 5)\n",
      "print expected_value(opt['H'])\n",
      "print est_values\n",
      "abserr = np.abs(est_values - expected_value(opt['H']))\n",
      "print np.sum(probs * abserr)"
     ],
     "language": "python",
     "metadata": {},
     "outputs": [
      {
       "output_type": "stream",
       "stream": "stdout",
       "text": [
        "13.6464559882\n",
        "[-185  -69   47  163  279  395]\n",
        "113.491510996\n"
       ]
      }
     ],
     "prompt_number": 29
    },
    {
     "cell_type": "code",
     "collapsed": false,
     "input": [
      "def abs_est_error(opt, N):\n",
      "    est_values, probs = option_sample_means_and_probs(opt, N)\n",
      "    abserr = np.abs(est_values - expected_value(opt))\n",
      "    #print abserr\n",
      "    print np.sum(probs * abserr)\n",
      "    #r#eturn np.sum([np.abs(expected_value(opt) - est_values[i]) * probs[i] for i in range(len(est_values))])"
     ],
     "language": "python",
     "metadata": {},
     "outputs": [],
     "prompt_number": 34
    },
    {
     "cell_type": "code",
     "collapsed": false,
     "input": [
      "[abs_est_error(opt['H'], t) for t in range(20)]"
     ],
     "language": "python",
     "metadata": {},
     "outputs": [
      {
       "output_type": "stream",
       "stream": "stdout",
       "text": [
        "13.6464559882\n",
        "57.067679146\n",
        "69.2863974467\n",
        "79.0628212649\n",
        "102.022695822\n",
        "113.491510996\n",
        "120.986594033\n",
        "140.795107627\n",
        "152.690660078\n",
        "159.885657005\n",
        "177.892908755\n",
        "190.294405396\n",
        "198.801449633\n",
        "214.501126363\n",
        "227.362022468\n",
        "236.881718535\n",
        "251.072055304\n",
        "264.326652658\n",
        "274.653357085\n",
        "287.802141681\n"
       ]
      },
      {
       "metadata": {},
       "output_type": "pyout",
       "prompt_number": 35,
       "text": [
        "[None,\n",
        " None,\n",
        " None,\n",
        " None,\n",
        " None,\n",
        " None,\n",
        " None,\n",
        " None,\n",
        " None,\n",
        " None,\n",
        " None,\n",
        " None,\n",
        " None,\n",
        " None,\n",
        " None,\n",
        " None,\n",
        " None,\n",
        " None,\n",
        " None,\n",
        " None]"
       ]
      }
     ],
     "prompt_number": 35
    },
    {
     "cell_type": "code",
     "collapsed": false,
     "input": [],
     "language": "python",
     "metadata": {},
     "outputs": []
    }
   ],
   "metadata": {}
  }
 ]
}