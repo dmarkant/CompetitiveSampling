{
 "metadata": {
  "name": ""
 },
 "nbformat": 3,
 "nbformat_minor": 0,
 "worksheets": [
  {
   "cells": [
    {
     "cell_type": "code",
     "collapsed": false,
     "input": [
      "%load_ext autoreload\n",
      "%autoreload 2"
     ],
     "language": "python",
     "metadata": {},
     "outputs": [],
     "prompt_number": 104
    },
    {
     "cell_type": "code",
     "collapsed": false,
     "input": [
      "import matplotlib.pyplot as plt\n",
      "from gambles import *\n",
      "from expiration import *\n",
      "import numpy as np"
     ],
     "language": "python",
     "metadata": {},
     "outputs": [],
     "prompt_number": 1
    },
    {
     "cell_type": "code",
     "collapsed": false,
     "input": [
      "opt = generate_gamble()\n",
      "print opt"
     ],
     "language": "python",
     "metadata": {},
     "outputs": [
      {
       "output_type": "stream",
       "stream": "stdout",
       "text": [
        "{'H': (46, -47, 0.7911549379000088), 'L': (88, -41, 0.438695679836384)}\n"
       ]
      }
     ],
     "prompt_number": 2
    },
    {
     "cell_type": "code",
     "collapsed": false,
     "input": [
      "expected_value(opt['H'])"
     ],
     "language": "python",
     "metadata": {},
     "outputs": [
      {
       "metadata": {},
       "output_type": "pyout",
       "prompt_number": 3,
       "text": [
        "26.57740922470082"
       ]
      }
     ],
     "prompt_number": 3
    },
    {
     "cell_type": "code",
     "collapsed": false,
     "input": [
      "est_values, probs = option_sample_means_and_probs(opt['H'], 5)\n",
      "print expected_value(opt['H'])\n",
      "print est_values\n",
      "abserr = np.abs(est_values - expected_value(opt['H']))\n",
      "print np.sum(probs * abserr)"
     ],
     "language": "python",
     "metadata": {},
     "outputs": [
      {
       "output_type": "stream",
       "stream": "stdout",
       "text": [
        "26.5774092247\n",
        "[-47.  -28.4  -9.8   8.8  27.4  46. ]\n",
        "12.7135703433\n"
       ]
      }
     ],
     "prompt_number": 4
    },
    {
     "cell_type": "code",
     "collapsed": false,
     "input": [
      "def estimate(opt, N):\n",
      "    est_values, probs = option_sample_means_and_probs(opt, N)\n",
      "    est = np.sum([probs[i] * est_values[i] for i in range(len(est_values))])\n",
      "    return est"
     ],
     "language": "python",
     "metadata": {},
     "outputs": [],
     "prompt_number": 5
    },
    {
     "cell_type": "code",
     "collapsed": false,
     "input": [
      "ev = expected_value(opt['H'])\n",
      "print ev\n",
      "[estimate(opt['H'], i) for i in range(1, 10)]"
     ],
     "language": "python",
     "metadata": {},
     "outputs": [
      {
       "output_type": "stream",
       "stream": "stdout",
       "text": [
        "26.5774092247\n"
       ]
      },
      {
       "metadata": {},
       "output_type": "pyout",
       "prompt_number": 6,
       "text": [
        "[26.577409224700823,\n",
        " 26.577409224700819,\n",
        " 26.577409224700816,\n",
        " 26.577409224700816,\n",
        " 26.577409224700808,\n",
        " 26.577409224700819,\n",
        " 26.577409224700823,\n",
        " 26.577409224700823,\n",
        " 26.577409224700794]"
       ]
      }
     ],
     "prompt_number": 6
    },
    {
     "cell_type": "code",
     "collapsed": false,
     "input": [
      "def abs_est_error(opt, N):\n",
      "    ev = expected_value(opt)\n",
      "    est_values, probs = option_sample_means_and_probs(opt, N)\n",
      "    #print '\\ntrue value:', ev\n",
      "    #print 'estimate:', est_values\n",
      "    #print 'probs:\\t', probs\n",
      "    #print 'error:\\t', [np.abs(est_values[i] - ev) for i in range(len(est_values))]\n",
      "    \n",
      "    w_abs_error = [probs[i] * np.abs(est_values[i] - ev) for i in range(len(est_values))]\n",
      "    return np.sum(w_abs_error)"
     ],
     "language": "python",
     "metadata": {},
     "outputs": [],
     "prompt_number": 20
    },
    {
     "cell_type": "code",
     "collapsed": false,
     "input": [
      "def error(opt, max_N):\n",
      "    return np.array([abs_est_error(opt, t) for t in range(1, max_N)])"
     ],
     "language": "python",
     "metadata": {},
     "outputs": [],
     "prompt_number": 8
    },
    {
     "cell_type": "code",
     "collapsed": false,
     "input": [
      "opt = (20, -100, .8)"
     ],
     "language": "python",
     "metadata": {},
     "outputs": [],
     "prompt_number": 9
    },
    {
     "cell_type": "code",
     "collapsed": false,
     "input": [
      "error(opt, 20)"
     ],
     "language": "python",
     "metadata": {},
     "outputs": [
      {
       "metadata": {},
       "output_type": "pyout",
       "prompt_number": 10,
       "text": [
        "array([ 38.4       ,  30.72      ,  24.576     ,  19.6608    ,\n",
        "        15.72864   ,  15.72864   ,  15.0994944 ,  14.09286144,\n",
        "        12.88490189,  11.5964117 ,  11.5964117 ,  11.33871366,\n",
        "        10.88516511,  10.29142884,   9.60533358,   9.60533358,\n",
        "         9.45755922,   9.18734324,   8.81984951])"
       ]
      }
     ],
     "prompt_number": 10
    },
    {
     "cell_type": "code",
     "collapsed": false,
     "input": [
      "print error((40, -40, .9), 20)"
     ],
     "language": "python",
     "metadata": {},
     "outputs": [
      {
       "output_type": "stream",
       "stream": "stdout",
       "text": [
        "[ 14.4         12.96        11.664       10.4976       9.44784      8.503056\n",
        "   7.6527504    6.88747536   6.19872782   5.57885504   5.57885504\n",
        "   5.52306649   5.4226471    5.28708092   5.12440151   4.94138717\n",
        "   4.74373168   4.53619342   4.3227255 ]\n"
       ]
      }
     ],
     "prompt_number": 31
    },
    {
     "cell_type": "code",
     "collapsed": false,
     "input": [
      "print error((40, -400, .9), 20)"
     ],
     "language": "python",
     "metadata": {},
     "outputs": [
      {
       "output_type": "stream",
       "stream": "stdout",
       "text": [
        "[ 79.2         71.28        64.152       57.7368      51.96312     46.766808\n",
        "  42.0901272   37.88111448  34.09300303  30.68370273  30.68370273\n",
        "  30.3768657   29.82455905  29.07894508  28.1842083   27.17762944\n",
        "  26.09052426  24.94906382  23.77499023]\n"
       ]
      }
     ],
     "prompt_number": 22
    },
    {
     "cell_type": "code",
     "collapsed": false,
     "input": [
      "print error((40, -400, .75), 20)"
     ],
     "language": "python",
     "metadata": {},
     "outputs": [
      {
       "output_type": "stream",
       "stream": "stdout",
       "text": [
        "[ 165.          123.75         92.8125       69.609375     69.609375\n",
        "   65.25878906   58.73291016   51.39129639   51.39129639   49.55589294\n",
        "   46.45864964   42.5870955    42.5870955    41.52241811   39.63503547\n",
        "   37.15784575   37.15784575   36.4432718    35.14172638]\n"
       ]
      }
     ],
     "prompt_number": 19
    },
    {
     "cell_type": "code",
     "collapsed": false,
     "input": [
      "fig, ax = plt.subplots()\n",
      "ax.plot(error((1, -10, .5), 50), 'r-')\n",
      "ax.plot(error((1, -10, .75), 50), 'r--')\n",
      "ax.plot(error((1, -10, .9), 50), 'r+')\n",
      "#ax.plot(error((1, -100, .5), 50), 'b-')\n",
      "#ax.plot(error((1, -100, .75), 50), 'b--')\n",
      "#ax.plot(error((1, -100, .95), 50), 'b+')\n",
      "plt.show()"
     ],
     "language": "python",
     "metadata": {},
     "outputs": [
      {
       "metadata": {},
       "output_type": "display_data",
       "png": "[encoded data removed]",
       "text": [
        "<matplotlib.figure.Figure at 0x10f587a90>"
       ]
      }
     ],
     "prompt_number": 40
    },
    {
     "cell_type": "code",
     "collapsed": false,
     "input": [
      "opt = (4, 0, .8)"
     ],
     "language": "python",
     "metadata": {},
     "outputs": [],
     "prompt_number": 41
    },
    {
     "cell_type": "code",
     "collapsed": false,
     "input": [
      "fig, ax = plt.subplots()\n",
      "ax.plot(error((4, 0, .8), 50), 'r-')\n",
      "ax.plot(error((32, 0, .1), 50), 'r--')\n",
      "ax.plot(error((32, 0, .025), 50), 'r+')\n",
      "plt.show()"
     ],
     "language": "python",
     "metadata": {},
     "outputs": [
      {
       "metadata": {},
       "output_type": "display_data",
       "png": "[encoded data removed]",
       "text": [
        "<matplotlib.figure.Figure at 0x10f5893d0>"
       ]
      }
     ],
     "prompt_number": 48
    },
    {
     "cell_type": "code",
     "collapsed": false,
     "input": [
      "fig, ax = plt.subplots()\n",
      "ax.plot(error((4, 0, .8), 50), 'r-')\n",
      "ax.plot(error((32, 0, .1), 50), 'r--')\n",
      "ax.plot(error((32, 0, .025), 50), 'r+')\n",
      "plt.show()"
     ],
     "language": "python",
     "metadata": {},
     "outputs": []
    }
   ],
   "metadata": {}
  }
 ]
}