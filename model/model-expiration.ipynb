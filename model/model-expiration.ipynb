{
 "metadata": {
  "name": ""
 },
 "nbformat": 3,
 "nbformat_minor": 0,
 "worksheets": [
  {
   "cells": [
    {
     "cell_type": "code",
     "collapsed": false,
     "input": [
      "import matplotlib.pyplot as plt\n",
      "from gambles import *\n",
      "from expiration import *"
     ],
     "language": "python",
     "metadata": {},
     "outputs": [],
     "prompt_number": 83
    },
    {
     "cell_type": "code",
     "collapsed": false,
     "input": [
      "%load_ext autoreload\n",
      "%autoreload 2"
     ],
     "language": "python",
     "metadata": {},
     "outputs": [
      {
       "output_type": "stream",
       "stream": "stdout",
       "text": [
        "The autoreload extension is already loaded. To reload it, use:\n",
        "  %reload_ext autoreload\n"
       ]
      }
     ],
     "prompt_number": 84
    },
    {
     "cell_type": "markdown",
     "metadata": {},
     "source": [
      "# Individual sampling with expiring options"
     ]
    },
    {
     "cell_type": "code",
     "collapsed": false,
     "input": [
      "opt = generate_gamble_posneg()\n",
      "print_gamble(opt)"
     ],
     "language": "python",
     "metadata": {},
     "outputs": [
      {
       "output_type": "stream",
       "stream": "stdout",
       "text": [
        "high option: (13, -38, 0.8921834194420821) (EV: 7.50135439155)\n",
        "low option: (32, -42, 0.22241082267422574) (EV: -25.5415991221)\n"
       ]
      }
     ],
     "prompt_number": 85
    },
    {
     "cell_type": "code",
     "collapsed": false,
     "input": [
      "pH = [prob_choose_H_all_allocations(opt, n) for n in range(1,25)]\n",
      "\n",
      "fig = plt.figure()\n",
      "ax = fig.add_axes([.1,.1,.8,.8])\n",
      "ax.plot(range(1,25), pH)\n",
      "ax.set_xlabel('total # samples')\n",
      "ax.set_ylabel('p(get H)')"
     ],
     "language": "python",
     "metadata": {},
     "outputs": [
      {
       "metadata": {},
       "output_type": "pyout",
       "prompt_number": 86,
       "text": [
        "<matplotlib.text.Text at 0x11261c2d0>"
       ]
      },
      {
       "metadata": {},
       "output_type": "display_data",
       "png": "[encoded data removed]",
       "text": [
        "<matplotlib.figure.Figure at 0x1102b1d90>"
       ]
      }
     ],
     "prompt_number": 86
    },
    {
     "cell_type": "code",
     "collapsed": false,
     "input": [
      "# now do the same across many randomly generated gambles and sample sizes\n",
      "maxsamp = 25\n",
      "ngambles = 500\n",
      "pH = np.zeros((maxsamp, ngambles), float)\n",
      "for i in range(ngambles):\n",
      "    opt = generate_gamble_posneg()\n",
      "    for n in range(1, maxsamp+1):\n",
      "        pH[n-1, i] = prob_choose_H_all_allocations(opt, n)"
     ],
     "language": "python",
     "metadata": {},
     "outputs": [],
     "prompt_number": 45
    },
    {
     "cell_type": "code",
     "collapsed": false,
     "input": [
      "x = range(1, maxsamp+1)\n",
      "y = pH.mean(axis=1)\n",
      "err = pH.std(axis=1)/np.sqrt(pH.shape[1])\n",
      "plt.figure()\n",
      "plt.errorbar(x, y, yerr=err)\n",
      "plt.grid(b=True, which='major', color='gray', linestyle='-')"
     ],
     "language": "python",
     "metadata": {},
     "outputs": [
      {
       "metadata": {},
       "output_type": "display_data",
       "png": "[encoded data removed]",
       "text": [
        "<matplotlib.figure.Figure at 0x1101c85d0>"
       ]
      }
     ],
     "prompt_number": 46
    },
    {
     "cell_type": "markdown",
     "metadata": {},
     "source": [
      "That plot shows, for a given number of total samples, the expected gain from choosing in terms of the probability of getting the H option, relative to a random assignment of options.\n",
      "\n",
      "Of course, the actual gain in term of rewards depends on the value of a particular gamble."
     ]
    },
    {
     "cell_type": "code",
     "collapsed": false,
     "input": [
      "# now do the same across many randomly generated gambles and sample sizes\n",
      "maxsamp = 25\n",
      "ngambles = 100\n",
      "eg = np.zeros((maxsamp, ngambles), float)\n",
      "for i in range(ngambles):\n",
      "    opt = generate_gamble_posneg()\n",
      "    ev_random = 0.5 * expected_value(opt['H']) + 0.5 * expected_value(opt['L'])\n",
      "    for n in range(1, maxsamp+1):\n",
      "        pH = prob_choose_H_all_allocations(opt, n)\n",
      "        eg[n-1, i] = (pH * expected_value(opt['H']) + (1 - pH) * expected_value(opt['L'])) - ev_random"
     ],
     "language": "python",
     "metadata": {},
     "outputs": [],
     "prompt_number": 49
    },
    {
     "cell_type": "code",
     "collapsed": false,
     "input": [
      "x = range(1, maxsamp+1)\n",
      "y = eg.mean(axis=1)\n",
      "err = eg.std(axis=1)/np.sqrt(eg.shape[1])\n",
      "fig = plt.figure()\n",
      "ax = fig.add_axes([.1,.1,.8,.8])\n",
      "ax.errorbar(x, y, yerr=err)\n",
      "ax.grid(b=True, which='major', color='gray', linestyle='-')\n",
      "ax.set_xlabel('total # samples')\n",
      "ax.set_ylabel('E[gain]')\n",
      "ax.set_title('Expected gain relative to random assignment')"
     ],
     "language": "python",
     "metadata": {},
     "outputs": [
      {
       "metadata": {},
       "output_type": "pyout",
       "prompt_number": 55,
       "text": [
        "<matplotlib.text.Text at 0x1106a8090>"
       ]
      },
      {
       "metadata": {},
       "output_type": "display_data",
       "png": "[encoded data removed]",
       "text": [
        "<matplotlib.figure.Figure at 0x10fec6990>"
       ]
      }
     ],
     "prompt_number": 55
    },
    {
     "cell_type": "markdown",
     "metadata": {},
     "source": [
      "## Random expiration"
     ]
    },
    {
     "cell_type": "markdown",
     "metadata": {},
     "source": [
      "If you know when an option will expire, then the optimal policy is to sample up until that point (although the expected gain curve shows that there is little marginal gain after 10-15 samples, so if there is any cost to continuing to sample, the optimal point may be earlier). \n",
      "\n",
      "But, what if you are uncertain about when the expiration will occur? "
     ]
    },
    {
     "cell_type": "markdown",
     "metadata": {},
     "source": [
      "### Uniform expiration"
     ]
    },
    {
     "cell_type": "code",
     "collapsed": false,
     "input": [
      "p_expire = .05\n",
      "opt = generate_gamble_posneg()\n",
      "eg = expected_gain_given_uniform_expiration(opt, p_expire, 25)\n",
      "\n",
      "fig = plt.figure()\n",
      "ax = fig.add_axes([.1,.1,.8,.8])\n",
      "#ax.errorbar(x, y, yerr=err)\n",
      "ax.plot(range(1, 26), eg)\n",
      "ax.grid(b=True, which='major', color='gray', linestyle='-')\n",
      "ax.set_xlabel('planned # samples')\n",
      "ax.set_ylabel('E[gain]')\n",
      "ax.set_title('Expected gain given uniform p(expire)')"
     ],
     "language": "python",
     "metadata": {},
     "outputs": [
      {
       "metadata": {},
       "output_type": "pyout",
       "prompt_number": 72,
       "text": [
        "<matplotlib.text.Text at 0x11090c650>"
       ]
      },
      {
       "metadata": {},
       "output_type": "display_data",
       "png": "[encoded data removed]",
       "text": [
        "<matplotlib.figure.Figure at 0x11119ef50>"
       ]
      }
     ],
     "prompt_number": 72
    },
    {
     "cell_type": "code",
     "collapsed": false,
     "input": [
      "# now do the same across many randomly generated gambles and sample sizes\n",
      "p_expire = [.01, .05, .1]\n",
      "maxsamp = 25\n",
      "ngambles = 100\n",
      "eg = {p: np.zeros((ngambles, maxsamp), float) for p in p_expire}\n",
      "\n",
      "for i in range(ngambles):\n",
      "    opt = generate_gamble_posneg()\n",
      "    for p in p_expire:\n",
      "        eg[p][i] = expected_gain_given_uniform_expiration(opt, p, maxsamp)"
     ],
     "language": "python",
     "metadata": {},
     "outputs": [],
     "prompt_number": 98
    },
    {
     "cell_type": "code",
     "collapsed": false,
     "input": [
      "x = range(1, maxsamp+1)\n",
      "fig = plt.figure()\n",
      "ax = fig.add_axes([.1,.1,.8,.8])\n",
      "for p in p_expire:\n",
      "    y = eg[p].mean(axis=0)\n",
      "    err = eg[p].std(axis=0)/np.sqrt(eg[p].shape[0])\n",
      "    ax.errorbar(x, y, yerr=err)\n",
      "ax.grid(b=True, which='major', color='gray', linestyle='-')\n",
      "ax.set_xlabel('total # samples')\n",
      "ax.set_ylabel('E[gain]')\n",
      "ax.set_title('Expected gain relative to random assignment')"
     ],
     "language": "python",
     "metadata": {},
     "outputs": [
      {
       "metadata": {},
       "output_type": "pyout",
       "prompt_number": 99,
       "text": [
        "<matplotlib.text.Text at 0x112da7790>"
       ]
      },
      {
       "metadata": {},
       "output_type": "display_data",
       "png": "[encoded data removed]",
       "text": [
        "<matplotlib.figure.Figure at 0x112d179d0>"
       ]
      }
     ],
     "prompt_number": 99
    },
    {
     "cell_type": "markdown",
     "metadata": {},
     "source": [
      "### Normally-distributed expiration"
     ]
    },
    {
     "cell_type": "code",
     "collapsed": false,
     "input": [
      "expire_par = [[10, 3], [20, 3]]\n",
      "maxsamp = 25\n",
      "ngambles = 200\n",
      "eg = [np.zeros((ngambles, maxsamp), float) for _ in expire_par]\n",
      "\n",
      "for i in range(ngambles):\n",
      "    opt = generate_gamble_posneg()\n",
      "    for p_i, p in enumerate(expire_par):\n",
      "        eg[p_i][i] = expected_gain_given_normal_expiration(opt, p[0], p[1], maxsamp)"
     ],
     "language": "python",
     "metadata": {},
     "outputs": [],
     "prompt_number": 92
    },
    {
     "cell_type": "code",
     "collapsed": false,
     "input": [
      "x = range(1, maxsamp+1)\n",
      "fig = plt.figure()\n",
      "ax = fig.add_axes([.1,.1,.8,.8])\n",
      "for i in range(len(expire_par)):\n",
      "    y = eg[i].mean(axis=0)\n",
      "    err = eg[i].std(axis=0)/np.sqrt(eg[i].shape[0])\n",
      "    ax.errorbar(x, y, yerr=err)\n",
      "ax.grid(b=True, which='major', color='gray', linestyle='-')\n",
      "ax.set_xlabel('total # samples')\n",
      "ax.set_ylabel('E[gain]')\n",
      "ax.set_title('Expected gain relative to random assignment')"
     ],
     "language": "python",
     "metadata": {},
     "outputs": [
      {
       "metadata": {},
       "output_type": "pyout",
       "prompt_number": 93,
       "text": [
        "<matplotlib.text.Text at 0x111207b10>"
       ]
      },
      {
       "metadata": {},
       "output_type": "display_data",
       "png": "[encoded data removed]",
       "text": [
        "<matplotlib.figure.Figure at 0x1126b4f90>"
       ]
      }
     ],
     "prompt_number": 93
    },
    {
     "cell_type": "code",
     "collapsed": false,
     "input": [
      "from scipy.stats import norm"
     ],
     "language": "python",
     "metadata": {},
     "outputs": [],
     "prompt_number": 94
    },
    {
     "cell_type": "code",
     "collapsed": false,
     "input": [
      "fig = plt.figure()\n",
      "ax = fig.add_axes([.1,.1,.8,.8])\n",
      "\n",
      "for [mn, sd] in expire_par:\n",
      "    ax.plot([norm.pdf(x, loc=mn, scale=sd) for x in range(maxsamp)])\n",
      "    \n",
      "ax.grid(b=True, which='major', color='gray', linestyle='-')\n",
      "ax.set_xlabel('trial')\n",
      "ax.set_ylabel('p(expire)')\n",
      "ax.set_title('Probability of expiring')"
     ],
     "language": "python",
     "metadata": {},
     "outputs": [
      {
       "metadata": {},
       "output_type": "pyout",
       "prompt_number": 97,
       "text": [
        "<matplotlib.text.Text at 0x112d14c10>"
       ]
      },
      {
       "metadata": {},
       "output_type": "display_data",
       "png": "[encoded data removed]",
       "text": [
        "<matplotlib.figure.Figure at 0x112d2b590>"
       ]
      }
     ],
     "prompt_number": 97
    },
    {
     "cell_type": "markdown",
     "metadata": {},
     "source": [
      "## Conditions"
     ]
    },
    {
     "cell_type": "code",
     "collapsed": false,
     "input": [
      "# first, fixed probability of expiration over whole range\n",
      "key = 'U(1,25; .05)'\n",
      "p_expire = .05\n",
      "maxsamp = 25\n",
      "ngambles = 100\n",
      "eg = {key: np.zeros((ngambles, maxsamp), float)}\n",
      "\n",
      "for i in range(ngambles):\n",
      "    opt = generate_gamble_posneg()\n",
      "    eg[key][i] = expected_gain_given_uniform_expiration(opt, p, maxsamp)"
     ],
     "language": "python",
     "metadata": {},
     "outputs": [],
     "prompt_number": 104
    },
    {
     "cell_type": "code",
     "collapsed": false,
     "input": [
      "# next, fixed probability of expiration over limited range\n",
      "key = 'U(10,25; .05)'\n",
      "p_expire = .05\n",
      "maxsamp = 25\n",
      "ngambles = 100\n",
      "eg[key] = np.zeros((ngambles, maxsamp), float)\n",
      "\n",
      "for i in range(ngambles):\n",
      "    opt = generate_gamble_posneg()\n",
      "    eg[key][i] = expected_gain_given_uniform_expiration(opt, p, maxsamp, start=10)"
     ],
     "language": "python",
     "metadata": {},
     "outputs": [],
     "prompt_number": 105
    },
    {
     "cell_type": "code",
     "collapsed": false,
     "input": [
      "keys = ['U(1,25; .05)','U(10,25; .05)']\n",
      "fig = plt.figure()\n",
      "ax = fig.add_axes([.1,.1,.8,.8])\n",
      "\n",
      "for key in keys:\n",
      "    y = eg[key].mean(axis=0)\n",
      "    err = eg[key].std(axis=0)/np.sqrt(eg[key].shape[0])\n",
      "    ax.errorbar(x, y, yerr=err)\n",
      "ax.grid(b=True, which='major', color='gray', linestyle='-')\n",
      "ax.set_xlabel('# samples')\n",
      "ax.set_ylabel('E[gain]')\n",
      "ax.set_title('Expected gain relative to random assignment')"
     ],
     "language": "python",
     "metadata": {},
     "outputs": [
      {
       "metadata": {},
       "output_type": "pyout",
       "prompt_number": 106,
       "text": [
        "<matplotlib.text.Text at 0x112d5d9d0>"
       ]
      },
      {
       "metadata": {},
       "output_type": "display_data",
       "png": "[encoded data removed]",
       "text": [
        "<matplotlib.figure.Figure at 0x112d69910>"
       ]
      }
     ],
     "prompt_number": 106
    },
    {
     "cell_type": "markdown",
     "metadata": {},
     "source": [
      "Yeah, this confirms a general problem, which is that there is still very little marginal gain after a few samples. Really would like to only use gambles in which there is a greater marginal gain with more sampling."
     ]
    },
    {
     "cell_type": "code",
     "collapsed": false,
     "input": [
      "print generate_gamble_posneg()"
     ],
     "language": "python",
     "metadata": {},
     "outputs": [
      {
       "output_type": "stream",
       "stream": "stdout",
       "text": [
        "{'H': (63, -8, 0.8155099146449446), 'L': (85, -50, 0.01727709009158096)}\n"
       ]
      }
     ],
     "prompt_number": 107
    },
    {
     "cell_type": "code",
     "collapsed": false,
     "input": [
      "arange(0., 1., .05)"
     ],
     "language": "python",
     "metadata": {},
     "outputs": [
      {
       "metadata": {},
       "output_type": "pyout",
       "prompt_number": 108,
       "text": [
        "array([ 0.  ,  0.05,  0.1 ,  0.15,  0.2 ,  0.25,  0.3 ,  0.35,  0.4 ,\n",
        "        0.45,  0.5 ,  0.55,  0.6 ,  0.65,  0.7 ,  0.75,  0.8 ,  0.85,\n",
        "        0.9 ,  0.95])"
       ]
      }
     ],
     "prompt_number": 108
    },
    {
     "cell_type": "code",
     "collapsed": false,
     "input": [
      "p = .05 # prob of expiration\n",
      "maxsamp = 25\n",
      "for pH in arange(0.5, 1., .05):\n",
      "    for pL in arange(0., pH, .05):\n",
      "        opt = {'H': (1, -1, pH), 'L': (1, -1, pL)}\n",
      "        print expected_gain_given_uniform_expiration(opt, p, maxsamp)"
     ],
     "language": "python",
     "metadata": {},
     "outputs": [
      {
       "output_type": "stream",
       "stream": "stdout",
       "text": [
        "[ 0.         -0.9475     -0.947625   -0.94764312 -0.94777406 -0.94789598\n",
        " -0.94802748 -0.94815804 -0.94828961 -0.94842107 -0.94855265 -0.94868421\n",
        " -0.94881579 -0.94894737 -0.94907895 -0.94921053 -0.94934211 -0.94947368\n",
        " -0.94960526 -0.94973684 -0.94986842 -0.95       -0.95013158 -0.95026316\n",
        " -0.95039474]\n",
        "[ 0.         -0.89       -0.8905     -0.89019    -0.890735   -0.8911504\n",
        " -0.8917035  -0.89223109 -0.89278601 -0.89333542 -0.8938908  -0.89444494\n",
        " -0.89500045 -0.89555567 -0.89611121 -0.89666669 -0.89722224 -0.89777778\n",
        " -0.89833334 -0.89888889 -0.89944444 -0.9        -0.90055556 -0.90111111\n",
        " -0.90166667]"
       ]
      },
      {
       "output_type": "stream",
       "stream": "stdout",
       "text": [
        "\n",
        "[ 0.         -0.8475     -0.847625   -0.84744062 -0.84758281 -0.84766648\n",
        " -0.84781232 -0.84794571 -0.84809244 -0.84823638 -0.84838335 -0.84852967\n",
        " -0.84867671 -0.84882359 -0.84897064 -0.84911766 -0.84926472 -0.84941177\n",
        " -0.84955883 -0.84970588 -0.84985294 -0.85       -0.85014706 -0.85029412\n",
        " -0.85044118]"
       ]
      },
      {
       "output_type": "stream",
       "stream": "stdout",
       "text": [
        "\n",
        "[ 0.         -0.8275     -0.828625   -0.82716812 -0.82843656 -0.82911978\n",
        " -0.83042479 -0.83156658 -0.83288325 -0.83414998 -0.83547081 -0.83677573\n",
        " -0.83809816 -0.83941548 -0.84073854 -0.84206002 -0.84338335 -0.84470623\n",
        " -0.84602967 -0.84735302 -0.84867651 -0.85       -0.85132351 -0.85264704\n",
        " -0.85397056]"
       ]
      },
      {
       "output_type": "stream",
       "stream": "stdout",
       "text": [
        "\n",
        "[ 0.         -0.79       -0.7905     -0.789425   -0.7900125  -0.7902069\n",
        " -0.79081897 -0.79131765 -0.79193782 -0.79252286 -0.79314595 -0.7937578\n",
        " -0.79438202 -0.79500263 -0.7956273  -0.79625085 -0.79687571 -0.79750025\n",
        " -0.79812519 -0.79875006 -0.79937503 -0.8        -0.80062499 -0.80124999\n",
        " -0.80187498]"
       ]
      },
      {
       "output_type": "stream",
       "stream": "stdout",
       "text": [
        "\n",
        "[ 0.         -0.7475     -0.747625   -0.74726063 -0.74741281 -0.74742168\n",
        " -0.74758282 -0.74769761 -0.74786207 -0.74801096 -0.74817672 -0.7483372\n",
        " -0.74850348 -0.748668   -0.7488345  -0.74900044 -0.74916703 -0.74933346\n",
        " -0.7495001  -0.7496667  -0.74983335 -0.75       -0.75016666 -0.75033333\n",
        " -0.75049999]"
       ]
      },
      {
       "output_type": "stream",
       "stream": "stdout",
       "text": [
        "\n",
        "[ 0.  -0.7 -0.7 -0.7 -0.7 -0.7 -0.7 -0.7 -0.7 -0.7 -0.7 -0.7 -0.7 -0.7 -0.7\n",
        " -0.7 -0.7 -0.7 -0.7 -0.7 -0.7 -0.7 -0.7 -0.7 -0.7]"
       ]
      },
      {
       "output_type": "stream",
       "stream": "stdout",
       "text": [
        "\n",
        "[ 0.         -0.76       -0.762      -0.75824    -0.76056    -0.7612416\n",
        " -0.763664   -0.76551296 -0.76797632 -0.77021948 -0.77270119 -0.77509482\n",
        " -0.77758534 -0.78004042 -0.78253537 -0.7850165  -0.78751375 -0.79000608\n",
        " -0.79250456 -0.79500171 -0.79750085 -0.8        -0.80249952 -0.80499945\n",
        " -0.80749917]"
       ]
      },
      {
       "output_type": "stream",
       "stream": "stdout",
       "text": [
        "\n",
        "[ 0.         -0.7275     -0.728625   -0.72554812 -0.72690656 -0.72698858\n",
        " -0.72842679 -0.72940981 -0.73088054 -0.73217552 -0.73366089 -0.73507585\n",
        " -0.73656826 -0.73803234 -0.73952829 -0.7410132  -0.742511   -0.74400487\n",
        " -0.74550365 -0.74700136 -0.74850068 -0.75       -0.75149961 -0.75299956\n",
        " -0.75449934]"
       ]
      },
      {
       "output_type": "stream",
       "stream": "stdout",
       "text": [
        "\n",
        "[ 0.         -0.69       -0.6905     -0.68875    -0.689375   -0.6892304\n",
        " -0.6899035  -0.69028172 -0.69097589 -0.69155131 -0.69225536 -0.69291068\n",
        " -0.69361962 -0.69430866 -0.69502008 -0.69572368 -0.6964364  -0.69714633\n",
        " -0.69785975 -0.6985724  -0.6992862  -0.7        -0.70071401 -0.70142826\n",
        " -0.70214238]"
       ]
      },
      {
       "output_type": "stream",
       "stream": "stdout",
       "text": [
        "\n",
        "[ 0.         -0.6475     -0.647625   -0.64710313 -0.64726406 -0.64717598\n",
        " -0.64735248 -0.64742368 -0.64760771 -0.64774575 -0.6479336  -0.64810129\n",
        " -0.64829116 -0.64847236 -0.64866331 -0.64885071 -0.64904226 -0.64923249\n",
        " -0.64942437 -0.64961588 -0.64980794 -0.65       -0.65019217 -0.65038445\n",
        " -0.65057668]"
       ]
      },
      {
       "output_type": "stream",
       "stream": "stdout",
       "text": [
        "\n",
        "[ 0.         -0.6875     -0.690625   -0.68320313 -0.68691406 -0.68710938\n",
        " -0.69104004 -0.69352875 -0.69756241 -0.70094719 -0.70503492 -0.7088185\n",
        " -0.71293665 -0.71691141 -0.72104748 -0.72511802 -0.72926502 -0.73338471\n",
        " -0.73753853 -0.74168365 -0.74584182 -0.75       -0.75416099 -0.75832569\n",
        " -0.76248853]"
       ]
      },
      {
       "output_type": "stream",
       "stream": "stdout",
       "text": [
        "\n",
        "[ 0.         -0.66       -0.662      -0.65554    -0.65801    -0.6575156\n",
        " -0.66017087 -0.66159528 -0.66433847 -0.66652606 -0.66931556 -0.67184441\n",
        " -0.67465997 -0.67735263 -0.68018355 -0.6829583  -0.68579859 -0.68861546\n",
        " -0.6914616  -0.69430027 -0.69715014 -0.7        -0.70285228 -0.70570773\n",
        " -0.7085616 ]"
       ]
      },
      {
       "output_type": "stream",
       "stream": "stdout",
       "text": [
        "\n",
        "[ 0.         -0.6275     -0.628625   -0.62413063 -0.62556781 -0.62484027\n",
        " -0.62641276 -0.62703996 -0.62867996 -0.62988218 -0.63155867 -0.63302716\n",
        " -0.63472444 -0.63632304 -0.63803266 -0.63969704 -0.6414142  -0.64311248\n",
        " -0.64483436 -0.64655022 -0.64827511 -0.65       -0.65172684 -0.65345625\n",
        " -0.65518437]"
       ]
      },
      {
       "output_type": "stream",
       "stream": "stdout",
       "text": [
        "\n",
        "[ 0.         -0.59       -0.5905     -0.588165   -0.5888225  -0.5882749\n",
        " -0.58900772 -0.58917371 -0.58994702 -0.59044306 -0.59123947 -0.59189884\n",
        " -0.59270895 -0.59345219 -0.59427067 -0.59505788 -0.59588156 -0.59669202\n",
        " -0.59751902 -0.59834175 -0.59917088 -0.6        -0.60083051 -0.60166286\n",
        " -0.60249429]"
       ]
      },
      {
       "output_type": "stream",
       "stream": "stdout",
       "text": [
        "\n",
        "[ 0.         -0.5475     -0.547625   -0.54696813 -0.54713656 -0.54694198\n",
        " -0.5471331  -0.54713949 -0.54734381 -0.54745124 -0.54766364 -0.54782511\n",
        " -0.5480426  -0.54823387 -0.54845463 -0.54866255 -0.54888546 -0.54910271\n",
        " -0.54932703 -0.54954947 -0.54977473 -0.55       -0.5502259  -0.55045266\n",
        " -0.55067899]"
       ]
      },
      {
       "output_type": "stream",
       "stream": "stdout",
       "text": [
        "\n",
        "[ 0.         -0.61       -0.6145     -0.60199    -0.607435   -0.6065296\n",
        " -0.6123715  -0.61529618 -0.62134646 -0.62592645 -0.63209925 -0.63750015\n",
        " -0.64375013 -0.64959256 -0.65589349 -0.6619858  -0.6683215  -0.67455984\n",
        " -0.68091988 -0.68724517 -0.69362258 -0.7        -0.70639002 -0.71279858\n",
        " -0.71919787]"
       ]
      },
      {
       "output_type": "stream",
       "stream": "stdout",
       "text": [
        "\n",
        "[ 0.         -0.5875     -0.590625   -0.57926562 -0.58319531 -0.58149187\n",
        " -0.58577363 -0.58744423 -0.5919125  -0.59506207 -0.59964023 -0.60352576\n",
        " -0.60817318 -0.61245486 -0.617148   -0.62165392 -0.62637827 -0.63101524\n",
        " -0.63576143 -0.64047643 -0.64523822 -0.65       -0.6547731  -0.65956283\n",
        " -0.66434424]"
       ]
      },
      {
       "output_type": "stream",
       "stream": "stdout",
       "text": [
        "\n",
        "[ 0.         -0.56       -0.562      -0.5532     -0.5558     -0.5538496\n",
        " -0.556734   -0.557426   -0.560467   -0.56238099 -0.5655159  -0.56805418\n",
        " -0.57124876 -0.57412719 -0.57736129 -0.58043332 -0.58369443 -0.58687986\n",
        " -0.5901599  -0.5934129  -0.59670645 -0.6        -0.60330335 -0.60662112\n",
        " -0.60993168]"
       ]
      },
      {
       "output_type": "stream",
       "stream": "stdout",
       "text": [
        "\n",
        "[ 0.         -0.5275     -0.528625   -0.52291562 -0.52442031 -0.52278827\n",
        " -0.52448901 -0.52458558 -0.5264009  -0.52735777 -0.52924463 -0.53066488\n",
        " -0.53259839 -0.53428043 -0.53624538 -0.53808002 -0.54006668 -0.54199209\n",
        " -0.54399406 -0.54597408 -0.54798704 -0.55       -0.55202095 -0.55405367\n",
        " -0.5560805 ]"
       ]
      },
      {
       "output_type": "stream",
       "stream": "stdout",
       "text": [
        "\n",
        "[ 0.         -0.49       -0.4905     -0.48767    -0.488355   -0.4873872\n",
        " -0.4881755  -0.48806118 -0.48891396 -0.48925676 -0.49015203 -0.49075755\n",
        " -0.49168179 -0.49244419 -0.49338867 -0.49424684 -0.4952057  -0.49612306\n",
        " -0.49709229 -0.49804638 -0.49902319 -0.5        -0.5009824  -0.50197311\n",
        " -0.50295967]"
       ]
      },
      {
       "output_type": "stream",
       "stream": "stdout",
       "text": [
        "\n",
        "[ 0.         -0.4475     -0.447625   -0.44685562 -0.44703031 -0.44673047\n",
        " -0.44693482 -0.4468635  -0.44708754 -0.44714668 -0.44738446 -0.4475235\n",
        " -0.44777115 -0.44796094 -0.44821582 -0.44843846 -0.44869872 -0.44894283\n",
        " -0.44920713 -0.44946531 -0.44973265 -0.45       -0.45026967 -0.45054292\n",
        " -0.45081438]"
       ]
      },
      {
       "output_type": "stream",
       "stream": "stdout",
       "text": [
        "\n",
        "[ 0.  -0.4 -0.4 -0.4 -0.4 -0.4 -0.4 -0.4 -0.4 -0.4 -0.4 -0.4 -0.4 -0.4 -0.4\n",
        " -0.4 -0.4 -0.4 -0.4 -0.4 -0.4 -0.4 -0.4 -0.4 -0.4]"
       ]
      },
      {
       "output_type": "stream",
       "stream": "stdout",
       "text": [
        "\n",
        "[ 0.         -0.5275     -0.533625   -0.51466812 -0.52218656 -0.51956077\n",
        " -0.52771323 -0.53081734 -0.53933039 -0.54508704 -0.55382979 -0.56100484\n",
        " -0.56990435 -0.57790715 -0.58691875 -0.5954331  -0.60452758 -0.61337067\n",
        " -0.622528   -0.63158811 -0.64079406 -0.65       -0.65924415 -0.66854914\n",
        " -0.67782371]"
       ]
      },
      {
       "output_type": "stream",
       "stream": "stdout",
       "text": [
        "\n",
        "[ 0.         -0.51       -0.5145     -0.496725   -0.5024625  -0.4988661\n",
        " -0.50518697 -0.506829   -0.51348408 -0.51758066 -0.52444893 -0.52986161\n",
        " -0.53687545 -0.54305663 -0.55017455 -0.55683073 -0.56402561 -0.57098705\n",
        " -0.57824029 -0.58540325 -0.59270162 -0.6        -0.60733385 -0.6147242\n",
        " -0.62208631]"
       ]
      },
      {
       "output_type": "stream",
       "stream": "stdout",
       "text": [
        "\n",
        "[ 0.         -0.4875     -0.490625   -0.47589063 -0.48000781 -0.47609187\n",
        " -0.48071113 -0.48117319 -0.48608939 -0.48870131 -0.49380953 -0.49759945\n",
        " -0.50283951 -0.50732373 -0.51265827 -0.51757329 -0.52297774 -0.52817003\n",
        " -0.53362752 -0.53900295 -0.54450147 -0.55       -0.55553078 -0.56111291\n",
        " -0.56666937]"
       ]
      },
      {
       "output_type": "stream",
       "stream": "stdout",
       "text": [
        "\n",
        "[ 0.         -0.46       -0.462      -0.45122    -0.45393    -0.4504308\n",
        " -0.45352887 -0.45324673 -0.45658625 -0.45799137 -0.46149209 -0.46386432\n",
        " -0.46747789 -0.47043689 -0.47413228 -0.47746187 -0.48121822 -0.48478885\n",
        " -0.48859164 -0.49232242 -0.49616121 -0.5        -0.50386712 -0.5077794\n",
        " -0.5116691 ]"
       ]
      },
      {
       "output_type": "stream",
       "stream": "stdout",
       "text": [
        "\n",
        "[ 0.         -0.4275     -0.428625   -0.42190312 -0.42346406 -0.42092977\n",
        " -0.42274666 -0.42220298 -0.42418848 -0.42476125 -0.42686447 -0.42811467\n",
        " -0.4303032  -0.43198386 -0.43423588 -0.43619849 -0.43849874 -0.44064992\n",
        " -0.44298744 -0.44526656 -0.44763328 -0.45       -0.45238988 -0.45481687\n",
        " -0.45722531]"
       ]
      },
      {
       "output_type": "stream",
       "stream": "stdout",
       "text": [
        "\n",
        "[ 0.         -0.39       -0.3905     -0.387265   -0.3879725  -0.3866069\n",
        " -0.38744397 -0.38701863 -0.38794587 -0.38808002 -0.38907335 -0.38956695\n",
        " -0.39061025 -0.39134476 -0.39242667 -0.39332685 -0.39443904 -0.395455\n",
        " -0.39659125 -0.39768889 -0.39884444 -0.4        -0.40117118 -0.40236784\n",
        " -0.40355175]"
       ]
      },
      {
       "output_type": "stream",
       "stream": "stdout",
       "text": [
        "\n",
        "[ 0.         -0.3475     -0.347625   -0.34676562 -0.34694531 -0.34655047\n",
        " -0.34676607 -0.34661472 -0.34685652 -0.34685713 -0.34711904 -0.34722232\n",
        " -0.34750009 -0.34767581 -0.34796633 -0.34819447 -0.34849539 -0.34876207\n",
        " -0.34907155 -0.34936682 -0.34968341 -0.35       -0.35032252 -0.35065501\n",
        " -0.35098251]"
       ]
      },
      {
       "output_type": "stream",
       "stream": "stdout",
       "text": [
        "\n",
        "[ 0.         -0.44       -0.448      -0.42144    -0.43136    -0.4265344\n",
        " -0.437376   -0.44047616 -0.45187072 -0.45880621 -0.47057236 -0.47966307\n",
        " -0.49169676 -0.50211602 -0.51435151 -0.52564257 -0.53803547 -0.54992467\n",
        " -0.5624435  -0.57475682 -0.58737841 -0.6        -0.61270678 -0.62555669\n",
        " -0.63833503]"
       ]
      },
      {
       "output_type": "stream",
       "stream": "stdout",
       "text": [
        "\n",
        "[ 0.         -0.4275     -0.433625   -0.40805312 -0.41593906 -0.40985877\n",
        " -0.4186176  -0.41999821 -0.42928405 -0.4343148  -0.44395524 -0.45104199\n",
        " -0.46093779 -0.46929256 -0.47938099 -0.4885679  -0.49880659 -0.50856446\n",
        " -0.51892335 -0.52908606 -0.53954303 -0.55       -0.56053829 -0.5712132\n",
        " -0.5818198 ]"
       ]
      },
      {
       "output_type": "stream",
       "stream": "stdout",
       "text": [
        "\n",
        "[ 0.         -0.41       -0.4145     -0.39227    -0.398255   -0.3916688\n",
        " -0.3984395  -0.39838068 -0.40563921 -0.40891433 -0.4165048  -0.42169407\n",
        " -0.42952466 -0.43590378 -0.44391581 -0.45107816 -0.4592318  -0.46693218\n",
        " -0.47519913 -0.48328114 -0.49164057 -0.5        -0.5084361  -0.51700102\n",
        " -0.52550153]"
       ]
      },
      {
       "output_type": "stream",
       "stream": "stdout",
       "text": [
        "\n",
        "[ 0.         -0.3875     -0.390625   -0.37307812 -0.37735156 -0.37117937\n",
        " -0.37610566 -0.3750946  -0.38044499 -0.38223672 -0.38788366 -0.39135119\n",
        " -0.39721607 -0.40175165 -0.40778269 -0.41303169 -0.41919308 -0.42493612\n",
        " -0.43120209 -0.43729711 -0.44364855 -0.45       -0.45642237 -0.46296396\n",
        " -0.46944594]"
       ]
      },
      {
       "output_type": "stream",
       "stream": "stdout",
       "text": [
        "\n",
        "[ 0.         -0.36       -0.362      -0.3496     -0.3524     -0.3474176\n",
        " -0.350704   -0.3493312  -0.3529504  -0.3536657  -0.35752689 -0.35955766\n",
        " -0.3636019  -0.36650617 -0.3706929  -0.37419893 -0.37849911 -0.38243134\n",
        " -0.3868235  -0.39106421 -0.3955321  -0.4        -0.40453105 -0.40916862\n",
        " -0.41375294]"
       ]
      },
      {
       "output_type": "stream",
       "stream": "stdout",
       "text": [
        "\n",
        "[ 0.         -0.3275     -0.328625   -0.32109312 -0.32269906 -0.31934577\n",
        " -0.32126166 -0.32005486 -0.32219379 -0.32230046 -0.32460876 -0.32558819\n",
        " -0.32802937 -0.32961706 -0.33216493 -0.33418991 -0.33682492 -0.33917124\n",
        " -0.34187843 -0.34446469 -0.34723235 -0.35       -0.3528188  -0.35572484\n",
        " -0.35858727]"
       ]
      },
      {
       "output_type": "stream",
       "stream": "stdout",
       "text": [
        "\n",
        "[ 0.         -0.29       -0.2905     -0.28695    -0.287675   -0.2859664\n",
        " -0.2868435  -0.28611882 -0.28711034 -0.28701586 -0.28809787 -0.28844253\n",
        " -0.28959828 -0.2902638  -0.29148082 -0.29238788 -0.29365657 -0.29474912\n",
        " -0.29606184 -0.29729884 -0.29864942 -0.3        -0.30138337 -0.30282389\n",
        " -0.30423584]"
       ]
      },
      {
       "output_type": "stream",
       "stream": "stdout",
       "text": [
        "\n",
        "[ 0.         -0.2475     -0.247625   -0.24669812 -0.24688156 -0.24640917\n",
        " -0.2466336  -0.24641069 -0.24666707 -0.24660953 -0.24689207 -0.24695427\n",
        " -0.24725884 -0.24741215 -0.24773563 -0.24796048 -0.2483004  -0.24858258\n",
        " -0.24893694 -0.24926575 -0.24963287 -0.25       -0.25037849 -0.25077732\n",
        " -0.25116599]"
       ]
      },
      {
       "output_type": "stream",
       "stream": "stdout",
       "text": [
        "\n",
        "[ 0.         -0.3475     -0.357625   -0.32264313 -0.33527406 -0.32805798\n",
        " -0.34192935 -0.34505542 -0.35969432 -0.36795051 -0.3831213  -0.39434279\n",
        " -0.40990851 -0.42301664 -0.43888956 -0.45327986 -0.46939988 -0.48470446\n",
        " -0.50102835 -0.51700914 -0.53350457 -0.55       -0.56664211 -0.58353833\n",
        " -0.60030749]"
       ]
      },
      {
       "output_type": "stream",
       "stream": "stdout",
       "text": [
        "\n",
        "[ 0.         -0.34       -0.348      -0.31352    -0.32388    -0.3149712\n",
        " -0.3265355  -0.32760753 -0.33992128 -0.34599578 -0.35882947 -0.36780181\n",
        " -0.38102163 -0.39183849 -0.40535868 -0.41742919 -0.431191   -0.44415548\n",
        " -0.45811661 -0.47174227 -0.48587113 -0.5        -0.51427228 -0.52879303\n",
        " -0.54318954]"
       ]
      },
      {
       "output_type": "stream",
       "stream": "stdout",
       "text": [
        "\n",
        "[ 0.         -0.3275     -0.333625   -0.30254063 -0.31073281 -0.30096528\n",
        " -0.31027995 -0.30955855 -0.31959008 -0.32359268 -0.33412662 -0.34091497\n",
        " -0.35182347 -0.36039771 -0.371598   -0.38138931 -0.39282442 -0.40348445\n",
        " -0.41511334 -0.42641609 -0.43820804 -0.45       -0.46193139 -0.47410433\n",
        " -0.4861565 ]"
       ]
      },
      {
       "output_type": "stream",
       "stream": "stdout",
       "text": [
        "\n",
        "[ 0.         -0.31       -0.3145     -0.288625   -0.2948125  -0.2852941\n",
        " -0.29246322 -0.29047617 -0.2982993  -0.30048389 -0.3087769  -0.31351737\n",
        " -0.32216564 -0.3285828  -0.33750995 -0.34508477 -0.35423731 -0.36264427\n",
        " -0.3719832  -0.38100804 -0.39050402 -0.4        -0.40963034 -0.41949353\n",
        " -0.4292403 ]"
       ]
      },
      {
       "output_type": "stream",
       "stream": "stdout",
       "text": [
        "\n",
        "[ 0.         -0.2875     -0.290625   -0.27082813 -0.27522656 -0.26697938\n",
        " -0.27216816 -0.26961453 -0.27535635 -0.27615511 -0.28230885 -0.28526645\n",
        " -0.2917398  -0.29616888 -0.30289777 -0.30837179 -0.31530982 -0.32155\n",
        " -0.3286625  -0.33547929 -0.34273965 -0.35       -0.35738735 -0.36499536\n",
        " -0.37249304]"
       ]
      },
      {
       "output_type": "stream",
       "stream": "stdout",
       "text": [
        "\n",
        "[ 0.         -0.26       -0.262      -0.24834    -0.25121    -0.2449396\n",
        " -0.24838088 -0.24595063 -0.2498113  -0.249769   -0.25395492 -0.25553121\n",
        " -0.25997809 -0.26270926 -0.26737061 -0.27095496 -0.2757958  -0.28002682\n",
        " -0.28502011 -0.28975125 -0.29487563 -0.3        -0.30523825 -0.31067615\n",
        " -0.31601422]"
       ]
      },
      {
       "output_type": "stream",
       "stream": "stdout",
       "text": [
        "\n",
        "[ 0.         -0.2275     -0.228625   -0.22048563 -0.22212531 -0.21810108\n",
        " -0.22009476 -0.21829265 -0.22055746 -0.22020001 -0.22268334 -0.22335117\n",
        " -0.22601605 -0.22744929 -0.23026812 -0.23229178 -0.23524315 -0.23773283\n",
        " -0.24079962 -0.24366347 -0.24683173 -0.25       -0.25325818 -0.25667676\n",
        " -0.26001514]"
       ]
      },
      {
       "output_type": "stream",
       "stream": "stdout",
       "text": [
        "\n",
        "[ 0.         -0.19       -0.1905     -0.186725   -0.1874625  -0.1854909\n",
        " -0.18639772 -0.1854257  -0.18646673 -0.18616671 -0.18731948 -0.18751451\n",
        " -0.18876306 -0.18934242 -0.19067462 -0.19156251 -0.19296876 -0.19411012\n",
        " -0.19558259 -0.19693567 -0.19846784 -0.2        -0.20158632 -0.20327144\n",
        " -0.20490716]"
       ]
      },
      {
       "output_type": "stream",
       "stream": "stdout",
       "text": [
        "\n",
        "[ 0.         -0.1475     -0.147625   -0.14665312 -0.14683906 -0.14631198\n",
        " -0.14654248 -0.14626598 -0.1465327  -0.14642858 -0.1467262  -0.14675257\n",
        " -0.14707731 -0.14720803 -0.14755703 -0.14777421 -0.14814518 -0.14843578\n",
        " -0.14882683 -0.14918086 -0.14959043 -0.15       -0.15042673 -0.15088542\n",
        " -0.15132813]"
       ]
      },
      {
       "output_type": "stream",
       "stream": "stdout",
       "text": [
        "\n",
        "[ 0.         -0.25       -0.2625     -0.21875    -0.234375   -0.225\n",
        " -0.2421875  -0.24570312 -0.26386719 -0.27382812 -0.29267578 -0.30639648\n",
        " -0.32575684 -0.34189453 -0.36165771 -0.37945709 -0.39954758 -0.41854706\n",
        " -0.43891029 -0.45880985 -0.47940493 -0.5        -0.5207953  -0.54194099\n",
        " -0.56291148]"
       ]
      },
      {
       "output_type": "stream",
       "stream": "stdout",
       "text": [
        "\n",
        "[ 0.         -0.2475     -0.257625   -0.21353063 -0.22666781 -0.21497648\n",
        " -0.22966545 -0.23070036 -0.24636462 -0.25382778 -0.27017547 -0.28139644\n",
        " -0.2982568  -0.31189453 -0.32915771 -0.34445709 -0.36204758 -0.37854706\n",
        " -0.39641029 -0.41380985 -0.43190493 -0.45       -0.4682953  -0.48694099\n",
        " -0.50541148]"
       ]
      },
      {
       "output_type": "stream",
       "stream": "stdout",
       "text": [
        "\n",
        "[ 0.         -0.24       -0.248      -0.20704    -0.21776    -0.2046464\n",
        " -0.216856   -0.21562336 -0.22879312 -0.23380936 -0.24765858 -0.256392\n",
        " -0.2707528  -0.28189347 -0.29665679 -0.30945685 -0.32454738 -0.33854701\n",
        " -0.35391026 -0.36880984 -0.38440492 -0.4        -0.4157953  -0.43194099\n",
        " -0.44791148]"
       ]
      },
      {
       "output_type": "stream",
       "stream": "stdout",
       "text": [
        "\n",
        "[ 0.         -0.2275     -0.233625   -0.19813063 -0.20656781 -0.19332128\n",
        " -0.2031137  -0.20015917 -0.21086209 -0.21364491 -0.22500783 -0.23133402\n",
        " -0.24320062 -0.25187348 -0.26413929 -0.27445029 -0.28704191 -0.29854507\n",
        " -0.3114088  -0.32380941 -0.33690471 -0.35       -0.3632954  -0.37694108\n",
        " -0.39041162]"
       ]
      },
      {
       "output_type": "stream",
       "stream": "stdout",
       "text": [
        "\n",
        "[ 0.         -0.21       -0.2145     -0.18579    -0.192135   -0.1800336\n",
        " -0.1875315  -0.18365129 -0.19196191 -0.19295021 -0.20187102 -0.20601721\n",
        " -0.21541549 -0.22173284 -0.23151624 -0.2393911  -0.24949259 -0.25852272\n",
        " -0.26889204 -0.27880303 -0.28940151 -0.3        -0.31079723 -0.3219432\n",
        " -0.3329148 ]"
       ]
      },
      {
       "output_type": "stream",
       "stream": "stdout",
       "text": [
        "\n",
        "[ 0.         -0.1875     -0.190625   -0.16914062 -0.17363281 -0.16367188\n",
        " -0.16906738 -0.16511688 -0.17117996 -0.17098656 -0.17757101 -0.179941\n",
        " -0.1869469  -0.19116032 -0.19851528 -0.20410303 -0.21175253 -0.21839294\n",
        " -0.2262947  -0.2337589  -0.24187945 -0.25       -0.25831232 -0.26696392\n",
        " -0.27544589]"
       ]
      },
      {
       "output_type": "stream",
       "stream": "stdout",
       "text": [
        "\n",
        "[ 0.         -0.16       -0.162      -0.14744    -0.15036    -0.1430976\n",
        " -0.146654   -0.14334536 -0.14739212 -0.1466664  -0.15111087 -0.15222947\n",
        " -0.15700652 -0.15951189 -0.16457291 -0.16815689 -0.17346408 -0.17790742\n",
        " -0.18343057 -0.18857113 -0.19428557 -0.2        -0.20588524 -0.21207763\n",
        " -0.21811645]"
       ]
      },
      {
       "output_type": "stream",
       "stream": "stdout",
       "text": [
        "\n",
        "[ 0.         -0.1275     -0.128625   -0.12008062 -0.12174281 -0.11724427\n",
        " -0.11929151 -0.11704235 -0.11939647 -0.11866647 -0.1212776  -0.12167321\n",
        " -0.12450589 -0.12578126 -0.1288086  -0.13079562 -0.13399635 -0.13657295\n",
        " -0.13992971 -0.14300336 -0.14650168 -0.15       -0.15362759 -0.15749258\n",
        " -0.16123887]"
       ]
      },
      {
       "output_type": "stream",
       "stream": "stdout",
       "text": [
        "\n",
        "[ 0.         -0.09       -0.0905     -0.08659    -0.087335   -0.0851984\n",
        " -0.0861235  -0.08498888 -0.08606111 -0.08561881 -0.08681724 -0.08690188\n",
        " -0.0882117  -0.08872051 -0.09013044 -0.09099324 -0.09249437 -0.09366005\n",
        " -0.09524504 -0.09667462 -0.09833731 -0.1        -0.10173513 -0.10360595\n",
        " -0.10540893]"
       ]
      },
      {
       "output_type": "stream",
       "stream": "stdout",
       "text": [
        "\n",
        "[ 0.         -0.0475     -0.047625   -0.04663063 -0.04681781 -0.04626248\n",
        " -0.04649607 -0.04619094 -0.04646301 -0.04633306 -0.04663863 -0.04664418\n",
        " -0.04697977 -0.04709642 -0.04745937 -0.0476706  -0.04805883 -0.04835271\n",
        " -0.04876453 -0.04913202 -0.04956601 -0.05       -0.05045495 -0.0509497\n",
        " -0.05142455]"
       ]
      },
      {
       "output_type": "stream",
       "stream": "stdout",
       "text": [
        "\n",
        "[ 0.         -0.1475     -0.162625   -0.11036812 -0.12923656 -0.11845697\n",
        " -0.13917841 -0.14384823 -0.16571621 -0.17804953 -0.20071207 -0.21747503\n",
        " -0.24072753 -0.26030881 -0.2840202  -0.30551683 -0.32959735 -0.35245976\n",
        " -0.37684482 -0.40071735 -0.42535868 -0.45       -0.47486043 -0.50010046\n",
        " -0.52515069]"
       ]
      },
      {
       "output_type": "stream",
       "stream": "stdout",
       "text": [
        "\n",
        "[ 0.         -0.15       -0.1625     -0.108625   -0.1248125  -0.1108925\n",
        " -0.12896172 -0.13063677 -0.149877   -0.15936841 -0.17942104 -0.19344032\n",
        " -0.21409629 -0.23099764 -0.25212293 -0.27098312 -0.29248593 -0.31274293\n",
        " -0.3345572  -0.35584729 -0.37792364 -0.4        -0.42230044 -0.44498911\n",
        " -0.46748366]"
       ]
      },
      {
       "output_type": "stream",
       "stream": "stdout",
       "text": [
        "\n",
        "[ 0.         -0.1475     -0.157625   -0.10624063 -0.11978281 -0.10363647\n",
        " -0.1190342  -0.11784168 -0.13442442 -0.14104096 -0.15845421 -0.16967577\n",
        " -0.18770819 -0.20188193 -0.22039669 -0.23658233 -0.25548527 -0.27310695\n",
        " -0.29233021 -0.31101435 -0.33050717 -0.35       -0.36972331 -0.38984594\n",
        " -0.40976891]"
       ]
      },
      {
       "output_type": "stream",
       "stream": "stdout",
       "text": [
        "\n",
        "[ 0.         -0.14       -0.148      -0.102      -0.113      -0.0960784\n",
        " -0.1088235  -0.10529097 -0.11919876 -0.12308247 -0.1378256  -0.14625311\n",
        " -0.1616278  -0.17303608 -0.18890657 -0.20237292 -0.2186441  -0.23358981\n",
        " -0.25019236 -0.26623652 -0.28311826 -0.3        -0.3171206  -0.33465517\n",
        " -0.35198275]"
       ]
      },
      {
       "output_type": "stream",
       "stream": "stdout",
       "text": [
        "\n",
        "[ 0.         -0.1275     -0.133625   -0.09482313 -0.10344406 -0.08727957\n",
        " -0.0974496  -0.09244448 -0.10369845 -0.10526401 -0.11732535 -0.12312223\n",
        " -0.13581001 -0.144491   -0.15767962 -0.16840871 -0.18200726 -0.19423801\n",
        " -0.20817851 -0.22153941 -0.23576971 -0.25       -0.2644792  -0.2793909\n",
        " -0.29408635]"
       ]
      },
      {
       "output_type": "stream",
       "stream": "stdout",
       "text": [
        "\n",
        "[ 0.         -0.11       -0.1145     -0.083765   -0.0902225  -0.0761141\n",
        " -0.08385697 -0.07838891 -0.08707542 -0.08698025 -0.09639856 -0.09994522\n",
        " -0.1099507  -0.11609585 -0.12658387 -0.13464865 -0.14554054 -0.15506033\n",
        " -0.16629525 -0.17694032 -0.18847016 -0.2        -0.21178606 -0.22402134\n",
        " -0.236032  ]"
       ]
      },
      {
       "output_type": "stream",
       "stream": "stdout",
       "text": [
        "\n",
        "[ 0.         -0.0875     -0.090625   -0.06801562 -0.07257031 -0.06139187\n",
        " -0.06692988 -0.06192403 -0.06821518 -0.06722224 -0.07412039 -0.07597547\n",
        " -0.08337793 -0.08735913 -0.09518924 -0.10081049 -0.10900874 -0.11592452\n",
        " -0.12444339 -0.13239852 -0.14119926 -0.15       -0.15905049 -0.16854655\n",
        " -0.17781983]"
       ]
      },
      {
       "output_type": "stream",
       "stream": "stdout",
       "text": [
        "\n",
        "[ 0.         -0.06       -0.062      -0.0469     -0.04985    -0.0419636\n",
        " -0.04559087 -0.04170282 -0.0458669  -0.04466683 -0.04927793 -0.05005806\n",
        " -0.05505225 -0.05736968 -0.06269847 -0.06625005 -0.07187504 -0.07644048\n",
        " -0.08233036 -0.08774268 -0.09387134 -0.1        -0.10634529 -0.11308576\n",
        " -0.11962863]"
       ]
      },
      {
       "output_type": "stream",
       "stream": "stdout",
       "text": [
        "\n",
        "[ 0.         -0.0275     -0.028625   -0.01987812 -0.02155156 -0.01680777\n",
        " -0.01888229 -0.01639384 -0.01879428 -0.01785726 -0.02053582 -0.0207731\n",
        " -0.02369579 -0.02487227 -0.02801324 -0.02996793 -0.03330661 -0.03592201\n",
        " -0.03944151 -0.04262778 -0.04631389 -0.05       -0.05384054 -0.05796876\n",
        " -0.06195314]"
       ]
      },
      {
       "output_type": "stream",
       "stream": "stdout",
       "text": [
        "\n",
        "[  0.00000000e+00   1.00000000e-02   9.50000000e-03   1.34550000e-02\n",
        "   1.27075000e-02   1.49003000e-02   1.39690313e-02   1.51602916e-02\n",
        "   1.40774136e-02   1.45705135e-02   1.33563040e-02   1.33122581e-02\n",
        "   1.19810323e-02   1.14993452e-02   1.00619270e-02   9.21023551e-03\n",
        "   7.67519626e-03   6.50257535e-03   4.87693151e-03   3.42071825e-03\n",
        "   1.71035912e-03   1.98062284e-17  -1.79003385e-03  -3.73065294e-03\n",
        "  -5.59597941e-03]"
       ]
      },
      {
       "output_type": "stream",
       "stream": "stdout",
       "text": [
        "\n",
        "[ 0.          0.0525      0.052375    0.05336938  0.05318219  0.05373753\n",
        "  0.05350393  0.05380906  0.05353699  0.05366694  0.05336137  0.05335582\n",
        "  0.05302023  0.05290358  0.05254063  0.0523294   0.05194117  0.05164729\n",
        "  0.05123547  0.05086798  0.05043399  0.05        0.04954505  0.0490503\n",
        "  0.04857545]"
       ]
      },
      {
       "output_type": "stream",
       "stream": "stdout",
       "text": [
        "\n",
        "[ 0.         -0.04       -0.058       0.00176    -0.02056    -0.0097024\n",
        " -0.034096   -0.04107136 -0.06670912 -0.08231397 -0.10878781 -0.1292419\n",
        " -0.15631771 -0.17976104 -0.20729091 -0.23269577 -0.26057981 -0.28733051\n",
        " -0.31549788 -0.34320286 -0.37160143 -0.4        -0.42859026 -0.45750255\n",
        " -0.48625382]"
       ]
      },
      {
       "output_type": "stream",
       "stream": "stdout",
       "text": [
        "\n",
        "[ 0.         -0.0475     -0.062625    0.00052188 -0.01895156 -0.00393697\n",
        " -0.02556591 -0.02897517 -0.05190552 -0.06432839 -0.08813436 -0.10563431\n",
        " -0.13007088 -0.15070203 -0.17561428 -0.19830033 -0.22358361 -0.24767958\n",
        " -0.27325969 -0.29835537 -0.32417769 -0.35       -0.37602313 -0.40238362\n",
        " -0.42857543]"
       ]
      },
      {
       "output_type": "stream",
       "stream": "stdout",
       "text": [
        "\n",
        "[ 0.         -0.05       -0.0625     -0.00075    -0.017375    0.00092\n",
        " -0.0178875  -0.01772412 -0.03788669 -0.04698424 -0.06806889 -0.08248353\n",
        " -0.10423518 -0.12195494 -0.14421057 -0.16410601 -0.18675501 -0.20814493\n",
        " -0.2311087  -0.25355872 -0.27677936 -0.3        -0.32343362 -0.34722506\n",
        " -0.37083758]"
       ]
      },
      {
       "output_type": "stream",
       "stream": "stdout",
       "text": [
        "\n",
        "[ 0.         -0.0475     -0.057625   -0.00077312 -0.01461906  0.00537883\n",
        " -0.01058235 -0.00730651 -0.02464176 -0.03044698 -0.04874306 -0.05997784\n",
        " -0.07898006 -0.09367535 -0.11321593 -0.13022268 -0.15018557 -0.16879304\n",
        " -0.18909478 -0.20884263 -0.22942132 -0.25       -0.27080849 -0.29200322\n",
        " -0.31300483]"
       ]
      },
      {
       "output_type": "stream",
       "stream": "stdout",
       "text": [
        "\n",
        "[ 0.         -0.04       -0.048       0.0016     -0.0096      0.0103296\n",
        " -0.002816    0.0026752  -0.0118016  -0.0146628  -0.03010757 -0.03823065\n",
        " -0.05440759 -0.06602467 -0.08277159 -0.09679572 -0.11399643 -0.12972534\n",
        " -0.14729401 -0.16425683 -0.18212841 -0.2        -0.21812421 -0.23667449\n",
        " -0.25501174]"
       ]
      },
      {
       "output_type": "stream",
       "stream": "stdout",
       "text": [
        "\n",
        "[ 0.         -0.0275     -0.033625    0.00738188 -0.00136156  0.01689523\n",
        "  0.00646427  0.01303467  0.00138934  0.00080859 -0.01175879 -0.01709127\n",
        " -0.03038214 -0.03902622 -0.05289794 -0.06392284 -0.07826903 -0.0910434\n",
        " -0.10578255 -0.11986334 -0.13493167 -0.15       -0.16534678 -0.1811686\n",
        " -0.1967529 ]"
       ]
      },
      {
       "output_type": "stream",
       "stream": "stdout",
       "text": [
        "\n",
        "[ 0.         -0.01       -0.0145      0.01745     0.010925    0.0263024\n",
        "  0.0184085   0.02493058  0.01600696  0.01685723  0.00711913  0.00401725\n",
        " -0.00638448 -0.01237416 -0.02332739 -0.03149095 -0.04290913 -0.05274212\n",
        " -0.06455659 -0.07568955 -0.08784478 -0.1        -0.11245035 -0.12541503\n",
        " -0.13812255]"
       ]
      },
      {
       "output_type": "stream",
       "stream": "stdout",
       "text": [
        "\n",
        "[ 0.          0.0125      0.009375    0.03254688  0.02796094  0.03977063\n",
        "  0.03415996  0.03973268  0.0333232   0.03476168  0.02769821  0.02614335\n",
        "  0.01852902  0.01469625  0.00660922  0.00098811 -0.00750991 -0.01456451\n",
        " -0.02342338 -0.03164373 -0.04082187 -0.05       -0.05946232 -0.06943312\n",
        " -0.07914968]"
       ]
      },
      {
       "output_type": "stream",
       "stream": "stdout",
       "text": [
        "\n",
        "[  0.00000000e+00   4.00000000e-02   3.80000000e-02   5.32800000e-02\n",
        "   5.03200000e-02   5.84192000e-02   5.47680000e-02   5.88582400e-02\n",
        "   5.46540800e-02   5.60237568e-02   5.13551104e-02   5.06996265e-02\n",
        "   4.56296638e-02   4.33849676e-02   3.79618466e-02   3.44276181e-02\n",
        "   2.86896817e-02   2.40850808e-02   1.80638106e-02   1.25563191e-02\n",
        "   6.27815957e-03   8.21012473e-17  -6.51244267e-03  -1.34542624e-02\n",
        "  -2.01813936e-02]"
       ]
      },
      {
       "output_type": "stream",
       "stream": "stdout",
       "text": [
        "\n",
        "[ 0.          0.0725      0.071375    0.08012188  0.07844844  0.08319223\n",
        "  0.08111771  0.08360616  0.08120572  0.08214274  0.07946418  0.0792269\n",
        "  0.07630421  0.07512773  0.07198676  0.07003207  0.06669339  0.06407799\n",
        "  0.06055849  0.05737222  0.05368611  0.05        0.04615946  0.04203124\n",
        "  0.03804686]"
       ]
      },
      {
       "output_type": "stream",
       "stream": "stdout",
       "text": [
        "\n",
        "[ 0.          0.11        0.1095      0.11341     0.112665    0.1148016\n",
        "  0.1138765   0.11501112  0.11393889  0.11438119  0.11318276  0.11309812\n",
        "  0.1117883   0.11127949  0.10986956  0.10900676  0.10750563  0.10633995\n",
        "  0.10475496  0.10332538  0.10166269  0.1         0.09826487  0.09639405\n",
        "  0.09459107]"
       ]
      },
      {
       "output_type": "stream",
       "stream": "stdout",
       "text": [
        "\n",
        "[ 0.          0.1525      0.152375    0.15334688  0.15316094  0.15368803\n",
        "  0.15345752  0.15373402  0.1534673   0.15357142  0.1532738   0.15324743\n",
        "  0.15292269  0.15279197  0.15244297  0.15222579  0.15185482  0.15156422\n",
        "  0.15117317  0.15081914  0.15040957  0.15        0.14957327  0.14911458\n",
        "  0.14867187]"
       ]
      },
      {
       "output_type": "stream",
       "stream": "stdout",
       "text": [
        "\n",
        "[ 0.   0.2  0.2  0.2  0.2  0.2  0.2  0.2  0.2  0.2  0.2  0.2  0.2  0.2  0.2\n",
        "  0.2  0.2  0.2  0.2  0.2  0.2  0.2  0.2  0.2  0.2]"
       ]
      },
      {
       "output_type": "stream",
       "stream": "stdout",
       "text": [
        "\n",
        "[ 0.          0.0725      0.051375    0.11675687  0.09082594  0.09988222\n",
        "  0.07176459  0.06105856  0.03169723  0.01184265 -0.01831091 -0.0430575\n",
        " -0.07375175 -0.10135322 -0.13243407 -0.16179987 -0.19316656 -0.2236662\n",
        " -0.25524965 -0.28649777 -0.31824888 -0.35       -0.38188289 -0.41397562\n",
        " -0.44596342]"
       ]
      },
      {
       "output_type": "stream",
       "stream": "stdout",
       "text": [
        "\n",
        "[ 0.          0.06        0.042       0.1131      0.09015     0.1045356\n",
        "  0.07925213  0.07268398  0.0460637   0.02967738  0.00220426 -0.01944646\n",
        " -0.04750181 -0.07222654 -0.10069822 -0.12732294 -0.15610245 -0.18394821\n",
        " -0.21296116 -0.24161298 -0.27080649 -0.3        -0.32933542 -0.35889682\n",
        " -0.38834523]"
       ]
      },
      {
       "output_type": "stream",
       "stream": "stdout",
       "text": [
        "\n",
        "[ 0.          0.0525      0.037375    0.10868937  0.08876219  0.10771532\n",
        "  0.08535812  0.08312177  0.05932736  0.04668566  0.02196185  0.00361866\n",
        " -0.0217432  -0.04344687 -0.06926601 -0.09305471 -0.11921226 -0.14434293\n",
        " -0.1707572  -0.19677426 -0.22338713 -0.25       -0.27676896 -0.3037865\n",
        " -0.33067975]"
       ]
      },
      {
       "output_type": "stream",
       "stream": "stdout",
       "text": [
        "\n",
        "[ 0.          0.05        0.0375      0.104875    0.0879375   0.1098075\n",
        "  0.09044453  0.09220795  0.07133595  0.06255392  0.04067442  0.02584799\n",
        "  0.00326319 -0.01523055 -0.03832673 -0.05913667 -0.08261389 -0.1049303\n",
        " -0.12869772 -0.15201512 -0.17600756 -0.2        -0.22416952 -0.24862125\n",
        " -0.27293187]"
       ]
      },
      {
       "output_type": "stream",
       "stream": "stdout",
       "text": [
        "\n",
        "[ 0.          0.0525      0.042375    0.10287187  0.08882344  0.11163202\n",
        "  0.09528002  0.10017319  0.08230368  0.07714879  0.05821973  0.04696801\n",
        "  0.02727121  0.01214524 -0.00812292 -0.02578645 -0.0464887  -0.06584931\n",
        " -0.08688698 -0.107399   -0.1286995  -0.15       -0.17150893 -0.19335187\n",
        " -0.2150278 ]"
       ]
      },
      {
       "output_type": "stream",
       "stream": "stdout",
       "text": [
        "\n",
        "[ 0.          0.06        0.052       0.10376     0.09244     0.1142896\n",
        "  0.1008965   0.10770187  0.09286602  0.09071966  0.07482636  0.06692886\n",
        "  0.05023597  0.03848377  0.0211733   0.00677036 -0.0110247  -0.02727994\n",
        " -0.04545996 -0.06302216 -0.08151108 -0.1        -0.1187389  -0.13788538\n",
        " -0.15682808]"
       ]
      },
      {
       "output_type": "stream",
       "stream": "stdout",
       "text": [
        "\n",
        "[ 0.          0.0725      0.066375    0.10848437  0.09967969  0.11902672\n",
        "  0.10846255  0.11587892  0.10403043  0.10400051  0.09116714  0.08610621\n",
        "  0.07249559  0.06388555  0.04964986  0.0384711   0.02372591  0.01065869\n",
        " -0.00450598 -0.0189744  -0.0344872  -0.05       -0.06580356 -0.08209537\n",
        " -0.09814306]"
       ]
      },
      {
       "output_type": "stream",
       "stream": "stdout",
       "text": [
        "\n",
        "[  0.00000000e+00   9.00000000e-02   8.55000000e-02   1.17855000e-01\n",
        "   1.11307500e-01   1.27118700e-01   1.19173781e-01   1.26064792e-01\n",
        "   1.17060164e-01   1.18181057e-01   1.08332636e-01   1.05394883e-01\n",
        "   9.48553945e-02   8.89276257e-02   7.78116725e-02   6.96183965e-02\n",
        "   5.80153304e-02   4.80745370e-02   3.60559027e-02   2.47515840e-02\n",
        "   1.23757920e-02   2.69359874e-17  -1.26845549e-02  -2.59055150e-02\n",
        "  -3.88582726e-02]"
       ]
      },
      {
       "output_type": "stream",
       "stream": "stdout",
       "text": [
        "\n",
        "[ 0.          0.1125      0.109375    0.13254688  0.12796094  0.13977062\n",
        "  0.13415996  0.13973268  0.1333232   0.13476168  0.12769821  0.12614335\n",
        "  0.11852902  0.11469625  0.10660922  0.10098811  0.09249009  0.08543549\n",
        "  0.07657662  0.06835627  0.05917813  0.05        0.04053768  0.03056688\n",
        "  0.02085032]"
       ]
      },
      {
       "output_type": "stream",
       "stream": "stdout",
       "text": [
        "\n",
        "[ 0.          0.14        0.138       0.1531      0.15015     0.1580364\n",
        "  0.15440912  0.15829718  0.1541331   0.15533317  0.15072207  0.14994194\n",
        "  0.14494775  0.14263032  0.13730153  0.13374995  0.12812496  0.12355952\n",
        "  0.11766964  0.11225732  0.10612866  0.1         0.09365471  0.08691424\n",
        "  0.08037137]"
       ]
      },
      {
       "output_type": "stream",
       "stream": "stdout",
       "text": [
        "\n",
        "[ 0.          0.1725      0.171375    0.17991938  0.17825719  0.18275573\n",
        "  0.18070849  0.18295765  0.18060353  0.18133353  0.1787224   0.17832679\n",
        "  0.17549411  0.17421874  0.1711914   0.16920438  0.16600365  0.16342705\n",
        "  0.16007029  0.15699664  0.15349832  0.15        0.14637241  0.14250742\n",
        "  0.13876113]"
       ]
      },
      {
       "output_type": "stream",
       "stream": "stdout",
       "text": [
        "\n",
        "[ 0.          0.21        0.2095      0.213275    0.2125375   0.2145091\n",
        "  0.21360228  0.2145743   0.21353327  0.21383329  0.21268052  0.21248549\n",
        "  0.21123694  0.21065758  0.20932538  0.20843749  0.20703124  0.20588988\n",
        "  0.20441741  0.20306433  0.20153216  0.2         0.19841368  0.19672856\n",
        "  0.19509284]"
       ]
      },
      {
       "output_type": "stream",
       "stream": "stdout",
       "text": [
        "\n",
        "[ 0.          0.2525      0.252375    0.25330188  0.25311844  0.25359083\n",
        "  0.2533664   0.25358931  0.25333293  0.25339047  0.25310793  0.25304573\n",
        "  0.25274116  0.25258785  0.25226437  0.25203952  0.2516996   0.25141742\n",
        "  0.25106306  0.25073425  0.25036713  0.25        0.24962151  0.24922268\n",
        "  0.24883401]"
       ]
      },
      {
       "output_type": "stream",
       "stream": "stdout",
       "text": [
        "\n",
        "[ 0.          0.19        0.1655      0.23361     0.203965    0.2088944\n",
        "  0.1770885   0.16116522  0.12822484  0.10328931  0.06968187  0.04027696\n",
        "  0.00624927 -0.02555949 -0.05986455 -0.0930338  -0.12752816 -0.16149248\n",
        " -0.19611936 -0.23055701 -0.26527851 -0.3        -0.33479013 -0.36968116\n",
        " -0.40452174]"
       ]
      },
      {
       "output_type": "stream",
       "stream": "stdout",
       "text": [
        "\n",
        "[ 0.          0.1725      0.151375    0.22816438  0.20159969  0.21311493\n",
        "  0.18417024  0.17287701  0.1426715   0.1213804   0.09043203  0.06416587\n",
        "  0.03274928  0.00380516 -0.02792049 -0.05838051 -0.09031709 -0.12166305\n",
        " -0.15374729 -0.18562067 -0.21781034 -0.25       -0.28226615 -0.31464472\n",
        " -0.34696708]"
       ]
      },
      {
       "output_type": "stream",
       "stream": "stdout",
       "text": [
        "\n",
        "[ 0.          0.16        0.142       0.2212      0.1978      0.2153536\n",
        "  0.189394    0.183166    0.155797    0.13857113  0.11035687  0.08751239\n",
        "  0.05876115  0.03285526  0.00374836 -0.02389987 -0.05324989 -0.08191876\n",
        " -0.11143907 -0.14071614 -0.17035807 -0.2        -0.22973017 -0.25959007\n",
        " -0.2893851 ]"
       ]
      },
      {
       "output_type": "stream",
       "stream": "stdout",
       "text": [
        "\n",
        "[ 0.          0.1525      0.137375    0.21413438  0.19390469  0.21584653\n",
        "  0.19298112  0.1916827   0.16727679  0.15441214  0.12904446  0.10994999\n",
        "  0.08395499  0.06134085  0.03492325  0.01025755 -0.01645205 -0.04233804\n",
        " -0.06925353 -0.09587369 -0.12293684 -0.15       -0.17717057 -0.2044993\n",
        " -0.23174895]"
       ]
      },
      {
       "output_type": "stream",
       "stream": "stdout",
       "text": [
        "\n",
        "[ 0.          0.15        0.1375      0.20825     0.191125    0.21532\n",
        "  0.1956125   0.19847038  0.17715106  0.16858096  0.14619921  0.1310613\n",
        "  0.10795517  0.08889524  0.06528334  0.04382895  0.01985746 -0.00307648\n",
        " -0.02730736 -0.05115948 -0.07557974 -0.1        -0.12455995 -0.14932784\n",
        " -0.17399177]"
       ]
      },
      {
       "output_type": "stream",
       "stream": "stdout",
       "text": [
        "\n",
        "[ 0.          0.1525      0.142375    0.20469438  0.19054469  0.21483153\n",
        "  0.19827955  0.2040563   0.18590942  0.18111859  0.1618587   0.15059623\n",
        "  0.13053661  0.1151642   0.09451868  0.07648475  0.05540396  0.03563039\n",
        "  0.01422279 -0.00668993 -0.02834496 -0.05       -0.07184367 -0.09397663\n",
        " -0.11596495]"
       ]
      },
      {
       "output_type": "stream",
       "stream": "stdout",
       "text": [
        "\n",
        "[  0.00000000e+00   1.60000000e-01   1.52000000e-01   2.04480000e-01\n",
        "   1.93120000e-01   2.15628800e-01   2.02152000e-01   2.09419840e-01\n",
        "   1.94461280e-01   1.92571843e-01   1.76524190e-01   1.68710084e-01\n",
        "   1.51839075e-01   1.40039932e-01   1.22534941e-01   1.07996990e-01\n",
        "   8.99974920e-02   7.35556902e-02   5.51667677e-02   3.73957314e-02\n",
        "   1.86978657e-02   2.68922557e-17  -1.89444024e-02  -3.82841599e-02\n",
        "  -5.74262398e-02]"
       ]
      },
      {
       "output_type": "stream",
       "stream": "stdout",
       "text": [
        "\n",
        "[ 0.          0.1725      0.166375    0.20848438  0.19967969  0.21902673\n",
        "  0.20846255  0.21587892  0.20403043  0.20400051  0.19116714  0.18610621\n",
        "  0.17249559  0.16388555  0.14964986  0.1384711   0.12372591  0.11065869\n",
        "  0.09549402  0.0810256   0.0655128   0.05        0.03419644  0.01790463\n",
        "  0.00185694]"
       ]
      },
      {
       "output_type": "stream",
       "stream": "stdout",
       "text": [
        "\n",
        "[ 0.          0.19        0.1855      0.21745     0.210925    0.2263024\n",
        "  0.2184085   0.22493058  0.21600696  0.21685723  0.20711913  0.20401725\n",
        "  0.19361552  0.18762584  0.17667261  0.16850905  0.15709087  0.14725788\n",
        "  0.13544341  0.12431045  0.11215522  0.1         0.08754965  0.07458497\n",
        "  0.06187745]"
       ]
      },
      {
       "output_type": "stream",
       "stream": "stdout",
       "text": [
        "\n",
        "[ 0.          0.2125      0.209375    0.23198438  0.22742969  0.23860813\n",
        "  0.23307012  0.23807597  0.23178482  0.23277776  0.22587961  0.22402453\n",
        "  0.21662207  0.21264087  0.20481076  0.19918951  0.19099126  0.18407548\n",
        "  0.17555661  0.16760148  0.15880074  0.15        0.14094951  0.13145345\n",
        "  0.12218017]"
       ]
      },
      {
       "output_type": "stream",
       "stream": "stdout",
       "text": [
        "\n",
        "[ 0.          0.24        0.238       0.25256     0.24964     0.2569024\n",
        "  0.253346    0.25665464  0.25260788  0.2533336   0.24888913  0.24777053\n",
        "  0.24299348  0.24048811  0.23542709  0.23184311  0.22653592  0.22209258\n",
        "  0.21656943  0.21142887  0.20571443  0.2         0.19411476  0.18792237\n",
        "  0.18188355]"
       ]
      },
      {
       "output_type": "stream",
       "stream": "stdout",
       "text": [
        "\n",
        "[ 0.          0.2725      0.271375    0.27951438  0.27787469  0.28189893\n",
        "  0.27990524  0.28170735  0.27944254  0.27979999  0.27731666  0.27664883\n",
        "  0.27398395  0.27255071  0.26973188  0.26770822  0.26475685  0.26226717\n",
        "  0.25920038  0.25633653  0.25316827  0.25        0.24674182  0.24332324\n",
        "  0.23998486]"
       ]
      },
      {
       "output_type": "stream",
       "stream": "stdout",
       "text": [
        "\n",
        "[ 0.          0.31        0.3095      0.31305     0.312325    0.3140336\n",
        "  0.3131565   0.31388118  0.31288966  0.31298414  0.31190213  0.31155747\n",
        "  0.31040172  0.3097362   0.30851918  0.30761212  0.30634343  0.30525088\n",
        "  0.30393816  0.30270116  0.30135058  0.3         0.29861663  0.29717611\n",
        "  0.29576416]"
       ]
      },
      {
       "output_type": "stream",
       "stream": "stdout",
       "text": [
        "\n",
        "[ 0.          0.3525      0.352375    0.35323438  0.35305469  0.35344953\n",
        "  0.35323393  0.35338528  0.35314348  0.35314287  0.35288096  0.35277768\n",
        "  0.35249991  0.35232419  0.35203367  0.35180553  0.35150461  0.35123793\n",
        "  0.35092845  0.35063318  0.35031659  0.35        0.34967748  0.34934499\n",
        "  0.34901749]"
       ]
      },
      {
       "output_type": "stream",
       "stream": "stdout",
       "text": [
        "\n",
        "[ 0.          0.3125      0.284375    0.35117187  0.31777344  0.31601563\n",
        "  0.28063965  0.25824127  0.22193832  0.1914753   0.15468569  0.12063354\n",
        "  0.08357019  0.04779735  0.01057268 -0.02606218 -0.06338515 -0.10046237\n",
        " -0.13784677 -0.17515285 -0.21257642 -0.25       -0.28744894 -0.32493119\n",
        " -0.36239678]"
       ]
      },
      {
       "output_type": "stream",
       "stream": "stdout",
       "text": [
        "\n",
        "[ 0.          0.29        0.2655      0.344635    0.3143775   0.3204339\n",
        "  0.28790678  0.27045784  0.2368537   0.2100557   0.1758844   0.14490595\n",
        "  0.11041535  0.07743026  0.04275148  0.00876079 -0.02603267 -0.06053943\n",
        " -0.09540457 -0.13017832 -0.16508916 -0.2        -0.23494044 -0.26991972\n",
        " -0.30487958]"
       ]
      },
      {
       "output_type": "stream",
       "stream": "stdout",
       "text": [
        "\n",
        "[ 0.          0.2725      0.251375    0.33576937  0.30878219  0.32244372\n",
        "  0.29291599  0.2811386   0.25034298  0.22776787  0.19628721  0.16871231\n",
        "  0.13684108  0.10682299  0.07472011  0.04346678  0.01122232 -0.02066765\n",
        " -0.05300074 -0.08522075 -0.11761037 -0.15       -0.18242626 -0.21490061\n",
        " -0.24735091]"
       ]
      },
      {
       "output_type": "stream",
       "stream": "stdout",
       "text": [
        "\n",
        "[ 0.          0.26        0.242       0.32606     0.30239     0.3221036\n",
        "  0.29572213  0.28974627  0.26190725  0.2440499   0.21537908  0.19164188\n",
        "  0.1624777   0.13572102  0.10625589  0.07791645  0.04826371  0.01908719\n",
        " -0.0106846  -0.04030305 -0.07015152 -0.1        -0.12989849 -0.15986292\n",
        " -0.18979437]"
       ]
      },
      {
       "output_type": "stream",
       "stream": "stdout",
       "text": [
        "\n",
        "[ 0.          0.2525      0.237375    0.31685687  0.29647594  0.32002102\n",
        "  0.29689471  0.29612157  0.2713986   0.25839983  0.23269984  0.21316168\n",
        "  0.18684552  0.16370217  0.1369894   0.11183122  0.08485935  0.05857238\n",
        "  0.03142929  0.00451461 -0.02274269 -0.05       -0.07733408 -0.10477204\n",
        " -0.13215806]"
       ]
      },
      {
       "output_type": "stream",
       "stream": "stdout",
       "text": [
        "\n",
        "[  0.00000000e+00   2.50000000e-01   2.37500000e-01   3.09375000e-01\n",
        "   2.92187500e-01   3.17187500e-01   2.97363281e-01   3.00610352e-01\n",
        "   2.79138184e-01   2.70643616e-01   2.48089981e-01   2.32836246e-01\n",
        "   2.09552622e-01   1.90283942e-01   1.66498449e-01   1.44810048e-01\n",
        "   1.20675040e-01   9.75230441e-02   7.31422831e-02   4.91096721e-02\n",
        "   2.45548360e-02  -1.09596174e-16  -2.46788645e-02  -4.95353151e-02\n",
        "  -7.43029727e-02]"
       ]
      },
      {
       "output_type": "stream",
       "stream": "stdout",
       "text": [
        "\n",
        "[ 0.          0.2525      0.242375    0.30469438  0.29054469  0.31483153\n",
        "  0.29827955  0.3040563   0.28590942  0.28111859  0.2618587   0.25059623\n",
        "  0.23053661  0.2151642   0.19451868  0.17648475  0.15540396  0.13563039\n",
        "  0.11422279  0.09331007  0.07165504  0.05        0.02815633  0.00602337\n",
        " -0.01596495]"
       ]
      },
      {
       "output_type": "stream",
       "stream": "stdout",
       "text": [
        "\n",
        "[ 0.          0.26        0.252       0.30376     0.29244     0.3142896\n",
        "  0.3008965   0.30770187  0.29286602  0.29071966  0.27482636  0.26692886\n",
        "  0.25023597  0.23848377  0.2211733   0.20677036  0.1889753   0.17272006\n",
        "  0.15454004  0.13697784  0.11848892  0.1         0.0812611   0.06211462\n",
        "  0.04317192]"
       ]
      },
      {
       "output_type": "stream",
       "stream": "stdout",
       "text": [
        "\n",
        "[ 0.          0.2725      0.266375    0.30738188  0.29863844  0.31689523\n",
        "  0.30646427  0.31303467  0.30138934  0.30080859  0.28824121  0.28290873\n",
        "  0.26961786  0.26097378  0.24710206  0.23607716  0.22173097  0.2089566\n",
        "  0.19421745  0.18013666  0.16506833  0.15        0.13465322  0.1188314\n",
        "  0.1032471 ]"
       ]
      },
      {
       "output_type": "stream",
       "stream": "stdout",
       "text": [
        "\n",
        "[ 0.          0.29        0.2855      0.316235    0.3097775   0.3238859\n",
        "  0.31614303  0.32161109  0.31292458  0.31301975  0.30360144  0.30005478\n",
        "  0.2900493   0.28390415  0.27341613  0.26535135  0.25445946  0.24493967\n",
        "  0.23370475  0.22305968  0.21152984  0.2         0.18821394  0.17597866\n",
        "  0.163968  ]"
       ]
      },
      {
       "output_type": "stream",
       "stream": "stdout",
       "text": [
        "\n",
        "[ 0.          0.3125      0.309375    0.33085938  0.32636719  0.33632812\n",
        "  0.33093262  0.33488312  0.32882004  0.32901344  0.32242899  0.320059\n",
        "  0.3130531   0.30883968  0.30148472  0.29589697  0.28824747  0.28160706\n",
        "  0.2737053   0.2662411   0.25812055  0.25        0.24168768  0.23303608\n",
        "  0.22455411]"
       ]
      },
      {
       "output_type": "stream",
       "stream": "stdout",
       "text": [
        "\n",
        "[ 0.          0.34        0.338       0.35166     0.34879     0.3550604\n",
        "  0.35161913  0.35404937  0.3501887   0.350231    0.34604508  0.34446879\n",
        "  0.34002191  0.33729074  0.33262939  0.32904504  0.3242042   0.31997318\n",
        "  0.31497989  0.31024875  0.30512437  0.3         0.29476175  0.28932385\n",
        "  0.28398578]"
       ]
      },
      {
       "output_type": "stream",
       "stream": "stdout",
       "text": [
        "\n",
        "[ 0.          0.3725      0.371375    0.37890688  0.37730094  0.38065423\n",
        "  0.37873834  0.37994514  0.37780621  0.37769954  0.37539124  0.37441181\n",
        "  0.37197063  0.37038294  0.36783507  0.36581009  0.36317508  0.36082876\n",
        "  0.35812157  0.35553531  0.35276765  0.35        0.3471812   0.34427516\n",
        "  0.34141273]"
       ]
      },
      {
       "output_type": "stream",
       "stream": "stdout",
       "text": [
        "\n",
        "[ 0.          0.41        0.4095      0.412735    0.4120275   0.4133931\n",
        "  0.41255603  0.41298137  0.41205413  0.41191998  0.41092665  0.41043305\n",
        "  0.40938975  0.40865524  0.40757333  0.40667315  0.40556096  0.404545\n",
        "  0.40340875  0.40231111  0.40115556  0.4         0.39882882  0.39763216\n",
        "  0.39644825]"
       ]
      },
      {
       "output_type": "stream",
       "stream": "stdout",
       "text": [
        "\n",
        "[ 0.          0.4525      0.452375    0.45314438  0.45296969  0.45326953\n",
        "  0.45306518  0.4531365   0.45291246  0.45285332  0.45261554  0.4524765\n",
        "  0.45222885  0.45203906  0.45178418  0.45156154  0.45130128  0.45105717\n",
        "  0.45079287  0.45053469  0.45026735  0.45        0.44973033  0.44945708\n",
        "  0.44918562]"
       ]
      },
      {
       "output_type": "stream",
       "stream": "stdout",
       "text": [
        "\n",
        "[  0.00000000e+00   4.40000000e-01   4.08000000e-01   4.68160000e-01\n",
        "   4.31040000e-01   4.20134400e-01   3.81376000e-01   3.51792640e-01\n",
        "   3.12378880e-01   2.76488335e-01   2.36780974e-01   1.98482899e-01\n",
        "   1.58634609e-01   1.19353255e-01   7.94340980e-02   3.97360460e-02\n",
        "  -2.19961629e-04  -4.00973542e-02  -8.00730157e-02  -1.20027294e-01\n",
        "  -1.60013647e-01  -2.00000000e-01  -2.39992263e-01  -2.79991144e-01\n",
        "  -3.19986716e-01]"
       ]
      },
      {
       "output_type": "stream",
       "stream": "stdout",
       "text": [
        "\n",
        "[  0.00000000e+00   4.12500000e-01   3.84375000e-01   4.61296875e-01\n",
        "   4.27335938e-01   4.25285625e-01   3.89330273e-01   3.64754635e-01\n",
        "   3.27986447e-01   2.95612122e-01   2.58477779e-01   2.23103837e-01\n",
        "   1.85793453e-01   1.49191595e-01   1.11792646e-01   7.46700607e-02\n",
        "   3.72250506e-02  -1.21692437e-04  -3.75912693e-02  -7.50341172e-02\n",
        "  -1.12517059e-01  -1.50000000e-01  -1.87490328e-01  -2.24988930e-01\n",
        "  -2.62483395e-01]"
       ]
      },
      {
       "output_type": "stream",
       "stream": "stdout",
       "text": [
        "\n",
        "[ 0.          0.39        0.3655      0.45125     0.420625    0.4277104\n",
        "  0.3947285   0.37619548  0.34218151  0.31398597  0.27948714  0.24737644\n",
        "  0.21263879  0.17887561  0.14401616  0.10953976  0.07461647  0.03982998\n",
        "  0.00487248 -0.03004771 -0.06502386 -0.1        -0.13498647 -0.16998451\n",
        " -0.20497676]"
       ]
      },
      {
       "output_type": "stream",
       "stream": "stdout",
       "text": [
        "\n",
        "[ 0.          0.3725      0.351375    0.43957188  0.41237344  0.42726022\n",
        "  0.39743146  0.38539749  0.35429767  0.33096893  0.29922152  0.27088149\n",
        "  0.23879334  0.20817176  0.17590029  0.14423057  0.11185881  0.07970944\n",
        "  0.04728208  0.01491704 -0.01754148 -0.05       -0.08247615 -0.11497239\n",
        " -0.14745859]"
       ]
      },
      {
       "output_type": "stream",
       "stream": "stdout",
       "text": [
        "\n",
        "[  0.00000000e+00   3.60000000e-01   3.42000000e-01   4.27680000e-01\n",
        "   4.03920000e-01   4.24396800e-01   3.97872000e-01   3.91991040e-01\n",
        "   3.63991680e-01   3.45901363e-01   3.17076250e-01   2.93007477e-01\n",
        "   2.63706729e-01   2.36638291e-01   2.07058504e-01   1.78473690e-01\n",
        "   1.48728075e-01   1.19380449e-01   8.95353367e-02   5.98105055e-02\n",
        "   2.99052528e-02  -1.32968384e-16  -2.99418182e-02  -5.99283128e-02\n",
        "  -8.98924691e-02]"
       ]
      },
      {
       "output_type": "stream",
       "stream": "stdout",
       "text": [
        "\n",
        "[ 0.          0.3525      0.337375    0.41685688  0.39647594  0.42002103\n",
        "  0.39689471  0.39612157  0.3713986   0.35839983  0.33269984  0.31316168\n",
        "  0.28684552  0.26370217  0.2369894   0.21183122  0.18485935  0.15857238\n",
        "  0.13142929  0.10451461  0.07725731  0.05        0.02266592 -0.00477204\n",
        " -0.03215806]"
       ]
      },
      {
       "output_type": "stream",
       "stream": "stdout",
       "text": [
        "\n",
        "[ 0.          0.35        0.3375      0.40825     0.391125    0.41532\n",
        "  0.3956125   0.39847038  0.37715106  0.36858095  0.34619921  0.3310613\n",
        "  0.30795517  0.28889524  0.26528334  0.24382895  0.21985746  0.19692352\n",
        "  0.17269264  0.14884052  0.12442026  0.1         0.07544005  0.05067216\n",
        "  0.02600823]"
       ]
      },
      {
       "output_type": "stream",
       "stream": "stdout",
       "text": [
        "\n",
        "[ 0.          0.3525      0.342375    0.40287188  0.38882344  0.41163203\n",
        "  0.39528002  0.40017319  0.38230368  0.37714879  0.35821973  0.34696801\n",
        "  0.32727121  0.31214524  0.29187708  0.27421355  0.2535113   0.23415069\n",
        "  0.21311302  0.192601    0.1713005   0.15        0.12849107  0.10664813\n",
        "  0.0849722 ]"
       ]
      },
      {
       "output_type": "stream",
       "stream": "stdout",
       "text": [
        "\n",
        "[ 0.          0.36        0.352       0.4016      0.3904      0.4103296\n",
        "  0.397184    0.4026752   0.3881984   0.3853372   0.36989243  0.36176935\n",
        "  0.34559241  0.33397533  0.31722841  0.30320428  0.28600357  0.27027466\n",
        "  0.25270599  0.23574317  0.21787159  0.2         0.18187579  0.16332551\n",
        "  0.14498826]"
       ]
      },
      {
       "output_type": "stream",
       "stream": "stdout",
       "text": [
        "\n",
        "[ 0.          0.3725      0.366375    0.40517688  0.39655594  0.41272043\n",
        "  0.4025504   0.40755552  0.39630155  0.39473599  0.38267465  0.37687777\n",
        "  0.36418999  0.355509    0.34232038  0.33159129  0.31799274  0.30576199\n",
        "  0.29182149  0.27846059  0.26423029  0.25        0.2355208   0.2206091\n",
        "  0.20591365]"
       ]
      },
      {
       "output_type": "stream",
       "stream": "stdout",
       "text": [
        "\n",
        "[ 0.          0.39        0.3855      0.41421     0.407865    0.4199664\n",
        "  0.4124685   0.41634872  0.40803809  0.40704979  0.39812898  0.39398279\n",
        "  0.38458451  0.37826716  0.36848376  0.3606089   0.35050741  0.34147728\n",
        "  0.33110796  0.32119697  0.31059849  0.3         0.28920277  0.2780568\n",
        "  0.2670852 ]"
       ]
      },
      {
       "output_type": "stream",
       "stream": "stdout",
       "text": [
        "\n",
        "[ 0.          0.4125      0.409375    0.42917188  0.42477344  0.43302063\n",
        "  0.42783184  0.43038547  0.42464365  0.42384489  0.41769115  0.41473355\n",
        "  0.4082602   0.40383112  0.39710223  0.39162821  0.38469018  0.37845\n",
        "  0.3713375   0.36452071  0.35726035  0.35        0.34261265  0.33500464\n",
        "  0.32750696]"
       ]
      },
      {
       "output_type": "stream",
       "stream": "stdout",
       "text": [
        "\n",
        "[ 0.          0.44        0.438       0.4504      0.4476      0.4525824\n",
        "  0.449296    0.4506688   0.4470496   0.4463343   0.44247311  0.44044234\n",
        "  0.4363981   0.43349383  0.4293071   0.42580107  0.42150089  0.41756866\n",
        "  0.4131765   0.40893579  0.4044679   0.4         0.39546895  0.39083138\n",
        "  0.38624706]"
       ]
      },
      {
       "output_type": "stream",
       "stream": "stdout",
       "text": [
        "\n",
        "[ 0.          0.4725      0.471375    0.47809688  0.47653594  0.47907023\n",
        "  0.47725334  0.47779702  0.47581152  0.47523875  0.47313553  0.47188533\n",
        "  0.4696968   0.46801614  0.46576412  0.46380151  0.46150126  0.45935008\n",
        "  0.45701256  0.45473344  0.45236672  0.45        0.44761012  0.44518313\n",
        "  0.44277469]"
       ]
      },
      {
       "output_type": "stream",
       "stream": "stdout",
       "text": [
        "\n",
        "[ 0.          0.51        0.5095      0.51233     0.511645    0.5126128\n",
        "  0.5118245   0.51193882  0.51108604  0.51074324  0.50984797  0.50924245\n",
        "  0.50831821  0.50755581  0.50661133  0.50575316  0.5047943   0.50387694\n",
        "  0.50290771  0.50195362  0.50097681  0.5         0.4990176   0.49802689\n",
        "  0.49704033]"
       ]
      },
      {
       "output_type": "stream",
       "stream": "stdout",
       "text": [
        "\n",
        "[ 0.          0.5525      0.552375    0.55303188  0.55286344  0.55305803\n",
        "  0.5528669   0.55286051  0.55265619  0.55254876  0.55233636  0.55217489\n",
        "  0.5519574   0.55176613  0.55154537  0.55133745  0.55111454  0.55089729\n",
        "  0.55067297  0.55045053  0.55022527  0.55        0.5497741   0.54954734\n",
        "  0.54932101]"
       ]
      },
      {
       "output_type": "stream",
       "stream": "stdout",
       "text": [
        "\n",
        "[ 0.          0.5725      0.536375    0.58315688  0.54242594  0.52048723\n",
        "  0.47858177  0.44191759  0.39963776  0.35896176  0.31654828  0.27464602\n",
        "  0.23218142  0.1898807   0.14739561  0.10496146  0.06246788  0.01998874\n",
        " -0.02250845 -0.0650025  -0.10750125 -0.15       -0.19249944 -0.23499949\n",
        " -0.27749923]"
       ]
      },
      {
       "output_type": "stream",
       "stream": "stdout",
       "text": [
        "\n",
        "[ 0.          0.54        0.508       0.5768      0.5392      0.5267584\n",
        "  0.487586    0.4556705   0.41597975  0.37853698  0.3386589   0.29950061\n",
        "  0.25955055  0.21983162  0.17985267  0.13994559  0.09995466  0.0599841\n",
        "  0.01998807 -0.02000354 -0.06000177 -0.1        -0.1399992  -0.17999928\n",
        " -0.21999892]"
       ]
      },
      {
       "output_type": "stream",
       "stream": "stdout",
       "text": [
        "\n",
        "[ 0.          0.5125      0.484375    0.56635938  0.53211719  0.53012313\n",
        "  0.49386543  0.46803716  0.4310345   0.39753326  0.36023882  0.32413021\n",
        "  0.28671719  0.24970009  0.21223758  0.17490158  0.13741798  0.09997092\n",
        "  0.06247819  0.02499349 -0.01250326 -0.05       -0.08749853 -0.12499866\n",
        " -0.16249798]"
       ]
      },
      {
       "output_type": "stream",
       "stream": "stdout",
       "text": [
        "\n",
        "[  0.00000000e+00   4.90000000e-01   4.65500000e-01   5.53455000e-01\n",
        "   5.22707500e-01   5.30194700e-01   4.97057531e-01   4.78138892e-01\n",
        "   4.43986114e-01   4.15271923e-01   3.80665929e-01   3.48140195e-01\n",
        "   3.13326176e-01   2.79290174e-01   2.44378902e-01   2.09743965e-01\n",
        "   1.74786638e-01   1.39917392e-01   1.04938044e-01   6.99799090e-02\n",
        "   3.49899545e-02  -4.43871310e-17  -3.49950933e-02  -6.99951901e-02\n",
        "  -1.04992785e-01]"
       ]
      },
      {
       "output_type": "stream",
       "stream": "stdout",
       "text": [
        "\n",
        "[ 0.          0.4725      0.451375    0.53957188  0.51237344  0.52726023\n",
        "  0.49743146  0.48539749  0.45429767  0.43096893  0.39922152  0.37088149\n",
        "  0.33879334  0.30817176  0.27590029  0.24423057  0.21185881  0.17970944\n",
        "  0.14728208  0.11491704  0.08245852  0.05        0.01752385 -0.01497239\n",
        " -0.04745859]"
       ]
      },
      {
       "output_type": "stream",
       "stream": "stdout",
       "text": [
        "\n",
        "[ 0.          0.46        0.442       0.52606     0.50239     0.5221036\n",
        "  0.49572213  0.48974627  0.46190725  0.4440499   0.41537908  0.39164188\n",
        "  0.3624777   0.33572102  0.30625589  0.27791645  0.24826371  0.21908719\n",
        "  0.1893154   0.15969695  0.12984848  0.1         0.07010151  0.04013708\n",
        "  0.01020563]"
       ]
      },
      {
       "output_type": "stream",
       "stream": "stdout",
       "text": [
        "\n",
        "[ 0.          0.4525      0.437375    0.51413438  0.49390469  0.51584653\n",
        "  0.49298112  0.4916827   0.46727679  0.45441214  0.42904446  0.40994999\n",
        "  0.38395499  0.36134085  0.33492325  0.31025755  0.28354795  0.25766196\n",
        "  0.23074647  0.20412631  0.17706316  0.15        0.12282943  0.0955007\n",
        "  0.06825105]"
       ]
      },
      {
       "output_type": "stream",
       "stream": "stdout",
       "text": [
        "\n",
        "[ 0.          0.45        0.4375      0.504875    0.4879375   0.5098075\n",
        "  0.49044453  0.49220795  0.47133595  0.46255392  0.44067442  0.42584799\n",
        "  0.40326319  0.38476945  0.36167327  0.34086333  0.31738611  0.2950697\n",
        "  0.27130228  0.24798488  0.22399244  0.2         0.17583048  0.15137875\n",
        "  0.12706813]"
       ]
      },
      {
       "output_type": "stream",
       "stream": "stdout",
       "text": [
        "\n",
        "[ 0.          0.4525      0.442375    0.49922688  0.48538094  0.50537883\n",
        "  0.48941765  0.49269349  0.47535824  0.46955302  0.45125694  0.44002216\n",
        "  0.42101994  0.40632465  0.38678407  0.36977732  0.34981443  0.33120696\n",
        "  0.31090522  0.29115737  0.27057868  0.25        0.22919151  0.20799678\n",
        "  0.18699517]"
       ]
      },
      {
       "output_type": "stream",
       "stream": "stdout",
       "text": [
        "\n",
        "[ 0.          0.46        0.452       0.498       0.487       0.5039216\n",
        "  0.4911765   0.49470902  0.48080124  0.47691753  0.4621744   0.45374689\n",
        "  0.4383722   0.42696392  0.41109343  0.39762708  0.3813559   0.36641019\n",
        "  0.34980764  0.33376348  0.31688174  0.3         0.2828794   0.26534483\n",
        "  0.24801725]"
       ]
      },
      {
       "output_type": "stream",
       "stream": "stdout",
       "text": [
        "\n",
        "[ 0.          0.4725      0.466375    0.50186938  0.49343219  0.50667873\n",
        "  0.4968863   0.49984083  0.48913791  0.48635509  0.47499217  0.46866598\n",
        "  0.45679938  0.44812652  0.43586071  0.42554971  0.41295809  0.40145493\n",
        "  0.3885912   0.37619059  0.36309529  0.35        0.3367046   0.32305892\n",
        "  0.30958838]"
       ]
      },
      {
       "output_type": "stream",
       "stream": "stdout",
       "text": [
        "\n",
        "[ 0.          0.49        0.4855      0.511375    0.5051875   0.5147059\n",
        "  0.50753678  0.50952383  0.5017007   0.49951611  0.4912231   0.48648263\n",
        "  0.47783436  0.4714172   0.46249005  0.45491523  0.44576269  0.43735573\n",
        "  0.4280168   0.41899196  0.40949598  0.4         0.39036966  0.38050647\n",
        "  0.3707597 ]"
       ]
      },
      {
       "output_type": "stream",
       "stream": "stdout",
       "text": [
        "\n",
        "[ 0.          0.5125      0.509375    0.52692188  0.52264844  0.52882063\n",
        "  0.52389434  0.5249054   0.51955501  0.51776328  0.51211634  0.50864881\n",
        "  0.50278393  0.49824835  0.49221731  0.48696831  0.48080692  0.47506388\n",
        "  0.46879791  0.46270289  0.45635145  0.45        0.44357763  0.43703604\n",
        "  0.43055406]"
       ]
      },
      {
       "output_type": "stream",
       "stream": "stdout",
       "text": [
        "\n",
        "[ 0.          0.54        0.538       0.54878     0.54607     0.5495692\n",
        "  0.54647113  0.54675327  0.54341375  0.54200863  0.53850791  0.53613568\n",
        "  0.53252211  0.52956311  0.52586772  0.52253813  0.51878178  0.51521115\n",
        "  0.51140836  0.50767758  0.50383879  0.5         0.49613288  0.4922206\n",
        "  0.4883309 ]"
       ]
      },
      {
       "output_type": "stream",
       "stream": "stdout",
       "text": [
        "\n",
        "[ 0.          0.5725      0.571375    0.57708438  0.57557969  0.57721173\n",
        "  0.57551099  0.57541442  0.5735991   0.57264223  0.57075537  0.56933512\n",
        "  0.56740161  0.56571957  0.56375462  0.56191998  0.55993332  0.55800791\n",
        "  0.55600594  0.55402592  0.55201296  0.55        0.54797905  0.54594633\n",
        "  0.5439195 ]"
       ]
      },
      {
       "output_type": "stream",
       "stream": "stdout",
       "text": [
        "\n",
        "[ 0.          0.61        0.6095      0.611835    0.6111775   0.6117251\n",
        "  0.61099228  0.61082629  0.61005298  0.60955694  0.60876053  0.60810116\n",
        "  0.60729105  0.60654781  0.60572933  0.60494212  0.60411844  0.60330798\n",
        "  0.60248098  0.60165825  0.60082912  0.6         0.59916949  0.59833714\n",
        "  0.59750571]"
       ]
      },
      {
       "output_type": "stream",
       "stream": "stdout",
       "text": [
        "\n",
        "[ 0.          0.6525      0.652375    0.65289688  0.65273594  0.65282403\n",
        "  0.65264752  0.65257632  0.65239229  0.65225425  0.6520664   0.65189871\n",
        "  0.65170884  0.65152764  0.65133669  0.65114929  0.65095774  0.65076751\n",
        "  0.65057563  0.65038412  0.65019206  0.65        0.64980783  0.64961555\n",
        "  0.64942332]"
       ]
      },
      {
       "output_type": "stream",
       "stream": "stdout",
       "text": [
        "\n",
        "[ 0.          0.71        0.6695      0.69461     0.650465    0.6168176\n",
        "  0.5720165   0.52928212  0.48433339  0.43983108  0.39484516  0.34995968\n",
        "  0.30496371  0.25999047  0.21499166  0.16999784  0.1249982   0.07999956\n",
        "  0.03499967 -0.01000007 -0.05500003 -0.1        -0.14499999 -0.18999999\n",
        " -0.23499999]"
       ]
      },
      {
       "output_type": "stream",
       "stream": "stdout",
       "text": [
        "\n",
        "[ 0.          0.6725      0.636375    0.68965938  0.64856719  0.62438872\n",
        "  0.58223943  0.54369103  0.50128453  0.45968672  0.41721283  0.37492456\n",
        "  0.3324321   0.28998209  0.24748433  0.20499593  0.16249661  0.11999916\n",
        "  0.07749937  0.03499987 -0.00750007 -0.05       -0.09249998 -0.13499999\n",
        " -0.17749998]"
       ]
      },
      {
       "output_type": "stream",
       "stream": "stdout",
       "text": [
        "\n",
        "[  0.00000000e+00   6.40000000e-01   6.08000000e-01   6.79680000e-01\n",
        "   6.41920000e-01   6.29043200e-01   5.89728000e-01   5.56944640e-01\n",
        "   5.17162880e-01   4.79144717e-01   4.39215990e-01   3.99763435e-01\n",
        "   3.59787092e-01   3.19936457e-01   2.79944400e-01   2.39983860e-01\n",
        "   1.99986550e-01   1.59996331e-01   1.19997249e-01   7.99993712e-02\n",
        "   3.99996856e-02  -1.77635203e-16  -3.99998918e-02  -7.99999252e-02\n",
        "  -1.19999888e-01]"
       ]
      },
      {
       "output_type": "stream",
       "stream": "stdout",
       "text": [
        "\n",
        "[ 0.          0.6125      0.584375    0.66635938  0.63211719  0.63012312\n",
        "  0.59386543  0.56803716  0.5310345   0.49753326  0.46023882  0.42413021\n",
        "  0.38671719  0.34970009  0.31223758  0.27490158  0.23741798  0.19997092\n",
        "  0.16247819  0.12499349  0.08749674  0.05        0.01250147 -0.02499866\n",
        " -0.06249798]"
       ]
      },
      {
       "output_type": "stream",
       "stream": "stdout",
       "text": [
        "\n",
        "[ 0.          0.59        0.5655      0.65125     0.620625    0.6277104\n",
        "  0.5947285   0.57619548  0.54218151  0.51398597  0.47948714  0.44737644\n",
        "  0.41263879  0.37887561  0.34401616  0.30953976  0.27461647  0.23982998\n",
        "  0.20487248  0.16995229  0.13497614  0.1         0.06501353  0.03001549\n",
        " -0.00497676]"
       ]
      },
      {
       "output_type": "stream",
       "stream": "stdout",
       "text": [
        "\n",
        "[ 0.          0.5725      0.551375    0.63576937  0.60878219  0.62244373\n",
        "  0.59291599  0.5811386   0.55034298  0.52776787  0.49628721  0.46871231\n",
        "  0.43684108  0.40682299  0.37472011  0.34346678  0.31122232  0.27933235\n",
        "  0.24699926  0.21477925  0.18238963  0.15        0.11757374  0.08509939\n",
        "  0.05264909]"
       ]
      },
      {
       "output_type": "stream",
       "stream": "stdout",
       "text": [
        "\n",
        "[ 0.          0.56        0.542       0.6212      0.5978      0.6153536\n",
        "  0.589394    0.583166    0.555797    0.53857113  0.51035687  0.48751239\n",
        "  0.45876115  0.43285526  0.40374836  0.37610013  0.34675011  0.31808124\n",
        "  0.28856093  0.25928386  0.22964193  0.2         0.17026983  0.14040993\n",
        "  0.1106149 ]"
       ]
      },
      {
       "output_type": "stream",
       "stream": "stdout",
       "text": [
        "\n",
        "[ 0.          0.5525      0.537375    0.60868937  0.58876219  0.60771533\n",
        "  0.58535812  0.58312177  0.55932736  0.54668566  0.52196185  0.50361866\n",
        "  0.4782568   0.45655313  0.43073399  0.40694529  0.38078774  0.35565707\n",
        "  0.3292428   0.30322574  0.27661287  0.25        0.22323104  0.1962135\n",
        "  0.16932025]"
       ]
      },
      {
       "output_type": "stream",
       "stream": "stdout",
       "text": [
        "\n",
        "[ 0.          0.55        0.5375      0.59925     0.582625    0.60092\n",
        "  0.5821125   0.58227587  0.56211331  0.55301576  0.53193111  0.51751647\n",
        "  0.49576482  0.47804506  0.45578943  0.43589399  0.41324499  0.39185507\n",
        "  0.3688913   0.34644128  0.32322064  0.3         0.27656638  0.25277494\n",
        "  0.22916242]"
       ]
      },
      {
       "output_type": "stream",
       "stream": "stdout",
       "text": [
        "\n",
        "[ 0.          0.5525      0.542375    0.59375938  0.58021719  0.59636352\n",
        "  0.5809658   0.58215832  0.56557558  0.55895904  0.54154579  0.53032423\n",
        "  0.51229181  0.49811807  0.47960331  0.46341767  0.44451473  0.42689305\n",
        "  0.40766979  0.38898565  0.36949283  0.35        0.33027669  0.31015406\n",
        "  0.29023109]"
       ]
      },
      {
       "output_type": "stream",
       "stream": "stdout",
       "text": [
        "\n",
        "[ 0.          0.56        0.552       0.59296     0.58224     0.5953536\n",
        "  0.583144    0.58437664  0.57120688  0.56619064  0.55234142  0.543608\n",
        "  0.5292472   0.51810653  0.50334321  0.49054315  0.47545262  0.46145299\n",
        "  0.44608974  0.43119016  0.41559508  0.4         0.3842047   0.36805901\n",
        "  0.35208852]"
       ]
      },
      {
       "output_type": "stream",
       "stream": "stdout",
       "text": [
        "\n",
        "[ 0.          0.5725      0.566375    0.59745938  0.58926719  0.59903473\n",
        "  0.58972005  0.59044145  0.58040992  0.57640732  0.56587338  0.55908503\n",
        "  0.54817653  0.53960229  0.528402    0.51861069  0.50717558  0.49651555\n",
        "  0.48488666  0.47358391  0.46179196  0.45        0.43806861  0.42589567\n",
        "  0.4138435 ]"
       ]
      },
      {
       "output_type": "stream",
       "stream": "stdout",
       "text": [
        "\n",
        "[ 0.          0.59        0.5855      0.60773     0.601745    0.6083312\n",
        "  0.6015605   0.60161931  0.59436079  0.59108567  0.5834952   0.57830593\n",
        "  0.57047534  0.56409622  0.55608419  0.54892184  0.5407682   0.53306782\n",
        "  0.52480087  0.51671886  0.50835943  0.5         0.4915639   0.48299898\n",
        "  0.47449847]"
       ]
      },
      {
       "output_type": "stream",
       "stream": "stdout",
       "text": [
        "\n",
        "[ 0.          0.6125      0.609375    0.62410938  0.61999219  0.62390812\n",
        "  0.61928887  0.61882681  0.61391061  0.61129869  0.60619047  0.60240055\n",
        "  0.59716049  0.59267627  0.58734173  0.58242671  0.57702226  0.57182997\n",
        "  0.56637248  0.56099705  0.55549853  0.55        0.54446922  0.53888709\n",
        "  0.53333063]"
       ]
      },
      {
       "output_type": "stream",
       "stream": "stdout",
       "text": [
        "\n",
        "[ 0.          0.64        0.638       0.6468      0.6442      0.6461504\n",
        "  0.643266    0.642574    0.639533    0.63761901  0.6344841   0.63194582\n",
        "  0.62875124  0.62587281  0.62263871  0.61956668  0.61630557  0.61312014\n",
        "  0.6098401   0.6065871   0.60329355  0.6         0.59669665  0.59337888\n",
        "  0.59006832]"
       ]
      },
      {
       "output_type": "stream",
       "stream": "stdout",
       "text": [
        "\n",
        "[ 0.          0.6725      0.671375    0.67586937  0.67443219  0.67515973\n",
        "  0.67358724  0.67296004  0.67132004  0.67011782  0.66844133  0.66697284\n",
        "  0.66527556  0.66367696  0.66196734  0.66030296  0.6585858   0.65688752\n",
        "  0.65516564  0.65344978  0.65172489  0.65        0.64827316  0.64654375\n",
        "  0.64481563]"
       ]
      },
      {
       "output_type": "stream",
       "stream": "stdout",
       "text": [
        "\n",
        "[ 0.          0.71        0.7095      0.71125     0.710625    0.7107696\n",
        "  0.7100965   0.70971828  0.70902411  0.70844869  0.70774464  0.70708932\n",
        "  0.70638038  0.70569134  0.70497992  0.70427632  0.7035636   0.70285367\n",
        "  0.70214025  0.7014276   0.7007138   0.7         0.69928599  0.69857174\n",
        "  0.69785762]"
       ]
      },
      {
       "output_type": "stream",
       "stream": "stdout",
       "text": [
        "\n",
        "[ 0.          0.7525      0.752375    0.75273938  0.75258719  0.75257833\n",
        "  0.75241718  0.75230239  0.75213793  0.75198904  0.75182328  0.7516628\n",
        "  0.75149652  0.751332    0.7511655   0.75099956  0.75083297  0.75066654\n",
        "  0.7504999   0.7503333   0.75016665  0.75        0.74983334  0.74966667\n",
        "  0.74950001]"
       ]
      },
      {
       "output_type": "stream",
       "stream": "stdout",
       "text": [
        "\n",
        "[ 0.          0.8525      0.807375    0.80083188  0.75356344  0.70955303\n",
        "  0.66208096  0.61494743  0.56745118  0.51999353  0.47249407  0.42499919\n",
        "  0.37749927  0.3299999   0.28249991  0.23499999  0.18749999  0.14        0.0925\n",
        "  0.045      -0.0025     -0.05       -0.0975     -0.145      -0.1925    ]"
       ]
      },
      {
       "output_type": "stream",
       "stream": "stdout",
       "text": [
        "\n",
        "[  0.00000000e+00   8.10000000e-01   7.69500000e-01   7.98255000e-01\n",
        "   7.53907500e-01   7.18332300e-01   6.73436531e-01   6.29756092e-01\n",
        "   5.84773514e-01   5.39964120e-01   4.94967110e-01   4.49994779e-01\n",
        "   4.04995301e-01   3.59999262e-01   3.14999354e-01   2.69999901e-01\n",
        "   2.24999918e-01   1.79999988e-01   1.34999991e-01   8.99999989e-02\n",
        "   4.49999995e-02  -8.88178415e-17  -4.49999999e-02  -9.00000000e-02\n",
        "  -1.35000000e-01]"
       ]
      },
      {
       "output_type": "stream",
       "stream": "stdout",
       "text": [
        "\n",
        "[ 0.          0.7725      0.736375    0.78965938  0.74856719  0.72438873\n",
        "  0.68223943  0.64369103  0.60128453  0.55968672  0.51721283  0.47492456\n",
        "  0.4324321   0.38998209  0.34748433  0.30499593  0.26249661  0.21999916\n",
        "  0.17749937  0.13499987  0.09249993  0.05        0.00750002 -0.03499999\n",
        " -0.07749998]"
       ]
      },
      {
       "output_type": "stream",
       "stream": "stdout",
       "text": [
        "\n",
        "[ 0.          0.74        0.708       0.7768      0.7392      0.7267584\n",
        "  0.687586    0.6556705   0.61597975  0.57853698  0.5386589   0.49950061\n",
        "  0.45955055  0.41983162  0.37985267  0.33994559  0.29995466  0.2599841\n",
        "  0.21998807  0.17999646  0.13999823  0.1         0.0600008   0.02000072\n",
        " -0.01999892]"
       ]
      },
      {
       "output_type": "stream",
       "stream": "stdout",
       "text": [
        "\n",
        "[ 0.          0.7125      0.684375    0.76129687  0.72733594  0.72528563\n",
        "  0.68933027  0.66475464  0.62798645  0.59561212  0.55847778  0.52310384\n",
        "  0.48579345  0.44919159  0.41179265  0.37467006  0.33722505  0.29987831\n",
        "  0.26240873  0.22496588  0.18748294  0.15        0.11250967  0.07501107\n",
        "  0.0375166 ]"
       ]
      },
      {
       "output_type": "stream",
       "stream": "stdout",
       "text": [
        "\n",
        "[ 0.          0.69        0.6655      0.744635    0.7143775   0.7204339\n",
        "  0.68790678  0.67045784  0.6368537   0.6100557   0.5758844   0.54490595\n",
        "  0.51041535  0.47743026  0.44275148  0.40876079  0.37396733  0.33946057\n",
        "  0.30459543  0.26982168  0.23491084  0.2         0.16505956  0.13008028\n",
        "  0.09512042]"
       ]
      },
      {
       "output_type": "stream",
       "stream": "stdout",
       "text": [
        "\n",
        "[ 0.          0.6725      0.651375    0.72816438  0.70159969  0.71311492\n",
        "  0.68417024  0.67287701  0.6426715   0.6213804   0.59043203  0.56416587\n",
        "  0.53274928  0.50380516  0.47207951  0.44161949  0.40968291  0.37833695\n",
        "  0.34625271  0.31437933  0.28218966  0.25        0.21773385  0.18535528\n",
        "  0.15303292]"
       ]
      },
      {
       "output_type": "stream",
       "stream": "stdout",
       "text": [
        "\n",
        "[ 0.          0.66        0.642       0.7131      0.69015     0.7045356\n",
        "  0.67925213  0.67268398  0.6460637   0.62967738  0.60220426  0.58055354\n",
        "  0.55249819  0.52777346  0.49930178  0.47267706  0.44389755  0.41605179\n",
        "  0.38703884  0.35838702  0.32919351  0.3         0.27066458  0.24110318\n",
        "  0.21165477]"
       ]
      },
      {
       "output_type": "stream",
       "stream": "stdout",
       "text": [
        "\n",
        "[ 0.          0.6525      0.637375    0.70052188  0.68104844  0.69606303\n",
        "  0.67443409  0.67102483  0.64809448  0.63567161  0.61186564  0.59436569\n",
        "  0.56992912  0.54929797  0.52438572  0.50169967  0.47641639  0.45232042\n",
        "  0.42674031  0.40164463  0.37582231  0.35        0.32397687  0.29761638\n",
        "  0.27142457]"
       ]
      },
      {
       "output_type": "stream",
       "stream": "stdout",
       "text": [
        "\n",
        "[ 0.          0.65        0.6375      0.691375    0.6751875   0.6891075\n",
        "  0.67103828  0.66936323  0.650123    0.64063159  0.62057896  0.60655968\n",
        "  0.58590371  0.56900236  0.54787707  0.52901688  0.50751407  0.48725707\n",
        "  0.4654428   0.44415271  0.42207636  0.4         0.37769956  0.35501089\n",
        "  0.33251634]"
       ]
      },
      {
       "output_type": "stream",
       "stream": "stdout",
       "text": [
        "\n",
        "[ 0.          0.6525      0.642375    0.68646938  0.67333219  0.68502353\n",
        "  0.67033455  0.66929964  0.65363538  0.64617222  0.62982453  0.61860356\n",
        "  0.6017432   0.58810547  0.57084229  0.55554291  0.53795242  0.52145294\n",
        "  0.50358971  0.48619015  0.46809507  0.45        0.4317047   0.41305901\n",
        "  0.39458852]"
       ]
      },
      {
       "output_type": "stream",
       "stream": "stdout",
       "text": [
        "\n",
        "[ 0.          0.66        0.652       0.68648     0.67612     0.6850288\n",
        "  0.6734645   0.67239247  0.66007872  0.65400422  0.64117053  0.63219819\n",
        "  0.61897837  0.60816151  0.59464132  0.58257081  0.568809    0.55584452\n",
        "  0.54188339  0.52825773  0.51412887  0.5         0.48572772  0.47120697\n",
        "  0.45681046]"
       ]
      },
      {
       "output_type": "stream",
       "stream": "stdout",
       "text": [
        "\n",
        "[ 0.          0.6725      0.666375    0.69194688  0.68406094  0.69014123\n",
        "  0.6813824   0.68000179  0.67071595  0.6656852   0.65604476  0.64895801\n",
        "  0.63906221  0.63070744  0.62061901  0.6114321   0.60119341  0.59143554\n",
        "  0.58107665  0.57091394  0.56045697  0.55        0.53946171  0.5287868\n",
        "  0.5181802 ]"
       ]
      },
      {
       "output_type": "stream",
       "stream": "stdout",
       "text": [
        "\n",
        "[ 0.          0.69        0.6855      0.703275    0.6975375   0.7011339\n",
        "  0.69481303  0.693171    0.68651592  0.68241934  0.67555107  0.67013839\n",
        "  0.66312455  0.65694337  0.64982545  0.64316927  0.63597439  0.62901295\n",
        "  0.62175971  0.61459675  0.60729838  0.6         0.59266615  0.5852758\n",
        "  0.57791369]"
       ]
      },
      {
       "output_type": "stream",
       "stream": "stdout",
       "text": [
        "\n",
        "[ 0.          0.7125      0.709375    0.72073438  0.71680469  0.71850813\n",
        "  0.71422637  0.71255577  0.7080875   0.70493793  0.70035977  0.69647424\n",
        "  0.69182682  0.68754514  0.682852    0.67834608  0.67362173  0.66898476\n",
        "  0.66423857  0.65952357  0.65476178  0.65        0.6452269   0.64043717\n",
        "  0.63565576]"
       ]
      },
      {
       "output_type": "stream",
       "stream": "stdout",
       "text": [
        "\n",
        "[ 0.          0.74        0.738       0.74446     0.74199     0.7424844\n",
        "  0.73982913  0.73840472  0.73566153  0.73347394  0.73068444  0.72815559\n",
        "  0.72534003  0.72264737  0.71981645  0.7170417   0.71420141  0.71138454\n",
        "  0.7085384   0.70569973  0.70284986  0.7         0.69714772  0.69429227\n",
        "  0.6914384 ]"
       ]
      },
      {
       "output_type": "stream",
       "stream": "stdout",
       "text": [
        "\n",
        "[ 0.          0.7725      0.771375    0.77445188  0.77309344  0.77301143\n",
        "  0.77157321  0.77059019  0.76911946  0.76782448  0.76633911  0.76492415\n",
        "  0.76343174  0.76196766  0.76047171  0.7589868   0.757489    0.75599513\n",
        "  0.75449635  0.75299864  0.75149932  0.75        0.74850039  0.74700044\n",
        "  0.74550066]"
       ]
      },
      {
       "output_type": "stream",
       "stream": "stdout",
       "text": [
        "\n",
        "[ 0.          0.81        0.8095      0.810575    0.8099875   0.8097931\n",
        "  0.80918103  0.80868235  0.80806218  0.80747714  0.80685405  0.8062422\n",
        "  0.80561798  0.80499737  0.8043727   0.80374915  0.80312429  0.80249975\n",
        "  0.80187481  0.80124994  0.80062497  0.8         0.79937501  0.79875001\n",
        "  0.79812502]"
       ]
      },
      {
       "output_type": "stream",
       "stream": "stdout",
       "text": [
        "\n",
        "[ 0.          0.8525      0.852375    0.85255938  0.85241719  0.85233353\n",
        "  0.85218768  0.85205429  0.85190756  0.85176362  0.85161665  0.85147033\n",
        "  0.85132329  0.85117641  0.85102936  0.85088234  0.85073528  0.85058823\n",
        "  0.85044117  0.85029412  0.85014706  0.85        0.84985294  0.84970588\n",
        "  0.84955882]"
       ]
      },
      {
       "output_type": "stream",
       "stream": "stdout",
       "text": [
        "\n"
       ]
      }
     ],
     "prompt_number": 111
    },
    {
     "cell_type": "code",
     "collapsed": false,
     "input": [],
     "language": "python",
     "metadata": {},
     "outputs": []
    }
   ],
   "metadata": {}
  }
 ]
}